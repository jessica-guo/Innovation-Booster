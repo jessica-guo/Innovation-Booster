{
 "cells": [
  {
   "cell_type": "code",
   "execution_count": null,
   "metadata": {},
   "outputs": [],
   "source": [
    "## Scrape several products from amazon"
   ]
  },
  {
   "cell_type": "code",
   "execution_count": 30,
   "metadata": {},
   "outputs": [],
   "source": [
    "# import useful packages\n",
    "import requests\n",
    "from bs4 import BeautifulSoup\n",
    "import pandas as pd\n",
    "from selenium import webdriver\n",
    "from webdriver_manager.chrome import ChromeDriverManager\n",
    "import time\n",
    "headers = {'User-Agent': 'Mozilla/5.0 (Macintosh; Intel Mac OS X 10_15_3) AppleWebKit/605.1.15 (KHTML, like Gecko) Version/13.0.5 Safari/605.1.15'}"
   ]
  },
  {
   "cell_type": "code",
   "execution_count": 31,
   "metadata": {},
   "outputs": [],
   "source": [
    "# create a list to store soap sheet dispenser products' url\n",
    "dispenser = ['https://www.amazon.com/KISEER-Portable-Disposable-Washing-Scented/dp/B07V5YQ1Z5/ref=sr_1_3?crid=3V2SUXNNKEC9J&dchild=1&keywords=hand+soap+sheet+dispenser&qid=1600096801&sprefix=hand+soap+sheet+dis%2Caps%2C141&sr=8-3',\n",
    "             'https://www.amazon.com/Portable-Disposable-Travel-Washing-Toiletry/dp/B077NDQ58Q/ref=sr_1_4?crid=3V2SUXNNKEC9J&dchild=1&keywords=hand+soap+sheet+dispenser&qid=1600096801&sprefix=hand+soap+sheet+dis%2Caps%2C141&sr=8-4',\n",
    "             'https://www.amazon.com/Portable-Disposable-Outdoor-Camping-Washing/dp/B085VSXT8Y/ref=sr_1_5?crid=3V2SUXNNKEC9J&dchild=1&keywords=hand+soap+sheet+dispenser&qid=1600096801&sprefix=hand+soap+sheet+dis%2Caps%2C141&sr=8-5',\n",
    "             'https://www.amazon.com/ZDU-Outdoor-Washing-Portable-Camping/dp/B085VZ7B8X/ref=sr_1_6?crid=3V2SUXNNKEC9J&dchild=1&keywords=hand+soap+sheet+dispenser&qid=1600096801&sprefix=hand+soap+sheet+dis%2Caps%2C141&sr=8-6',\n",
    "             'https://www.amazon.com/Portable-Disposable-Washing-Toiletry-Bathing/dp/B0865ZSF8M/ref=sr_1_8?crid=3V2SUXNNKEC9J&dchild=1&keywords=hand+soap+sheet+dispenser&qid=1600096801&sprefix=hand+soap+sheet+dis%2Caps%2C141&sr=8-8',\n",
    "             'https://www.amazon.com/Ellocy-Portable-Disposable-Outdoor-activities/dp/B085KSQBQN/ref=sr_1_9?crid=3V2SUXNNKEC9J&dchild=1&keywords=hand+soap+sheet+dispenser&qid=1600096801&sprefix=hand+soap+sheet+dis%2Caps%2C141&sr=8-9',\n",
    "             'https://www.amazon.com/Portable-Disposable-Washing-Scented-Toiletry/dp/B085VJ3GX7/ref=sr_1_10?crid=3V2SUXNNKEC9J&dchild=1&keywords=hand+soap+sheet+dispenser&qid=1600096801&sprefix=hand+soap+sheet+dis%2Caps%2C141&sr=8-10',\n",
    "             'https://www.amazon.com/Bamsod-Portable-Disposal-Scented-Confetti/dp/B07Z19PNY6/ref=sr_1_11?crid=3V2SUXNNKEC9J&dchild=1&keywords=hand+soap+sheet+dispenser&qid=1600096801&sprefix=hand+soap+sheet+dis%2Caps%2C141&sr=8-11',\n",
    "             'https://www.amazon.com/Travelon-Hand-Toiletry-Sheets-50-Count/dp/B001CGOPZM/ref=sr_1_14?crid=3V2SUXNNKEC9J&dchild=1&keywords=hand+soap+sheet+dispenser&qid=1600096801&sprefix=hand+soap+sheet+dis%2Caps%2C141&sr=8-14',\n",
    "             'https://www.amazon.com/Portable-Paper-Hand-Soap-Sheets/dp/B0871M49T8/ref=sr_1_17?crid=3V2SUXNNKEC9J&dchild=1&keywords=hand+soap+sheet+dispenser&qid=1600096801&sprefix=hand+soap+sheet+dis%2Caps%2C141&sr=8-17',\n",
    "             'https://www.amazon.com/Washing-Portable-Replaceable-Outdoor-Camping/dp/B0892SMXSD/ref=sr_1_28?crid=3V2SUXNNKEC9J&dchild=1&keywords=hand+soap+sheet+dispenser&qid=1600096801&sprefix=hand+soap+sheet+dis%2Caps%2C141&sr=8-28',\n",
    "             'https://www.amazon.com/Fomin-3-Pack-Sheets-Foaming-Hand/dp/B08BJL9B9C/ref=psdc_11062271_t2_B07V5YQ1Z5',\n",
    "             'https://www.amazon.com/dp/B086G3R7F6/ref=sspa_dk_detail_5?psc=1&spLa=ZW5jcnlwdGVkUXVhbGlmaWVyPUEyQkZKNVFTU0pYNFgmZW5jcnlwdGVkSWQ9QTA5NDA4MTkzNlo1REZFQUFKMDVZJmVuY3J5cHRlZEFkSWQ9QTAzNjAwNDIzQllVUElRTFlVMFJFJndpZGdldE5hbWU9c3BfZGV0YWlsMiZhY3Rpb249Y2xpY2tSZWRpcmVjdCZkb05vdExvZ0NsaWNrPXRydWU=',\n",
    "             'https://www.amazon.com/dp/B08BNMS45G/ref=sspa_dk_detail_1?psc=1&spLa=ZW5jcnlwdGVkUXVhbGlmaWVyPUEyQkZKNVFTU0pYNFgmZW5jcnlwdGVkSWQ9QTA5NDA4MTkzNlo1REZFQUFKMDVZJmVuY3J5cHRlZEFkSWQ9QTAzMjUxNjcxWFlIN1FETlRRV0RIJndpZGdldE5hbWU9c3BfZGV0YWlsMiZhY3Rpb249Y2xpY2tSZWRpcmVjdCZkb05vdExvZ0NsaWNrPXRydWU='\n",
    "            ]"
   ]
  },
  {
   "cell_type": "code",
   "execution_count": 32,
   "metadata": {},
   "outputs": [],
   "source": [
    "# setting up the chrome driver\n",
    "driver = webdriver.Chrome('/Users/guopinjie/Downloads/chromedriver')"
   ]
  },
  {
   "cell_type": "code",
   "execution_count": 33,
   "metadata": {},
   "outputs": [],
   "source": [
    "# function for getting reviews for one product\n",
    "def get_reviews(review_url,dict_):\n",
    "    reviews = []\n",
    "    driver.get(review_url)\n",
    "    time.sleep(5)\n",
    "    while True:\n",
    "        review_list = driver.find_elements_by_xpath(\"//div[@class='a-section review aok-relative']\")\n",
    "        for review in review_list:\n",
    "            review_dict = {}\n",
    "            review_dict['name'] = dict_['name']\n",
    "            date = ' '.join(review.find_elements_by_xpath(\".//div[@class='a-section celwidget']/span\")[-1].text.split(' ')[-3:])\n",
    "            from datetime import datetime\n",
    "            review_dict['date'] = datetime.strptime(date, '%B %d, %Y')\n",
    "            try:\n",
    "                review_dict['rating'] = float(review.find_elements_by_xpath(\".//div[@class='a-row']/a[@class='a-link-normal']\")[0].get_attribute('title').split(' ')[0])\n",
    "            except:\n",
    "                pass\n",
    "            text_title = review.find_elements_by_xpath(\".//div[@class='a-row']\")[0].text\n",
    "            text_content = review.find_elements_by_xpath(\".//div[@class='a-row a-spacing-small review-data']/span\")[0].text\n",
    "            try:\n",
    "                review_dict['text'] = text_title + ' ' + text_content\n",
    "            except:\n",
    "                review_dict['text'] = text_content\n",
    "            reviews.append(review_dict)\n",
    "        else:\n",
    "            try:\n",
    "                driver.find_elements_by_xpath(\".//li[@class='a-last']\")[0].click()\n",
    "                time.sleep(5)\n",
    "            except:\n",
    "                break\n",
    "    return reviews"
   ]
  },
  {
   "cell_type": "code",
   "execution_count": 34,
   "metadata": {},
   "outputs": [],
   "source": [
    "def get_info(product_url):\n",
    "    # get the basic info for the product\n",
    "    driver.get(url)\n",
    "    dict_ = dict()\n",
    "    dict_['name'] = driver.find_elements_by_xpath(\"//span[@id='productTitle']\")[0].text.strip()\n",
    "    dict_['url'] = product_url\n",
    "    try:\n",
    "        dict_['price'] = float(driver.find_elements_by_xpath(\"//span[@id='priceblock_ourprice']\")[0].text.split('$')[1])\n",
    "    except:\n",
    "        pass\n",
    "    try:\n",
    "        dict_['info'] = driver.find_elements_by_xpath(\"//ul[@class='a-unordered-list a-vertical a-spacing-mini']\")[0].text.strip()\n",
    "    except:\n",
    "        pass\n",
    "    # get the review for the product\n",
    "    time.sleep(3)\n",
    "    review_url = driver.find_elements_by_xpath(\"//a[@class='a-link-emphasis a-text-bold']\")[0].get_attribute('href') + '&sortBy=recent&pageNumber=1'\n",
    "    product_review = get_reviews(review_url,dict_)\n",
    "    return dict_, product_review"
   ]
  },
  {
   "cell_type": "code",
   "execution_count": 35,
   "metadata": {},
   "outputs": [],
   "source": [
    "# loop through the url for the dispenser products to get the dataframe\n",
    "product_list = []\n",
    "reviews = []\n",
    "for url in dispenser:\n",
    "    dict_, product_review = get_info(url)\n",
    "    product_list.append(dict_)\n",
    "    reviews.extend(product_review)"
   ]
  },
  {
   "cell_type": "code",
   "execution_count": 37,
   "metadata": {},
   "outputs": [],
   "source": [
    "product_df = pd.DataFrame(product_list)"
   ]
  },
  {
   "cell_type": "code",
   "execution_count": 38,
   "metadata": {},
   "outputs": [
    {
     "data": {
      "text/html": [
       "<div>\n",
       "<style scoped>\n",
       "    .dataframe tbody tr th:only-of-type {\n",
       "        vertical-align: middle;\n",
       "    }\n",
       "\n",
       "    .dataframe tbody tr th {\n",
       "        vertical-align: top;\n",
       "    }\n",
       "\n",
       "    .dataframe thead th {\n",
       "        text-align: right;\n",
       "    }\n",
       "</style>\n",
       "<table border=\"1\" class=\"dataframe\">\n",
       "  <thead>\n",
       "    <tr style=\"text-align: right;\">\n",
       "      <th></th>\n",
       "      <th>name</th>\n",
       "      <th>url</th>\n",
       "      <th>price</th>\n",
       "      <th>info</th>\n",
       "    </tr>\n",
       "  </thead>\n",
       "  <tbody>\n",
       "    <tr>\n",
       "      <th>0</th>\n",
       "      <td>KISEER 4 Boxs (200 Sheets) Mini Portable Trave...</td>\n",
       "      <td>https://www.amazon.com/KISEER-Portable-Disposa...</td>\n",
       "      <td>9.99</td>\n",
       "      <td>Made of natural premium quality biodegradable ...</td>\n",
       "    </tr>\n",
       "    <tr>\n",
       "      <th>1</th>\n",
       "      <td>6 Packs Portable Disposable Travel Hiking Wash...</td>\n",
       "      <td>https://www.amazon.com/Portable-Disposable-Tra...</td>\n",
       "      <td>7.99</td>\n",
       "      <td>Package Included: 6 Box of Soap Sheets,20pcs p...</td>\n",
       "    </tr>\n",
       "    <tr>\n",
       "      <th>2</th>\n",
       "      <td>4 Boxs(200 Sheets) Paper Soap,Mini Portable Tr...</td>\n",
       "      <td>https://www.amazon.com/Portable-Disposable-Out...</td>\n",
       "      <td>6.99</td>\n",
       "      <td>♥1: MATERIAL: Made of natural premium quality ...</td>\n",
       "    </tr>\n",
       "    <tr>\n",
       "      <th>3</th>\n",
       "      <td>ZDU 80 Pcs Outdoor Travel Hand Washing Soap Pa...</td>\n",
       "      <td>https://www.amazon.com/ZDU-Outdoor-Washing-Por...</td>\n",
       "      <td>5.99</td>\n",
       "      <td>Pocket Size - Soap piece size: 6 x 3.5cm, box ...</td>\n",
       "    </tr>\n",
       "    <tr>\n",
       "      <th>4</th>\n",
       "      <td>6 Boxes (300 Sheets) Portable Disposable Soap ...</td>\n",
       "      <td>https://www.amazon.com/Portable-Disposable-Was...</td>\n",
       "      <td>11.72</td>\n",
       "      <td>Package Included: 6 Boxes (300 Sheets) x Porta...</td>\n",
       "    </tr>\n",
       "    <tr>\n",
       "      <th>5</th>\n",
       "      <td>Ellocy 4 Boxes(200 Sheets) Mini Cute Portable ...</td>\n",
       "      <td>https://www.amazon.com/Ellocy-Portable-Disposa...</td>\n",
       "      <td>8.99</td>\n",
       "      <td>✅ High-quality : Made of natural premium quali...</td>\n",
       "    </tr>\n",
       "    <tr>\n",
       "      <th>6</th>\n",
       "      <td>2 Box (40 Sheets) Portable Disposable Soap Pap...</td>\n",
       "      <td>https://www.amazon.com/Portable-Disposable-Was...</td>\n",
       "      <td>5.99</td>\n",
       "      <td>Specifications: 2 boxes (40 sheets) portable d...</td>\n",
       "    </tr>\n",
       "    <tr>\n",
       "      <th>7</th>\n",
       "      <td>Bamsod 12 Boxes (240 sheets) Soap Sheets Porta...</td>\n",
       "      <td>https://www.amazon.com/Bamsod-Portable-Disposa...</td>\n",
       "      <td>8.99</td>\n",
       "      <td>✡Material: Natural Vegetable Oils, Aromatherap...</td>\n",
       "    </tr>\n",
       "    <tr>\n",
       "      <th>8</th>\n",
       "      <td>Travelon Hand Soap Toiletry Sheets, 50-Count</td>\n",
       "      <td>https://www.amazon.com/Travelon-Hand-Toiletry-...</td>\n",
       "      <td>4.60</td>\n",
       "      <td>Dissolves in water\\n50 Biodegradable Sheets\\n3...</td>\n",
       "    </tr>\n",
       "    <tr>\n",
       "      <th>9</th>\n",
       "      <td>Portable Paper Hand Soap Sheets - Travel Size ...</td>\n",
       "      <td>https://www.amazon.com/Portable-Paper-Hand-Soa...</td>\n",
       "      <td>7.99</td>\n",
       "      <td>TAKE IT ANYWHERE: Say goodbye to the disappoin...</td>\n",
       "    </tr>\n",
       "    <tr>\n",
       "      <th>10</th>\n",
       "      <td>5 Pack Travel Paper Soaps, Hand Washing Soap P...</td>\n",
       "      <td>https://www.amazon.com/Washing-Portable-Replac...</td>\n",
       "      <td>10.99</td>\n",
       "      <td>Portable size: The Paper soap size about 3.54 ...</td>\n",
       "    </tr>\n",
       "    <tr>\n",
       "      <th>11</th>\n",
       "      <td>Fomin 3-Pack (300 Sheets) Foaming Hand Soap Sh...</td>\n",
       "      <td>https://www.amazon.com/Fomin-3-Pack-Sheets-Foa...</td>\n",
       "      <td>11.99</td>\n",
       "      <td>3-PACK TRAVEL SOAP SHEETS: Natural Lemon Scent...</td>\n",
       "    </tr>\n",
       "    <tr>\n",
       "      <th>12</th>\n",
       "      <td>GREENSLEEVES Paper Soap, 8 Boxes Total 200 She...</td>\n",
       "      <td>https://www.amazon.com/dp/B086G3R7F6/ref=sspa_...</td>\n",
       "      <td>13.99</td>\n",
       "      <td>PACKAGE INCLUDES: 8 Boxes Paper Soap(2 boxes p...</td>\n",
       "    </tr>\n",
       "    <tr>\n",
       "      <th>13</th>\n",
       "      <td>200pcs Portable Travel Hand Washing Paper Soap...</td>\n",
       "      <td>https://www.amazon.com/dp/B08BNMS45G/ref=sspa_...</td>\n",
       "      <td>9.98</td>\n",
       "      <td>【Portable and Handy】Soap paper sheets are pack...</td>\n",
       "    </tr>\n",
       "  </tbody>\n",
       "</table>\n",
       "</div>"
      ],
      "text/plain": [
       "                                                 name  \\\n",
       "0   KISEER 4 Boxs (200 Sheets) Mini Portable Trave...   \n",
       "1   6 Packs Portable Disposable Travel Hiking Wash...   \n",
       "2   4 Boxs(200 Sheets) Paper Soap,Mini Portable Tr...   \n",
       "3   ZDU 80 Pcs Outdoor Travel Hand Washing Soap Pa...   \n",
       "4   6 Boxes (300 Sheets) Portable Disposable Soap ...   \n",
       "5   Ellocy 4 Boxes(200 Sheets) Mini Cute Portable ...   \n",
       "6   2 Box (40 Sheets) Portable Disposable Soap Pap...   \n",
       "7   Bamsod 12 Boxes (240 sheets) Soap Sheets Porta...   \n",
       "8        Travelon Hand Soap Toiletry Sheets, 50-Count   \n",
       "9   Portable Paper Hand Soap Sheets - Travel Size ...   \n",
       "10  5 Pack Travel Paper Soaps, Hand Washing Soap P...   \n",
       "11  Fomin 3-Pack (300 Sheets) Foaming Hand Soap Sh...   \n",
       "12  GREENSLEEVES Paper Soap, 8 Boxes Total 200 She...   \n",
       "13  200pcs Portable Travel Hand Washing Paper Soap...   \n",
       "\n",
       "                                                  url  price  \\\n",
       "0   https://www.amazon.com/KISEER-Portable-Disposa...   9.99   \n",
       "1   https://www.amazon.com/Portable-Disposable-Tra...   7.99   \n",
       "2   https://www.amazon.com/Portable-Disposable-Out...   6.99   \n",
       "3   https://www.amazon.com/ZDU-Outdoor-Washing-Por...   5.99   \n",
       "4   https://www.amazon.com/Portable-Disposable-Was...  11.72   \n",
       "5   https://www.amazon.com/Ellocy-Portable-Disposa...   8.99   \n",
       "6   https://www.amazon.com/Portable-Disposable-Was...   5.99   \n",
       "7   https://www.amazon.com/Bamsod-Portable-Disposa...   8.99   \n",
       "8   https://www.amazon.com/Travelon-Hand-Toiletry-...   4.60   \n",
       "9   https://www.amazon.com/Portable-Paper-Hand-Soa...   7.99   \n",
       "10  https://www.amazon.com/Washing-Portable-Replac...  10.99   \n",
       "11  https://www.amazon.com/Fomin-3-Pack-Sheets-Foa...  11.99   \n",
       "12  https://www.amazon.com/dp/B086G3R7F6/ref=sspa_...  13.99   \n",
       "13  https://www.amazon.com/dp/B08BNMS45G/ref=sspa_...   9.98   \n",
       "\n",
       "                                                 info  \n",
       "0   Made of natural premium quality biodegradable ...  \n",
       "1   Package Included: 6 Box of Soap Sheets,20pcs p...  \n",
       "2   ♥1: MATERIAL: Made of natural premium quality ...  \n",
       "3   Pocket Size - Soap piece size: 6 x 3.5cm, box ...  \n",
       "4   Package Included: 6 Boxes (300 Sheets) x Porta...  \n",
       "5   ✅ High-quality : Made of natural premium quali...  \n",
       "6   Specifications: 2 boxes (40 sheets) portable d...  \n",
       "7   ✡Material: Natural Vegetable Oils, Aromatherap...  \n",
       "8   Dissolves in water\\n50 Biodegradable Sheets\\n3...  \n",
       "9   TAKE IT ANYWHERE: Say goodbye to the disappoin...  \n",
       "10  Portable size: The Paper soap size about 3.54 ...  \n",
       "11  3-PACK TRAVEL SOAP SHEETS: Natural Lemon Scent...  \n",
       "12  PACKAGE INCLUDES: 8 Boxes Paper Soap(2 boxes p...  \n",
       "13  【Portable and Handy】Soap paper sheets are pack...  "
      ]
     },
     "execution_count": 38,
     "metadata": {},
     "output_type": "execute_result"
    }
   ],
   "source": [
    "product_df"
   ]
  },
  {
   "cell_type": "code",
   "execution_count": 42,
   "metadata": {},
   "outputs": [],
   "source": [
    "product_df.to_csv('hand_wash_sheet_dispenser.csv')"
   ]
  },
  {
   "cell_type": "code",
   "execution_count": 69,
   "metadata": {},
   "outputs": [],
   "source": [
    "reviews_df = pd.DataFrame(reviews)"
   ]
  },
  {
   "cell_type": "code",
   "execution_count": 70,
   "metadata": {},
   "outputs": [
    {
     "data": {
      "text/html": [
       "<div>\n",
       "<style scoped>\n",
       "    .dataframe tbody tr th:only-of-type {\n",
       "        vertical-align: middle;\n",
       "    }\n",
       "\n",
       "    .dataframe tbody tr th {\n",
       "        vertical-align: top;\n",
       "    }\n",
       "\n",
       "    .dataframe thead th {\n",
       "        text-align: right;\n",
       "    }\n",
       "</style>\n",
       "<table border=\"1\" class=\"dataframe\">\n",
       "  <thead>\n",
       "    <tr style=\"text-align: right;\">\n",
       "      <th></th>\n",
       "      <th>name</th>\n",
       "      <th>date</th>\n",
       "      <th>rating</th>\n",
       "      <th>text</th>\n",
       "    </tr>\n",
       "  </thead>\n",
       "  <tbody>\n",
       "    <tr>\n",
       "      <th>0</th>\n",
       "      <td>KISEER 4 Boxs (200 Sheets) Mini Portable Trave...</td>\n",
       "      <td>2020-09-12</td>\n",
       "      <td>5.0</td>\n",
       "      <td>Useful, especially if you are hiking or travel...</td>\n",
       "    </tr>\n",
       "    <tr>\n",
       "      <th>1</th>\n",
       "      <td>KISEER 4 Boxs (200 Sheets) Mini Portable Trave...</td>\n",
       "      <td>2020-09-11</td>\n",
       "      <td>2.0</td>\n",
       "      <td>Not what I expected These were not at all what...</td>\n",
       "    </tr>\n",
       "    <tr>\n",
       "      <th>2</th>\n",
       "      <td>KISEER 4 Boxs (200 Sheets) Mini Portable Trave...</td>\n",
       "      <td>2020-09-10</td>\n",
       "      <td>1.0</td>\n",
       "      <td>Didn’t get what I paid for. Great idea however...</td>\n",
       "    </tr>\n",
       "    <tr>\n",
       "      <th>3</th>\n",
       "      <td>KISEER 4 Boxs (200 Sheets) Mini Portable Trave...</td>\n",
       "      <td>2020-09-10</td>\n",
       "      <td>5.0</td>\n",
       "      <td>Bought twice! Liked 1st order so much ordered ...</td>\n",
       "    </tr>\n",
       "    <tr>\n",
       "      <th>4</th>\n",
       "      <td>KISEER 4 Boxs (200 Sheets) Mini Portable Trave...</td>\n",
       "      <td>2020-09-09</td>\n",
       "      <td>5.0</td>\n",
       "      <td>Grab with dry hand Easy to carry, grab the pie...</td>\n",
       "    </tr>\n",
       "    <tr>\n",
       "      <th>...</th>\n",
       "      <td>...</td>\n",
       "      <td>...</td>\n",
       "      <td>...</td>\n",
       "      <td>...</td>\n",
       "    </tr>\n",
       "    <tr>\n",
       "      <th>2872</th>\n",
       "      <td>200pcs Portable Travel Hand Washing Paper Soap...</td>\n",
       "      <td>2020-07-23</td>\n",
       "      <td>5.0</td>\n",
       "      <td>Perfect for camping! My Family recently went c...</td>\n",
       "    </tr>\n",
       "    <tr>\n",
       "      <th>2873</th>\n",
       "      <td>200pcs Portable Travel Hand Washing Paper Soap...</td>\n",
       "      <td>2020-07-20</td>\n",
       "      <td>5.0</td>\n",
       "      <td>Recommend. Great for travel Great for travel a...</td>\n",
       "    </tr>\n",
       "    <tr>\n",
       "      <th>2874</th>\n",
       "      <td>200pcs Portable Travel Hand Washing Paper Soap...</td>\n",
       "      <td>2020-07-19</td>\n",
       "      <td>5.0</td>\n",
       "      <td>Love it I love the scent of all of them. Bough...</td>\n",
       "    </tr>\n",
       "    <tr>\n",
       "      <th>2875</th>\n",
       "      <td>200pcs Portable Travel Hand Washing Paper Soap...</td>\n",
       "      <td>2020-07-18</td>\n",
       "      <td>5.0</td>\n",
       "      <td>No sink no problem I love this. It’s perfect f...</td>\n",
       "    </tr>\n",
       "    <tr>\n",
       "      <th>2876</th>\n",
       "      <td>200pcs Portable Travel Hand Washing Paper Soap...</td>\n",
       "      <td>2020-07-16</td>\n",
       "      <td>5.0</td>\n",
       "      <td>Like the container. It makes it handy to carry...</td>\n",
       "    </tr>\n",
       "  </tbody>\n",
       "</table>\n",
       "<p>2877 rows × 4 columns</p>\n",
       "</div>"
      ],
      "text/plain": [
       "                                                   name       date  rating  \\\n",
       "0     KISEER 4 Boxs (200 Sheets) Mini Portable Trave... 2020-09-12     5.0   \n",
       "1     KISEER 4 Boxs (200 Sheets) Mini Portable Trave... 2020-09-11     2.0   \n",
       "2     KISEER 4 Boxs (200 Sheets) Mini Portable Trave... 2020-09-10     1.0   \n",
       "3     KISEER 4 Boxs (200 Sheets) Mini Portable Trave... 2020-09-10     5.0   \n",
       "4     KISEER 4 Boxs (200 Sheets) Mini Portable Trave... 2020-09-09     5.0   \n",
       "...                                                 ...        ...     ...   \n",
       "2872  200pcs Portable Travel Hand Washing Paper Soap... 2020-07-23     5.0   \n",
       "2873  200pcs Portable Travel Hand Washing Paper Soap... 2020-07-20     5.0   \n",
       "2874  200pcs Portable Travel Hand Washing Paper Soap... 2020-07-19     5.0   \n",
       "2875  200pcs Portable Travel Hand Washing Paper Soap... 2020-07-18     5.0   \n",
       "2876  200pcs Portable Travel Hand Washing Paper Soap... 2020-07-16     5.0   \n",
       "\n",
       "                                                   text  \n",
       "0     Useful, especially if you are hiking or travel...  \n",
       "1     Not what I expected These were not at all what...  \n",
       "2     Didn’t get what I paid for. Great idea however...  \n",
       "3     Bought twice! Liked 1st order so much ordered ...  \n",
       "4     Grab with dry hand Easy to carry, grab the pie...  \n",
       "...                                                 ...  \n",
       "2872  Perfect for camping! My Family recently went c...  \n",
       "2873  Recommend. Great for travel Great for travel a...  \n",
       "2874  Love it I love the scent of all of them. Bough...  \n",
       "2875  No sink no problem I love this. It’s perfect f...  \n",
       "2876  Like the container. It makes it handy to carry...  \n",
       "\n",
       "[2877 rows x 4 columns]"
      ]
     },
     "execution_count": 70,
     "metadata": {},
     "output_type": "execute_result"
    }
   ],
   "source": [
    "reviews_df"
   ]
  },
  {
   "cell_type": "code",
   "execution_count": 75,
   "metadata": {},
   "outputs": [],
   "source": [
    "# remove duplicated reviews\n",
    "reviews_df = reviews_df.drop_duplicates()"
   ]
  },
  {
   "cell_type": "code",
   "execution_count": 77,
   "metadata": {},
   "outputs": [],
   "source": [
    "# reset index\n",
    "reviews_df.reset_index(inplace=True,drop=True)"
   ]
  },
  {
   "cell_type": "code",
   "execution_count": 78,
   "metadata": {},
   "outputs": [
    {
     "data": {
      "text/html": [
       "<div>\n",
       "<style scoped>\n",
       "    .dataframe tbody tr th:only-of-type {\n",
       "        vertical-align: middle;\n",
       "    }\n",
       "\n",
       "    .dataframe tbody tr th {\n",
       "        vertical-align: top;\n",
       "    }\n",
       "\n",
       "    .dataframe thead th {\n",
       "        text-align: right;\n",
       "    }\n",
       "</style>\n",
       "<table border=\"1\" class=\"dataframe\">\n",
       "  <thead>\n",
       "    <tr style=\"text-align: right;\">\n",
       "      <th></th>\n",
       "      <th>name</th>\n",
       "      <th>date</th>\n",
       "      <th>rating</th>\n",
       "      <th>text</th>\n",
       "    </tr>\n",
       "  </thead>\n",
       "  <tbody>\n",
       "    <tr>\n",
       "      <th>0</th>\n",
       "      <td>KISEER 4 Boxs (200 Sheets) Mini Portable Trave...</td>\n",
       "      <td>2020-09-12</td>\n",
       "      <td>5.0</td>\n",
       "      <td>Useful, especially if you are hiking or travel...</td>\n",
       "    </tr>\n",
       "    <tr>\n",
       "      <th>1</th>\n",
       "      <td>KISEER 4 Boxs (200 Sheets) Mini Portable Trave...</td>\n",
       "      <td>2020-09-11</td>\n",
       "      <td>2.0</td>\n",
       "      <td>Not what I expected These were not at all what...</td>\n",
       "    </tr>\n",
       "    <tr>\n",
       "      <th>2</th>\n",
       "      <td>KISEER 4 Boxs (200 Sheets) Mini Portable Trave...</td>\n",
       "      <td>2020-09-10</td>\n",
       "      <td>1.0</td>\n",
       "      <td>Didn’t get what I paid for. Great idea however...</td>\n",
       "    </tr>\n",
       "    <tr>\n",
       "      <th>3</th>\n",
       "      <td>KISEER 4 Boxs (200 Sheets) Mini Portable Trave...</td>\n",
       "      <td>2020-09-10</td>\n",
       "      <td>5.0</td>\n",
       "      <td>Bought twice! Liked 1st order so much ordered ...</td>\n",
       "    </tr>\n",
       "    <tr>\n",
       "      <th>4</th>\n",
       "      <td>KISEER 4 Boxs (200 Sheets) Mini Portable Trave...</td>\n",
       "      <td>2020-09-09</td>\n",
       "      <td>5.0</td>\n",
       "      <td>Grab with dry hand Easy to carry, grab the pie...</td>\n",
       "    </tr>\n",
       "    <tr>\n",
       "      <th>...</th>\n",
       "      <td>...</td>\n",
       "      <td>...</td>\n",
       "      <td>...</td>\n",
       "      <td>...</td>\n",
       "    </tr>\n",
       "    <tr>\n",
       "      <th>872</th>\n",
       "      <td>200pcs Portable Travel Hand Washing Paper Soap...</td>\n",
       "      <td>2020-07-23</td>\n",
       "      <td>5.0</td>\n",
       "      <td>Perfect for camping! My Family recently went c...</td>\n",
       "    </tr>\n",
       "    <tr>\n",
       "      <th>873</th>\n",
       "      <td>200pcs Portable Travel Hand Washing Paper Soap...</td>\n",
       "      <td>2020-07-20</td>\n",
       "      <td>5.0</td>\n",
       "      <td>Recommend. Great for travel Great for travel a...</td>\n",
       "    </tr>\n",
       "    <tr>\n",
       "      <th>874</th>\n",
       "      <td>200pcs Portable Travel Hand Washing Paper Soap...</td>\n",
       "      <td>2020-07-19</td>\n",
       "      <td>5.0</td>\n",
       "      <td>Love it I love the scent of all of them. Bough...</td>\n",
       "    </tr>\n",
       "    <tr>\n",
       "      <th>875</th>\n",
       "      <td>200pcs Portable Travel Hand Washing Paper Soap...</td>\n",
       "      <td>2020-07-18</td>\n",
       "      <td>5.0</td>\n",
       "      <td>No sink no problem I love this. It’s perfect f...</td>\n",
       "    </tr>\n",
       "    <tr>\n",
       "      <th>876</th>\n",
       "      <td>200pcs Portable Travel Hand Washing Paper Soap...</td>\n",
       "      <td>2020-07-16</td>\n",
       "      <td>5.0</td>\n",
       "      <td>Like the container. It makes it handy to carry...</td>\n",
       "    </tr>\n",
       "  </tbody>\n",
       "</table>\n",
       "<p>877 rows × 4 columns</p>\n",
       "</div>"
      ],
      "text/plain": [
       "                                                  name       date  rating  \\\n",
       "0    KISEER 4 Boxs (200 Sheets) Mini Portable Trave... 2020-09-12     5.0   \n",
       "1    KISEER 4 Boxs (200 Sheets) Mini Portable Trave... 2020-09-11     2.0   \n",
       "2    KISEER 4 Boxs (200 Sheets) Mini Portable Trave... 2020-09-10     1.0   \n",
       "3    KISEER 4 Boxs (200 Sheets) Mini Portable Trave... 2020-09-10     5.0   \n",
       "4    KISEER 4 Boxs (200 Sheets) Mini Portable Trave... 2020-09-09     5.0   \n",
       "..                                                 ...        ...     ...   \n",
       "872  200pcs Portable Travel Hand Washing Paper Soap... 2020-07-23     5.0   \n",
       "873  200pcs Portable Travel Hand Washing Paper Soap... 2020-07-20     5.0   \n",
       "874  200pcs Portable Travel Hand Washing Paper Soap... 2020-07-19     5.0   \n",
       "875  200pcs Portable Travel Hand Washing Paper Soap... 2020-07-18     5.0   \n",
       "876  200pcs Portable Travel Hand Washing Paper Soap... 2020-07-16     5.0   \n",
       "\n",
       "                                                  text  \n",
       "0    Useful, especially if you are hiking or travel...  \n",
       "1    Not what I expected These were not at all what...  \n",
       "2    Didn’t get what I paid for. Great idea however...  \n",
       "3    Bought twice! Liked 1st order so much ordered ...  \n",
       "4    Grab with dry hand Easy to carry, grab the pie...  \n",
       "..                                                 ...  \n",
       "872  Perfect for camping! My Family recently went c...  \n",
       "873  Recommend. Great for travel Great for travel a...  \n",
       "874  Love it I love the scent of all of them. Bough...  \n",
       "875  No sink no problem I love this. It’s perfect f...  \n",
       "876  Like the container. It makes it handy to carry...  \n",
       "\n",
       "[877 rows x 4 columns]"
      ]
     },
     "execution_count": 78,
     "metadata": {},
     "output_type": "execute_result"
    }
   ],
   "source": [
    "reviews_df"
   ]
  },
  {
   "cell_type": "code",
   "execution_count": 79,
   "metadata": {},
   "outputs": [],
   "source": [
    "reviews_df.to_csv('hand_wash_sheet_dispenser_review.csv')"
   ]
  },
  {
   "cell_type": "code",
   "execution_count": 80,
   "metadata": {},
   "outputs": [],
   "source": [
    "# create keyword list to help find packaging related review\n",
    "keywords = ['case', 'container', 'packages', 'package', 'packaging']"
   ]
  },
  {
   "cell_type": "code",
   "execution_count": 81,
   "metadata": {},
   "outputs": [],
   "source": [
    "# convert the review_text into a list\n",
    "review_text = list(reviews_df['text'])"
   ]
  },
  {
   "cell_type": "code",
   "execution_count": 82,
   "metadata": {},
   "outputs": [
    {
     "data": {
      "text/plain": [
       "['Useful, especially if you are hiking or traveling When I go abroad I realize that not all bathrooms have soap dispensers and so this was a great buy. What I noticed is that once you open the container with the films or strips of soap it doesn’t close but it doesn’t necessarily affect her quality of the product',\n",
       " 'Not what I expected These were not at all what I expected them to be. I was hoping they smelled better than they did. I actually purchased the water soluble paper to create my own and they are great.',\n",
       " 'Didn’t get what I paid for. Great idea however i only received two instead of four. Felt ripped off.',\n",
       " 'Bought twice! Liked 1st order so much ordered again! You need to get your hands wet first as much as possible but after that they work great!',\n",
       " 'Grab with dry hand Easy to carry, grab the piece before your hands are wet.',\n",
       " \"FABULOUS! Just got these delivered. I'm preparing to go back to school for work and wanted my own portable hand soap to use. These soap sheets are awesome! They smell lovely, come out of the pack easily and dissolve and foam up perfectly! Hands are squeaky clean - literally! SO happy!\",\n",
       " 'gets your hands clean difenitly love this. Just keep eater around. Cleans the hands really good. Just wish it had a smell to the soap.',\n",
       " \"MUST BUY!!! I absolutely love these soaps!!! They are perfect for travel, camping or when you use a public restroom (either public restroom soap smells bad or there is none). There is a very light scent when you open the package but it doesn't stay on your hands. My hands feel moisturized and clean and doesn't have a waxy feeling after.\",\n",
       " 'Handy soap sheets Great hand soap for travel',\n",
       " 'they are so handy Hand Soap Sheets Love them. So convenient. I give them as presents to my friends I fly with. Being a flight attendant in these changing times you never know what to expect at the hotels. Soap on the go.',\n",
       " 'The price Everything is so fabulous',\n",
       " 'Cute but could be better I was really excited for this product. Saw a review on tictok and was just out of the moon for mine to come in. Majority were melted together upon arrival but the couple that weren’t were nice to use especially with covid season!',\n",
       " 'very handy love these. small and packable. just add a bit of water and you are good to go. great as gifts too',\n",
       " \"Wow these things actually work I was skeptical but it foams up and is the perfect amount of soap. This is definitely come in handy at festivals, camping trips, or just to have in case wherever you go doesn't have soap. I also like that you can buy refills without having to buy the holders again.\",\n",
       " 'Happy Very happy with this soap_ leave your hand super clean',\n",
       " 'It works... its useful but kinda sticks to my hand even if i put water in it.',\n",
       " 'Quality I saw them on TikTok and I had to get them. They work really good!',\n",
       " 'Good idea but the smell is bad The smell is not so good',\n",
       " \"Thank goodness for these! I constantly have to wash my hands at work. Been a habit even before this pandemic. Got tired of the times when there are empty or broken soap dispensers and not being able to wash my hands thoroughly. This has come in very handy. I've even had other employees ask me about them when they see me use it. I let them try it out too.\\n\\nThe package is very small so fits very well in my pocket and has plenty in there. 1 sheet is enough to wash with.\\n\\nI take out 1 sheet, wet 1 hand and cup it to hold a tiny bit of water, use the other hand to place it into the wet one, then rub both hands together to start a lather.\\n\\nI would definitely order again.\",\n",
       " 'Great product  I love this product! It dissolves on your hands and bubbles like soap! But sometimes it leaves a papery spot on your hands if you didnt get the whole thing wet. Other than that this is a great item!',\n",
       " 'Smart purchase One of my smart purchases esp with the current pandemic going on. Smells great and a little goes a long way',\n",
       " \"Great product for travling We used these on a road trip they were easy to use just remember to take a bottle of water just put one in your hand pour on the water it's instant soap and the thin film dissolves\",\n",
       " 'Cute Soap 1sheet lathers up really well. I wish the package was more sturdy but still works',\n",
       " 'Exactly what I needed Smells great! Good lather.',\n",
       " 'GREAT INVENTION GREAT PRODUCT ESPECIALLY FOF ROADTRIPS!!!',\n",
       " 'Omg Wow. I was hesitant to buy these. But just, wow. They’re fantastic.\\nI was looking for something when you’re in a pinch. I take a lot of long trips with my daughter when visiting family and these are perfect. As long as you have a little water, these work great.\\nIt literally dissolved in your hand. And has a very pleasant rose scent.\\nExtremely impressed!!',\n",
       " 'bad The smell is very strong. I have discarded it and the package is not good when it is delivered. It makes me feel that it is a bad product, which makes me feel very bad.',\n",
       " \"Peculiar smell I don't recommend it. I hate it. I smell strange when I open it. I don't use it. It's different from what I've bought in the past.\",\n",
       " \"I don't recommend it I really don't like this rubbish because it's very strange. I think it has a strange smell. I don't recommend it.\",\n",
       " \"Convenient, 1 thin sheet enough to wash hands Super convenient with very little smell. Doesn't dry out hands too much either. I keep one in my bag in case public bathrooms run out of soap.\",\n",
       " 'Good lather Very good quality. The soap has good lather and it is an Essential item if you are on the go.',\n",
       " 'Super convenient! These are so adorable and so convenient smell is not strong love it wish they had a little pouch or hook to have them hook to you keychain or something',\n",
       " \"Don't buy There was no scent, they came in a zip lock baggy and they turned into goop rather than soap. I had a friend who ordered the same thing and they were awesome. I think these are old or a knock off.\",\n",
       " 'Too sticky Turns to a sticky slimy almost chewed up gum like consistency. THIS product has to be scraped off my hands and then I had to use a baby wipe to get the residue off. Would not recommend.',\n",
       " 'S Perfect for this virus going around',\n",
       " 'Too sticky The soap was terrible and smelled like chemicals and when you wash ur hands it either sticks to your hands and takes a while to come off or it turns into a ball of sticky substance.',\n",
       " 'Too sticky Nothing like what is pictured. The quality is POOR. Save your money.',\n",
       " \"It's cute and it works! We were so impressed with these soap sheets. I have never owned any and these truly blew my mind. The soap sheets provide a good lather and washes off easily, leaving no residue. We take many road trips with our dogs and sometimes come across places with no bathrooms or bathrooms with no soap. it's great to have these around, and they fit in any purse or even your pocket! This is a MUST when you travel overseas, you won't regret it! For people who are sensitive to strong smells, this works for you too! My bother is very allergic to regular soaps and this worked out for her.\",\n",
       " 'Great for outdoors We use these when fishing and camping. Super easy to use. Just take bottled water with you and use.',\n",
       " 'Very disappointed. Once you wet them they stick to your hand like a wood glue. Useless stuff. Deserves zero stars',\n",
       " 'Save your money! Disappointed. Does not lather and leaves a super sticky residue on your hands. Save your money!',\n",
       " \"I don't like it This is extremely disgusting. Because it stinks, I hate this stuff. I'll never come to this store again. I feel offended.\",\n",
       " 'Very disappointed. This item did not work at all like it was advertised. It did not dissolve or get soapy. It rolled up like plastic. Very disappointed.',\n",
       " \"Convenient for Camping Perfect for camping if you don't want to just use hand sanitizer. Left it in my car by accident on a hot summer day and the sheets weren't impacted which I was surprised they didn't melt. Overall great purchase and I'll continue to buy them for camping.\",\n",
       " 'Great idea I put one in my car one in my sons diaper bag. Saw these on tiktok and had to get them. It’s horrible when you go somewhere and they have no soap so this is a lifesaver',\n",
       " 'Buena compra Están super bonitos y muy prácticos para llevarlos en la bolsa y usarlos en cualquier momento.',\n",
       " \"There is a peculiar smell I got it. It's a surprise to me. I can't believe it's my express because it's completely different. And the smell is so bad that I've lost it. It makes me uncomfortable.\",\n",
       " 'Great for on the go I have to admit the amount of plastic here is pretty wasteful. I wish it came in a 2 pack with reusable sheets that you can refill. There’s also a pattern that looks like you can pull the soap sheet through the top lid but you can’t. It’s just printed on there (weird) and it can be tough to close afterwards. Not the best packaging but the product itself is what’s advertised!',\n",
       " 'Perfecto para uso diario Es muy facil y Accesible de llevar',\n",
       " 'Ok Package is very cheap',\n",
       " 'Convenient and smells good This is great! Just make sure your hand is dry when you take a sheet out.',\n",
       " \"Exactly what I was looking for. I wanted these for emergency purposes in case we ran out of hand sanitizer on the road or got somewhere that didn't have soap. Super cute, and easy to use.\",\n",
       " 'Great for on the go. This is a great idea for those times that there is no soap. But I would encourage the seller to have an accurate count of 50 per holder. Mine was missing 32.',\n",
       " 'Do not buy Very disappointed. Not what I expected. Wipes were dried out when I recieved it. I threw them in the trash.',\n",
       " 'Work great, dissolve easily, light scent Perfect to keep in the car for handling emergencies. I had bought them for our European vacation but Covid shut that down so now I have them in every vehicle. Work great, dissolve easily, light scent',\n",
       " 'Works This was a gift for my mom',\n",
       " 'Waste of money Too expensive',\n",
       " 'Good Lather These are very adorable. They snap shut well and stay shut, unlike other paper soaps I’ve tried that slip back open when you don’t want them to. The scent is not noticeable to me, one sheet produced just enough lather for me, and it rinsed off fine. No filmly residue left over. The sheets slide out easily.\\n\\nI would recommend it honestly. I would definitely apply some lotion directly after because it can be a bit drying if you don’t.',\n",
       " 'Very useful and compact Very useful. Come in cute package and easy to carry around your small bags. Went to the mall and the park without any soap. So this come in handy',\n",
       " \"Not a fan! These were terrible. The soap paper doesn't dissolve. It just gums up on your hands and won't rinse off! You have to scrape it off with your fingernails.\",\n",
       " 'Don’t buy it this is not a good Product',\n",
       " 'Easy to use Gave as gifts and they are really awesome at creating a lot of lather for one sheet. Pretty impressive! Thank you!',\n",
       " 'Awesome Smells good, great portable packaging, and it lathers well.',\n",
       " 'item as described item as described. great for these times with corona at least to get your hands cleaned',\n",
       " 'Neat but stinky The soap sheets are neat and very soapy but they smell awful.',\n",
       " \"great for travel These have come in handy for my trip to NY, because its hard to get hand soap we've been using them to wash our hands in the bathroom. The scent is really light, barely noticeable and it's not too harsh on the skin.\",\n",
       " \"Great item for when you're out and about but want to keep your hands clean This stuff is great! There are a couple of gripes, though. One sheet is just too much soap. It took a really long time and a lot of water to wash it off. Half a sheet seems to work way better. Also, the packaging on it is a little difficult to open and close. Other than that, I'll more than likely purchase it again.\",\n",
       " 'Great purchase. Absolutely genius, would purchase again and recommend to others. Wish I knew about these long ago.',\n",
       " 'Lovely smelling soap slivers Great product, love the smell, wish opening it was easier...',\n",
       " 'Fabulous Soap Paper This was essential for the pandemic. I used them as soon as I received them to verify they did as promised and it did. It lathered with a small amount of water. The soap paper is super thin but lathers abundantly. Your hands feel clean after using.',\n",
       " 'These soap sheets are convinced Love the little purse size soap sheets. They smell good and work well. Nice to have in purse especially during this pandemic! Never know when you will be in a place that doesn’t have soap. These I believe are more sanitary than a dispenser.',\n",
       " 'Love it! These work exceptionally well. I love being able to wash my hands on the go and not just use sanitizer. The scent is light and floral like baby powder.',\n",
       " \"awesome product love love love these. The only thing I don't like is that you can't just buy refills. You have to buy them all over again. I just feel like it's wasting the package that carries them. Other than that I love them. They are really convenient\",\n",
       " 'so convenient! Lather well. perfect for travel, suspect restrooms, and just to have for the \"in case\" situations',\n",
       " 'A must item to leave the house with ! My items were shipped timely! Smells great and they will be fantastic for traveling.',\n",
       " 'Great soap for traveling! This is such a great concept. Easy to use. I found hot water works better for rinsing the soap off. Cold water doesn’t really dissolve the soap strips. It’s also harder to rinse using cold water. The container is sometimes hard to snap closed but it’s cute. These are great for keeping in a purse or your car for travel. Smells good and makes my hands feel clean. Has a nice lather.',\n",
       " 'Will work well for my son who can not use hand sanitizer Purchased these for my son who has eczema and therefore can not use alcohol-based hand sanitizer. I plan to send these (and a bottle of water) with him if and when he goes to day camp this summer so he can stay safe and wash his hands without them burning from the alcohol in sanitizer and knowing that not all bathrooms will be open and/or have soap. We each tested one and they are pretty neat-o. Dissolves with a small amount of water, creates a decent amount of lather. Slight floral scent - not overwhelming.',\n",
       " 'Great product It’s very convenient',\n",
       " 'Scent Perfect',\n",
       " \"PERFECT I have not used them yet but they do smell good and I could tell it will come in handy when I'm gonna need it.\",\n",
       " 'Blessed I receive the package Thank you',\n",
       " 'Soap Very useful and convenient',\n",
       " 'Very useful Great product',\n",
       " 'Perfect They are great. They really don’t have a strong sent so that is great. And it’s perfect for traveling highly recommend',\n",
       " 'Soap packs Do not lather up good, just really good for an emergency if you do not have access to any soap,',\n",
       " 'Fantastic!!! An outstanding product!!! Perfect for a handbag, briefcase, travel (especially for situations where there’s no soap in the bathroom!!)',\n",
       " 'Not quite what I expected It could use a bit more scent and more information regarding the antibacterial information. But otherwise very cute quick shipping as schedule. Kids surely enjoy it. Thank you',\n",
       " 'Exactly as presented Very convenient and easily stores in my purse. Used for washing hands.',\n",
       " 'Do not purchase Basically junk',\n",
       " 'Junk Junk',\n",
       " 'Not worth it I received these in fair condition and used my Clorox wipes to clean them. The paper soap arrived ripped Some of them were even bent. This product shipped from China which I was not aware of until now. I honestly don’t recommend anyone to buy these at all.',\n",
       " 'Good to have in your purse! Lathers very well. I keep one in my purse. Smells nice',\n",
       " 'Junk This is the most ridiculous thing I think that I have ever received from Amazon, complete junk, makes more of a mess than cleaning.',\n",
       " 'The Package is misleading, Amazing Product. OMG 😱 These are amazing.. I will definitely be buying some more. You are basically walking around with a bar of soap which is a better option to Hand Sanitizer. What a amazing product especially during this Coronavirus Pandemic.',\n",
       " 'Not what I expected Scent is bad',\n",
       " 'Nice to havr I bought since hand washing is needed so often and public restrooms do not always have a full soap dispenser. Gave 1 each to my parents. You can condense these down to 2. Nice size slips into pocket or purse.',\n",
       " 'Llego rápido Bueno',\n",
       " \"Travel Soap Paper Sheets Arrived quickly. Tested one sheet--suds everywhere!! Rinses quickly and cleanly! Light rose scent DOES NOT linger on the skin. This was important to me as I am asthmatic and VERY sensitive to strong scents. The sheets slide out easily and don't stick together. The travel case is small and relatively flat. Easily fits into small carrying spaces. Very portable. The only minus is that the case can be tricky to close if you have arthritis only because the closure is small and the case is lightweight so you have to be careful not to press too hard or you'll crack it. Not a deal-breaker, though. Great value for the money as there are 4 containers with 50 sheets per container. I've already mailed out 2 to family members and may just order another set of 4. Very pleased with this purchase. Would recommend.\",\n",
       " 'Keeping hands clean while traveling!!! The product is being used for washing my hands while traveling for work. It was also given as part of a care package for my assistants.',\n",
       " 'easy to travel with, great scent have one each to my family members and we all carry this with us. very helpful and smells amazing. love lavender',\n",
       " 'Nothing It made my hands really dry. Stopped using it after a week. It did make good soap suddenly though.',\n",
       " 'Soap and lather They really louder up pretty well for a skinny piece of paper highly recommend for traveling',\n",
       " \"Convenient product! I just got these in today and I was so excited to try it. It works great! They are thin and soft and have a simple nice fragrance. Do not touch it with wet hands. Make sure to grab one right before you start to watch your hands. I liked this product very much but the only thing I disliked was the little container it comes with. I assumed that it was like a silicon type container but it's really a hard cheap plastic. It's not easy to open unless you give it a slight squeeze on the sides and then open the front part. Other than that it is great! It's definitely easy carry in purse or pocket and very convenient especially when you walk into a place that has no soap. I would still recommend it. I would like for the Company to possibly consider a silicon carry container.\",\n",
       " 'Packing and product poorly made...would not recommend I intended to use these \"individual/travel packets\" to cleanse hands when not at home but access to water (needed). I opened up bag to find 4 tiny little plastic cases which didn\\'t have any significant closing mechanism, only very cheap made of plastic. Once I pushed closing apart , I found SUPER THIN pieces of paper I assumed where to be used with water to soapy up hands. I put in my hand and added TINY bit of water. The paper began to disappear within my hand and there was a little bit of foaming before all was gone. Then, when I went to dispenser to close , all I was able to do was try to put the top two pieces together again. There was no clicking, connecting etc. I would imagine, that pack wouldn\\'t take too long to have useless pieces of paper within. I can\\'t imagine the manufacturer would actually consider selling such a cheaply made product. I returned. Since I thought the product of no value, I rated all survey questions with only 1 star.',\n",
       " \"love it these are perfect! Tried one and works like a charm. There's not really a smell to it. No big deal, I just want clean hands. Great price for the amount of soap sheets you get!\",\n",
       " 'It is very useful Works as expected',\n",
       " 'works great thought these would be gimmicky but they work great',\n",
       " 'Good buy The case is cheaply made and opens too easily. Otherwise the product is great. Lathers up very well.',\n",
       " 'Igual a la foto Muy lindos y util solo q llegaron rotos',\n",
       " 'Great for when thete is no place to wash hands great for the beach and parks and camping These are great for on the go when there is no Place to wish hands. I ordered more to give to all my kids to keep in the car. They have small children',\n",
       " 'TRAVEL SIZE SOAP SHEETS Much smaller than what it looks like. Would be better if it has a keychain to attach to keys or purses. Very good though for travel and just throwing in your purses or bags',\n",
       " 'came on time liked the product',\n",
       " \"Doesn't spill out over everything like liquid soap These are amazing nice silky smooth tons of bubbles and meet your hands feel incredibly clean. Perfect for travel or for camping or for hiking or for any other time you don't want liquid soap they can spill out into belongings\",\n",
       " \"Recommend it I'm happy with this purchase\",\n",
       " \"They work really well! Love it Came on time. Nicely packaged. It's way better than touching any soap machine to wash hands. Not all places have touchless handsoap.\\nGreat item to travel with and it works great. The smell is fine. Clean smell\",\n",
       " 'Happy mom Love it. Gave one to my daughter & husband to keep on their person for when using public restrooms',\n",
       " 'Perfect to always have Soap on hand without the mess. Excellent item!!!! Especially now, that we are going through COVID19 and soap is hard to come by.',\n",
       " 'Very cute! Very cute y convenient!',\n",
       " \"Great value and as pictured Great value and arrived quickly. It's as pictured.\",\n",
       " 'Great product Works great. Nice to have at the park or anywhere kids like to touch things.',\n",
       " 'This is a must-buy for COVID-19!! I love this! It is a little hard to open but I think that it will keep it sealed better. I love the idea n the shape of the case',\n",
       " 'Cute, light weight perfect as travel size Haven’t Tried but packaging is cute. It’s light and it also smells good!',\n",
       " 'Safe Awesome',\n",
       " 'Would be great but... Arrived open and dirty, seems used',\n",
       " 'Excellent product Really nice product and leaves hand very soft after use and also foams a lot when washing your hand',\n",
       " 'Great for on the go. Great for on the go. Just make sure your hands are dry when you take 1 out my kids managed to get water in a case and it was a mess to try to peel apart the pieces. Otherwise great item for car, purse, camping, park, anywhere.',\n",
       " 'Great product! Exactly what I wanted! Hands feel very clean after wash! Highly recommend! I read other reviews and decided these had the best reviews, those reviews did not disappoint! Each sheet of soap produces enough soap to give the comfort of knowing your hands are throughly clean. We liked our first order so much that we bought 10 packs for my fiancé work crew to help make keeping their hands clean during this pandemic! ( he’s a delivery driver/repair tech). If you have wanted to try something like this product, I highly recommend this brand!',\n",
       " 'Great alternative to hand sanitizer Since it is so hard to get hand sanitizer these days I decided to take a chance on these. I carry in my bag for when sanitizer is not available, takes very little water to activate (soap and water is better against covid)',\n",
       " 'Small, easy, handy Soap sheets. Small plastic case. Perfect for travel and to keep in the car. Slide out one thin soap paper, use water. Done.\\n\\nAlways have option to wash hands. Something we are all doing frequently now.',\n",
       " 'useless dry as a dryer sheet.',\n",
       " 'Convenient to use. Smells good Great product',\n",
       " 'They were easy I really liked how easy they were to use.',\n",
       " 'Great on the go This is truly a lifesaver. My husband currently works outdoors and sometimes doesn’t have access to a bathroom to wash his hands. Well now he carries his pack of paper soap and a few water bottles and is able to wash his hands on the go!',\n",
       " 'Great Product! Great product! This is a must for when you need to wash your hands on the go. A pack of these & a bottle water in the car & we can wash our hands anywhere!',\n",
       " 'Good product Like it',\n",
       " 'Useful The sheets dissolve very quickly and suds',\n",
       " 'Disgusting!!!!! There was a bunch of gunk around the cases of this product I ordered as well as they were just thrown into the shipping box. It looked like someone was getting rid of their trash and shipped it out. With a time like this due to coronavirus I threw the entire thing away I didn’t want to risk it after seeing all the gunk around the case NASTY. Waste of my money and risk at health.',\n",
       " 'Clean hands So glad they came when they did. They are great for travel, it fits easily into my toiletries. I just need to find a way to make paper thin soap so I can refill my pack or find a refill pack for these. Not sure how they withstand with heat so I would not leave them in a car because the plastic case is on the cheap side.',\n",
       " 'Convenient for a mailman I am a letter carrier for the Post Office. My daughter bought these for me so I could wash my hands often on the street. I carry my own water. These are so convenient & they lather up so you feel like you are really clean. Such a thoughtful gift! Trying to keep the virus away!',\n",
       " 'Different than looks From the photo on the website it looks like this package dispenses from the front and it’s only a painted on dispenser . Container very flimsy for the price. However I ordered these because they were in stock',\n",
       " 'Works great! Cute little containers that fit in your pocket. One piece lathers nicely. Great to have if traveling or just out and find yourself in a bathroom with no soap. Also great for campers. I do wish they were made in America though.',\n",
       " 'Love it Got it faster than I even expected! Omg ! What a amazing invention. Try it right away. Scent is amazing if I’m not mistaken it’s jasmine.',\n",
       " 'Good does what it says',\n",
       " 'Buy it! I love having these in my purse or car. When I want something a bit more than just hand sanitizer this is my go-to.',\n",
       " \"Good product It's crucial to keep your hand clean at this time\",\n",
       " 'Buena inversión Muy práctico.',\n",
       " \"Second time purchasing We got them again. The first time was due to my son's allergy to most of the liquid soaps in public restrooms. This time it's to be sure to have soap while out. A lot of places have been out of soap when I got to wash my hands. So now I'm covered!\",\n",
       " 'Buy a real handsoap instead Useless,',\n",
       " 'Exactly as described Cute, small, easy for traveling. The soap suds up nicely.',\n",
       " \"GOOD TO HAVE IN YOUR PURSE The only thing I didn't like about this soap was that it didn't melt as fast as some I had years ago. Some public rest rooms have horrible smelling soap, or none at all, and these sheets of soap are great for that. A nice smell and lathers well.\",\n",
       " 'Perfect for washing hands anywhere! Love the number of sheets that are in the little case! Easy to use and my kids love them!',\n",
       " 'Loved it Worth to buy',\n",
       " 'Good product Very useful, just make sure ur hands are dry when you are pulling the sheet out.',\n",
       " 'Melt very slowly Does not melt quickly',\n",
       " 'it does not work if it gets wet it is sticky',\n",
       " 'Just pop in pocket or purse Just perfect for our campers and fishermen and mom with little ones',\n",
       " \"Love the convenience of this product I love the convenience of this hand soap; simply add a little water and you're able to wash your hands. Love love love this\",\n",
       " 'Very convenient Nice to carry with you in these days to wash your hands and not have to use a bar of soap in pubic restroom or use the soap dispenser you have to push on.',\n",
       " 'ESSENTIAL This is SO good. I love that the sheets of soap are so thin! It is definitely going to be a repeat buy. I live in a major city and it is critical to wash hands frequently [even pre pandemic]. The quality is good. There is no scent, really. If you need to wash your hands on the go, just take a water bottle and maybe one of those water activated towels.\\nBut, this is small enough to fit inside your purse, not a wallet.',\n",
       " 'Not what I expected does not lather up well',\n",
       " 'Practical, convenient & perfect for traveling These were perfect for traveling. Especially during Covid and gas stations not always having soap. Pull out a sheet and just add water. Perfect packaging to just toss in your purse or pocket and go.',\n",
       " 'A++++ These come in very handy',\n",
       " 'Perfect Everything came exactly as described',\n",
       " 'Good product I like them. They get the job done but once the soap pad dissolves when hit with the water you have to almost scrape the soap from that area it dissolved and then continue to rub your hands. The packaging is a little cheap with the really thin plastic but they’re easy to throw in your bag and they haven’t popped open in my bag. I would still recommend this product since I’m not that picky and it’s just soap. Lol',\n",
       " 'Perfect!! Perfect for travel and camping',\n",
       " 'Not soapy These were not soapy at all..tried two at a time, still nothing',\n",
       " 'great for on a road trip It it great like I said for a road trip. I like the soap and at least your hands will get washed. Thank you!',\n",
       " 'Good idea Bought these for our \"go bags\" - hands must be DRY to get a sheet out of the case, otherwise they\\'ll all mush together.',\n",
       " 'Ideales para la cartera Ideales para la cartera. Prácticos y con buen olor',\n",
       " 'it works good and light scent it works good and I love light scent.',\n",
       " 'Soap residue remains Unscented soap strips but they do not dissolve.',\n",
       " 'Travel soap is a good idea Overall these are nice. But I have sticky residue that is hard to remove.',\n",
       " 'Like the size Bought to keep in purse because many bathrooms do not have soap',\n",
       " 'Misleading I bought these to give as a gift to friends but when they came they were so small like 2 inches big, I was shocked. The sheets came with dents and there’s like 20 inside. The soap doesn’t lather well but I’m still gonna use it since I bought it',\n",
       " \"Soap sheets There isn't a lot of soap on these. You need several to actually get your hands clean. They are easy to use, love small size. Took forever to come in.\",\n",
       " \"Not at ALL what I hoped They have no scent. The packaging is like a pack of candy. They do sud up a little. They also get gummy and leave a lot of residue on your hands. Over all, I'm not happy. I will NOT purchase again.\",\n",
       " 'Good 👍 They come in handy when you travel a lot. I would recommend it to everyone.',\n",
       " 'Do not buy it Nunca lo recibí',\n",
       " 'Not to bad! Not to bad I guess! They don’t smell like anything, they don’t get as foamy as soap but hey something is better than nothing and they are convenient!',\n",
       " \"Fit right in the diaper bag It's soap it cleans. Packaging is pretty. But the soap is very hard to come off in the water. It's very very sticky. We had to use baby wipes to finish getting the soap off our hands.\",\n",
       " 'Easy to carry Love it',\n",
       " 'No smell No smell',\n",
       " 'Compact How simple it is',\n",
       " \"Not worth the spend Soaps didn't work as described\",\n",
       " 'Great to have while traveling I bought this since I was traveling to the Philippines and some bathrooms there did not have soap. Small and compact and light so easy to carry in my bag. The only problem I had with this was that it was hard to dissolve so took longer for you to fully was all the soap off your hands.',\n",
       " 'No las he recibido Ya deberían haber llegado y ahora salen con que tienen demora!',\n",
       " 'Okay.. The soap sheets work GREAT. The packaging though is very, very cheap. Not strong enough to hang on keys or a bag. Will definitely bust open and be useless. Would buy soap sheets again just not this brand.',\n",
       " 'Doesn’t suds and sticks to your hands. I wasn’t pleased Doesn’t suds up and it sticks to your hands. You will need a lot of water. I tried another brand and only a little water went along way. I’m not that happy with this one though.',\n",
       " 'Great for on the go! These are really cool.. Great for on the go!!',\n",
       " 'Worst product ever. BUYERS DO NOT BUY THIS PRODUCT!\\nThis was the worst product that I ever bought on Amazon-\\nIt does not feel like soap, it feels like wet slimy paper when you wet it. It doesn’t suds up like they advertised and it has no smell. I don’t think this is soap at all. I feel like I was ripped off by these people. I hate it.',\n",
       " 'Funciona Hace lo que dice la descripcion, funciona como jabon y te limpia',\n",
       " 'Good for outtings. I like that it is travel sized perfect for on the go with children since many parks and beaches near us don’t have soap in the restroom as well as the campgrounds I go to. I won’t have to carry a container of liquid soap. However what i don’t like it that it leaves your hands slimely and you are literally putting water on your hands for 5 minutes to get the slime away. Other than that love the product.',\n",
       " 'Disappointed These does not produce suds it feels like wax i didnt like it i really wanted too',\n",
       " 'Great/convenient for travel Great product. Good smell. Helpful directions to use.',\n",
       " 'Will highly recommend Easy to use and shipping was fast',\n",
       " 'Works well Nice for the car or camping/hiking',\n",
       " 'this product is crap. This is crap. They are small cut out pieces of paper that are not wet or soapy. How are you suppose to wash your hands. Do not waste your money',\n",
       " 'Soap paper smells bad The style is good, but it smells too bad.',\n",
       " 'It’s ok It’s a decent concept but they recommend using warm water to “activate” product. This is weird as it’s advertised as something that could be useful during camping. Does anyone usually camp with warm water readily available? Unless of course camping has changed over the years. Anyway, it’s useful to have nonetheless. Especially during this whole virus pandemic. Have a bottle of water handy and this thing in your glove box of your car and it might just prove itself useful. P. S. It’s unscented or lightly scented for those of us with sensitive noses.',\n",
       " 'Excellent Product Amazing product and convenient for this moment of the Codiv - 19\\nThank you!!!',\n",
       " 'Perfect for on the go. These are great. They didn’t dissolve all the way with cold water. They work better with warm to hot water. Perfect for on the go.',\n",
       " 'Received earlier than expected Received but seem to be old dried up',\n",
       " 'Work well but not happy with price The soap sheets work well, as described\\nMy only complaint is that they are way too expensive, in my opinion. I would have liked at least 10 mini boxes.',\n",
       " 'Great idea very convenient to have and use',\n",
       " 'Bet thing ever Very handy to have when bathroom don’t have soap',\n",
       " 'Don’t buy. Left a residue which was tough to get off. No noticeable scent. Plastic container. They are going back.',\n",
       " 'Size and dispenser Excellent when traveling to places where soap is no available in their bathrooms.',\n",
       " \"No good It doesn't even melt in cold water.\\nIt sticks to your skin and doesnt come off easily.\",\n",
       " 'Very useful I purchased these items for my emergency kit and they were useful right away. They work well and are packed in a great dispenser. My only recommendation is not o reach for one with wet hands, or the remaining sheets will stick together.',\n",
       " 'Easy to care and easy to use I like it',\n",
       " 'Most convenient Glad to find these are available. I carry one with me and have one in my car as well.\\nGreat for camping as well as they disintegrate naturally.',\n",
       " \"Only 4 or 5 soap sheets per container??? I bought these to go into our stockings with the idea that we could all put them in the glove compartment of our cars. You never know when you go into a public restroom if they have soap or not. I have a different brand that I've been using for about a year and thought they would be an excellent idea for all my family to have.\\n\\nThese claim to have 20 soap sheets er container. Each of ours only had 3 to 6 sheets per container. I was very disappointed and will not buy them again. The idea is fantastic, this company just doesn't follow through very well.\",\n",
       " 'Gluey! It sticks to your hands like thick glue and is difficult to rinse (scrub) off.',\n",
       " 'Handy Haven’t tried them yet but looks good for now',\n",
       " \"Fits in my pocket. When I am out in the wilderness and don't have soap this is perfect.\",\n",
       " 'Perfect when you feel you need to wash your hands Great when its needed. Fits in a purse or in your car',\n",
       " 'Good buy. Compact and easy to use. Very useful item and small for taking in a handbag on vacation. Helpful for those times when invariable the soap dispenser in a bathroom has run out!',\n",
       " 'Colorful, nice gift ~ small, flat, portable dry soap in container Really like these portable soap containers. They are going to make perfect stocking gifts at Christmas.',\n",
       " 'Love it and recommend. Convenient and fits in purse with easy travel.',\n",
       " 'Very small and comfortable can be easily put into a very small bag, comfortable to use',\n",
       " 'Good Very handy to uave when traveling because you never know',\n",
       " 'Great product for your purse Love these',\n",
       " \"Waste of money Doesn't break down, pieces stuck to my hands, didn't come off with water. Had to rub the slimy pieces off with a paper towel. You are better off having a little travel size body wash bottle in your purse.\",\n",
       " 'Worked well Fits in pocket or purse easily. I shared with a group traveling for a missions trip a few times and only used 1-2 packets. You can actually tear the sheets in half to make them last longer. Great option for when there was no soap in public restrooms.',\n",
       " 'Residue is left They are ok, not what I expected, I don’t like the fact that they do leave a residue. So if you let a young one use them when out and about, help them out if possible they might not notice the left over residue right away until they dry their hands and they feel it gunky',\n",
       " 'OK More slippery than foamy.',\n",
       " 'DO NOT BUY!!! Do not buy these soap sheets! The sheets do not provide a good soapy lather.',\n",
       " 'Great for travel Compact and easy to use. Fits great in pocketbook',\n",
       " 'Not soapy at all These are a waste. I was so excited to get them but they don’t create any soap at all. If anything it feels a tiny bit slimy or oily/lotion-like but nothing near resembling soap.',\n",
       " 'Quality You have to use 2-3 sheets to make enough lather and then it takes forever to wash it off',\n",
       " 'Love it! Great for trips. Amazing idea!',\n",
       " 'They work! Took these on a 10 day trip to Cuba and they were life savers!! Very convenient and they work! Great price for how many you get as well.',\n",
       " \"Works great I ordered these for a trip to Israel. The bathrooms in Europe are sometimes questionable and not always well stocked. They were perfect! Small enough for pocket or purse and certainly works well in a backpack. The paper turns to soap as soon as liquid hits it so be careful not to get the pack wet. You could keep it in a ziplock bag if camping, hiking or near water The soap rinses well and didn't seem to dry my hands out as much as other soaps do, although I always use moisturizer after washing.\",\n",
       " 'Great product Love it',\n",
       " 'No good Doesn’t lather up',\n",
       " 'Never know when a public restroom won’t have soap I used to buy these a decade ago at gas stations to keep in my purse. No where sells them now due to hand sanitizer I’m pretty sure. Sometimes hand sanitizer doesn’t cut it though. Like after using a public restroom and the dispensers are out of soap or a road trip where your kid pukes in the backseat and you have to clean it up. Hand sanitizer ain’t cutting it lol. These have no smell other than like a basic Castille soap smell kind of. One sheet produces a ton of suds with very little water. Like VERY LITTLE WATER. which is nice in case all you have is a bottle of water in the car or whatever. My hands rinse clean and feel really soft. This pack has a ton of sheets. I give packs to random family members to keep in their purses too because I can’t use them all in a timely fashion.',\n",
       " 'Clean hands saves the day! Love these for your purse or pocket!',\n",
       " 'Disappointing Once these get wet they adhere to your hand and are VERY difficult to \"wash\" off.',\n",
       " \"Portable soap paper Portable and compact, fits in pocket .. They really don't get foamy or suds up and don't totally dissolve and leaves a gummy residue on your hands\",\n",
       " 'Not a Good Experience I tried it once and the soap would not break down. Multiple pieces came out and it turned into gooey globs that would not wash off. Had to use Kleenex to get it off, I’m so glad I had some. There were no paper towels.',\n",
       " \"Perfect Love these!!! Sturdy package and they close without a problem. Only thing I was meh on is the smell... It's very much a classic soap bar smell. Not bad in any way, but I prefer more perfumey or floral scents.\",\n",
       " 'Bare Essentials, Never Leave Home Without It! My Sister ordered for her birthday trip to China and blessed me with one of the disposable soaps. My daughter went to a restroom that was out of soap and I was able to use it. Perfect to have no matter where you are in the world.',\n",
       " 'Highly recommended.... I have never heard of travel paper soaps until my husband told me to buy it for his trip. These actually work and they smell good too. I gave a pack to my mom and aunt, now they want to get more. These are so convenient and all you need is water to melt it while you wash your hands. Perfect for public places! Thanks!',\n",
       " \"Must Have Very convenient. I always carry one on my purse. It's also great when I travel.\",\n",
       " 'Traveler’s best friend. I travel at least once a year and some time place don’t have soap. This is perfect for that. I can always keep this in my bag. I got it today and already tried it and It works. The sheet becomes like soap but might need 2 to get the full effect.',\n",
       " 'Light. Good for travel. Light and functional when soap is unavailable. Great for travel.',\n",
       " 'Convenient soap goes anywhere, useful for washing everything, and smells good! Very competitively priced, I love the scent, and it’s useful for anything that needs washing: clothes, dishes, hands, body, hair, etc. the portable size means you can carry one around anywhere, and since they’re not liquid, they’re TSA compliant. The different colors of the containers are fun, and can be used to identify which belongs to whom. I really like these and will buy again.',\n",
       " 'Helpful\\nReport abuse i have no dislikes, i find them very handy would recommend',\n",
       " 'Buena calidad Llegaron a tiempo',\n",
       " \"Perfect for travelling I got this product to have in the car when travelling with my 4 year old daughter.Although I have hand sanitizer and everything else, I thought this would be perfect to have when stopping at those nasty gas stations for emergency potty breaks. That way my daughter won't have to touch much of anything in the bathroom. Works wonders\",\n",
       " 'Awesome product Awesome product love the smell 😘',\n",
       " 'Works They are good for travel Container is cheap lcontainer is cheap but it product works well',\n",
       " 'Convenient Convenient for camping if you don’t have soap near by. Only complaint was the container is a little hard to open. Not an easy in out push.',\n",
       " \"Good! Great for travels! I always needed something like this, pocket size and easy to bring everywhere. Now I don't have problems to go in public restrooms. I'm always ready!\",\n",
       " \"Keep my hands clean! I'll buy the dog again. The packing is very cute and the price is relatively cheap. Because it's the most important thing to keep my hands clean! I'll buy the dog again.\",\n",
       " 'I really will buy it again. The soap itself is of good quality. My hands are small. They can make enough foam for me. It melted as soon as it touched the water. I really will buy it again.',\n",
       " \"Great mess-free-on-the-go soap Perfect product for Coronatimes!\\nI always keep one in my bag, in case I need to wash my hands and there's no soap. It's also great to make kids enjoying washing there hands with soap.\\nI even used it to wash my hand with a water bottle on a parking lot.\",\n",
       " 'Ingenious I gave these out to family and friends. They come in handy when you are out and need to wash your hands. If you have a bottle of water, you can wash your hands with these sheets of soap. They are just the right size and easily fit in your pocket or purse.',\n",
       " 'Love These work wonderfully. A little bulky bit still compact',\n",
       " \"Works perfectly So far, so good. I purchased the product, and I can't believe it really works. To my surprise, the performance of this product is so excellent. I highly doubt that it can do more than surface work.\",\n",
       " \"Does the job! I got it as a back up for hand sanitizer when I am out. Of course, as this is soap, you need water to dissolve it and rinse it clean. But during this pandemic, it's good to have it. The amount of soup from each sheet is good for an adult, and it's easy to carry around in the small box.\",\n",
       " \"Try this one! These are perfect for travel! We are taking them on our tent camping trips for convenient, compact hand soap, without the risk of leaking while in transit. They would also be great for plane travel, since there's no need to worry about liquid restrictions.\",\n",
       " 'Soap thats Dope This soap is so so cute. My kids absolutely LOVE it. I put it in their Backpacks and my Daughter and i carry one in our Bags. It does not suds a whole lot. I am used to a lot of Suds ! @.@ But, I think it still works. It is definitely better than nothing. If it is cute they tend to use it more.\\nI would buy it again.',\n",
       " 'Convenient but 2 cases broke LOVE how convenient these are, especially in our current world situation.. but 2 of my cases broke just by me trying to close them, which sucks.. and i also wish it had a hole for a keychain to make it more convenient to attatch to my diaper bag.',\n",
       " 'Soap paper?!!! Come very useful in every situation where you can’t access a sink. Just place you of these sheets in you palm and pour a little water and wash away. Do wish it would aid up more but it does the job. Has a very nice scent to them. Would be great for outdoor activities like camping or fishing. It comes with four so I make sure to always have one with me.',\n",
       " 'Not too bad Soap works really well but box is hard to open and made of flimsy material. Came in quickly. May purchase more to keep on hand',\n",
       " 'Great idea for travel Love these convenience soap with the cute package.',\n",
       " 'Very handy and important to wash hands with soap. These paper soap are such a great invention because its so important to wash your hands with soap and water nowadays. These are perfect for travel for wherever you go. I love how small and compact they are and they fit in any pocket.',\n",
       " 'Need improvement on case. Soap’s ok I used to work with young children and as Corona pandemic is such a huge impact right now, I am a wash-your-hands-freak. I thought this would be good use at the public after stay-at-home in case I need. Soap itself is good quality. I have small hands and it makes enough bubble for me. It melted right away as touched water. I attached a video. I should have put some dirt on my hand to see but, my hand felt clean after all. Definitely need lotion after The case is no-go. They came in some what dirty and I will be lucky if the top part won’t break off before I use all the soap.',\n",
       " \"i love the innovative of this product. never imagined that this is possible. i am used to washing my toddler's bum with soap and water after she poop. that goes easy at home but not when we are outside. This fits in her changing bag or in my small purse. its that small to carry. it does not turn into soap until it gets wet which i really love about it. it's like magic actually. from paper it dissolves and transforms into soap, you can just see your hands with bubbles.\",\n",
       " 'Able to be kept in my purse. I needed something for my purse, Because sometimes I cannot reach the soap in restrooms. It fits fine. The only drawback is the smell of them. It is unpleasant for me. I would absolutely love it, if I had a more pleasant odor.',\n",
       " 'Perfect! These are perfect for traveling and for carrying around. Each pod is compact and portable and you never have to worry about not having soap. This is great for us germophobes, especially in current conditions.',\n",
       " 'Makes sticky globs. Hard to dissolve. Hard to get to unlump. I found these glob up and do not dissolve easily. The best way to use them is to put one in the middle of your palm and completely dissolve it by rubbing your hands together.\\n\\nIt also tends to glob on washcloths or size or cloths or body brushes. It does not dissolve as easily as soap. I found it difficult to get out of things that sticks to.\\n\\nAnother problem is that the sheets tend to stick together.\\n\\nI would be happier just bringing a tiny bar of soap with me.\\n\\nI have to say the little cases are really cute though.',\n",
       " 'Great for kids too! Saw this on pinterest. I work outdoors. Well worth the spend.',\n",
       " 'Do not buy these Wish I had not bought these. Extremely thick and cheese like. Do not dissolve with water unless you are standing under a fireman’s Hose. Just get regular soap.',\n",
       " 'Like them I like these they are portable and easy to use I gave one to my dad, and my husband',\n",
       " 'They are basically sheets of soap I bought these on a whim thinking they were wipes and when I pulled it out I was very misled. I should have read the description better. They are exactly what it says...sheets of soap. So you do need to have water with you to use them. I tried one at home and they do take quite a bit of water to wash and rinse with as well.',\n",
       " 'Help with Covid Ever go into a less than desirable public rest room? Carry your own soap with you! One less item to touch in a public bathroom. Container weighs nothing. I have one in my purse, one in my car, one in my suitcase and one back-up.',\n",
       " 'Disappointed in product I don’t like the consistency of the material. It leaves behind residue on your hands and does not fully dissolve in water.',\n",
       " 'Exactly as described It’s exactly what it says. Works great',\n",
       " 'terrible and waste of money! The soap was terrible and smelled like chemicals and when you wash ur hands it either sticks to your hands and takes a while to come off or it turns into a ball of sticky substance.',\n",
       " 'Sticky Convenient to have on you for emergencies but the soap sheets don’t dissolve easily and they stick to your hand. You end up having to scrape the remaining goo off. It takes much longer to wash it all off your hands.',\n",
       " 'Pleased Great for on the go. Gets the job done.',\n",
       " '4/5 Good! Some little parts would stick to my hand though.',\n",
       " 'Does not work Turns to a sticky slimy almost chewed up gum like consistency. I’ve used a product just like this before that worked. Only I was in South Korea and found it at their dollar shops. It turned to suds when I used it. THIS product however has to be scraped off my hands and then I had to use a baby wipe to get the residue off. Would not recommend.',\n",
       " 'Great product Love it, comes in handy when you need it especially for kids. I keep one in my car and another in my purse.',\n",
       " \"Not worth it The overall idea of the product is cool, but the soap sheet doesn't dissolve as quickly as I had hoped. Even after it does dissolve, your hands feel sticky and you have to rub pretty hard just to get the soap out from in between your fingers. Not really worth all the hassle\",\n",
       " 'Great Product!!! Great compact and portable product. Lathers well. Great for moms on the go!',\n",
       " 'keeping hands clean these are perfect for take alongs. especially when you use public restrooms.',\n",
       " 'Good buy! Being deemed essential personnel, my coworkers were thrilled when I handed these out! Thanks for an awesome product.',\n",
       " 'Economically good purchase for clean hands anywhere! I was very happy with my purchase! Nice size for carrying in pocket, purse and car! Good price for purchase! I will buy again!!Economical',\n",
       " \"Not sure what you do with this. Not impress at all. I thought it would be good and convenient but it just cakes up in your hand and it's difficult to get off. Back it goes. Would not recommend.\",\n",
       " 'Very convenient to have in lieu of actual soap! These packs of pocket size soap paper sheets remind me of the Listerine packs to freshen your breath, except a bit bigger in size. With the increased importance of maintaining good hygiene and frequent hand washing to reduce the spread of contamination, I like to keep these in my purse and give one to my parents or to my siblings in the event that they go somewhere and it is not convenient to go to a bathroom or sink to wash their hands or there is just no soap!\\n\\nThe only thing I would like to see it improved is if there could be some additional moisturizing agents added to this. The hands do feel a bit dry afterwards but I guess that is the LEAST of your concern when you just need the grime washed off of your hands. Also, I felt like the strips did not dissolve as well and it sort of just stuck to the skin in some parts and I had to really rub my hands together so it would dissolve, even when running under warm water.',\n",
       " 'They are OK My daughter had seen a video of this ones on a social media a d she was really exited to try them on.\\nA huge disappointment came because the odor is really soft and close to nothing .\\nEasy to use and very practical if you are going out with the family.',\n",
       " 'Lie.. only 2 sheets per container, not 20! I ordered these and only got 2 sheets per each one, not 20... So instead of getting 80 sheets.. I got 8 😠',\n",
       " 'Conveniently petite Nice, small, portable!',\n",
       " 'Why can’t I add a photo or video??? So I can’t add a photo of what I got.\\n\\nMuch “cheesier” in “person”. Requires a lot of water to get it going as well as to rinse. If you don’t get all of this tiny sheet lathered it is pretty much like a glob of glue in your hand.\\n\\nIf you have access to a good amount of water sure. Think I’ll just cut a soap bar up myself and use the cute little box to keep it in before I buy more.',\n",
       " 'some times you need to clean your hands and there is no soap love that this is compact and i can put in my backpack\\nlove that this soap, sometimes you go to bathrooms and there is no soap...or sometimes you just need to wash your hands',\n",
       " 'Camping, playing, no sink around, wet the sheet with water and wash those hands! These are perfect to take with you as a adult, or as a mother. These come individually packaged, fit nicely in the purse, and each of the 4 packs have 20 sheets full of hand washing soap. Perfect to use on a outing to the zoo or petting farm, or for a adult. You can wet the paper with a water bottle if no sink is around. Rinsing the hands easy. Unlike wet wipes of any kind, they are antibacterial and do not dry out.\\n\\nI have placed my second order. These are so nice and provide a great amount of soap per towel to get all you fingers and hands or face clean. These days you can not be careful enough, and these are perfect for adventures or after the park play. Wonderful idea! Well executed and a great precaution to have with you!',\n",
       " 'Practical Hygiene Tool for On the Road! With the recent high emphasis on frequent hand washing, I’ve been looking for products to support that initiative. These little travel packs are very useful to keep in the car for my family to use. Each person just uses one of the little paper thin soap sheets with some water to clean his or her hands after leaving a public place. Then we bolster that level of hygiene with some hand sanitizer. I like it that there are 4 travel cases, so we put one in each vehicle and one in my purse. We’re now covered wherever we go! They’re practical, effective, very important under pandemic circumstances, available, and affordable! This momma/grandma is resting easier now.',\n",
       " \"Impressed I did not have high expectations for these, I thought perhaps the soap would not lather much but I am wrong. I am impressed. I was able to get a lot of lather and didn't use a ton of water. The only thing I happened to notice was it kind of stuck to my hand a bit so I had to scratch the residual off my palm but I think that was more my lack of using enough water rather than the soap itself. I am looking forward to using these while hiking, traveling, and of course to help prevent the COVID-19 virus.\",\n",
       " 'Reseña Excelente producto súper accesible y práctico',\n",
       " 'they are nice like them',\n",
       " 'Sheets Of Hand Soap! This is a very unique idea. Who would have known that it was such a thing? Thank you!',\n",
       " 'Bien práctico Son muy funcionales, los llevo en mi bolsita con mi mascarilla y los pongo en mi cartera',\n",
       " 'Smells good, but is super thin, so not sure how much it cleans Got this due to the recent covid situation\\nPros:\\n+ easy to carry in small pouch\\n+ smells good\\n+ easy to use (take a sheet, wet it and rub your hands.\\n\\nCons:\\n- very thin, one sheet does not seem to be enough to wash my hands. I tend to use 2 or 3 sheets to get enough foam action going.\\n- not sure if it does a good job sanitizing\\n- price wise it is a bit more expensive due to the fact I need to use 2 to 3 sheets at a time.\\n- not refillable.',\n",
       " \"Convenient and discrete These work perfect! Just one little soap paper is enough to lather up adult size hands. All you need is water and you're good to go! The dispensers are cute too. I put a pack in my husband's work bag so he has access to soap for his hands at work when the dispensers havent been filled. I will also give a few out to the grandkids. Just wet your hands , rub a soap paper between your hands to lather up, then rinse.\",\n",
       " 'Perfect Good for on the go',\n",
       " 'Fits in purse or pocket easy to use with little water. Liked packing',\n",
       " 'VERY useful product I’ve never used this before but I love it. Very useful to have right now especially when out and about running errands, gotta keep the corona away! Hand sanitizer isn’t 100% sure to remove the gunk off your hands, and if you’re eating you don’t want the taste of that stuff on your hands. A little water goes a long way for these sheets. The smell is kinda rosy/floral too! Ended up giving a few cases to my mom and siblings so they can be prepared too :) thank you for a great product!',\n",
       " 'Pocket soap Nice small easy to carry',\n",
       " 'Not practical to use Left an sticky sensation in hands and some residue dificult to remove.',\n",
       " 'Perfect for on the go Perfect solution for when a public restroom is out of soap! Gave one to my sister & mom, they loved the idea of them! Kind of hard to close them thou, only downside!',\n",
       " 'Not a good batch Soap takes a lot of water to fully dissolve. I had to use a full 32 oz water bottle to dissolve soap fully. It became very sticky and would not come off or dissolve. Not sure if I got a bad batch . I’m hoping the rest aren’t like this.',\n",
       " 'Item Worth it',\n",
       " 'Just ok Just ok',\n",
       " 'Convenient These are great for travel, I keep one in my purse. They don’t dissolve in your hand as fast or as easy as I thought however it’s still a great thing to have especially when you’re somewhere that is out of soap. Love that it comes with so many',\n",
       " 'Good deal! They work great. However those I received were different colors than was shown. That was the only disappointment.,',\n",
       " 'Good quality! Pretty accurate!',\n",
       " 'Poor arrival time. Arrived throughly dried out.\\nReady for the Garbage upon arrival after 4 months.',\n",
       " 'Very good deal for the price; excellent for grab bag gifts. Excellent for on the go. Worth the price. Great for your purse or pocket.',\n",
       " 'Thank you Great product',\n",
       " 'Will buy again Great product. I gave all my colleagues one each. The only downside is it took over a month to arrive from China.',\n",
       " \"Great option for travel These little containers contain 200 sheets of dry soap that melt and lather when water is added.\\nTo get a good lather, you will need a couple of sheets but one sheet will leave you feeling as though your hands are nice and clean.\\nThis is a great option for travel, since they are dry sheets they can be packed in a carry-on and it's nice to know that you can throw them in a purse or pocket and never find yourself without soap when needed.\\n\\nI purchased several for a group trip and it worked perfectly for each of us to have soap available at all times without having to carry around liquid soap. They are easy and convenient and they smell great and in a pinch, you can use a sheet or two with some bottled water and get great results.\\n\\nOverall, I recommend this product, it's a great option for travel or just for keeping in your car when needed.\",\n",
       " 'need more than 1 piece to get a bubble these are really convenient for camping or a fast handwashing at the car with only a bottle of water, but you really need 2-3 pieces to get a bubble going',\n",
       " 'Piece of c r a p Not much lather but is functional. Case is made very poorly! As soon as you open it the case separates and is impossible\\nTo get back together',\n",
       " 'horrible horrible. it was extremely sticky',\n",
       " 'Perfect for front line workers I used these in car packages for front line workers during COVID-19. They loved them.',\n",
       " \"Smell Good And Cleans These are cute and convenient. The smell is nice and my hands felt squeaky clean after using one.\\n\\nI do wonder about the longevity and what temperatures they should be stored at because there are so many in a package, I envision these lasting for a long while. For now I'll just guess a room temperature place.\",\n",
       " 'Quick and effective Great for quick use!',\n",
       " 'Handy Great to carry with you',\n",
       " 'Don’t waist your money on this I’m a delivery driver and was really excited about these so I could wash my hands in my work truck.. but they didn’t work like I thought they would. Felt more like glue then soap.',\n",
       " 'Nice product Love the convenience of having soap in a nice compact case.',\n",
       " \"Convenient paper soap Tested one sheet--suds everywhere!! Rinses quickly and cleanly! Light rose scent DOES NOT linger on the skin. The sheets slide out easily and don't stick together. The travel case is small and relatively flat. Easily fits into small carrying spaces and very portable. Great value for the money as there are 4 containers with 50 sheets per container. I've already mailed out 2 to family members and may just order another set. Very pleased with this purchase. Would recommend.\",\n",
       " 'Great product! Travel size soap sheets! I absolutely love this soap. 200 sheets, nice packaging, travel size soap sheets. Sheets literally melts/dissolve when activated by water. Has a foamy lather and creamy/lotion texture. Great smell and does not try out hands. Great for using during the pandemic after leaving the store.',\n",
       " 'Neat and perfect hand soap It’s perfect got it for my daughter diaper bag and one for the purse on the go',\n",
       " 'So portable and easy to use! Great for travel or camping! Fast shipping, great product for travel, camping really anywhere! Especially right now during the pandemic.',\n",
       " 'Just as described I actually purchased just because I had never heard of paper soap but to my surprise they came in handy. It only takes one sheet to put suds on your hands. I have some in every bathroom. Everyone who has visited and tried them love it .',\n",
       " 'Will definitely buy again!!! We love this product! Will definitely buy again! We tried to use this paper hand soap while outside, just added a little water and it worked really well. We initially were expecting it to be somewhat as sticky as hand sanitizers, but it turned out it be really impressive. Hands are cleaned and we were all very happy!!!',\n",
       " \"Convenient Fits perfect in my bag. I'm glad I purchased it.\",\n",
       " 'Great to have during the pandemic It’s really useful for camping, hiking or any outdoor activities. Just use a little bit of water and it works like a real soap.\\n\\nIt’s small, and easy to carry so it doesn’t take any space or weight in the purse. The scent is mild, not strong or annoying.\\n\\nIt also works great for washing my kid’s hands after playing in the park since the sanitizer doesn’t wash off mud or sand.\\n\\nCons: The container which holding the soap is made with cheap plastic. However, for the price I’m satisfied with it. It also does its function without any problems.\\n\\nOver all I think it’s a great alternative to have during the pandemic. It’s a must-have for camping or if you have kids.',\n",
       " 'Love this product! I had never heard of paper soap before, but with COVID and the need to constantly wash hands especially if away from home I got these after someone recommended it. It is very convenient especially if at a park or somewhere outdoors. Highly recommend.',\n",
       " 'Love love love. 4 packs of 50! Great for keeping in your purse, diaper bag, car, on the go!',\n",
       " \"Amazing for little ones I dislike using hand sprays during this COVID-19. I like how great this is to know you're cleaning the germs while not having bulky soap!.\",\n",
       " 'Love I love this little paper soaps! They come in really cute and convenient to carry packaging. This is perfect to have with you at all times especially now during Covid. You get a lot in the pack so it’s well worth the money. I will definitely be repurchasing',\n",
       " 'Perfect little soap strips These are adorable and very functional. They are slim little packages ghat fit in your pocket or purse. Each comes with individual strips of soap that you can use on the go. These would be perfect to send with kids to school as well so you know they are always washing with soap.',\n",
       " 'This papwr soap is fabulous and a necessity during this pandemic! These paper soaps are neatly packaged and easy to carry. They lather well and rinse clean!',\n",
       " 'Great when traveling and keeping germs away Ordered before I was heading out on a vacation with small children and these little gems worked out great. Takes up no space and the container is too cute.',\n",
       " 'Great buy  These are great for picnics , going camping , to the grocery store.etc',\n",
       " 'Great for kids in school! I purchased this product for my girls to take to school if needed. It is very compact and convenient! It can be carried in their backpacks or pockets. They love these! I recommend these for everyone on the go.',\n",
       " 'Convenient/ good price! Great',\n",
       " 'Great little item! I used one today at work when there was no soap in the break room. Lots of lather!',\n",
       " 'Extremely Satisfied This product is very handy perfect size and works well',\n",
       " 'Convenient I would most definitely purchase this item again. It came in hand, especially with having grandchildren and most definitely with Covid-19. I shared with other family members.',\n",
       " 'Much needed! This product is great for trips to the grocery store or other outings, especially during a pandemic. I keep one in my bag to use as needed.',\n",
       " 'Great for your sports bag! I love these paper hand soaps. They are perfect for when we go to the soccer fields. Sometimes there is no soap and these fit perfect in my daughters backpack and my purse for when you it.',\n",
       " 'Great alternative when traveling I purchased this for the time when traveling or when my toddler has to potty and there is no soap to wash our hands. Great alternative! I would use two sheets as an adult cause I like a good lather. Definitely have one in the purse and one in her bag with two to spare!',\n",
       " 'Worth it Really liked the product. Works as if your actually in a restroom washing g your hands. Perfect for my job',\n",
       " 'Get it!! Perfect for my family and me, especially now! Great purchase!',\n",
       " \"Hand washing is important Prior to the pandemic I have been crazy about washing hands so as soon as I saw this I knew I had to have it. Sometimes you're on the road and there are places that do not have soap you need these. They come in handy, they suds up and you can wash off pretty quickly.. when I run out I will for sure purchase more.\",\n",
       " 'The paper hand soap is very much needed at this time. (COVID) I AM VERY SATISFIED WITH THE PRODUCT. A+++++',\n",
       " \"Paper thin and effective Super convenient for when you're on the go. I hike a lot and these come in handy when I'm ready to eat, or after using a nasty porta potty!\",\n",
       " \"GREAT FOR ON THE GO This is a GREAT IDEA for on the go, whether you're shopping, fishing, camping, at work or just with the kids because we know how easily our hands get dirty doing anything\",\n",
       " 'Lovethem They work great. You don’t even need a whole sheet to get good suds!',\n",
       " 'Great to have! Now days this is needed to have in hand. I love the way it is small and fits in your pocket. Also, how the soap dissolves, leaving your hand clean.',\n",
       " 'very convenient This product is very useful and convenient. Perfect for on the go cleanups',\n",
       " 'GREAT!! They are perfect to carry when no soap is available especially now during Covid-19 and work great!!',\n",
       " 'Hand washing on the go This was a very smart ideal! The soap is now in my purse as it is compact and you can use anywhere. With the current cycle of events we can wash our hands anywhere (I alway have a bottle of water in the car). The accessibility of having soap on the go just makes my heart happy. I would recommend...I bought several and have been giving them out to family and friends',\n",
       " \"Very Convenience I purchase this product for my daughters. They can use it in school if there is no soap in the restroom. It is very convenience and easy to keep it in your backpack or pocket. It's used like real soap\",\n",
       " 'Great to have Nice and handy to have in car or purse when on the go.',\n",
       " 'Paper Hand Soap Excellent product!!!',\n",
       " 'great product very handy during this time!',\n",
       " 'Awesome product Awesome product. Easy to use. Son enjoys using them as well.',\n",
       " 'Very Convenient!! This product is so cute and very convenient. Fits in any purse I tote. Which I take with me everywhere, because everywhere won’t have soap on hand. Also this soap leaves your hand feeling soft and smooth. I have given a pack out to my daughters and husband to have on hand 😉 I’ll be purchasing more.',\n",
       " 'Easy to use This is such and easy and efficient product! I keep this in my purse. Perfect for times at the park with the kiddos when there is no where to wash their hands. I always keep a water bottle with me so I just pour a little water of the little soap paper and it suds up just like normal soap! Best invention ever!',\n",
       " 'Whole family loves these Handy to carry with you at all times and works great. Not messy so easy to throw in your purse or bag.',\n",
       " \"this soap actually work & handy I was'n expected this but it foams up and is the perfect amount of soap. This is definitely come in handy at festivals, camping trips, or just to have in case wherever you go doesn't have soap. great as gifts too.\",\n",
       " \"A must have! Paper hand soap is such a great product. It is a must have when you're on a road trip or camping where you might be able to have access to water but not soap unless you bring your own. I used to carry those hotel provided small soap with me on camping trip, yet once it gets wet it's a mess to store or carry around. Not with a paper hand soap though! They come in a small plastic case, which is compact enough to fit in your pocket. It's easy to just take one sheet out, and it forms into bubble easily with just a little bit of soap. Very easy to use. The only complaint I have is that the case is a bit difficult to open, hope that can be improved in the future. Other than that, this is a great product and I will definitely buy again.\",\n",
       " 'Love this product! Awesome product. Very convenient and love the cute packaging. Great price as well.',\n",
       " 'Compact and convenient Really like the convenience of these. Very surprised at how much lather I got from it. Doesn’t dry my hands out like sanitizer does. Great product!',\n",
       " 'Love it Love this product, smells good and leaves your hands soft.',\n",
       " 'Highly Recommended I bought this for work because it’s better to pull a sheet from my purse or pocket than to touch the soap dispenser that everyone else might be touching. This product is awesome it works like soap should and the smell isn’t bad either I recommend this to you all',\n",
       " 'Great! Great! Great! I love the product. It’s so convenient to have when my family and I are on the go. I totally plan to order more.',\n",
       " 'paper soap sheets love the product, will buy again',\n",
       " 'Must buy I love them Great for on the go',\n",
       " \"A must have! Great investment with covid19 around. A lot of businesses don't have soap to use & I keep my soap with me whenever I go out.\",\n",
       " 'Love these! Perfect for on the go. Lathers perfectly with just a little bit of water. I have these in my car they are the perfect size to carry everywhere especially during these times.',\n",
       " 'On the go washing❤️ I love these soaps and the packaging is so small that I can fit it into my wallet for on the go. I give them out as gifts.',\n",
       " 'Works great So handy have one in my diaper bag and my purse, great to use while out and don’t have hand sanitizer or a bathroom around to go wash your hands.',\n",
       " 'Works Great! Will definitely purchase again. Great product. Fits perfectly in my bag or my kids lunch boxes and works wonderfully. Will definitely purchase again.',\n",
       " 'Handy and compact Love how compact it is and I can take it with me everywhere. It has come in handy when no soap is available in public restrooms.',\n",
       " 'Convenient Love these. So convenient to pop into our diaper bags and strollers. So nice to be able to truly wash hands with just a splash of water. Much better than using hand sanitizer all the time. Fragrance is nice and not too strong.',\n",
       " \"Great Idea! I ❤ These!!!!! This is a GREAT item for EVERYONE during this pandemic. I should've ordered more.\",\n",
       " 'Super convenient! Very convenient alternative to hand sanitizer! I travel for work a lot, and I appreciate this super convenient option.',\n",
       " 'Excellent product I would definitely recommend this product specially in these times when u need to do frequent hand washing . This is so far the best purchase I have ever made . Highly recommended.',\n",
       " 'Great to travel!!! This product is the best when traveling. Gets the job done. Keeps your hand nice and clean.',\n",
       " 'A Must Have So needed to help keep hands clean during the pandemic!!!! I love this product and its a must buy!',\n",
       " 'great product great product',\n",
       " 'Awesome product! These little soaps are a life saver! And they are so convenient too. I have one in my bag, the diaper bag and inside my husbands lunch box. Great buy!',\n",
       " 'Must have for purse and car I did not feel comfortable eating in my car after just hand sanitizer. I got this and it has worked great for those situations. Great to keep on hand!',\n",
       " 'Just add water!! This is perfect, especially now. Just add water. Has a great rose scent to it.',\n",
       " 'Easy to use Simple and easy to use.',\n",
       " 'Worth it! I absolutely love these. Not only are they adorable and compact, but it does the job! Especially in growing times, having soap in your bag in case you need it is important hygiene. It also helps me prevent having to use any public soaps that require touching.\\n\\nThe soap itself is nice and I like that it doesn’t have a strong scent.\\n\\nThe price point is really affordable, especially when you get 4 of them. I have one in each bag (for school, work, etc). Will definitely recommend this to my friends and family!',\n",
       " 'Perfect for on the go! This paper hand soap is perfect during these times. Small enough to keep in your bag and easy enough to clean your hands.',\n",
       " 'Great product Easy to use and store.',\n",
       " \"Very strong and perfumy fragrance Great when in need of soap, however the fragrances are awful and really strong. I'm actually going to be giving them away as gifts as the fragrances give me a headache.\",\n",
       " 'convient I got 4 and i gave 1 each to my kids and they as well liked them, especially with this Covid going on we can wash our hand anytime and not have to worry if there is soap at any store when we go out.',\n",
       " 'Quick & Convenient on the Go Handwashing In these times of COVID-19. Handwashing is the #1 way to protect us from contracting the virus. This product makes it possible to keep your hands clean and germ free even on the go. I keep them in my car and purse. Keep a water bottle handy.',\n",
       " 'Great soap on the go! This soap is great to have in your purse or pocket and use while you on the go. Especially if you have small kids you are out and they need to wash their hands.',\n",
       " 'Sudsy!!! I was very skeptical about the soap sheets. I was surprised at the about of lathering the soap produced when activated by water. Where I travel, a lot of times the rest rooms do not provide soap. Even though I have hand sanitizer, I prefer washing my hands with soap for thorough cleansing. The size is very convenient. These soap sheets will be the major item I will pack when I travel again.',\n",
       " 'Great Product This product is just as it has been described. This a great product to have soap on hand it is very convenient to carry to place in your pocket. I have shared with family members and plan to order more.',\n",
       " 'Very good to have on your person during these days and times!  I absolutely love these little guys they are so convenient to carry along with you to keep your children from touching public fixtures.',\n",
       " 'Cute pocket side',\n",
       " 'Doesn’t leave hand feeling sticky Cute hand soap that fits in my purse',\n",
       " 'Great buy! It was exactly what was described.',\n",
       " 'You need to purchase this soap So handy and useful. I need to have soap on me at all times working in a jail and this paper soap is perfect! And snells nice.',\n",
       " 'We love the compact size without all the scents. During this pandemic this product helps us keep our hands clean without all the other chemicals that other soap have and it is easy to use without all the mess. The paper soap is easy to get out of the container. The fit nicely in purses, backpacks and pockets.',\n",
       " 'Great! Great product !',\n",
       " 'Convenient These are the perfect little containers to throw in a purse, pocket, backpack or just leave in your vehicle. Never worry about a restroom being out of soap! I love that they are convenient and I can throw them in the glove box! With two wild country boys they come in very handy!',\n",
       " 'Cuteness Super cute small enough stick them in your pocket when you out outside with no running water you can get a bottle of water put the soap in your hand and wash your hands very cute.',\n",
       " 'LOVE IT! It exceeded my expectations! I wasnt Expecting much from this product honestly but it’s actually pretty handy and easy to use!',\n",
       " 'Super convenient. Very convenient when you’re on the go. It’s easy to keep yourself and your family clean.',\n",
       " \"GREAT PRODUCT! I love the compact size. This is great when I'm on the go.\",\n",
       " 'Great Product!!! Perfect for on the go. Hand sanitizers can be very harsh but this is a great alternative. Just a little water and the sheet dissolves in your hand. Was pleasantly surprised how well this product worked. Great value for the price!!!',\n",
       " 'Pleased This a great product to have with you if you’re always on the go. I am very pleased with it and I do plan on purchasing again in the future!',\n",
       " 'Portable and easy Great item!',\n",
       " 'Great Item Always being on the go with my son and my two grand kids, something like this is a MUST with ALL the germs going around. So glad I ran across this item!',\n",
       " 'Good to bring it on the go. Very convenient. Bring it everywhere especially to the parks where you usually don’t find any soups.',\n",
       " 'Perfect for on the go! I love these handy soap sheets when I travel. They smell good and work great.',\n",
       " 'Awesome! Awesome product. Very convenient.',\n",
       " 'Good for on the go My husband uses this product to wash his hands when he’s at work and when We go fishing. Definitely gets the job done.',\n",
       " 'Great purchase I bought this for my daughter so that she always have soap on hand especially due to the nature of Covid. Do be careful not to touch while hands are wet then they stick together.',\n",
       " 'Ellocy paper hand soap Great design, like the gentle fragrance. Soap paperbis in proper size, small enough yet proper amount for hand sanitize. Cute container for eady store in any pocket .',\n",
       " 'Lathers Up Well!!!! Lathers up well...for when out have a way of washing hands',\n",
       " 'Cute cases Very cute and portable. Especially useful for kids to wash their hands outside.',\n",
       " 'So easy and useful Love how portable these are and oh so cute! They come in handy when you need soap!',\n",
       " 'Good soap The product works well, would buy again!',\n",
       " 'Definitely recommend a must buy !  These are very convenient especially with the COVID-19 going on these are handy I carry them in my purse very useful gives you the right amount of soap. Definitely recommend these I would purchase again.',\n",
       " 'Great product Great for the price',\n",
       " 'Great for traveling I bought for my boys to use while they are in school..\\nSo far so good!',\n",
       " 'Excellent soap on the go This product is great to keep in your purse or gym bag , diaper bag or car. You just add a little water and you have soap. It’s been very helpful during this time.',\n",
       " 'Convenient at outside 👍 Good quality very convenient\\nI like it',\n",
       " 'Great soap I was pleasantly surprised by how well the soap works and feels.',\n",
       " 'Super easy to use love it so cute and easy to use',\n",
       " 'The unthinkable I love love love this compact soap. Excellent for traveling and to have in your purse or car in times of need. Works great!',\n",
       " 'Well worth it. Love it !',\n",
       " 'Perfect for on the go! Love these!',\n",
       " \"Good for Covid prevention With Covid still strong in my area, I carry this soap in my purse and leave a big bottle water in my car so my family can wash hands anytime without going into some public restroom. It's cute, easy to use, and very foaming. Exactly what I expected.\",\n",
       " 'Love this!!  Excellent product for washing your hands on the go. Purchased for my granddaughter that’s currently in basic training to use when in the field.',\n",
       " 'These are a must during Covid 19 Restaurants, stores or travel, have these with you and never have to use a soap dispenser while you are away from home.',\n",
       " 'A must have! Buy this ASAP! I have been so excited to try this paper hand soap. The container is small and compact so I can throw it in my purse, car, backpack or pocket. You only need a little water for it to work. It produces a nice lather too! There really isn’t a smell which is nice. I have told all of my family and friends about this product. It’s so convenient to have. A must have for everyone!',\n",
       " 'Handy soap Best idea since sliced bread!!',\n",
       " 'Poor quality they really arent what they seem to be.',\n",
       " 'Great value, convenient and works perfectly! Not going to lie, I was a little skeptical at first but I absolutely love this product. It works great. I never have to worry about not having any soap esp when I need it most. I am able to carry it with me everywhere I go. The little cute dispenser fits in my purse and is even thin enough to fit in my wristlet. Will buy again.',\n",
       " 'I love it I have tested out the sheets and it does lather up very well. Everyone in my house hold carries one with them at all times. I am happy with this product and will definitely buy it again.',\n",
       " 'You will absolutely LOVE this product. This small item does the job!',\n",
       " \"Perfect on the go soap during this time! During this pandemic I've been trying to be extra careful and didn't want to be caught in our work bathroom after our soap dispenser ran out. So I bought these and they were the best idea I have ever had made to purchase. They lather up well and the smell is a nice clean light scent.\",\n",
       " 'Works well for on the go handwashing Cute packaging. Fun to use.',\n",
       " 'Convenient Lathers well and no scent to the soap. Recommend this product. Great when public restrooms run out soap.',\n",
       " 'Good great product',\n",
       " 'Great Product!!! Great for on the go. Exactly what I wanted! Since it is so hard to get hand sanitizer these days I decided to take a chance on these. Always have option to wash hands. What a amazing invention. When I want something a bit more than just hand sanitizer this is my go-to.',\n",
       " 'Convenient and keep your Hands washed with soap Although there are soap provided in most of the places, this paper soap came in handy when you need it. Very easy to use to wash your hands. Love it!',\n",
       " 'Love!! Super convenient!!!',\n",
       " 'Awesome product!! This product is great to have on hand especially in a time like this. It’s small, compact and convenient! It can fit in my purse, pocket, honestly anywhere! It also smells amazing! Love this product!',\n",
       " 'Great compact Love that I can carry it in my pocket and make sure my son gets to wash his hands properly.',\n",
       " 'They are great~!!! They are great. An outstanding product!!! Lathers very well. The product is being used for washing my hands while traveling for work. Have one each to my family members and we all carry this with us. Very cute convenient! Really nice product and leaves hand very soft after use and also foams a lot when washing your hand.',\n",
       " \"Bought these for my kids I bought these soap sheets for my kids for when they go back to school. I don't want them to use the soap in the bathrooms. My kids don't like the smell of hand sanitizer. So these were exactly what I neede. I tried it out to see if it works well and it does.\",\n",
       " 'Happy nurse I just love these strips. They work exceptionally well.',\n",
       " 'Really does work! I have been having pain and inflammation on my feet and legs for a couple of days. So I gave this a try. Was skeptical but personally did work for me! It can be easily attached, just wear socks to put the patch in place. I used it when I sleep, then the next day I saw an improvement in blood circulation in my foot. The inflammation was gone, it no longer hurted. Really does work!!',\n",
       " 'Perfect for outdoor activities Perfect size to carry in your pocket or purse. Great for on the go or outdoor activities!',\n",
       " 'The best ever Loveeeee it. It works so well.',\n",
       " 'Great value Turned to soap quickly and great to have on the go!',\n",
       " 'More convenient It’s more convenient whenever I’m on the road',\n",
       " \"Great for these times portable mini soap sheets These times we have to keep our hands every time clean. These travel portable soap sheets are wonderful for those moments when you must to wash your hands but don't have where. Just use these sheets. You will be absolutely impressed. Affordable price\",\n",
       " \"Great It's a good product came in a nice package box it works perfectly I had my 4 daughter try it herself and it works perfect when she was washing her hands\",\n",
       " \"Convenient and portable! This fine soap sheet is thin and the finish is dry, so it doesn't stick together. It is about the size of a credit card, and if you add a small amount of water, it immediately turns into soapy water and you can wash your hands. It doesn't feel dry or tight even after rinsing it clean. This is suitable for all age groups. Obviously they should be kept dry, but besides the considerations, these soap sheets are convenient and portable.\",\n",
       " \"Loved it's convenience I loved the convenience of the product. I can use it for when I need soap when I'm outside. It’s really good to have it with you these days because you constantly need to take care of yourself and your hygiene. With these I can be extra safe, this comes in handy for that!\",\n",
       " 'Suds up nicely! I bought this for a recent road trip to have peace of mind in case I needed soap at a rest stop. The packs are small enough to fit in a pocket or purse. One soap sheet provides enough suds to thoroughly wash your hands and leave them feeling soft and clean. At first, I thought the soap had more scent than I prefer, but after using it, my hands had a pleasant clean smell. I highly recommend this soap!',\n",
       " \"Great little product Great little product. My husband and I took a little scenic road trip today and brought these with. Perfect for rest stops and to use in the car after eating. We've very diligent with keeping clean during the pandemic. These are tiny and so I have one in my purse and I'm keeping one in the car. Nice idea with a lot of soap sheets in each. Even got my husband using them.\",\n",
       " 'Goood ~~~!!!! As expected. Very handy. Love this item. Thin slices of soap for on the go. They smell good. It is so convenient to carry. I would order again. We all know that in the times that we live in are more for washing our hands are for sanitizing and washing our hands!!',\n",
       " 'I Love These~~!!! Haven’t tried them yet but looks good for now. These are really cool.. Great for on the go!! Love it. Excellent when traveling to places where soap is no available in their bathrooms.',\n",
       " \"I'm willing to buy it again. It can also be used in airplanes with liquid restrictions. It's a big advantage. With a little water, you can use it anywhere, and you don't feel sticky or fresh after use. I always feel as fresh as I do after washing my hands. I'm willing to buy it again.\",\n",
       " \"This reminds me of my childhood This little paper soap is easy to carry with you wherever you go. Washing hands with good soap is also important to prevent COVIDs that are now prevalent. One sheet of soap is enough to wash your hands, but it doesn't matter if you use two to three sheets. This reminds me of my childhood when I traveled with my family. The memory makes me laugh. I think I bought this well.\",\n",
       " 'Love! We really love this product. So easy to use and smells great. It’s so convenient to have during these times were washing hands is so important. My daughter loves hers to.',\n",
       " 'Love! It has come in handy multiple times. Perfect after any outdoor adventure or bathroom with an empty soap dispenser.',\n",
       " 'Great product~!!! Good smell~~ Helpful directions to use!\\nVery very convenient to have and use~^^\\nExcellent when traveling to places where soap is no available in their bathrooms. Love these for your purse or pocket! Perfect to have no matter where you are in the world.',\n",
       " \"great for travel ~!! I was hesitant to buy these.\\nThe scent is really light and it literally dissolved in your hand. it's not too harsh on the skin.\\nThese are perfect!\",\n",
       " 'Convenient!!!! Paper hand soap comes in handy, my girls carry them in their bags when out and about incase there is no soap available. They also will be going to school with these. Definitely a must have!',\n",
       " 'Too basic . Eh I just got it , tried to they are ok they do suds well but they have no scent or anything so they truly are simple however depending what you were doing the smell on your dirty hands doesn\\'t really go away . I was at the gym sweating etc . My hands are a tad dried out after using these and still doesn\\'t smell \" clean \" so I just ordered the \" foamin \" scented soap sheets I\\'m sure I\\'ll be happier with them .',\n",
       " \"If the scent was stronger These little soaps are one of the coolest things I've ever seen. It's small and light, so it's easy to carry and use. Good for traveling or traveling. My small, soft hands smell good. But it would be better if the scent was stronger. This review will help the seller, right?\",\n",
       " \"It doesn't irritate my skin I have sensitive skin and it doesn't irritate my skin. Actually, this item is not what I bought. It was bought by my husband and I wrote a review for him after using a sheet of soap paper. I think this is really convenient and good. It doesn't irritate sensitive skin like me. I hope everyone will try it once. I admit it is that good soap.\",\n",
       " \"I need at least two copies. Soap sheet...I don't have enough paper sheets. My hands are dry, so I need at least two or three sheets. This little soap smells good, too. I don't think it would be good to just look at the outside of the soap sheet after receiving the product, but it's good. It's a twist. This soap is good for kids to play with bubbles.\",\n",
       " \"This is really nice This is really nice. They melt well in cold water and create bubbles. They work better in warm water. It's perfect for transportation. I hope there are many useful products in human life. I will give you five stars. After that, I will write it again and leave a review or not.\",\n",
       " 'Very handy for a quick hand wash. This is one of the best products I have purchased. Especially for the summer. With this covid-19. This is perfect. My girls love it. I put one in the car. Must girls carry one in there bag and I keep one in my bag. Will be purchasing more in the future',\n",
       " \"Used. Opened. Wish it wasn't. I wanted to like this product but the ones I got were used. You could tell that 3 out of the 4 were opened. One was used. Just a bad buying this time around.\",\n",
       " 'Perfect on the go  My family and I travel a lot and we’ve found this product to be helpful in instances when you find yourself at a pit stop (or anywhere) that’s out of soap. Small enough to carry in a wallet and great for keeping little hands clean. Overall, this product is a valuable addition for anyone who likes to be prepared. Highly recommend ☆ ☆ ☆ ☆ ☆',\n",
       " 'Ellocy Offers a Great Product The paper hand soap is an innovative product at a great price. Very pleased with my puchase.',\n",
       " 'A MUST HAVE!!! I am so glad I bought these adorable little soaps! Especially during these crazy Covid times! I always have water bottles in my car so all I need to do is take one out of my purse and lather up and rinse. These things really lather up! Especially Great for those dreaded Porto potty visits when you have no choice. Would def buy again :)',\n",
       " 'LOVE! I absolutely love this paper hand soap. It is so convenient and perfect for on-the-go cleaning needs. It is a must-have product in my purse at all times, especially during this pandemic we find ourselves in right now.',\n",
       " 'Super convenient to use! Can keep in your car and purse! This product is easy to use! The paper hand soap wash is think but wash as good as using liquid soap. I would definitely buy this product again! The best thing about this product is that you can put it in your car or purse.',\n",
       " 'Definite must!! Absolutely love this product, perfect when on the run. Highly recommend it.',\n",
       " \"I would recommend Love it! I was worried that it could be a bit small for the bar soap I have, it fits! I'm happy with this. Good price n quality! . They have held out well both during travel and once they are unpacked. Haven't had any issues with anything breaking or warping at all.\",\n",
       " 'Easy to tote and use! What a great product! This 4 pack is perfect for all of the kids to throw into their backpack with a bottle of water for fast and easy cleaning. I would definitely recommend to others and I plan to buy more for my car and my purse.',\n",
       " 'Great product!!! Love this product, works great when soap is limited! Great idea!!',\n",
       " 'Perfect pocket sized hand soap During these pandemic times this is perfect! Small I’m size making it convenient for the pocket or the purse. I personally ordered this for our camping trip & I was happy I did so! Easy to use and cleanses well. A true gem!',\n",
       " 'Love it They fit in your purse.\\nEasy to use\\nGood for on the go',\n",
       " 'Great product for travel!! Soap in a single use package is super smart and convenient. This is a great product for those who are traveling. No need to use the hotel supplied soaps anymore. This is a nice small dispense that easily fits into a bag, suitcase or purse to take with you. Highly recommended.',\n",
       " 'Perfect for On the Go These soap strips are perfect for bringing with you anywhere. They fit perfectly in your purse/bag/pocket whatever. They lather nicely and smell ok. These are a great alternative to carrying sanitizer around. I wold recommend to anyone. I bought multiples to give to my mother, sister, and coworkers. everyone loves them',\n",
       " 'Easy and awesome So convenient and easy to use! Great product for\\nthese times.',\n",
       " 'Perfect to keep in handbag or diaper bag:) Great product!!!',\n",
       " 'Great Please come in a nice cute convenient little package easy to use really happy with the product',\n",
       " 'Handy!!! Perfect when you feel you need to wash your hands!!! Really like these portable soap containers, Great for trips. Amazing idea!',\n",
       " 'Quick and easy hand washing We use these for the beach and have extras in the car just in case we need them. Smells good, kids love them and they are super cute. Easy way to get kids to wash their hands.',\n",
       " 'Great! My husband went on a backpacking trip and they came in very handy!',\n",
       " 'Easy to use/great for kids I bought these to keep in my purse for the kids and they work great! They smell good and give off plenty of suds to keep your hands clean. Super easy to use, great in a pinch for camping or outdoor activities.',\n",
       " 'Works well I thought these would be a great item to have with the current virus. Hand sanitizer isn’t always available and these are so convenient to carry in my handbag.',\n",
       " \"A must in this day and age for travel! This product is amazing to have real soap on 'hand' for any time - just pull out a sliver and pour bottled water on your hands and have a proper hand washing! For someone who travels, it's great to have them on hand for those times where the restrooms are out of soap. Definitely worth buying these!\",\n",
       " 'Great to carry in your purse. So glad I got these for the start of Softball season. These are so easy to use! Highly recommend for your bag.',\n",
       " 'Great buy! I like this product a lot. The size is perfectly portable, you can pop it into any bag, pocket or keep handy in your car. The sheets make a lot of suds when they are wet. Will definitely buy more.',\n",
       " 'Great product. This product is great for traveling and on the go. Each paper soap lathers really well too! Love this product!',\n",
       " 'Super handy to keep clean especially with traveling and sports. This is great when you are on the go. So small I keep one in my purse, one in my car and one in my sons lacrosse bag. We are going on a road trip soon and will be bringing them along as well. Highly recommend.',\n",
       " 'Easy to use These are perfect when you need clean hands but don’t have soap! Add water and you’re ready to go!',\n",
       " \"Great product at the right time I wasn't sure what I would actually get when I purchased this and how well it'd work but found the product a delight. The packaging is cute and the papers are wafer thin and non-greasy. It's easy to use and has a wonderfully mellow smell - pleasant and not over-powering. A must-have for me -especially when I plan to go out - short or long distances.\",\n",
       " 'Great for on the go and little hands! This are awesome!!! So great to have on hand. The packaging is small and thin so your able to tuck into your pocket if need be. These are perfect to have on hand for my four little kids. Sometimes wipes don’t always help. Great for on the go!',\n",
       " \"Great for the beach I keep this in my beach bag. Its simple to use. Along with little bit of water from my water bottle I 'm all set. They work great and smell nice too.\\nRecently I have been carrying these with me and using them to wash my hands in public restrooms. I prefer this over the soap dispensers that everyone before me has touched. I dont recomend a lot of products to friends but this is one that I have.\",\n",
       " \"it's a good item I ordered these for travel. European toilets are sometimes suspicious and always poorly equipped. They were perfect! Small enough to fit in a pocket or purse and certainly works well in a backpack. The paper turns into soap as soon as the liquid touches it, so be careful not to get wet. If you're near camping, hiking, or water, you can keep it in a ziplock bag. The soap was rinsed well, and after washing, it always used moisturizers, but it didn't seem to dry its hands as much as other soaps. And I like it because my hands don't get slippery after writing. Because if it's slippery, it feels uncomfortable after washing. Anyway, I think it's a good item\",\n",
       " \"Great idea I purchased these items for my emergency kit and they were useful right away. They work well and are packed in a great dispenser. It's very convenient to have and use!!!\",\n",
       " 'Good for outting!!! Nice for the car or camping & hiking, Amazing product and convenient for this moment of the Codiv - 19!!!',\n",
       " 'A must have These are awesome! Perfect to keep in purse/car/backpack especially with the craziness going on in our world right now. I was impressed with the lather & how great they worked. I have boughten several more for my kids.',\n",
       " 'These things are awesome!! These little soap strips are awesome. I keep them in my purse and now I can wash my hands anywhere, which in this day is The most important thing!!!',\n",
       " 'Great value Great product. 4 individual paper soaps each containing 50 strips. Great for your car or kids backpacks. Highly recommend',\n",
       " 'Portable and lathers well I like the fact it’s easily portable and lathers really well.',\n",
       " \"It's easy to carry I washed my hands often because of corona. So naturally, I started to use a lot of soap. But there is no soap everywhere I go. So I needed something of my own. Then I saw this paper soap and it became a necessity for washing my hands. It's easy to carry around, easy to melt in water, and it's good to use because it has a lot of bubbles. I recommend this.\",\n",
       " \"One is left in the car and the other is carried by myself. I'm glad to know that these are available. I carry one and I have one in my car and one in the kitchen. This is not only natural disintegration but also good for camping. This must have been made by some great inventor who pursues convenience.\",\n",
       " \"very useful item A very useful item and a small one for packing handbags on vacation. It helps when you run out of soap dispensers in the humble bathroom. It's not luxurious soap, but it seems to be a very suitable product when you need a portable device when you need it\",\n",
       " \"It work in my work bathroom I got a really bad-smelling hand soap in my work bathroom, and I just couldn't stand it. It's not practical to carry around my own typical hand soap, but these are great! When I go to the bathroom, I put a pack on my desk and take it with me. Melt well, no scent, and wash my hands clean. If the soap comes out smaller, it will be easier to lose it, but I hope there is something smaller and more foamy.\",\n",
       " 'It was a good choice Suitable for pockets or wallets. I did a few group trips and used only one or two packets for the mission trip. For longer use, the sheet can last longer by tearing it in half. It was a good choice when there was no soap in the public restroom. It is also useful for hiking.',\n",
       " \"I love these! I love these!!! It's a sturdy package, so it closes without any problems. All I cared about was the smell... It's a very typical smell of soap. It's not bad in any way, but I prefer the scent of perfume or flowers. I'm sure they'll change the smell when the upgraded version comes out.\",\n",
       " \"buy it I'd rather be in my wallet or car. It's up to me to want more than hand sanitizer. The hand sanitizer makes your hands feel a little stuffy, so soap is better.\",\n",
       " 'A must have with kids!!! Love this product!! Just add water & hands are clean. So easy to use when we’re out with the kids and on the run because we always have a bottle of water with us. Would definitely always buy to have on hand!!!',\n",
       " 'Buen producto Gracias muy bueno',\n",
       " 'Excellent!!! These are so convenient! We absolutely love them!!!',\n",
       " \"I always carry it I travel at least once a year and some places don't have soap, so I used to wash my hands with plain water. This is just right for it. I can always keep this in my bag. And now I always carry it with me. Sometimes there was no liquid soap in the bathroom. I got it today and I've already tried it and it's working. The sheets are soapy, but you may need 2 to get a full effect.\",\n",
       " \"Small, convenient, easy to store. Soap sheet. Small plastic case. It's perfect for traveling, for storing in a car. Take out a sheet of thin soap paper, and use water. There you go. You should always have the option to wash your hands. What we all do often now and what we need most now.\",\n",
       " 'Would recommend and buy again. Happy to have a compact way of washing hands when soap is scarce when we’re out &/or traveling. Nice lather, no scents to speak of. Takes up little room in purse/backpack.',\n",
       " 'Smooth! It was better than I expected. The paper turned to soap easily and smoothly.',\n",
       " 'Super handy and compact These are going to be great for our upcoming road trip. The package is super small and will be easy to have available.',\n",
       " 'This soap is for a gift. I bought it for my husband, a mailman. I hope my husband, who needs to wash his hands more than anyone else, likes this. The water he needs to wash his hands should be used with him all the time. The husband is also a man who tries to stop the virus. He is still struggling with the virus.',\n",
       " \"Smell is very good You won't be disappointed. The paper is the right size, and large amounts of soap and foam can wash hands for more than 20 seconds. My hands felt clean and smelled light, but the smell was very pleasant. The plastic case in which the paper goes is ideal for small handbags, or even travel pockets\",\n",
       " 'Great for a family on the go!! Perfect little product for on the go! With three kids and being an active family, having the Paper Hand Soap has been a great addition to my purse. Place it in your hands, lather it up, and rinse....so easy since we always have a water bottle with us. And it was a life save when my little one had ice cream all over her hands - cleaned it right there with little to no effort!',\n",
       " 'So \"handy\"! These portable soaps are great for on -the-go, especially for sticky little hands or when you have run out of hand sanitizer!',\n",
       " 'Great alternative to hand sanitizer These days, hand sanitizers are so hard to get that I decided to try them out. Soap is easy to carry. Carrying bags for when cleaning agents are not available, it takes little water to activate (soap and water are better for corvid).',\n",
       " 'Good product Such a great idea when out.',\n",
       " \"Good soap and comes in handy! :) It is a good product, it's a good soap and comes in handy when you don't have hand sanitizer available! :) I would recommend it!\",\n",
       " \"clean hands m so happy when they come. They're great for traveling, they fit well with my toiletries, too. Keep it well and use it only when you need it. You're not going to keep it for a long time, are you? I should make good use of what I bought. You can't leave it in a car with a lot of heat, can you?\",\n",
       " \"I Love These!!! I love this product! I use them outside with the kids and they work really well. Just add a little water and you're good to go. I wasnt expecting them to work as well as they do but I was pleasantly surprised.\",\n",
       " 'Perfect for on the go Love these! Perfect for cleaning on the go, especially now! Convenient and compact this fits even in your pocket.',\n",
       " \"simple usage Just take out the paper soap, put water on it, rub it, foam it, and wash it. Where is this simple thing? I'm sure children will like this soap, too. If you make soap for kids that kids will like, so you can use a soap case shaped like a character.\",\n",
       " \"Smells good, size is right The soap smells good. I think soap has both scent and smoothness after use. To tell you one thing about the inconvenience, there are times when you can't use one sheet at a time because it's tightly attached. If it is attached, several sheets must be taken out and used at once. But I can bear this much. Why? For convenience. And it's good to foam a lot.\",\n",
       " 'Compact and does the job! Love the idea of these for on the go. Small cases with easy access to the sheets, don’t take up much room in my purse. They are very perfume smelling though it doesn’t seem overpowering in my hands after washing. The only thing I noticed was that it kind of sticks to wherever the bulk of the sheet melts and requires some scrubbing to remove it but at least you know your hands are clean!',\n",
       " 'Portable It’s the most convenient thing to have in your purse or bag. Wash your hands anywhere and anytime especially in these crucial time. Recommend especially if you have small children and ate out and about.',\n",
       " 'Cute case Works as advertised. Really cute case.',\n",
       " \"Amazing product They smell good, especially during this pandemic! Never know when you'll be out of soap. I believe these scores are more sanitary.\",\n",
       " 'Convenient cleanliness This is a very handy product for cleaning on the go. We recently used these on the beach with water bottles to clean our hands before lunch. In this environment it’s nice to have such a convenient option!',\n",
       " \"Great and easy to take along in the purse I've very please with my order of the travel paper soap sheets. They've worked great for my family. I keep it in my purse and use as needed. They smell great too.\",\n",
       " \"WORKS SO GREAT! In this post-lockdown world where hand sanitizer is so hard to find, this has been a lifesaver. I place a soap sheet in my kids' and my hands, and use some water and I can cleanse everyone's hands quick and easy. This is so easy to keep in a diaper bag, purse, or the car without worrying about spills, and I feel much better knowing they have actually washed their hands as opposed to just using sanitizer.\",\n",
       " 'You get the soap sheets and the dispensers! These little things are awesome! They are very handy for the public recreation areas that often don’t have soap on the restrooms! They are small enough to fit in your pocket, purse or day bag! I have some to my kids and of course kept some for myself! My kids thought I was a loony bird because I was so excited about this product. So now I’m waiting until they call me to tell me that a restroom they used was out of soap and they had their own’ 😬',\n",
       " 'Great product Great product! Hand sanitizer is nice but sometimes you want to be able to wash your hands properly. Often time with the kids sports events, bathrooms don’t have soap so these will come in very handy.',\n",
       " \"Easy to use I like the portability of this product. Great for traveling, camping or just storing in my wallet when the soap dispenser is empty or annoying! It's bubbling nicely\",\n",
       " 'Clean on the go My wife liked to have this in her purse so you clean and sanitize our hands on the go',\n",
       " \"Easy and gentle!! These are great! Spent a week at the beach and roaming the town. Boy did these come in handy! I have eczema so I just cannot use hand sanitizer or harsh soaps on regular basis! These were gentle, they suds up great and didn't irritate my skin! Very thankful that handwashing was an option on our road trip....even at the beach!!\",\n",
       " 'Great product Purchased to use camping and fishing they work great.',\n",
       " 'Quick and easy! We really love these. Quick and easy! Great for the camper!',\n",
       " \"very good soap The soap case is bigger than I thought. But it's not too big to carry around and use. It goes right into the handbag. It smells good and bubbles well and is a good product. It's good because there's no feeling of discomfort when you use the Senitizer. I recommend this product.\",\n",
       " 'Works great with kids These work great for on the go with kids! Super easy and convenient on the go.',\n",
       " 'Perfect to travel with These came so quick and are the perfect size to keep in the car or purse to travel with! Easy for kids to use as well and love that I know their hands are clean no matter where we are! Highly recommend!',\n",
       " \"Great purchase! Compact, smells great and easy to use. Perfect when you're out and about to ensure good hygiene. Would recommend!\",\n",
       " 'A Must Have! What a great product, definitely comes in handy during these different times. Works best in a pocket and works great with having kids to ensure hands are germ free. A must have, Great product.',\n",
       " 'Great product Quick delivery, great price! Perfect product to carry in handbag, car, etc.',\n",
       " 'Clean and Soft!! Omg! Love this product!! It’s super cute and convenient to carry in my purse or keep in my car. I gave one to my mom and sister. It smells Good and my hands are soft after using it.',\n",
       " 'Nice to have on hand Loved this! So convenient and great in gift baskets.',\n",
       " 'Convenient! Super convenient, especially while trying to stay safe in the age of Covid-19. This has been great to bring to parks and use with a water bottle if we get dirty while hiking.',\n",
       " 'Very handy for travel safe This item is great! I used them as soon as I received them and it is very handy and also useful. Keep you simple and clean.',\n",
       " 'portable safety carry on This design is smart. I carry it on when I go to work.',\n",
       " 'Awesome Very convenient at work',\n",
       " 'Exactly as the desctiption These are perfect for camping or travel. They cam fast and were exactly what I was expecting. So nice not to have to pack a bunch of bottles with me when I camp.',\n",
       " 'Great product These are great for on the go! Perfect way to keep hands clean when you can’t get to a sink or a bathroom is out of soap.',\n",
       " 'Great I love these so useful will definitely buy again!',\n",
       " 'Adorable and useful! So adorable! Will come in handy when no soap is available!',\n",
       " \"Good soap The paper soap has arrived. I tested how it was as a trial. After applying water, I rubbed it and it quickly bubbled up. It is good for children as well as adults. Above all, I think it is good to carry around. That's enough to give you five stars.\",\n",
       " 'My children love it. Cute little package that fit in your pocket with 3 colors, my daughter likes pink. Great to have if traveling or just out and find yourself in a bathroom with no soap and also great for your kids.',\n",
       " 'Do not recommend Bad smell. Got missing pcs as well. Do not recommend!',\n",
       " 'Really convenient! These are great for on the go when there is no place to wash hands. Great for the beach and parks and camping. I ordered more to give to all my kids to keep in the car. Recommend this convenient product!',\n",
       " 'Better to carry around a bar of soap Does not dissolve all the way, need way more than one to actually wash your hands',\n",
       " 'Amazing Love it',\n",
       " 'Convenient Excellent option for camping or even in your purse especially in these days of Covid-19. Melts quickly with a lot of suds.',\n",
       " 'Me Gustó una buena idea para viajar y tenerlo en la cartera Gracias Es bueno para la cartera también regalé el otro paquete voy a pedir más me gustó Gracias',\n",
       " 'A necessity These are compact and perfect to fit in a glove compartment, purse, travel bag etc. the soap sheet is just the right size to wash hands completely.\\nRecommend these for everyone.',\n",
       " \"Such a great product These are so handy. They are pretty much those things you never knew existed or knew you needed. I wish I had these at my old job in which the bathrooms basically never had soap in the dispensers. These are so easy to use and sud up quite a bit. These are a definite must in today's climate.\",\n",
       " 'Easy to use I must\\'ve misread the description or something but I thought that I was getting more soap. But as I look at the other ads I realize that they are all about the same. So we actually got these 1 day early, good thing. A little upset with the packaging. Thought that this would be a good product for my husband since he is an \"essential\" worker. I went to use it today and 1 is not enough to get a good sudsy 20 sec wash. I havent checked yet, but was wondering if they have refills or would it be cheaper just to buy this product again cause hubby likes it. Anyway it is a good product if you dont have any soap, just ran out and the store is closed or you are traveling.',\n",
       " 'Love it! Love this! So easy to use',\n",
       " 'Throw em in your pocket, purse or bag. These days, washing hands all the time. I keep these handy. You just need one little strip, some water and Viola’ you have soap.\\nGood for the on the run. I always have extra water and a towel in the car just incase I need to wash my hands.',\n",
       " 'Pretty good',\n",
       " \"Very handy to have on my trips These are actual sheets of soap, you just add a little water and your hands are nice and sudsy! I bought these for when I go kyacking, hiking, and dirt biking! These are very handy and convenient. They smell so much better than hand sanitzer, they also don't make my hands dry!\",\n",
       " 'buy! smells delicious and its extremely compact! Highly recommended',\n",
       " 'Utilidad Muy útil',\n",
       " 'Wonderful product to carry while traveling Arrived promptly, was well packaged, and does the job effectively.',\n",
       " 'Happy Haven’t used it but love the compact size.',\n",
       " \"Ehh. Bought these for a vacation because we were gonna be on a plane and the beach so i figured we needed them for places we couldn't wash our hands ( the soap and bottle of water) these things STINK. They don't lather right. They need major major improvements ! Won't buy this brand again, unfortunately.\",\n",
       " 'Perfect for on the go Love this perfect for when you don’t want to touch the nastySoap pump in the bathroom Has a nice sent to it and does not leave a sticky residue',\n",
       " 'Great buy! Must have Great buy! Must have!',\n",
       " 'Convenient Very little lather with each sheet. Convenient packaging though. Great size for purse or pockets. We use 2 sheets one for each hand to get a good lather. Came quick and nice variety of colors.',\n",
       " 'No me llego el pedido Nunca me llego el pedido. Al parecer llego a otra casa',\n",
       " 'Your personal, compact travel soap These are perfect to carry in a purse or pocket. Great for road trips when you don’t want to touch public soap dispensers.',\n",
       " 'Must have running water Although they are designed to use on the go, I find them hard to use. I took my children to the zoo where they were able to feed giraffes, zebras, and goats. After they fed the animal I wanted them to wash their hands. Since we were not in a location with a bathroom, I got out my handy dandy soap sheets and a water bottle. The soap sheets left residue that was hard to wash off without a steady stream of water...which unfortunately is the reason I purchased them (when I’m not near running water).',\n",
       " 'Great to have on hand ! Very clever and wise idea. It works well, especially if you want to ensure that you have soap available to wash your hands. Cute packaging and colors. I added this to a goody bag. The guests loved them!',\n",
       " 'Just what I was looking for with travel soap I used to have these when I was younger and was hoping to find them again for travel. This product is a great value and packaging was good too.',\n",
       " 'Love it Great to have when restaurants don’t have soap',\n",
       " 'It was I Love it. I ordered it to have incase of an emergency and preparing for hurricane season.',\n",
       " 'Precio Bueno pero caro',\n",
       " 'On the go travel soap Well, I finally got my order and was quite disappointed that I didn’t receive the color containers as displayed. I am satisfied with the product. It soaps right up once the water hits your hand and is very soapy. I was expecting to get all the colors, but only received blue, white and purple. Plus I ordered two 12 box packages and received the same colors in each box. What happen to the pink, green and yellow? I wanted to give them out as gifts along with face mask to fiends and family and the pink and yellow was the reason I purchased the multi packs.',\n",
       " 'Soap Great product',\n",
       " 'Better than hand sanitizer. Loved everything about the product.',\n",
       " 'Misleading product info I just open the box and inside only one color everything is pink?',\n",
       " 'Great for camping Great for camping',\n",
       " 'NOT Fragrance-Free!!! I am very very sensitive to fragrances and I specifically searched for fragrance-free. The description and reviews of these says they have no scent.....THESE HAVE STRONG FRAGRANCE!! I Have not even used them because of the strong fragrance they have even in the packaging!',\n",
       " '10/10 Was great for camping! Just keep it a safe spot! Lol left mine out in the rain! Oops!',\n",
       " 'Good COVID-19 hygiene product Good handwashing hygiene product to use as a COVID-19 requirement. Oftentimes, no soap available. This product is easy to carry and use.',\n",
       " 'Soap sheets These are great for traveling. Easy to tuck away in your bag and they smell great! I plan to get more of these to have in my purse my bag for school. I love all my Travelon products that I’ve purchased over the years.',\n",
       " 'Great product! Great product!',\n",
       " 'Higher Quality The case is excellent quality. It is one of the best I’ve used. Closes with a click, stays closed, is easy to open with your thumb, and tells you to use 1-2 sheets of soap. I don’t like that the sheets don’t slide super easily over each other. It shouldn’t bother most people using it, though. I got a good enough lather from 1 sheet, but 2 gives you plenty. There is a slight residue left after rinsing but it comes away when drying your hands with paper towels. There is a scent to these. I am not a fan but it isn’t strong and doesn’t linger after rinsing the soap off.\\n\\nIt is good quality. I wish it had at least 2 in an order. I would probably try a different brand that has multiple containers just to get more of them. One has plenty of sheets for one person to share but if you’re going on a trip, having two would be preferable.',\n",
       " 'Works great. Recently was on a long road trip. This was a great, convenient, easy to use product. Every public bathroom I used the soap. Lathered very well for at least 20 seconds. Left my hands soft too. I will be buying again. This will always be in my purse, and small enough to fit in my pocket.',\n",
       " 'Handy Very handy during this time of corona virus. All you need is a bottle of water to cleanse you hand with these wipes',\n",
       " 'Perfect size Perfect for your purse',\n",
       " 'Travel Soap These are great little soap papers. A drop or two of water and you can wash your hands with soap and water. On a recent trip out of the country these were very handy and easy to use. Just be sure your hands are dry when getting into the small packet or you will dampen all the papers and have a large amount of soap to deal with. I use the term paper as that is how thin they are but again very useful and my hands felt clean - no fragrance which was nice. I would definitely recommend to hikers, bikers and all who prefer soap and water to sanitizers.',\n",
       " 'Very scented If you are sensitive to smells this is very strong! I have not even tried the soap and but can smell its scent from across the room.',\n",
       " 'Easy to carry and ensure you can always wash your hands. Washing your hands is always better than using hand sanitizer. This pack is great for carrying in my purse and bringing with me for traveling - and it’s not a liquid, so no worries about spilling! These are especially beneficial now that I am washing my hands more than ever!',\n",
       " 'My new EDC Perfect for EDC. Now more in this Corona times',\n",
       " 'Missing Item I ordered 4 packs, but I only received 3. Please refund my money for the missing one.',\n",
       " 'Easy and light Best thing to take on trips where water & Soap is limited. And its light weight product to just throw in your purse or suitcase.\\n\\nYou must have wet hands to activate the strip.',\n",
       " \"Comes with a cancer warning Cool concept and compact, easy for travel. Only thing I don't like is there's a cancer warning on the package. That's a bit unnerving. So I guess using on or two sheets every once in a long while wouldn't be bad but to use this frequently?\",\n",
       " \"Clean Travelers Take Note The dreaded feeling of not being able to wash your hands - especially when you're traveling is the absolute worst! These tabs are so small (about the size of a matchbook) Just pull out a tab and add water! Lightly scented and easy to use.\",\n",
       " 'nice product nice product',\n",
       " 'Good stuff Very useful!!!👍',\n",
       " \"These are meant for the HANDS, not for clothes I'm not sure who got the idea that these were for washing clothing! LOL! These are hand-soap sheets for use in public restrooms, camping or other places where soap is not available. As such, they work well.\",\n",
       " 'Great for traveling Great for traveling',\n",
       " 'Carry with me all the time now. Works well. Very useful when traveling & in US Using these more then expected. I use these traveling & in the US (surprising how many rest rooms are out of soap)\\nThese soap sheets work very well but to use them effectively your hands need to be dry to get out of the pack & center the sheet (if you’re rushing/not paying attention they can glob up)',\n",
       " \"Great product Comes in handy when you're in a public restroom and there is no soap. Easy to carry.\",\n",
       " 'Waste Doesn’t produce any suds. Had to use other hand soap',\n",
       " 'útil útil',\n",
       " 'Good for someone with allergies Doesn’t melt completely but gets the job done. I have anaphylactic reactions to lavender and this is a godsend. Still hard to wash off and kinda sticky.',\n",
       " 'Five Stars Great for traveling. Small & compact. Will be perfect traveling via a cruise/hotel combo.',\n",
       " \"Sticks to your skin and leaves a residue that's difficult to wash off I hoped these would be more practical while I was traveling in Asia. I found these to be more of an annoyance because it sticks to your skin even with wet hands & under running water. The residue from the soap was hard to wash off. I would not purchase these again.\",\n",
       " 'Priced fairly I honestly bought these because I remembered using them when I was a kid and thought they were cool.',\n",
       " \"Great product!!! These little soap petals are perfect for my kids to carry in school. The bathrooms are always out of soap so my kids keep these in their pockets (or sock if they don't have any pockets, they're small enough to fit in their sock!) so they can wash their hands with soap if/when the bathroom are out of soap! Easy to use and they work so well!\",\n",
       " 'great for travel excellent for when bathrooms run out of soap ... good to keep handy in the purse',\n",
       " 'Excellent product This product came in very handy for my vacation.',\n",
       " 'Great for traveling. My daughter took these packages with her on a mission trip to Peru and loved them. Many bathrooms in her travels did not have soap available so she ended up sharing them with other women traveling with her. They were indispensable.',\n",
       " \"These work great. I take these when we travel to countries that may not reliably offer soap in the bathrooms. I found these to be just the right amount of soap for a good hand wash, as did others in my tour group, who began loitering around the sinks waiting for me so they could bum a sheet of soap.\\n\\nThese are packaged and dispensed just like Listerine mouthwash strips, only larger. Make sure you don't use wet hands to take them out. If you get the whole thing wet you will end up with a wee cake of soap instead of sheets, which doesn't impress anyone and isn't nearly as convenient. (Incidentally, Listerine mint strips will also stick together and form a solid cake if you get them wet. Trust me on this.).\",\n",
       " \"Perfect for Asian travel! I bought this to keep with me on my recent trip to several Asian countries. Those countries are notorious for not providing soap in restrooms. This travel soap worked perfectly for my needs. I am incessantly needing to keep my hands clean and this helped my mild obsession. I also wear contact lenses and require clean hands for handling the contacts. I never got an eye infection, despite the questionable water supply. I'll attribute that safety to the good soap I was using. Buy it!\",\n",
       " 'Clean hands It is perfect for traveling and using public facilities.',\n",
       " \"odor Description said mild odor which it wasn't. Unscented would be a better product.\",\n",
       " \"Cheaply Made I've bought a few different brands of soap sheets off Amazon. These are by far the cheapest made ones between my Sea to Summit, Coleman, and the Travelon soaps. For what they are, they're great but the quality in these is lacking.\\n\\nWhen the bathroom you're using is out of soap, these are great to have. The size and weight of the container is very small and perfect for travel.\",\n",
       " 'Public Restroom Life Saver I use these things all the time. I keep them in my purse and whenever a public restroom has no soap, I whip one of these guys out and bam! Clean hands for me. They work great and produce a lovely clean scent. Would definitely recommend!',\n",
       " 'Saved the day in Egypt They sometimes don’t have soap in public bathrooms in other countries (even at the airport). These came in handy',\n",
       " 'Gets your hands clean Sleeps good',\n",
       " 'Four Stars really comes in handy in public restrooms. the dispensers always seem to be out of soap',\n",
       " \"Very convenient Have you ever been in a public restroom where they've run out of soap? For some of us this is a nightmare, and this little item is an answer to our prayers! They are very convenient to have in your purse and one sheet is all it takes to get your hands nice and clean.\",\n",
       " 'Five Stars Great for traveling.',\n",
       " 'Convenient Perfect for when you visit a soap free facility!\\nVery thin sheet of soap just right for a one time wash. Pull out a sheet of soap, add a little water and lather up. Small plastic case. Easy to keep in your pocket while traveling.',\n",
       " 'No Took them to Vietnam since they don’t have soap in any of their restrooms and this soap sheets where savers , work wonderful and easy to carry. Loved them',\n",
       " 'Five Stars Good',\n",
       " 'Great for anytime Smells great and comes in handy when there isn’t soap.',\n",
       " \"Total ripoff! I bought this exact product on Amazon in 2012. It was less than the current price -- and that was for a three-pack. I don't understand why nobody sells this or a similar product for a reasonable price.\\n\\nSeriously, cut a slice off of your bar of soap at home and put it in an old mints container. Or shred some using a cheese grater. Or take your bar of soap that has become too small to use and wrap it in a handkerchief. Do anything other than reward the seller willing to charge you more for a quarter-handful of soap than it would cost to just buy an eight-pack of full-sized bars.\",\n",
       " \"Work great. Might have to was a bit Work great. Might have to was a bit.linger if using have hot water but that's soap.in general. Great for outside activities\",\n",
       " 'This is a good little case to carry in purse or backpack This is a good little case to carry in purse or backpack. I a, allergic to soap at public places and was hoping this would help but it has an odor (like Dove soap) so it doesn’t seem to help.',\n",
       " 'Five Stars The box is very easy to carry, they dissolve easily and a single paper makes enough foam.',\n",
       " 'Five Stars A must for travel. Cleans well does not dry sick out.',\n",
       " 'Just what I wanted. Love the packaging and concept.',\n",
       " \"Great portable way to have hand soap on hand I bought this to take on fishing trips with me, as the boats often do not have soap in their bathrooms to wash your hands with after you've done your business (gross). I also gave a pack to my mom for when she goes to the Philippines.. bathrooms there often do not have soap either in the non-metro areas. They remind me of the listerine packs, make sure your hands are dry when you remove a piece (we only need to use half a sheet unless our hands are super dirty). Highly recommend to anyone that may ever need soap to go--I keep mine in my purse.\",\n",
       " \"Don't d waste your money Not good. needed lots of water to make soap\",\n",
       " 'Very handy, small and lightweight Very handy to keep in purse for emergency',\n",
       " 'It get super sticky and hard to wash off I have a ton of topical allergies and this is the only travel type soap I can use. I purchased to carry on me and use in public restrooms. It get super sticky and hard to wash off. I took to ripping them into thirds and that helped. I also let the water run over them for a few seconds to soak before applying to hands.',\n",
       " 'Functional These are great when I find myself in a Publix restroom without soap. But I originally purchased them for a nine-hour plane ride, and there’s not enough water pressure in a plane’s bathroom to fully dissolve the soap.',\n",
       " 'Five Stars Works great',\n",
       " 'Bathrooms across the u.s.a. There have been so many times while n the bathroom there was no soap. This elimates that probelm.',\n",
       " \"Useful product for trips It works really well. I have bought paper soaps before by different brands. This one comes in plastic packaging. It makes it easier for me to get a piece out without worrying about damaging the rest of the pack. The sheets are thin and easily separate from each other. That is great when I just want to use one. I take these with me everywhere I go because you never know when a restroom will run out of soap. I want to be clean at all times!!! I don't want to have to worry about my sanitation levels. So, I use this. It works for me. I got this when the price was good (ie. there was an amazon add-on price). I do think paper soaps tend to be a little on the pricy side. Since I don't want to cut my own soap though (you can, there are youtube videos on how), I buy them on here. I use them occasionally but it gives me piece of mind to have them on hand at all times. This is not a bad one.\",\n",
       " 'Five Stars Love the product will be ordering from seller again in the near future',\n",
       " 'Four Stars Very handy.',\n",
       " 'Three Stars Too small',\n",
       " 'Harmful ingredients I bought these so I could easily sanitize my hands while on the go. When they arrived the packaging says contains ingredients that are recognized by the state of California as carcinogens. Needless to say I do not want to be using this product and then touching my infant',\n",
       " 'great for traveling, especially in remote countries with not-so-great facilities neat little soap strips. Very convenient for travel. It makes decently high amount of foam and does not dry hands.',\n",
       " 'Five Stars These worked really well and were perfect for traveling. Or just having them in your purse.',\n",
       " 'Best product ever! Best things ever! Perfect for camping or the beach! Nice to be able to really wash hands!!',\n",
       " 'perfect for a day boating I only needed one sheet to wash/ rinse off the saltwater on my hands...wonderdul for boating trips!!',\n",
       " 'Great product to keep in your purse Great product to keep in your purse. You never know if you will find soap when you use bathrooms in public places.',\n",
       " 'Five Stars love it',\n",
       " \"Perfect for traveling, you must take them when you go internationally These are perfect and highly recommended if you're traveling internationally. First country I went to I didn't realize soap was not something they had in every bathroom. Thankfully I had hand sanitizer but still it's gross when you use the bathroom and you can't wash your hands and need to eat afterwards. While in the bathroom in Beijing I ran into another foreigner who had these in her purse and offered me one. After that the moment I got home I ordered them online. They are nice and thin and can easily be carried in your pocket, purse, or backpack without taking up any space.\\n\\nThe only thing I would advise on is to make sure you take out the soap sheets you need before you get your hands wet. If your hands are wet and then you grab one you can risk ruining the whole pack. Also I personally felt I needed two sheets and not just one but that could just be me. Every country I go to I take these with me.\",\n",
       " 'I was disappointed that there is a strong fragrance I was disappointed that there is a strong fragrance . I read that there was not and that poses a problem for folks like me that are sensitive to fragrances.',\n",
       " \"Taking to the bush... Love these. Nice clean scent, wI'll e taking to Kenya aad Tanzania\",\n",
       " \"Great product! I didn't know what to expect with travel soap sheets. This was my first purchase ever.\\n\\nI originally took it to Japan, as I was told some places did not provide soap. I ended up not really using it until I went to the Philippines a few months later. It was on that trip that it became a big help! Getting a sheet out was easy (a lot easier than getting out an oil-blotting sheet). One is all I needed. It lathered very nicely, has a light, pleasant fragrance. The best part is the moisturizing effect it has on my hands. I don't think I've ever come across a hand soap that didn't leave my hands feeling dry. I was so impressed with this product, that I had to show others. They all agree with my thoughts on it and have wondered where I got it from.\\n\\nOverall, I'm very happy and would definitely buy again.\",\n",
       " 'nothing special not sure why I got this?? most places have soap.',\n",
       " \"It's soap, it works, and its easy to carry Great travel companion\",\n",
       " 'Easy To Use Great if you are in a restroom and the soap dispensers are empty....and you have the container in your purse.',\n",
       " 'Package needs work. Soap is good The soap is great. It soaps up really well. The issue I have is the packaging. The lid doesn’t stay close and let’s the sheets dry out or fall out.',\n",
       " 'Love it I like the way it lathers and it’s convenience to carry around and ready to use at any moment',\n",
       " 'No refills available... No refills. Cases become plastic trash. Terrible for environment.',\n",
       " 'They Work. These are legit. My wife is a bit OCD when it comes to handwriting so I bought a 3 pack of these to help alleviate some of that annoyance.\\n\\nThey lather up remarkably well with a single piece of the \"soap paper\" and rinses clean easily.\\n\\nNow I just keep a spare bottle of water in the car in case we need an \"emergency hand wash\".\\n\\nWould definitely buy again.',\n",
       " 'Only received one pack Honestly this was a little disappointing. I definitely would not have spent $10 to only receive one blue pack.\\nWish it would have come with 4 like it said.',\n",
       " 'Glad I found these Cute carrying case and the soap sheets are easy to use. I keep a case in my hiking backpack but can easily see how convenient they’d be for a purse, diaper bag, school backpack etc. the soap sheets smell good too.',\n",
       " 'Nice design Cute design, nicely packaged.',\n",
       " 'Actually works Lathers well!',\n",
       " 'Must have I really like this product!!! I keep it in my purse for when I’m out in public and they don’t have any hand soap. Especially now with Covid going around. It sudds up very nicely and dissolves easily with water. It also has a really good scent',\n",
       " 'Does what its intended to do Really good\\nWill buy again\\nGood soap none drying',\n",
       " 'Very helpful! I love these things! I even ordered a second time. It came in packs of 4 so i gave some to my\\nfamily, and ordered more to give to the rest of my family. Smells good, easy to use, and leaves my hands feeling soft! And very helpful during these times!',\n",
       " 'Missing pieces I only received one green package, missing three packages for set.',\n",
       " 'Soap on a camping trip Thus was a gift for my daughter. She took it on heat recent camping trip and was glad that she did.',\n",
       " \"Does what it is suppose to do It's nice and compact and cute. I tried one out and it lathers pretty nicely and has a very faint smell to it so if you are sensitive to smells, this one would be okay. We are going camping in a couple weeks so this will come in handy.\",\n",
       " 'Amazing!💞 Love it!!!!',\n",
       " 'One box only received It says it contains 4 boxes of 50 sheets each in description but received only one box',\n",
       " 'Missing items It’s supposed to be a package of 4 but I only recieved 1. Unliked describing on the site.',\n",
       " 'They state that there are 4 Tablets in the pack and show that in the picture When I received this item there was only 1 small little tablet. Very misleading',\n",
       " 'Super cute, effective, and affordable! Soak the soap paper with water and it will leave your hands soft and clean. Perfect item to bring for an outdoors camping trip. I just love how cute the cases are! Definitely plan on buying another set soon!',\n",
       " 'Very handy to have all the time! The product arrived quickly and I was excited to try it out. It was packaged neatly with four colorful dispensers each with around 50 soap sheets. The soap sheets has a light flowery scent and dissolves easily in your hands with water. It’s very portable, about the size of two lip balms so it should fit any bag or pocket...even the tiny ones on women’s jeans. Personally, I got this product as an alternative when my hands gets too dirty and greasy for hand sanitizers!',\n",
       " 'A wonderful and practical product! I am so happy that I bought these soap sheets! They are super useful. I highly recommend them!',\n",
       " \"Very good quality soap leave hands soft Didn't know this product, tried it out and I love it! I was surprised on how the soap sheet leaves a delicate scent in my hands after washing them. They feel soft compare to other soaps. Very practical to bring it everywhere, especially on hiking trip, the beach or camping. Will order more for sure!\",\n",
       " 'amazing, affordable product!! I have a baby & it’s nice being able to take soap with us everywhere we go. It’s easy to use & comes in cute packaging. Definitely something to always have on you since your hands can never be too clean!!',\n",
       " \"8/10 would recommend I like that it has a cute lil design and smells yummy! The soap definitely starts to foam when I add water to it. It would be perfect if all I had was water when camping or at a public bathroom that ran out of soap.\\nIt's super convenient and portable. There is some clunky residual after scrubbing a few times but easily washes off with water.\",\n",
       " 'Great product & fast shipping!!  These are so handy especially with summer around the corner you can literally take them anywhere. The container they come in is sturdy so I don’t have to worry about them spilling inside my bag, and the smell is great! Fast shipping & good packaging each container comes individually wrapped.',\n",
       " 'Cheap and dysfunctional One of the tube canisters came broken. None of them have the soap strip ready to dispense so you have to take them apart and they are nearly impossible to get back together in working order.\\nThe soap strips are just one long strip without any perforations, which means you have to try and tear it off. The soap paper clumps up when wet and makes a giant sticky mass on your hand that is basically impossible to completely dissolve.\\nThis is not how soap paper is supposed to work! Save your money!',\n",
       " 'a little goes a really long way Very convenient for traveling. I took one on a recent camping trip and it was a great thing to have. A little goes a VERY long way. The smell is pleasant but subtle. Also very convenient to keep in your purse for when you come across a public restroom that is out of soap.',\n",
       " 'Great for park days So many times we\\'ve gone to a park or the beach and the public toilets have only water to wash with. I have one of these in my purse now and, with a little water, we can easily wash away the germs. And it doesn\\'t take much of the \"paper\" to get some good suds going. If you don\\'t have a lot of water, the \"paper\" can be a little sticky. I just wish these were unscented, though I know some people prefer a little smell to their soap (these aren\\'t TOO powerful).',\n",
       " 'Genius Solution for Soap on the Go These portable rolls of scented soap sheets are one of the cleverest ideas I\\'ve seen in a long time! If you\\'ve ever experienced the frustration of finding an empty soap dispenser when washing your hands at a public restroom, I think you\\'ll be as enthused with these \"soap paper sheets\" as I am.\\n\\nThis multi-pack comes with 5 rolls of soap sheets, each packed in a plastic holder that color-coordinates with the scent of the soap inside: green for green tea, blue for lily, purple for lavender, pink for rose, and pale yellow for lemon. The cylinder-shaped cases snap open and closed to protect the soap inside from getting wet or flaking apart when stored in a pocket or handbag.\\n\\nThe soap sheets tear easily along the serrated edge of the plastic cases, making for a neat, clean cut. They also dissolve quickly and completely under running water. (Don\\'t let the term \"paper\" concern you; there are no paper fibers left behind in the sink or sticking to your hands...just quick-dissolving, paper-thin rolls of soap sheets.)\\n\\nI really do think these portable little cases of soap sheets are a brilliant idea; and at $12 for a 5-pack, they\\'re a great value! These should last me a while as we haven\\'t been going out much due to COVID. But once they start running low, I\\'ll definitely be ordering more!',\n",
       " 'Super cool item that I didn’t know existed! Does exactly as advertised. Small paper sheets that disintegrates with water and turns into soap! Smells very good too! Great for travel! I keep one in the car and one in my purse. I hope my purse doesn’t get wet!',\n",
       " 'Useful and convenient These are useful and convenient. I don’t think that they should be used as regular replacements for hand sanitizer or strong hand soap. But it is a boon to have them.',\n",
       " \"Really Handy!  These have exceeded my expectations!\\n\\nEach little container is sturdy and small enough to stash anywhere, with a little hole through one end so you can make a keychain out of it.\\n\\nEach colored container has soap of the same color (it doesn't show up on your hands), and they have different scents that are mild and pleasant.\\n\\nThey are easy to use. The sheets tear easily, the soap dissolves quickly and makes a good lather, and a little goes a long way.\\n\\nMy only issue with them is a couple of them didn't come with the sheet sticking out of the slot, so I had to wrestle with it a little to get it opened and adjusted. But in doing so, I discovered that there is a good sized roll in the container! With five in a pack, these will last a long time.\\n\\nVery handy, and will be great for camping!\",\n",
       " 'Better than hand sanitizer. This product is a great value and packaging was good too.Great for road trips when you don’t want to touch public soap dispensers.',\n",
       " \"Great buy! Must have I got it as a back up for hand sanitizer when I am out. The soap itself can dissolve quickly after scrubbing you hands.during this pandemic, it's good to have it.\",\n",
       " 'Hand washing made handy the cleaning power is incredible, higher than the hand sanitizer at home. Will definitely recommend it to my friends who love camping and hiking.I loved it',\n",
       " 'Very handy, clever way to carry soap when traveling I’ve been using soap sheets for ages for travel. I travel a lot in third-world countries, where public bathrooms, when I can find them, seldom have soap, and if they do, it’s often a soggy bar that I don’t want to touch.\\n\\nThis is the first time I’ve seen soap sheets in this configuration. It’s convenient, and I like it. The small cylinders take up little space and weight. Because the soap is in a roll and completely within the plastic case, it is not exposed. The soap stays clean and dry, without cracking or flaking.\\n\\nYou lift the lid of the cylinder and pull off as much as you need, tearing it on the serrated edge of the case, then close the lid.\\n\\nBe careful, though, not to pull out more than you need, as you can’t push it back in without taking the case apart (not difficult but not convenient).\\n\\nThen just rub the soap sheet in your hands and the soap sheet will completely dissolve into regular soap.\\n\\nThe soap is scented, with different scents in each of the different cases. I prefer non-scented soap, but the scent is not strong and it does not last on my hands. Also, you can barely smell the scent on the sheets while in the case, so I don’t have to worry about it transferring scent to other items in my bag.\\n\\nThe claim is that these are “natural plant oil biodegradable environment material, pure natural plant extract,” so they should be safe to use with most water supplies.',\n",
       " \"Must have I love this product! Love how handy it is and works like a charm when you're on the go and don't have access to wash your hands.The smell isn’t over powering and very Convenient for when you are on move with kids. You need very little water. I bought it twice. Will buy it again.\",\n",
       " 'So convenient They’re pocket sized and fit in my palm. So convenient for those public restroom trips that have run out of soap, just pop this out and you’re good to go. Be careful with taking it out though, I thought it came out in sheets but it’s more like foil paper where you cut the size you want. A small sheet should be good enough. It also has a subtle scent to it but it smells good. This is a must have product.',\n",
       " \"Kind of like fruit leather, but soap I wasn't sure what to expect from these soap thingies, but I like them.\\n\\nThe package sort of smelled like the detergent aisle at the dollar store, but the individual soap rolls do have a pleasant scent, and the different colors do smell slightly different (though it's subtle).\\n\\nThese aren't soap-impregnated paper sheets. The entire thing dissolves into suds. (Don't touch it with wet hands!).\\n\\nOverall, this will be good for travel, and for making the endless handwashings of life these days a bit more interesting.\",\n",
       " \"Intriguing When I first opened this in the box, kids thought it was sidewalk chalk. No sillies, it's soap. WHAT? Yes, soap paper too! Everyone found this fascinating. Each family member had to tear off a sheet, check it out - and then wash with it. It disintegrates in your hand under water and lathers up for soap. Once your done washing, has a very nice pleasant scent. I'm keeping this for my purse when I am out and about with no access to soap and I always have a water bottle on hand. They say soap and water is even better to use then hand sanitizer so always have water and a form of soap on hand!\",\n",
       " 'Convenient for me Very cute sopas, great for travel, I alway keep one in my purse.',\n",
       " 'Fits It fits perfectly in my purse. A little goes a long way. I will always carry one with me.',\n",
       " 'Convenience My friend recommended to me ! I love it\\nYou can have in your car a bottle of water and use it in the parking lot ! If you don’t want to go in a public bathroom to wash your hands !\\nReally like it',\n",
       " \"Soap is great!! WIsh they were stored in a plastic container. It's hard not to get the packaging wet when washing hands especially if more than one person need to use them. It is also difficult to get one piece out at a time. Often 2-4 sheets come out at the same time.\",\n",
       " 'Exactly as described... small sheets that turn to foamy soap when wet These are great! The packages are small and can be carried easily in my purse or bag. One sheet creates enough soap to thoroughly clean my hands. Put the paper between your hands, wet, and rub. It quickly makes a nice lather. The only negative is that if your hands are already wet or very dirty it makes it more difficult to dispense one of these thin soap sheets.',\n",
       " \"These work! A touch of water and you won't believe how well this product performs.\",\n",
       " 'These are not what was advertised Terrible product, not advertised as being so small, do not buy this product.',\n",
       " 'Great travel soap Very nice fir on the go',\n",
       " 'Stay away! They do not Work! Not good if you don’t have water. They are so thin that when you take 1 sheet out your taking 3-4 sheets at a time',\n",
       " \"Great & handy item I saw a portable soap sheets on some YouTube videos it wasn't necessarily this brand but when I got these home and tried them, one sheet soaps up really well, some of the ones I saw on YouTube it took two or three sheets but this one Foams up with just one sheet and the smell is great\",\n",
       " \"Really need 2 people to make these work properly, with a learning curve on how to wash with them These are definitely a two person item. You really have to have clean dry hands to open one of these and dispense them out to the people with dirty or wet hands. There is just no good way to get only one sheet out by yourself if your hands are already dirty, and it's a big NO if your hands are wet at all. You will dampen the entire package and basically just turn all the sheet back into a bar.\\n\\nThe fragrance on these wasn't terrible, but definitely geared more towards women than men or boys. Still we used them at scouts and handed one to each kid as they waited to wash up.\\n\\nSome got the idea right away that you wet the paper and your hands thoroughly and keep rubbing and scrubbing until it's all disintegrated. It made them wash for at least 20 seconds if not longer which was good. Unfortunately others tended to ball it up as soon as it got wet and then it would get dropped or leave small chunks stuck to their hands. There's definitely a learning curve with these.\\n\\nThe price for what you get it a pretty good value as long as you use them properly, unfortunately that's harder than it seems at first.\\n\\nThis is a fabulous idea for on the go hand washing where you don't want to touch a hand pump, or the bathroom is simply out of soap. But unless you have two people keeps the paper soaps clean and dry to use again next time is harder than it seems at first.\",\n",
       " 'A camping alternative. Not what I expected.',\n",
       " 'Thumbs up The scent is good, my only complaint is it doesnt fit in any of the carrying cases. The box wont hold up in my purse long. I will order more when needed',\n",
       " 'Does it job Does what you expect it todo. The scent is not over whelming and gets your hands clean. I keep one in the car , so after im done shopping or ect. I can wash my hands.',\n",
       " 'They’re OK The smell of each is OK. It lathers a bit but is not antibacterial or anything at all. So it’s just basically a fragrance for your hands. Plus, if your hands are dirty and you’re opening this pack to get a sheet, then you’re getting your dirty hands all over them...',\n",
       " 'Cool Eco-friendly hand soap alternative I love these!\\n\\nI did not purchase these for travel. Instead, I bought them as a Eco friendly alternative to hand soap in my bathroom. The thought being that I can supply the soap sheets and recysle the paper packaging they came in. (Since paper is easier to recycle)\\n\\nThese work great!\\n\\nThe scents are really nice and they create a nice bit of foaming. And the amount of time it take for the lil soap sheet to dissolve is about how long you should be washing your hands!\\n\\nIn the times of covid, this is a win win situation!!\\n\\nWill be purchasing again :)',\n",
       " \"Foamin' Definitely foams up. Great for camping when water supplies are limited.\",\n",
       " \"great product I purchased the three pack in different scents. I just tried the tea tree because that is a very strong scent and I'm sensitive. It is nicely scented, not too much, and it didn't leave a strong scent on my skin. Other reviews talk about them sticking together. I can see how that would happen in humid conditions. However, the plastic bag the box is in can be re-sealed. Dry hands brought out three pieces for me, but I just put the other two back in the box. Another review also complained that the soap didn't dissolve right away. I added a teeny bit more water to my hands to dissolve the rest of the soap. I found it had a nice lather and washed off well. I am excited to try the other two scents, which smell very nice in the boxes.\",\n",
       " 'does and is what it says takes some scrubbing but that is good during these times.\\ndifficult to pull a single sheet out. i do live in a high humidity climate.',\n",
       " 'Great essential product This product is a great essential. It works so well you only need to use 1/2 of sheet at a time. They smell great.',\n",
       " 'Best Paper Soap Very nicely packaged',\n",
       " \"Love these! These are perfect for a family like us. We're always on the go. Woth covid, extra handwashing, so these come in handy!\",\n",
       " 'Grate stuff I love it',\n",
       " 'Quick access soap! These are handy little soap wafers. The scents are great (I like the orange the best) and they foam nicely. I like that there is no plastic container for these (less plastic, yeah!) and they are as thin as a pack of gum so they store easily in my purse. Would recommend.',\n",
       " 'Nice Pckaging and Smell Soap Sheets The size of the individual soap sheets are very, VERY small and do not match the visual of the hand holding it in the photo provided. I read the reviews and noticed no mention of size so assume they have changed since the photo was used on their page. Packiging awkward to open and would be difficult to soap up and fold away and close before washing hands. One more issue. Aftr trying one, discovered some of the paper and/or soap was still stuck to hands.',\n",
       " 'Perfect portable soap I love these. They are small and fit n my purse so I have soap where ever she go. Love the scents too, the tea tree is my favorite.',\n",
       " 'I won’t be without them! Love that the sheets are thin but lather really well. I keep a bottle of water in the car just to wash my hands after leaving the stores. Take the soap out of container before any water is used. Hands are left smelling good and very smooth.',\n",
       " 'Very nice Soapy and wash well. Clean. I purchased it so I can put them in the hygiene kits for the homeless.\\nI also use it as a gift for my students and friends.',\n",
       " 'Fomin hand soap sheets review These work wonderfully. Great scents. Lots of suds.',\n",
       " 'What a wonderful surprise My husband complained about the soap at his job, and he washes his hands a lot. I came across these as an option and I m so glad I did. These work so good and lather up with a beautiful scent. The packaging makes it easy to carry.',\n",
       " \"As described. Quick delivery. Arrived faster than expected. Communication with seller was prompt. Scents aren't too strong either. Throwing a packet in my trabel bag, one in my car, and one in my purse.\",\n",
       " 'Good Good',\n",
       " \"We're fans These were the conversation piece at our last camping trip. My husband scoffed at me for buying these, but by the end of the trip he (along with everyone else) was a fan.\",\n",
       " 'Super easy! So convenient! Especially to prevent the spread of COVID and other germs.',\n",
       " 'So convenient These soap sheets are fabulous. They lather up well and smell great. Perfect for camping but also great to add to a bug out bag. If there are evacuation orders, I would definitely want the orange pack in my bag both for cleanliness and comfort. I will be storing these in a ziplock bag since the sheet separation will be ruined if the package gets wet.',\n",
       " 'Works great, great to have in hand with a bottle of water. Great to have on hand (see what I did there). Works up the perfect amount of suds and easy to rinse without using much water.',\n",
       " 'awesome product Perfect for car or purse. They need minimal water to use and later really well. There is no overwhelming smells left after you wash and rinse just a clean fresh scent.',\n",
       " 'Great travel Soap Great travel soap. Helpful for camping and road trips.',\n",
       " 'Great travel soap Ideal for traveling I like the amount of soap and the smell',\n",
       " 'Terrible product!!! These wipes disintegrate when using. You have to wash your hands to get all the little bits and pieces of the wipes off. Totally defeats the purpose. On a positive note, they do smell good while they are falling apart.....',\n",
       " 'A great product! I got it as a bday gift from my daughter; therefore, I love it no matter what! We use it while we walk our dogs. It is a great idea but you will need water and we always bring a bottle of water with us anyway; therefore, it works perfectly for our needs.',\n",
       " 'Totally what I was looking for. Perfect for my backpacking this summer. Just as advertised!!',\n",
       " 'Perfect for on the go hand washing! Perfect addition to my cleanliness and safety kit during this strange times! All you need is a bottle of water and 1 sheet!',\n",
       " 'Handy and easy Very handy.',\n",
       " 'Great Just need a little water don’t dry out hands',\n",
       " 'Foaming 3 pack Foaming Hand Soap These little soap \"paper\" pieces are the perfect size to keep in your purse and for on the go. There are 3 different scents and the pieces are really thin and compact. With dry hands, pick one piece out and with running water, or bottled water, you can wash your hands at any time. Especially when theres no soap at a store or when you are camping. I am really impressed with this product.',\n",
       " \"On the go soap Love, love , love. Great for traveling, just a little sheet of soap is perfect for 2 ppl. I cut mine in half since it's a lot of soap\",\n",
       " 'Fomin 3-Pack Foaming Hand Soap Sheets These are great for keeping in my car or at my desk at work. They allow me to wash my hands in the most inconvenient of locations.',\n",
       " 'wonderful I love these little paper soaps. They are so portable, make a good lather, just, and simply, extremely convenient.',\n",
       " 'Great Great pocket size and lather well. Perfect for on the go',\n",
       " 'Convenience in a box I really liked the convenience of the product. I can use it for traveling or anytime I need soap and there is no soap. It’s really good to have during this pandemic because you constantly need to take care of yourself and your hygiene so you don’t get sick and this comes in handy for that.',\n",
       " 'Excellent Took this on trip so it doesn’t count towards my liquids carry on bag and it excellent! I separated the pieces and laid them out so others didn’t waste them. Everyone loved them! This is excellent for hotel stays!',\n",
       " 'Portable convenient and smells lovely Cute sheets of soap love the lavender scent and I keep them in my purse for in the go',\n",
       " 'Love these for traveling. My family and I just came home from a week long trip out of state and these soap sheets came in very handy. Even though we were in a hotel, all they give you is a little bar of soap for everything from washing hands to your face, etc. It was much nicer having an individual sheet to use each time any of us wanted to wash our hands. No passing around a little bar of soap (there was 4 of us). These are so hand for traveling. A must have!',\n",
       " 'Cleans hands when on-the-go; just need a bit of water; paper thin soap sheet  This Soap Paper product consists of 100 sheets in each of 3 packets, for a grand total of 300 sheets.\\n\\nOne packet is Sweet Orange, with soap sheets that have a mild citrus flavor.\\nOne packet is Tea Tree Oil, with soap sheets that have a mild menthol-like scent.\\nOne packet is Refreshing Lavender, with soap sheets that have a mild lavender scent.\\n\\nEach sheet is paper thin. It\\'s easy for me to mistakenly take out 2-3 sheets at a time, when I just needed one.\\n\\nI find that once water comes into contact with a soap sheet, it disintegrates really quick.\\nThere is minimal lather when I washed my hands with a soap sheet under running water.\\nWith my hands wet, but not under running water, washing with a soap sheet gives moderate amount of lather.\\nAfter washing hands, the scents do not linger for long.\\n\\nWhen my hands are greasy (from handling foods, for example), I need 4-5 sheets to get may hands cleaned. One sheet will not do.\\nAlso, if my hands are wet, and I open the packet to get a sheet, the sheets behind it get wet and stick to each other, such that I end up grabbing 3-5 sheet as I try to take one sheet out. So, when I need to clean my hands, I will take out a 2-3 soap sheets, then wet my hands, and then use the sheets to wash my hands. This way, I don\\'t waste soap sheets.\\n\\nI find these most useful when I am commuting, and need to clean my hands. In instances like this, I take out 1-2 soap sheets, pour a bit of water from a water bottle, and clean my hands. This works wonderful!\\n\\nEach packet is compact (I measure them a packet to be 3-1/4\" x 2-1/4\"), easy to carry, and fits in a number of places inside my car. I can even fit it in my back pocket, and use it after I am done eating at my work place.\\n\\nLastly, the first several ingredients common to all 3 varieties are: sodium lauryl sulfate, tapioca starch, polyvinyl alcohol, aqua.\\n\\nOverall, these work well to clean hands when it\\'s not convenient to get to a sink with soap and water.',\n",
       " \"it's soap, right! Soap sheets...learn something new every day. These work just as good as soap although I think the lather on 1 sheet is not enough; I needed 2 or 3. Since they are so thin, It is hard to get just one sheet out the sleeve, especially if hands are damp. The smell is lovely and the novelty of showing people is entertaining. I have already convinced a couple people to buy these. In addition to travel, these soap sheets would be great for kiddos to prevent a mess. Great product that's cool too.\",\n",
       " \"WOW Wow, these are great!\\n\\nWhat a simple and space saving way to ensure you always have soap on hand. All you need it a bit of water and it lathers up very well!\\n\\nEasy to wash with!\\n\\nPerfect for the diaper bag or purse for when you're out an about!\\n\\nJust wish there was a way to order more in bulk !\",\n",
       " 'Perfect soap for camping / traveling I am going to use these on our camping trips, and also keep one in my car. They are a great little size. They foam up really well, and get the job done!',\n",
       " 'Would not purchase again. Not worth the money. Use on dry hands and dies not make my hands feel clean and hardly any scent. Would not recommend.',\n",
       " 'Love Love Love love it. Foams up nicely. the scent is pleasant.',\n",
       " 'Great for sensitive skins I’m thrilled to have purchased these! Amazing soap sheets. The scents are not overwhelming. I have sensitive skin and, does not irritate my skin. Hands feel soft, clean and smells great. My 6 yr. old son loves these. With pretty much everything still closed down, due to Covid-19, we have been doing a lot more outdoor activities. It’s nice to have soap handy when in middle of hiking or biking and, need to wash hands before eating lunch. I would strongly recommend these soap sheets.',\n",
       " 'Cool, unique, and portable Very sleek product. Awesome for on the go hand washing.',\n",
       " 'Portable and smell nice. No more touching gross surfaces or not having soap in public rest rooms! These soap thins are an absolute game changer. No more needing to touch gross dispensers or finding empty soap bottles while out in public. As things open back up, people are going to be using public rest rooms again more frequently and I know that I personally feel better having these in my purse to use should the need arise.\\n\\nThey come in a package the size of a pack of gum and the soap lathers nicely and washes away easily although occasionally there is a blob of soap that needs to be flicked off as you rinse your hands. The scent is light and pleasant. I have sensitive skin and have not had a bad reaction to these.\\n\\nI received these for \"free\" (there\\'s taxes) in exchange for an honest review, and I would buy these with my own money.\\n\\n5 stars',\n",
       " 'Super convenient Perfect for on the go situations!!! Super convenient',\n",
       " 'Perfect product This is an amazing product. Wonderful scents. Packages are filled to the brim. Suds up extremely well. So convient. Highly recommend!',\n",
       " 'Travel These little soaps are one of the coolest things I’ve seen. Great for on the go or traveling. My hands are soft afterwards but I can’t smell anything on my hands. It’s like there’s no smell.',\n",
       " 'Gorgeous aroma, perfect soap. These little packets of soap sheets are the way to keep hand washing a treat. Perfect for school, travel, the office. Each scent is distinct, clean and mild. Just lovely 😊. Cannot recommend highly enough and I will never be without them. Perfect to tuck into a purse, backpack or pocket. Get em before they are gone. I plan to order more! Bubbles and foam galore!',\n",
       " \"Not for me This soap thins come in nice little packs. The scents are very strong, which might be a good thing for some but not me.\\n\\nAlso, when using these I would end up with a small, sticky clump that wouldn't wash away.\",\n",
       " 'So easy to use These soap sheets are so cool! They smell great and are simple to use. It melts quickly but the sheet sticks to your palm and becomes a layer of soap. It kind of makes you have to wash your hands well to get the soap layer off.',\n",
       " \"Really nifty idea | great scent | made in China Does anyone remember those mouthwash tabs that dissolved on your tongue, and basically gave you aggressively fresh breath? They were cool because they were teeny-tiny, came in a dispenser you could throw just about anywhere (even non-existent pockets in lady jeans), and were so portable and efficient that you could take them everywhere, secure in the knowledge of your superior hygiene. Well, these are basically the soap equivalent of that. Superior hygiene included.\\n\\nThese Fomin (ha, Fomin-- foaming??? is that a pun? I love it) soaps comes in sheets the size of a business card. I believe you get 100 per pack, so 300 total. I just love the idea of these because how many times have you gone into a restroom, found it was super gross... AND THERE WAS NO SOAP? I have, because San Francisco public restrooms are THE LITERAL WORST. I still have nightmares about some of them. With these soaps, you can just peel one off, wash your hands, and go on with your day feeling that much more clean in the middle of your soapmergency-induced panic.\\n\\nAlso, they smell really nice. The lavender one definitely overpowers the other two, but citrus and green tea are classic scents that are sometimes still somehow screwed up, and these both smelled really really nice. You could easily keep a pack of these in a purse or clutch, and they'd be a must if you're traveling, regularly rely on public restrooms, or to give away to someone as a cute and incredibly useful present (the packaging is lovely). I feel a little weird gushing about soap like this, but I love soap, and this is soap somehow made even more useful and amazing than it was already (imagine that???) so I am, of course, well chuffed.\",\n",
       " \"Each sheet is perfect for one adult hand wash, or hand and face. Really convenient. I've used a few sheets from each box...\\n\\nLavender - strongest scent, very soapy. Hangs around for over an hour.\\nOrange - very mild citrus scent.\\nTea Tree Oil - mild tea tree scent.\\n\\nAll three lather the same. The Lavender is a heavier foam, the orange the least foamy. All three clean really well. The sheets stick together - you'll need to be careful or you'll wind up using a couple at a time. Keep the sheets flat and don't ball them up - if they're folded or balled up they don't dissolve nearly as well.\\n\\nA half sheet works well for clean hands if you just want to wash up before or after a meal. These are ideal for camping, etc. Pack a few sheets in a snack-sized baggie and you're good to go. They DO have a strong scent in the package. Not as strong as a new bar of soap, but still pretty pervasive.\",\n",
       " \"Easy, fast, and portable So many soaps and sanitizers are packaged as liquids or bars -- inefficient, heavy, and messy. Using dry soaps seems like a no-brainer, and I am surprised that they are so hard to find. When I saw these soap papers on Amazon I ordered them right away, and they arrived just before I had to leave town. I had already been worrying about staying (relatively) clean, a major concern during a pandemic, since I would have limited access to running water. These sheets came in super handy during the trip.\\n\\nA three-pack: one for my travel bag, one for the car, and the third for one of my kids. I didn't realize how much I needed these until I used them.\",\n",
       " \"Nice soap sheets Nice portable soap sheets. I only like the orange scent. I find the tea tree and the lavender to be off-putting. These travel well and are good to have on hand for when you are somewhere and there isn't any soap. They dissolve easily and lather well. Leave hands feeling soft and not dry.\",\n",
       " 'Great for travel. One sheet is enough for washing your hands. I love this product. This is not the first time I have seen soap in this form; it has been around. The only negative thing is it is hard to pick only one sheet because they are very thin, but you need only one sheet. It gives enough suds to clean your hands. The scent (there are 3) are also subtle but nice.\\n\\nIt is great for traveling, and that is an understatement.\\n\\nMade in China',\n",
       " 'Very cool invention  I had seen these a few months ago while on my ever long quest to lessen my use of plastic and thought it was a really cool idea. These little sheets work really well! There’s three scents: lavender, tea tree, and orange. The scents are very strong and I only really like the orange, but I don’t mind the other scents enough to hate them. All you have to do is pull a sheet with dry hands, wet your hands, rub, and it dissolves into suds. Be careful of letting the sheet bunch because it will cause a clump that will take longer to dissolves. It’s very important that your hands are dry also, so there’s even a warning on the inside. These are perfect for beach trips that have bathrooms and camping!',\n",
       " 'So convenient, great scent and lather! These little boxes of soap sheets are so easy to carry and use when out and about. It is so important right now with covid to wash your hands thoroughly with good lather. These convenient soap sheets allow you to do that, no matter where you are. Just one sheet gives you enough lather to throughly clean both hands. And the scents are amazing! The orange is my favorite, but the lavender and tea tree are excellent too.\\nWe used soap sheets as a kid when we were camping and these remind me of those fun times. It shows just how practical these can be, you just need a little water and you can get cleaned up!\\nThese are a great buy and very useful!',\n",
       " 'Useful when traveling. I debate for a long time between 3 and 4 stars. I settled on 4 because I love the idea and they do work. These tissue sheets do lather very well and leave your hands smelling fresh. Best part for me, the scent does not linger more than a few minutes\\n\\nNow, I wanted to give 3 stars because it is very difficult to remove only 1 from the package. You must touch these tissue sheets with absolutely dry hands or the moisture will cause several to stick together. Did I mention to remove one, your hands MUST be dry After you remove 1, put it in one hand, wet the other hand, and then rub your hands together. Like magic, you have a nicely lathering soap. I also don\\'t love the cardboard packaging. For those who hike and travel, we know that somehow, no matter how hard we try something wet always gets in our bag. We figure this out when we take something out and it soaking wet. These tissue sheets are enclosed in a cardboard container and it is going to very difficult to use the entire package before one day you discover the entire box is a hard, wet mess.\\n\\nI decided to try these in the shower. I tried one and it lightly lathered my entire arm. Then, it was gone. So, I called the kid and said, give me 10 of those things. She put them in my wet hand and like magic, it turned into a \"bar of soap\". I was able to wash my entire body with this \"bar of soap\" stuck to my hand. So, if you are hiking and really need soap, these tissue sheets will work for a while.',\n",
       " 'Good to tryout. When I decided to buy this product, it was just out of curiosity. I found it interesting that they can make paper thin soap. When it arrived to my house, it came with 3 bags of soap and with different smell. I tried to use one slide of soap and it was a fun experience. One thing that I like about this product is that it was designed to make wash your hand for more 20 seconds. I would recommend this product to everyone.',\n",
       " \"So Convenient I'm so glad I got these. They are incredibly convenient. I keep one pack in my purse for those public bathroom trips & surprise! there's no soap. I also keep a package in my truck. The other is for use on my farm. All you need is water & you are good to go. I'm not crazy about fragrance being added to any product unless it's naturally sourced (herbs, essential oils, etc.). It was a concern when I ordered these. Thankfully, although scented, it's not strong. Also the scent doesn't linger which is great. I cannot stand overly toxic scented products that seem to seep into the skin & don't come out no matter how many times you wash.\\nOverall, a great product.\",\n",
       " \"Convenient, leak proof way to travel with soap! These are perfect for travel! We are taking them on our tent camping trips for convenient, compact hand soap, without the risk of leaking while in transit. They would also be great for plane travel, since there's no need to worry about liquid restrictions.\",\n",
       " 'Fun fun fun! I remember these back in the early 90s. It’s really working soap if anyone is wondering. Perfect for outing with family where soap might not be their priority. Fits well in small pockets and with what’s going around, this is a good one to have just to avoid touching soap dispenser in public.',\n",
       " \"These little soap thins are fantastic and work great! OK - where has this stuff been all my life? When we started trying this Fomin Soap Paper Premium 3-Pack and seeing how well this works, we were sold. We travel a lot, love to hike, and generally love all outdoor activities - and often those things land us in situations where we need to wash our hands, but don't have access to soap to fully clean them. Obviously, hauling a regular soap bar around to use gets too messy to be practical, so these little soap thins are just perfect for what we need.\\n\\nThe soap thins arrive in little packets of 100, and they are shaped and sized like a pack of gum. You simply pull one out (they are so super thin - exactly the thickness of thin paper!), add water, and it's perfectly portioned for a great lather and one time use each. My hands feel fresh and thoroughly clean after using them.\\n\\nThere are different scents in each pack of 100, and each smell wonderful and fragrant while still in the box. That said, once you pull out a soap thin and use it, our experience is that they really don't have much of a scent at all by themselves once the second they leave the box - and no scent lingers around after you use them. I'm assuming it's primarily the box that's scented and not the actual soaps?\\n\\nEither way, I more or less consider these closer to fragrance-free than anything else - and for my purposes, that's just fine. They work so great and are so convenient to have that I'm super happy with them. I have sensitive skin, and using these from time to time don't make me break out. They get two thumbs up from this household!\",\n",
       " 'Almost perfect Lathers up really well and leaves my hands soft. But parts of it have stuck to my hands and been REALLY hard to wash off, like having a clump of soap glued to your palm. Took a lot of effort to keep scrubbing off. Other than that, a useful product.',\n",
       " \"Great for Camping, Hiking and Place with No Soap Whenever I go camping or hiking, I'm always annoyed when I go into a rest area and the bathrooms have no soap whatsoever. These little soap bars (thinly cut) are perfect and handy for those occasions when you have access to water but no soap. They dissolve easily because they're so thin and your hands feel so much better for it. In those pandemic times where there is a constant injunction to hand wash, having access to soap and water is essential.\\n\\nThe best part is the soaps themselves are so small they can easily be slipped into a jeans pocket. The only thing I didn't like was the excess wrapping - there was an outer wrap for each bar, PLUS a larger wrap for the whole set. I thought that was a bit much, environmentally wise. Otherwise, I highly recommend these.\",\n",
       " 'Loads of Lather Wow, so much lather, it magically appears when you unfold it and wet it.\\nPerfect for travel.You can use it and then put in a Ziploc bag and use again.\\nWe used it 3 times!\\nI could see using this in hotels and a trip to the amusement park.',\n",
       " 'Very nice scent and great for travel! These are great! Compact and thin, but they produce A LOT of sud! Scents are delightful. A must for travel. The only downside is they require a good amount of water, if not they can gunk up on you (but are easily washed off with more water).',\n",
       " 'Very handy, helps to avoid communal soap, needs lots of water. These are great little leafs of soap in very nice scents. I prefer the orange and lavender to the tea tree. They are great when only communal pump soaps are available.. they require quite a bit of water to go from film to suds but that’s pretty good as it forces you to wash longer. If you are in a low water area, these may end up gooey without enough volume.\\n\\nPerfect for my purse or gym bag.',\n",
       " 'Fomin Soap Sheets 100 per Box - 3 Pack These excellent soap sheets are paper thin and have a dry finish so they do not stick together. The size of a credit card, each carton is 3/8 inches thick and remarkably holds 100 soap sheets. Add a small amount of water and they immediately melt into soapy suds that clean well, rinse thoroughly and do not leave skin feeling dry or tight.\\n\\nThe fragrance is pleasant and not at all over-powering and suitable for all ages. Obviously they need to be kept dry but other than that consideration these soap sheets are convenient and transportable--a good choice to carry in bag or car--or take on a hike, camping, biking, picnic, etc. Outstanding.',\n",
       " 'Convenient On-The-Go Soap This is good soap. It lathers really well & makes your hands feel clean. It is not perfumed but has a scent that comes from natural oils. This is a very convenient way to have soap when you are out & about. It’s a small cardboard box that slips in a pocket or purse so you can always have soap. There are 100 sheets in each box & it only takes 1 sheet to clean your hands well.',\n",
       " 'Perfect for camping These are perfect for camping. You take what you need and there is no dealing with a soggy bar of soap.',\n",
       " 'Perfect for travel/on the go Perfect for carrying in your purse. Really enjoyed the scents. Would purchase again.',\n",
       " 'Great! Works great, convenient to have for traveling!',\n",
       " 'Nice lather. Shipped quickly. Lathers nicely. Nice packaging. Very mild scent. Does contain Sodium Laurel Sulfate, just a note for those avoiding it. Packaging shows good for 6 months once opened.',\n",
       " \"Best I've Tried So Far I was traveling with a friend who introduced me to the concept of soap paper. I do a lot of hiking and often times there's no soap in the bathrooms (when there are bathrooms). I actually like this one even better than the one my friend had. These dissolve better and lather up really good. All in all, must have, especially during COVID times. The packaging fits easily in a purse of backpack. Definitely a life saver!\",\n",
       " 'So convenient!!! I bought this because my daughter she is allergic to most soaps in public bathrooms. I love that it smells great when you take it out of the package, but the smell doesn’t linger on your skin after you’ve finished washing. Definitely keeping a pack of these in my purse at all times.',\n",
       " 'Easy. Portable. Makes washing hands easy! Anywhere! It got sooo soapy! Awesome to have these! Super easy to have in your pocket and use when you feel like you need to wash your hands, you never know how clean the bathroom will be wherever you are! Having these gives a easy peace of mind. Plus they smell nice!',\n",
       " 'Exactly what I wanted, and cute packaging! I love these! Came in such cute packaging - I loved the orange one! There are also a LOT of soap thins in each one, so full. I found the best way to use them was to keep the soap thins on your fingers and let it dissolve under the water. It has a lot of lather too! Actually makes you wash thoroughly because of how much it lathers.\\n\\nThe package is about the size of a pack of gum so you can easily bring it anywhere. I’ll definitely be keeping these in my purse.',\n",
       " \"VERY NICE! These are amazing! I carry a packet in my purse. Very convenient for eating out or whenever you need to wash your hands. In this time of COVID-19, it's necessary to wash our hands frequently. They are scented too. My favorite scent is rose.\",\n",
       " 'good buy I used this while shopping in Downtown Los Angeles... This product gets very soapy and your hand feel extremely clean. I highly recommend these when your hands feel grimy',\n",
       " 'Lots of suds! I liked this product because all scents smelled nice and the soaps created a lot of suds, and left my hands feeling clean and soft. The packaging is cute and there was enough to share.',\n",
       " 'Excellent Size and great SMELL These are the best paper soaps we have ever used. The size is good, the fragrance is outstanding, soaps up well, and rinses easily. SImple to pull out sheets and close little box. Very happy and will reorder for sure.',\n",
       " 'Excelente Me agrado, estuvo muy bien todo. Creo que por lo único que no estaría conforme es porque algunas láminas venían un poco arrugadas.',\n",
       " \"It works but doesn't bubble up This soap works, but it doesn't bubble up at all. My hand still feels clean after washing with it. However, I would suggest looking for another product if you like a lot of bubble while washing your hand.\",\n",
       " 'Great product Great for on the go, and a very decent lather too. Smells great',\n",
       " 'Great Lightweight Soap Very nice paper soap. It lathers well and makes your hands feel very clean.',\n",
       " 'Works better if you use half of strip, melts better!! Only wish it came in plastic container',\n",
       " 'Good smelling paper soap!!! I just love these paper soaps. I take them to town with me and if I go to a restroom and they are out of soap, I use my own. This soap lathers good and leaves my hands sparkling clean!',\n",
       " 'Great for road trips Used these for a road trip so I didn’t have to use the gross soap in the rest stop bathrooms. Easy to pack, and smell nice too.',\n",
       " 'cut in half Super concentrated. I could get away with half a sheet for my hands and especially for kid hands.',\n",
       " \"Will buy again I bought 3 different types of paper soap. I've only tried 2 of the 3 so far, but these were so much better than the other ones. And the packaging is cute. I would buy these again for sure. Always good to have something like this on hand when there's no soap in a public bathroom and it's so much better than hand sanitizer.\",\n",
       " 'Magical The soap dissolve fast. Used out in public',\n",
       " 'great product Bought this product to keep in my bag as we all know sometimes soap is empty and you need to wash your hands to prevent spread of virus. Works great and convenient',\n",
       " 'Great smelling variety Love the variety of scents!',\n",
       " 'Smells great and easy to carry On The Go Nice thin sheets of soap ready for some water. Smells great. Soapy residue tends to stick a bit to the center of my hands so have to rinse really well. Great on-the-go cleansing product.',\n",
       " 'Good to have handy Lathers nicely!',\n",
       " 'Ok Lather well but no scent when used only scent in package.',\n",
       " 'One of my favorite travel soaps This soap is gentle on your hands and has a light scent, which I appreciate. This set can be a great gift, because it comes very well packaged, includes for nice travel soap cases with variety of scents. This set also includes 5 expandable napkins, which is great! Great find!',\n",
       " 'Smells so good This item is so convenient when you don’t want to use the soap dispensers in public restrooms! This has been the perfect product for this pandemic!',\n",
       " 'Not fragrant These soaps are not fragrant as described .\\nIt’s very dissapointin, there is not much to say but I like the packaging idea .',\n",
       " 'Very unique and convenient. I really love the soap sheets and they’re very compact.',\n",
       " 'Good product! I really like it! The scents smell good and the foam is very thick. Using one sheet one time is enough for cleaning your hands. Just bringing one small case and this portable small soap will help a lot while you are outside. (I would like to bring one when I go to the dog park)',\n",
       " \"Great travel soap  This is a great product especially with what's going on these days. The packs are small enough to put in your pocket or purse. The scents are nice and not overpowering. It doesn't lather up like crazy but rather just enough. It comes with these little packs of what I believe to be compressed towels but I haven't opened one yet (the pink packets shown in the pic). The only negative thing I found is that they dry your hands out so just make sure you have some lotion to put on afterward. That's not anything that would stop me from using them though. I hope this helps.\",\n",
       " 'Good for outdoors Really great when you are outside but don’t have access to a bathroom or when there’s no soap. Just use a sheet of this soap and rinse with some water, and then it’s just like normal soap. Scrub for 20 seconds and rinse your hands clean and that’s it.\\n\\nIt’s nice that it also has miniature compressed towels. Really useful in some cases.',\n",
       " 'Just as described Just as described',\n",
       " 'Love this! Will buy again Works and lathers just like regular soap that you can take anywhere to keep your hands clean.',\n",
       " 'Great product Nice size, nice scents.',\n",
       " 'Very good They are very confident and easy to pack.',\n",
       " ':) Portable , light weight , & it came with compressed towels which was a nice surprise',\n",
       " \"Perfect for camping! My Family recently went camping and we each had a packet of these soap strips. These came in handy for washing our hands before cooking, after eating, after using the loo, and every time otherwise. They don't have a strong enough smell to cover the smell of camp water or fish, but they later really well and your hands are easily cleaned.\\nI definitely recommend these. I'll be ordering more so my Family is stocked for any trips we take.\",\n",
       " 'Recommend. Great for travel Great for travel and on the go instead of always using sanitizer. Good alternative',\n",
       " 'Love it I love the scent of all of them. Bought them for when I Take my granddaughter over and I take her to the park.',\n",
       " 'No sink no problem I love this. It’s perfect for camping or if you’re hiking. It’s so useful especially during the pandemic. Sometimes you go places and they run out of soap. It’s perfect in your bag compared to hand sanitizer cause sometimes hand sanitizer can open and ruin your bag. This is dry and doesn’t active until there’s water. The scent are great too. High recommend',\n",
       " 'Like the container. It makes it handy to carry Convenient to use away from home and handy.']"
      ]
     },
     "execution_count": 82,
     "metadata": {},
     "output_type": "execute_result"
    }
   ],
   "source": [
    "review_text"
   ]
  },
  {
   "cell_type": "code",
   "execution_count": 100,
   "metadata": {},
   "outputs": [],
   "source": [
    "# Draw noun chunk bubble chart\n",
    "# remove confusing words\n",
    "delete_words = ['soap','hand','use','’','packag','sheet','great','case','one','good','product','like','contain','wash','love','smell','scent','go','nice','public','little','soaps','sheets','water','wet']\n",
    "import spacy\n",
    "# set up nlp environment in spacy\n",
    "nlp = spacy.load(\"en_core_web_sm\")\n",
    "# use spacy to identify each chunk in the review before covid and put them into the chunk list\n",
    "chunk_list = []\n",
    "for text in package_text:\n",
    "    doc = nlp(text.lower())\n",
    "    for chunk in doc.noun_chunks:\n",
    "        chunk = ' '.join([word for word in str(chunk.text).split() if word not in STOPWORDS])\n",
    "        if not (len(chunk.split(' ')) == 0 or len(chunk.split(' ')) == 1):\n",
    "            chunk_list.append(chunk)\n",
    "# create chunk dict to record each chunk's appearence time\n",
    "chunk_dict = dict()\n",
    "for i in chunk_list:\n",
    "    if not set.intersection(set(i.lower().split(' ')), set(delete_words)):\n",
    "        if chunk_dict.get(i):\n",
    "            chunk_dict[i] += 1\n",
    "        else:\n",
    "            chunk_dict[i] = 1\n",
    "# sort chunk dict based on the value\n",
    "sort_list = sorted(chunk_dict.items(), key=lambda x: x[1], reverse=True)"
   ]
  },
  {
   "cell_type": "code",
   "execution_count": 102,
   "metadata": {},
   "outputs": [
    {
     "data": {
      "text/plain": [
       "[('cute packaging', 5),\n",
       " ('plastic container', 4),\n",
       " ('perfect amount', 2),\n",
       " ('camping trips', 2),\n",
       " ('cute package', 2),\n",
       " ('small carrying spaces', 2),\n",
       " ('4 containers', 2),\n",
       " ('family members', 2),\n",
       " ('another set', 2),\n",
       " ('entire thing', 2),\n",
       " ('clean hands', 2),\n",
       " ('different brand', 2),\n",
       " ('road trip', 2),\n",
       " ('sturdy package', 2),\n",
       " ('front line workers', 2),\n",
       " ('strong fragrance', 2),\n",
       " ('different brands', 2),\n",
       " ('fast shipping', 2),\n",
       " ('different scents', 2),\n",
       " ('learning curve', 2),\n",
       " ('entire package', 2),\n",
       " ('superior hygiene', 2),\n",
       " ('tiny bit', 1),\n",
       " ('2 pack', 1),\n",
       " ('top lid', 1),\n",
       " ('best packaging', 1),\n",
       " ('emergency purposes', 1),\n",
       " ('small bags', 1),\n",
       " ('really long time', 1),\n",
       " ('strong scents', 1),\n",
       " ('care package', 1),\n",
       " ('silicon type container', 1),\n",
       " ('hard cheap plastic', 1),\n",
       " ('slight squeeze', 1),\n",
       " ('front part', 1),\n",
       " ('travel size', 1),\n",
       " ('shipping box', 1),\n",
       " ('refill pack', 1),\n",
       " ('cheap side', 1),\n",
       " ('different looks', 1),\n",
       " ('covid gas stations', 1),\n",
       " ('perfect packaging', 1),\n",
       " ('really thin plastic', 1),\n",
       " ('\"go bags', 1),\n",
       " ('- hands', 1),\n",
       " ('many parks', 1),\n",
       " ('5 minutes', 1),\n",
       " ('glove compartment', 1),\n",
       " ('excellent idea', 1),\n",
       " ('gas stations', 1),\n",
       " ('random family members', 1),\n",
       " ('timely fashion', 1),\n",
       " ('perfumey floral scents', 1),\n",
       " ('easy push', 1),\n",
       " ('parking lot', 1),\n",
       " ('young children', 1),\n",
       " ('corona pandemic', 1),\n",
       " ('huge impact', 1),\n",
       " ('small hands', 1),\n",
       " ('enough bubble', 1),\n",
       " ('top part', 1),\n",
       " ('car packages', 1),\n",
       " ('room temperature place', 1),\n",
       " ('foamy lather creamy/lotion texture', 1),\n",
       " ('outdoor activities', 1),\n",
       " ('cheap plastic', 1),\n",
       " ('individual strips', 1),\n",
       " ('small children', 1),\n",
       " ('camping trip', 1),\n",
       " ('growing times', 1),\n",
       " ('important hygiene', 1),\n",
       " ('price point', 1),\n",
       " ('compact size', 1),\n",
       " ('gentle fragrance', 1),\n",
       " ('proper size', 1),\n",
       " ('small enough yet proper amount', 1),\n",
       " ('cute container', 1),\n",
       " ('eady store', 1),\n",
       " ('4 daughter', 1),\n",
       " ('recent road trip', 1),\n",
       " ('rest stop', 1),\n",
       " ('enough suds', 1),\n",
       " ('easy way', 1),\n",
       " ('right time', 1),\n",
       " ('- short long distances', 1),\n",
       " ('upgraded version', 1),\n",
       " ('upcoming road trip', 1),\n",
       " ('right size', 1),\n",
       " ('large amounts', 1),\n",
       " ('20 seconds', 1),\n",
       " ('small handbags', 1),\n",
       " ('simple usage', 1),\n",
       " ('simple thing', 1),\n",
       " ('3 colors', 1),\n",
       " ('\"essential\" worker', 1),\n",
       " ('convenient packaging', 1),\n",
       " ('clever wise idea', 1),\n",
       " ('goody bag', 1),\n",
       " ('color containers', 1),\n",
       " ('two 12 box packages', 1),\n",
       " ('face mask', 1),\n",
       " ('multi packs', 1),\n",
       " ('higher quality', 1),\n",
       " ('excellent quality', 1),\n",
       " ('slight residue', 1),\n",
       " ('paper towels', 1),\n",
       " ('multiple containers', 1),\n",
       " ('cancer warning cool concept', 1),\n",
       " ('mission trip', 1),\n",
       " ('many bathrooms', 1),\n",
       " ('total ripoff', 1),\n",
       " ('current price', 1),\n",
       " ('reasonable price', 1),\n",
       " ('old mints container', 1),\n",
       " ('cheese grater', 1),\n",
       " ('full-sized bars', 1),\n",
       " ('plastic packaging', 1),\n",
       " ('sanitation levels', 1),\n",
       " ('amazon add-on price', 1),\n",
       " ('pricy side', 1),\n",
       " ('youtube videos', 1),\n",
       " ('harmful ingredients', 1),\n",
       " ('3 pack', 1),\n",
       " ('single piece', 1),\n",
       " ('\"soap paper', 1),\n",
       " ('spare bottle', 1),\n",
       " ('hiking backpack', 1),\n",
       " ('diaper bag', 1),\n",
       " ('three packages', 1),\n",
       " ('definitely something', 1),\n",
       " ('colored container', 1),\n",
       " ('road trips', 1),\n",
       " ('handy, clever way', 1),\n",
       " ('third-world countries', 1),\n",
       " ('often soggy bar', 1),\n",
       " ('first time', 1),\n",
       " ('small cylinders', 1),\n",
       " ('serrated edge', 1),\n",
       " ('different cases', 1),\n",
       " ('natural plant oil biodegradable environment material', 1),\n",
       " ('pure natural plant extract', 1),\n",
       " ('fruit leather', 1),\n",
       " ('detergent aisle', 1),\n",
       " ('dollar store', 1),\n",
       " ('different colors', 1),\n",
       " ('endless handwashings', 1),\n",
       " ('2 people', 1),\n",
       " ('two person item', 1),\n",
       " ('clean dry hands', 1),\n",
       " ('least 20 seconds', 1),\n",
       " ('small chunks', 1),\n",
       " ('fabulous idea', 1),\n",
       " ('two people', 1),\n",
       " ('eco friendly alternative', 1),\n",
       " ('paper packaging', 1),\n",
       " ('win win situation', 1),\n",
       " ('(less plastic', 1),\n",
       " ('wonderful surprise', 1),\n",
       " ('evacuation orders', 1),\n",
       " ('orange pack', 1),\n",
       " ('ziplock bag', 1),\n",
       " ('gross surfaces', 1),\n",
       " ('absolute game changer', 1),\n",
       " ('gross dispensers', 1),\n",
       " ('sensitive skin', 1),\n",
       " ('bad reaction', 1),\n",
       " ('honest review', 1),\n",
       " ('5 stars', 1),\n",
       " ('really nifty idea', 1),\n",
       " ('mouthwash tabs', 1),\n",
       " ('aggressively fresh breath', 1),\n",
       " ('(even non-existent pockets', 1),\n",
       " ('lady jeans', 1),\n",
       " ('ha, fomin-- foaming', 1),\n",
       " ('business card', 1),\n",
       " ('soapmergency-induced panic', 1),\n",
       " ('green tea', 1),\n",
       " ('classic scents', 1),\n",
       " ('cute incredibly useful present', 1),\n",
       " ('lavender - strongest scent, soapy', 1),\n",
       " ('heavier foam', 1),\n",
       " ('snack-sized baggie', 1),\n",
       " ('new bar', 1),\n",
       " ('long time', 1),\n",
       " ('3 4 stars', 1),\n",
       " ('3 stars', 1),\n",
       " ('absolutely dry hands', 1),\n",
       " ('cardboard packaging', 1),\n",
       " ('cardboard container', 1),\n",
       " ('entire box', 1),\n",
       " ('entire arm', 1),\n",
       " ('entire body', 1),\n",
       " ('(herbs, essential oils', 1),\n",
       " ('overly toxic scented products', 1),\n",
       " ('many times', 1),\n",
       " ('sodium laurel sulfate', 1),\n",
       " ('6 months', 1),\n",
       " ('often times', 1),\n",
       " ('covid times', 1),\n",
       " ('definitely life saver', 1),\n",
       " ('best way', 1),\n",
       " ('3 different types', 1),\n",
       " ('packaging idea', 1),\n",
       " ('dog park', 1)]"
      ]
     },
     "execution_count": 102,
     "metadata": {},
     "output_type": "execute_result"
    }
   ],
   "source": [
    "sort_list"
   ]
  },
  {
   "cell_type": "code",
   "execution_count": 101,
   "metadata": {},
   "outputs": [
    {
     "data": {
      "application/vnd.plotly.v1+json": {
       "config": {
        "plotlyServerURL": "https://plot.ly"
       },
       "data": [
        {
         "marker": {
          "size": [
           5,
           4,
           2,
           2,
           2,
           2,
           2,
           2,
           2,
           2
          ]
         },
         "mode": "markers",
         "type": "scatter",
         "x": [
          0,
          1,
          2,
          3,
          4,
          5,
          6,
          7,
          8,
          9
         ],
         "y": [
          5,
          4,
          2,
          2,
          2,
          2,
          2,
          2,
          2,
          2
         ]
        }
       ],
       "layout": {
        "annotations": [
         {
          "showarrow": false,
          "text": "cute packaging",
          "x": 0,
          "xanchor": "center",
          "y": 5,
          "yanchor": "bottom"
         },
         {
          "showarrow": false,
          "text": "plastic container",
          "x": 1,
          "xanchor": "center",
          "y": 4,
          "yanchor": "top"
         },
         {
          "showarrow": false,
          "text": "perfect amount",
          "x": 2,
          "xanchor": "center",
          "y": 2,
          "yanchor": "bottom"
         },
         {
          "showarrow": false,
          "text": "camping trips",
          "x": 3,
          "xanchor": "center",
          "y": 2,
          "yanchor": "top"
         },
         {
          "showarrow": false,
          "text": "cute package",
          "x": 4,
          "xanchor": "center",
          "y": 2,
          "yanchor": "bottom"
         },
         {
          "showarrow": false,
          "text": "small carrying spaces",
          "x": 5,
          "xanchor": "center",
          "y": 2,
          "yanchor": "top"
         },
         {
          "showarrow": false,
          "text": "4 containers",
          "x": 6,
          "xanchor": "center",
          "y": 2,
          "yanchor": "bottom"
         },
         {
          "showarrow": false,
          "text": "family members",
          "x": 7,
          "xanchor": "center",
          "y": 2,
          "yanchor": "top"
         },
         {
          "showarrow": false,
          "text": "another set",
          "x": 8,
          "xanchor": "center",
          "y": 2,
          "yanchor": "bottom"
         },
         {
          "showarrow": false,
          "text": "entire thing",
          "x": 9,
          "xanchor": "center",
          "y": 2,
          "yanchor": "top"
         }
        ],
        "template": {
         "data": {
          "bar": [
           {
            "error_x": {
             "color": "#2a3f5f"
            },
            "error_y": {
             "color": "#2a3f5f"
            },
            "marker": {
             "line": {
              "color": "#E5ECF6",
              "width": 0.5
             }
            },
            "type": "bar"
           }
          ],
          "barpolar": [
           {
            "marker": {
             "line": {
              "color": "#E5ECF6",
              "width": 0.5
             }
            },
            "type": "barpolar"
           }
          ],
          "carpet": [
           {
            "aaxis": {
             "endlinecolor": "#2a3f5f",
             "gridcolor": "white",
             "linecolor": "white",
             "minorgridcolor": "white",
             "startlinecolor": "#2a3f5f"
            },
            "baxis": {
             "endlinecolor": "#2a3f5f",
             "gridcolor": "white",
             "linecolor": "white",
             "minorgridcolor": "white",
             "startlinecolor": "#2a3f5f"
            },
            "type": "carpet"
           }
          ],
          "choropleth": [
           {
            "colorbar": {
             "outlinewidth": 0,
             "ticks": ""
            },
            "type": "choropleth"
           }
          ],
          "contour": [
           {
            "colorbar": {
             "outlinewidth": 0,
             "ticks": ""
            },
            "colorscale": [
             [
              0,
              "#0d0887"
             ],
             [
              0.1111111111111111,
              "#46039f"
             ],
             [
              0.2222222222222222,
              "#7201a8"
             ],
             [
              0.3333333333333333,
              "#9c179e"
             ],
             [
              0.4444444444444444,
              "#bd3786"
             ],
             [
              0.5555555555555556,
              "#d8576b"
             ],
             [
              0.6666666666666666,
              "#ed7953"
             ],
             [
              0.7777777777777778,
              "#fb9f3a"
             ],
             [
              0.8888888888888888,
              "#fdca26"
             ],
             [
              1,
              "#f0f921"
             ]
            ],
            "type": "contour"
           }
          ],
          "contourcarpet": [
           {
            "colorbar": {
             "outlinewidth": 0,
             "ticks": ""
            },
            "type": "contourcarpet"
           }
          ],
          "heatmap": [
           {
            "colorbar": {
             "outlinewidth": 0,
             "ticks": ""
            },
            "colorscale": [
             [
              0,
              "#0d0887"
             ],
             [
              0.1111111111111111,
              "#46039f"
             ],
             [
              0.2222222222222222,
              "#7201a8"
             ],
             [
              0.3333333333333333,
              "#9c179e"
             ],
             [
              0.4444444444444444,
              "#bd3786"
             ],
             [
              0.5555555555555556,
              "#d8576b"
             ],
             [
              0.6666666666666666,
              "#ed7953"
             ],
             [
              0.7777777777777778,
              "#fb9f3a"
             ],
             [
              0.8888888888888888,
              "#fdca26"
             ],
             [
              1,
              "#f0f921"
             ]
            ],
            "type": "heatmap"
           }
          ],
          "heatmapgl": [
           {
            "colorbar": {
             "outlinewidth": 0,
             "ticks": ""
            },
            "colorscale": [
             [
              0,
              "#0d0887"
             ],
             [
              0.1111111111111111,
              "#46039f"
             ],
             [
              0.2222222222222222,
              "#7201a8"
             ],
             [
              0.3333333333333333,
              "#9c179e"
             ],
             [
              0.4444444444444444,
              "#bd3786"
             ],
             [
              0.5555555555555556,
              "#d8576b"
             ],
             [
              0.6666666666666666,
              "#ed7953"
             ],
             [
              0.7777777777777778,
              "#fb9f3a"
             ],
             [
              0.8888888888888888,
              "#fdca26"
             ],
             [
              1,
              "#f0f921"
             ]
            ],
            "type": "heatmapgl"
           }
          ],
          "histogram": [
           {
            "marker": {
             "colorbar": {
              "outlinewidth": 0,
              "ticks": ""
             }
            },
            "type": "histogram"
           }
          ],
          "histogram2d": [
           {
            "colorbar": {
             "outlinewidth": 0,
             "ticks": ""
            },
            "colorscale": [
             [
              0,
              "#0d0887"
             ],
             [
              0.1111111111111111,
              "#46039f"
             ],
             [
              0.2222222222222222,
              "#7201a8"
             ],
             [
              0.3333333333333333,
              "#9c179e"
             ],
             [
              0.4444444444444444,
              "#bd3786"
             ],
             [
              0.5555555555555556,
              "#d8576b"
             ],
             [
              0.6666666666666666,
              "#ed7953"
             ],
             [
              0.7777777777777778,
              "#fb9f3a"
             ],
             [
              0.8888888888888888,
              "#fdca26"
             ],
             [
              1,
              "#f0f921"
             ]
            ],
            "type": "histogram2d"
           }
          ],
          "histogram2dcontour": [
           {
            "colorbar": {
             "outlinewidth": 0,
             "ticks": ""
            },
            "colorscale": [
             [
              0,
              "#0d0887"
             ],
             [
              0.1111111111111111,
              "#46039f"
             ],
             [
              0.2222222222222222,
              "#7201a8"
             ],
             [
              0.3333333333333333,
              "#9c179e"
             ],
             [
              0.4444444444444444,
              "#bd3786"
             ],
             [
              0.5555555555555556,
              "#d8576b"
             ],
             [
              0.6666666666666666,
              "#ed7953"
             ],
             [
              0.7777777777777778,
              "#fb9f3a"
             ],
             [
              0.8888888888888888,
              "#fdca26"
             ],
             [
              1,
              "#f0f921"
             ]
            ],
            "type": "histogram2dcontour"
           }
          ],
          "mesh3d": [
           {
            "colorbar": {
             "outlinewidth": 0,
             "ticks": ""
            },
            "type": "mesh3d"
           }
          ],
          "parcoords": [
           {
            "line": {
             "colorbar": {
              "outlinewidth": 0,
              "ticks": ""
             }
            },
            "type": "parcoords"
           }
          ],
          "pie": [
           {
            "automargin": true,
            "type": "pie"
           }
          ],
          "scatter": [
           {
            "marker": {
             "colorbar": {
              "outlinewidth": 0,
              "ticks": ""
             }
            },
            "type": "scatter"
           }
          ],
          "scatter3d": [
           {
            "line": {
             "colorbar": {
              "outlinewidth": 0,
              "ticks": ""
             }
            },
            "marker": {
             "colorbar": {
              "outlinewidth": 0,
              "ticks": ""
             }
            },
            "type": "scatter3d"
           }
          ],
          "scattercarpet": [
           {
            "marker": {
             "colorbar": {
              "outlinewidth": 0,
              "ticks": ""
             }
            },
            "type": "scattercarpet"
           }
          ],
          "scattergeo": [
           {
            "marker": {
             "colorbar": {
              "outlinewidth": 0,
              "ticks": ""
             }
            },
            "type": "scattergeo"
           }
          ],
          "scattergl": [
           {
            "marker": {
             "colorbar": {
              "outlinewidth": 0,
              "ticks": ""
             }
            },
            "type": "scattergl"
           }
          ],
          "scattermapbox": [
           {
            "marker": {
             "colorbar": {
              "outlinewidth": 0,
              "ticks": ""
             }
            },
            "type": "scattermapbox"
           }
          ],
          "scatterpolar": [
           {
            "marker": {
             "colorbar": {
              "outlinewidth": 0,
              "ticks": ""
             }
            },
            "type": "scatterpolar"
           }
          ],
          "scatterpolargl": [
           {
            "marker": {
             "colorbar": {
              "outlinewidth": 0,
              "ticks": ""
             }
            },
            "type": "scatterpolargl"
           }
          ],
          "scatterternary": [
           {
            "marker": {
             "colorbar": {
              "outlinewidth": 0,
              "ticks": ""
             }
            },
            "type": "scatterternary"
           }
          ],
          "surface": [
           {
            "colorbar": {
             "outlinewidth": 0,
             "ticks": ""
            },
            "colorscale": [
             [
              0,
              "#0d0887"
             ],
             [
              0.1111111111111111,
              "#46039f"
             ],
             [
              0.2222222222222222,
              "#7201a8"
             ],
             [
              0.3333333333333333,
              "#9c179e"
             ],
             [
              0.4444444444444444,
              "#bd3786"
             ],
             [
              0.5555555555555556,
              "#d8576b"
             ],
             [
              0.6666666666666666,
              "#ed7953"
             ],
             [
              0.7777777777777778,
              "#fb9f3a"
             ],
             [
              0.8888888888888888,
              "#fdca26"
             ],
             [
              1,
              "#f0f921"
             ]
            ],
            "type": "surface"
           }
          ],
          "table": [
           {
            "cells": {
             "fill": {
              "color": "#EBF0F8"
             },
             "line": {
              "color": "white"
             }
            },
            "header": {
             "fill": {
              "color": "#C8D4E3"
             },
             "line": {
              "color": "white"
             }
            },
            "type": "table"
           }
          ]
         },
         "layout": {
          "annotationdefaults": {
           "arrowcolor": "#2a3f5f",
           "arrowhead": 0,
           "arrowwidth": 1
          },
          "coloraxis": {
           "colorbar": {
            "outlinewidth": 0,
            "ticks": ""
           }
          },
          "colorscale": {
           "diverging": [
            [
             0,
             "#8e0152"
            ],
            [
             0.1,
             "#c51b7d"
            ],
            [
             0.2,
             "#de77ae"
            ],
            [
             0.3,
             "#f1b6da"
            ],
            [
             0.4,
             "#fde0ef"
            ],
            [
             0.5,
             "#f7f7f7"
            ],
            [
             0.6,
             "#e6f5d0"
            ],
            [
             0.7,
             "#b8e186"
            ],
            [
             0.8,
             "#7fbc41"
            ],
            [
             0.9,
             "#4d9221"
            ],
            [
             1,
             "#276419"
            ]
           ],
           "sequential": [
            [
             0,
             "#0d0887"
            ],
            [
             0.1111111111111111,
             "#46039f"
            ],
            [
             0.2222222222222222,
             "#7201a8"
            ],
            [
             0.3333333333333333,
             "#9c179e"
            ],
            [
             0.4444444444444444,
             "#bd3786"
            ],
            [
             0.5555555555555556,
             "#d8576b"
            ],
            [
             0.6666666666666666,
             "#ed7953"
            ],
            [
             0.7777777777777778,
             "#fb9f3a"
            ],
            [
             0.8888888888888888,
             "#fdca26"
            ],
            [
             1,
             "#f0f921"
            ]
           ],
           "sequentialminus": [
            [
             0,
             "#0d0887"
            ],
            [
             0.1111111111111111,
             "#46039f"
            ],
            [
             0.2222222222222222,
             "#7201a8"
            ],
            [
             0.3333333333333333,
             "#9c179e"
            ],
            [
             0.4444444444444444,
             "#bd3786"
            ],
            [
             0.5555555555555556,
             "#d8576b"
            ],
            [
             0.6666666666666666,
             "#ed7953"
            ],
            [
             0.7777777777777778,
             "#fb9f3a"
            ],
            [
             0.8888888888888888,
             "#fdca26"
            ],
            [
             1,
             "#f0f921"
            ]
           ]
          },
          "colorway": [
           "#636efa",
           "#EF553B",
           "#00cc96",
           "#ab63fa",
           "#FFA15A",
           "#19d3f3",
           "#FF6692",
           "#B6E880",
           "#FF97FF",
           "#FECB52"
          ],
          "font": {
           "color": "#2a3f5f"
          },
          "geo": {
           "bgcolor": "white",
           "lakecolor": "white",
           "landcolor": "#E5ECF6",
           "showlakes": true,
           "showland": true,
           "subunitcolor": "white"
          },
          "hoverlabel": {
           "align": "left"
          },
          "hovermode": "closest",
          "mapbox": {
           "style": "light"
          },
          "paper_bgcolor": "white",
          "plot_bgcolor": "#E5ECF6",
          "polar": {
           "angularaxis": {
            "gridcolor": "white",
            "linecolor": "white",
            "ticks": ""
           },
           "bgcolor": "#E5ECF6",
           "radialaxis": {
            "gridcolor": "white",
            "linecolor": "white",
            "ticks": ""
           }
          },
          "scene": {
           "xaxis": {
            "backgroundcolor": "#E5ECF6",
            "gridcolor": "white",
            "gridwidth": 2,
            "linecolor": "white",
            "showbackground": true,
            "ticks": "",
            "zerolinecolor": "white"
           },
           "yaxis": {
            "backgroundcolor": "#E5ECF6",
            "gridcolor": "white",
            "gridwidth": 2,
            "linecolor": "white",
            "showbackground": true,
            "ticks": "",
            "zerolinecolor": "white"
           },
           "zaxis": {
            "backgroundcolor": "#E5ECF6",
            "gridcolor": "white",
            "gridwidth": 2,
            "linecolor": "white",
            "showbackground": true,
            "ticks": "",
            "zerolinecolor": "white"
           }
          },
          "shapedefaults": {
           "line": {
            "color": "#2a3f5f"
           }
          },
          "ternary": {
           "aaxis": {
            "gridcolor": "white",
            "linecolor": "white",
            "ticks": ""
           },
           "baxis": {
            "gridcolor": "white",
            "linecolor": "white",
            "ticks": ""
           },
           "bgcolor": "#E5ECF6",
           "caxis": {
            "gridcolor": "white",
            "linecolor": "white",
            "ticks": ""
           }
          },
          "title": {
           "x": 0.05
          },
          "xaxis": {
           "automargin": true,
           "gridcolor": "white",
           "linecolor": "white",
           "ticks": "",
           "title": {
            "standoff": 15
           },
           "zerolinecolor": "white",
           "zerolinewidth": 2
          },
          "yaxis": {
           "automargin": true,
           "gridcolor": "white",
           "linecolor": "white",
           "ticks": "",
           "title": {
            "standoff": 15
           },
           "zerolinecolor": "white",
           "zerolinewidth": 2
          }
         }
        }
       }
      },
      "text/html": [
       "<div>\n",
       "        \n",
       "        \n",
       "            <div id=\"8dde2c93-2c22-45f5-989d-4059b3a0f15f\" class=\"plotly-graph-div\" style=\"height:525px; width:100%;\"></div>\n",
       "            <script type=\"text/javascript\">\n",
       "                require([\"plotly\"], function(Plotly) {\n",
       "                    window.PLOTLYENV=window.PLOTLYENV || {};\n",
       "                    \n",
       "                if (document.getElementById(\"8dde2c93-2c22-45f5-989d-4059b3a0f15f\")) {\n",
       "                    Plotly.newPlot(\n",
       "                        '8dde2c93-2c22-45f5-989d-4059b3a0f15f',\n",
       "                        [{\"marker\": {\"size\": [5, 4, 2, 2, 2, 2, 2, 2, 2, 2]}, \"mode\": \"markers\", \"type\": \"scatter\", \"x\": [0, 1, 2, 3, 4, 5, 6, 7, 8, 9], \"y\": [5, 4, 2, 2, 2, 2, 2, 2, 2, 2]}],\n",
       "                        {\"annotations\": [{\"showarrow\": false, \"text\": \"cute packaging\", \"x\": 0, \"xanchor\": \"center\", \"y\": 5, \"yanchor\": \"bottom\"}, {\"showarrow\": false, \"text\": \"plastic container\", \"x\": 1, \"xanchor\": \"center\", \"y\": 4, \"yanchor\": \"top\"}, {\"showarrow\": false, \"text\": \"perfect amount\", \"x\": 2, \"xanchor\": \"center\", \"y\": 2, \"yanchor\": \"bottom\"}, {\"showarrow\": false, \"text\": \"camping trips\", \"x\": 3, \"xanchor\": \"center\", \"y\": 2, \"yanchor\": \"top\"}, {\"showarrow\": false, \"text\": \"cute package\", \"x\": 4, \"xanchor\": \"center\", \"y\": 2, \"yanchor\": \"bottom\"}, {\"showarrow\": false, \"text\": \"small carrying spaces\", \"x\": 5, \"xanchor\": \"center\", \"y\": 2, \"yanchor\": \"top\"}, {\"showarrow\": false, \"text\": \"4 containers\", \"x\": 6, \"xanchor\": \"center\", \"y\": 2, \"yanchor\": \"bottom\"}, {\"showarrow\": false, \"text\": \"family members\", \"x\": 7, \"xanchor\": \"center\", \"y\": 2, \"yanchor\": \"top\"}, {\"showarrow\": false, \"text\": \"another set\", \"x\": 8, \"xanchor\": \"center\", \"y\": 2, \"yanchor\": \"bottom\"}, {\"showarrow\": false, \"text\": \"entire thing\", \"x\": 9, \"xanchor\": \"center\", \"y\": 2, \"yanchor\": \"top\"}], \"template\": {\"data\": {\"bar\": [{\"error_x\": {\"color\": \"#2a3f5f\"}, \"error_y\": {\"color\": \"#2a3f5f\"}, \"marker\": {\"line\": {\"color\": \"#E5ECF6\", \"width\": 0.5}}, \"type\": \"bar\"}], \"barpolar\": [{\"marker\": {\"line\": {\"color\": \"#E5ECF6\", \"width\": 0.5}}, \"type\": \"barpolar\"}], \"carpet\": [{\"aaxis\": {\"endlinecolor\": \"#2a3f5f\", \"gridcolor\": \"white\", \"linecolor\": \"white\", \"minorgridcolor\": \"white\", \"startlinecolor\": \"#2a3f5f\"}, \"baxis\": {\"endlinecolor\": \"#2a3f5f\", \"gridcolor\": \"white\", \"linecolor\": \"white\", \"minorgridcolor\": \"white\", \"startlinecolor\": \"#2a3f5f\"}, \"type\": \"carpet\"}], \"choropleth\": [{\"colorbar\": {\"outlinewidth\": 0, \"ticks\": \"\"}, \"type\": \"choropleth\"}], \"contour\": [{\"colorbar\": {\"outlinewidth\": 0, \"ticks\": \"\"}, \"colorscale\": [[0.0, \"#0d0887\"], [0.1111111111111111, \"#46039f\"], [0.2222222222222222, \"#7201a8\"], [0.3333333333333333, \"#9c179e\"], [0.4444444444444444, \"#bd3786\"], [0.5555555555555556, \"#d8576b\"], [0.6666666666666666, \"#ed7953\"], [0.7777777777777778, \"#fb9f3a\"], [0.8888888888888888, \"#fdca26\"], [1.0, \"#f0f921\"]], \"type\": \"contour\"}], \"contourcarpet\": [{\"colorbar\": {\"outlinewidth\": 0, \"ticks\": \"\"}, \"type\": \"contourcarpet\"}], \"heatmap\": [{\"colorbar\": {\"outlinewidth\": 0, \"ticks\": \"\"}, \"colorscale\": [[0.0, \"#0d0887\"], [0.1111111111111111, \"#46039f\"], [0.2222222222222222, \"#7201a8\"], [0.3333333333333333, \"#9c179e\"], [0.4444444444444444, \"#bd3786\"], [0.5555555555555556, \"#d8576b\"], [0.6666666666666666, \"#ed7953\"], [0.7777777777777778, \"#fb9f3a\"], [0.8888888888888888, \"#fdca26\"], [1.0, \"#f0f921\"]], \"type\": \"heatmap\"}], \"heatmapgl\": [{\"colorbar\": {\"outlinewidth\": 0, \"ticks\": \"\"}, \"colorscale\": [[0.0, \"#0d0887\"], [0.1111111111111111, \"#46039f\"], [0.2222222222222222, \"#7201a8\"], [0.3333333333333333, \"#9c179e\"], [0.4444444444444444, \"#bd3786\"], [0.5555555555555556, \"#d8576b\"], [0.6666666666666666, \"#ed7953\"], [0.7777777777777778, \"#fb9f3a\"], [0.8888888888888888, \"#fdca26\"], [1.0, \"#f0f921\"]], \"type\": \"heatmapgl\"}], \"histogram\": [{\"marker\": {\"colorbar\": {\"outlinewidth\": 0, \"ticks\": \"\"}}, \"type\": \"histogram\"}], \"histogram2d\": [{\"colorbar\": {\"outlinewidth\": 0, \"ticks\": \"\"}, \"colorscale\": [[0.0, \"#0d0887\"], [0.1111111111111111, \"#46039f\"], [0.2222222222222222, \"#7201a8\"], [0.3333333333333333, \"#9c179e\"], [0.4444444444444444, \"#bd3786\"], [0.5555555555555556, \"#d8576b\"], [0.6666666666666666, \"#ed7953\"], [0.7777777777777778, \"#fb9f3a\"], [0.8888888888888888, \"#fdca26\"], [1.0, \"#f0f921\"]], \"type\": \"histogram2d\"}], \"histogram2dcontour\": [{\"colorbar\": {\"outlinewidth\": 0, \"ticks\": \"\"}, \"colorscale\": [[0.0, \"#0d0887\"], [0.1111111111111111, \"#46039f\"], [0.2222222222222222, \"#7201a8\"], [0.3333333333333333, \"#9c179e\"], [0.4444444444444444, \"#bd3786\"], [0.5555555555555556, \"#d8576b\"], [0.6666666666666666, \"#ed7953\"], [0.7777777777777778, \"#fb9f3a\"], [0.8888888888888888, \"#fdca26\"], [1.0, \"#f0f921\"]], \"type\": \"histogram2dcontour\"}], \"mesh3d\": [{\"colorbar\": {\"outlinewidth\": 0, \"ticks\": \"\"}, \"type\": \"mesh3d\"}], \"parcoords\": [{\"line\": {\"colorbar\": {\"outlinewidth\": 0, \"ticks\": \"\"}}, \"type\": \"parcoords\"}], \"pie\": [{\"automargin\": true, \"type\": \"pie\"}], \"scatter\": [{\"marker\": {\"colorbar\": {\"outlinewidth\": 0, \"ticks\": \"\"}}, \"type\": \"scatter\"}], \"scatter3d\": [{\"line\": {\"colorbar\": {\"outlinewidth\": 0, \"ticks\": \"\"}}, \"marker\": {\"colorbar\": {\"outlinewidth\": 0, \"ticks\": \"\"}}, \"type\": \"scatter3d\"}], \"scattercarpet\": [{\"marker\": {\"colorbar\": {\"outlinewidth\": 0, \"ticks\": \"\"}}, \"type\": \"scattercarpet\"}], \"scattergeo\": [{\"marker\": {\"colorbar\": {\"outlinewidth\": 0, \"ticks\": \"\"}}, \"type\": \"scattergeo\"}], \"scattergl\": [{\"marker\": {\"colorbar\": {\"outlinewidth\": 0, \"ticks\": \"\"}}, \"type\": \"scattergl\"}], \"scattermapbox\": [{\"marker\": {\"colorbar\": {\"outlinewidth\": 0, \"ticks\": \"\"}}, \"type\": \"scattermapbox\"}], \"scatterpolar\": [{\"marker\": {\"colorbar\": {\"outlinewidth\": 0, \"ticks\": \"\"}}, \"type\": \"scatterpolar\"}], \"scatterpolargl\": [{\"marker\": {\"colorbar\": {\"outlinewidth\": 0, \"ticks\": \"\"}}, \"type\": \"scatterpolargl\"}], \"scatterternary\": [{\"marker\": {\"colorbar\": {\"outlinewidth\": 0, \"ticks\": \"\"}}, \"type\": \"scatterternary\"}], \"surface\": [{\"colorbar\": {\"outlinewidth\": 0, \"ticks\": \"\"}, \"colorscale\": [[0.0, \"#0d0887\"], [0.1111111111111111, \"#46039f\"], [0.2222222222222222, \"#7201a8\"], [0.3333333333333333, \"#9c179e\"], [0.4444444444444444, \"#bd3786\"], [0.5555555555555556, \"#d8576b\"], [0.6666666666666666, \"#ed7953\"], [0.7777777777777778, \"#fb9f3a\"], [0.8888888888888888, \"#fdca26\"], [1.0, \"#f0f921\"]], \"type\": \"surface\"}], \"table\": [{\"cells\": {\"fill\": {\"color\": \"#EBF0F8\"}, \"line\": {\"color\": \"white\"}}, \"header\": {\"fill\": {\"color\": \"#C8D4E3\"}, \"line\": {\"color\": \"white\"}}, \"type\": \"table\"}]}, \"layout\": {\"annotationdefaults\": {\"arrowcolor\": \"#2a3f5f\", \"arrowhead\": 0, \"arrowwidth\": 1}, \"coloraxis\": {\"colorbar\": {\"outlinewidth\": 0, \"ticks\": \"\"}}, \"colorscale\": {\"diverging\": [[0, \"#8e0152\"], [0.1, \"#c51b7d\"], [0.2, \"#de77ae\"], [0.3, \"#f1b6da\"], [0.4, \"#fde0ef\"], [0.5, \"#f7f7f7\"], [0.6, \"#e6f5d0\"], [0.7, \"#b8e186\"], [0.8, \"#7fbc41\"], [0.9, \"#4d9221\"], [1, \"#276419\"]], \"sequential\": [[0.0, \"#0d0887\"], [0.1111111111111111, \"#46039f\"], [0.2222222222222222, \"#7201a8\"], [0.3333333333333333, \"#9c179e\"], [0.4444444444444444, \"#bd3786\"], [0.5555555555555556, \"#d8576b\"], [0.6666666666666666, \"#ed7953\"], [0.7777777777777778, \"#fb9f3a\"], [0.8888888888888888, \"#fdca26\"], [1.0, \"#f0f921\"]], \"sequentialminus\": [[0.0, \"#0d0887\"], [0.1111111111111111, \"#46039f\"], [0.2222222222222222, \"#7201a8\"], [0.3333333333333333, \"#9c179e\"], [0.4444444444444444, \"#bd3786\"], [0.5555555555555556, \"#d8576b\"], [0.6666666666666666, \"#ed7953\"], [0.7777777777777778, \"#fb9f3a\"], [0.8888888888888888, \"#fdca26\"], [1.0, \"#f0f921\"]]}, \"colorway\": [\"#636efa\", \"#EF553B\", \"#00cc96\", \"#ab63fa\", \"#FFA15A\", \"#19d3f3\", \"#FF6692\", \"#B6E880\", \"#FF97FF\", \"#FECB52\"], \"font\": {\"color\": \"#2a3f5f\"}, \"geo\": {\"bgcolor\": \"white\", \"lakecolor\": \"white\", \"landcolor\": \"#E5ECF6\", \"showlakes\": true, \"showland\": true, \"subunitcolor\": \"white\"}, \"hoverlabel\": {\"align\": \"left\"}, \"hovermode\": \"closest\", \"mapbox\": {\"style\": \"light\"}, \"paper_bgcolor\": \"white\", \"plot_bgcolor\": \"#E5ECF6\", \"polar\": {\"angularaxis\": {\"gridcolor\": \"white\", \"linecolor\": \"white\", \"ticks\": \"\"}, \"bgcolor\": \"#E5ECF6\", \"radialaxis\": {\"gridcolor\": \"white\", \"linecolor\": \"white\", \"ticks\": \"\"}}, \"scene\": {\"xaxis\": {\"backgroundcolor\": \"#E5ECF6\", \"gridcolor\": \"white\", \"gridwidth\": 2, \"linecolor\": \"white\", \"showbackground\": true, \"ticks\": \"\", \"zerolinecolor\": \"white\"}, \"yaxis\": {\"backgroundcolor\": \"#E5ECF6\", \"gridcolor\": \"white\", \"gridwidth\": 2, \"linecolor\": \"white\", \"showbackground\": true, \"ticks\": \"\", \"zerolinecolor\": \"white\"}, \"zaxis\": {\"backgroundcolor\": \"#E5ECF6\", \"gridcolor\": \"white\", \"gridwidth\": 2, \"linecolor\": \"white\", \"showbackground\": true, \"ticks\": \"\", \"zerolinecolor\": \"white\"}}, \"shapedefaults\": {\"line\": {\"color\": \"#2a3f5f\"}}, \"ternary\": {\"aaxis\": {\"gridcolor\": \"white\", \"linecolor\": \"white\", \"ticks\": \"\"}, \"baxis\": {\"gridcolor\": \"white\", \"linecolor\": \"white\", \"ticks\": \"\"}, \"bgcolor\": \"#E5ECF6\", \"caxis\": {\"gridcolor\": \"white\", \"linecolor\": \"white\", \"ticks\": \"\"}}, \"title\": {\"x\": 0.05}, \"xaxis\": {\"automargin\": true, \"gridcolor\": \"white\", \"linecolor\": \"white\", \"ticks\": \"\", \"title\": {\"standoff\": 15}, \"zerolinecolor\": \"white\", \"zerolinewidth\": 2}, \"yaxis\": {\"automargin\": true, \"gridcolor\": \"white\", \"linecolor\": \"white\", \"ticks\": \"\", \"title\": {\"standoff\": 15}, \"zerolinecolor\": \"white\", \"zerolinewidth\": 2}}}},\n",
       "                        {\"responsive\": true}\n",
       "                    ).then(function(){\n",
       "                            \n",
       "var gd = document.getElementById('8dde2c93-2c22-45f5-989d-4059b3a0f15f');\n",
       "var x = new MutationObserver(function (mutations, observer) {{\n",
       "        var display = window.getComputedStyle(gd).display;\n",
       "        if (!display || display === 'none') {{\n",
       "            console.log([gd, 'removed!']);\n",
       "            Plotly.purge(gd);\n",
       "            observer.disconnect();\n",
       "        }}\n",
       "}});\n",
       "\n",
       "// Listen for the removal of the full notebook cells\n",
       "var notebookContainer = gd.closest('#notebook-container');\n",
       "if (notebookContainer) {{\n",
       "    x.observe(notebookContainer, {childList: true});\n",
       "}}\n",
       "\n",
       "// Listen for the clearing of the current output cell\n",
       "var outputEl = gd.closest('.output');\n",
       "if (outputEl) {{\n",
       "    x.observe(outputEl, {childList: true});\n",
       "}}\n",
       "\n",
       "                        })\n",
       "                };\n",
       "                });\n",
       "            </script>\n",
       "        </div>"
      ]
     },
     "metadata": {},
     "output_type": "display_data"
    }
   ],
   "source": [
    "# draw bubble chart for the most ten frequency chunks\n",
    "import plotly.graph_objects as go\n",
    "x_data = list(range(10))\n",
    "y_data = list(zip(*sort_list))[1][:10]\n",
    "z_data = list(zip(*sort_list))[0][:10]\n",
    "annotations = [\n",
    "    dict(\n",
    "        x=x_data[i], \n",
    "        y=y_data[i],\n",
    "        text=z_data[i], # Some conditional to define outliers\n",
    "        showarrow=False,\n",
    "        xanchor='center',  # Position of text relative to x axis (left/right/center)\n",
    "        yanchor='top' if i%2 else 'bottom',  # Position of text relative to y axis (top/bottom/middle)\n",
    "    ) for i in range(10)\n",
    "]\n",
    "trace0 = go.Scatter(\n",
    "    x=x_data,\n",
    "    y=y_data,\n",
    "    mode='markers',\n",
    "    marker=dict(\n",
    "        size=[i for i in y_data],\n",
    "    )\n",
    ")\n",
    "\n",
    "data = [trace0]\n",
    "layout = go.Layout(annotations=annotations)\n",
    "\n",
    "fig = go.Figure(data=data, layout=layout)\n",
    "fig.show()"
   ]
  },
  {
   "cell_type": "code",
   "execution_count": 104,
   "metadata": {},
   "outputs": [],
   "source": [
    "from nltk import sent_tokenize\n",
    "# join the reviews in the list together to a string\n",
    "package_str = ' '.join(package_text)\n",
    "# keep the sentence if it contains keyword\n",
    "keywords = ['case', 'container', 'packages', 'package', 'packaging']\n",
    "package_sent = sent_tokenize(package_str)\n",
    "from nltk import word_tokenize\n",
    "list_ = []\n",
    "for sent in package_sent:\n",
    "    for keyword in keywords:\n",
    "        if keyword in word_tokenize(sent):\n",
    "            list_.append(sent)\n",
    "            break\n",
    "        else:\n",
    "            continue"
   ]
  },
  {
   "cell_type": "code",
   "execution_count": 105,
   "metadata": {},
   "outputs": [
    {
     "data": {
      "text/plain": [
       "['What I noticed is that once you open the container with the films or strips of soap it doesn’t close but it doesn’t necessarily affect her quality of the product MUST BUY!!!',\n",
       " \"There is a very light scent when you open the package but it doesn't stay on your hands.\",\n",
       " \"This is definitely come in handy at festivals, camping trips, or just to have in case wherever you go doesn't have soap.\",\n",
       " 'The package is very small so fits very well in my pocket and has plenty in there.',\n",
       " 'I wish the package was more sturdy but still works bad The smell is very strong.',\n",
       " 'I have discarded it and the package is not good when it is delivered.',\n",
       " 'I keep one in my bag in case public bathrooms run out of soap.',\n",
       " 'Not the best packaging but the product itself is what’s advertised!',\n",
       " \"I wanted these for emergency purposes in case we ran out of hand sanitizer on the road or got somewhere that didn't have soap.\",\n",
       " 'Come in cute package and easy to carry around your small bags.',\n",
       " 'So this come in handy Awesome Smells good, great portable packaging, and it lathers well.',\n",
       " 'Also, the packaging on it is a little difficult to open and close.',\n",
       " \"I just feel like it's wasting the package that carries them.\",\n",
       " 'perfect for travel, suspect restrooms, and just to have for the \"in case\" situations Great soap for traveling!',\n",
       " 'The container is sometimes hard to snap closed but it’s cute.',\n",
       " 'Blessed I receive the package Thank you Travel Soap Paper Sheets Arrived quickly.',\n",
       " 'The travel case is small and relatively flat.',\n",
       " \"The only minus is that the case can be tricky to close if you have arthritis only because the closure is small and the case is lightweight so you have to be careful not to press too hard or you'll crack it.\",\n",
       " 'Great value for the money as there are 4 containers with 50 sheets per container.',\n",
       " 'It was also given as part of a care package for my assistants.',\n",
       " 'I liked this product very much but the only thing I disliked was the little container it comes with.',\n",
       " \"I assumed that it was like a silicon type container but it's really a hard cheap plastic.\",\n",
       " 'I would like for the Company to possibly consider a silicon carry container.',\n",
       " 'Good buy The case is cheaply made and opens too easily.',\n",
       " 'I love the idea n the shape of the case Cute, light weight perfect as travel size Haven’t Tried but packaging is cute.',\n",
       " 'Just make sure your hands are dry when you take 1 out my kids managed to get water in a case and it was a mess to try to peel apart the pieces.',\n",
       " 'Small plastic case.',\n",
       " 'With a time like this due to coronavirus I threw the entire thing away I didn’t want to risk it after seeing all the gunk around the case NASTY.',\n",
       " 'Not sure how they withstand with heat so I would not leave them in a car because the plastic case is on the cheap side.',\n",
       " 'Different than looks From the photo on the website it looks like this package dispenses from the front and it’s only a painted on dispenser .',\n",
       " 'Love the number of sheets that are in the little case!',\n",
       " 'Perfect packaging to just toss in your purse or pocket and go.',\n",
       " 'The packaging is a little cheap with the really thin plastic but they’re easy to throw in your bag and they haven’t popped open in my bag.',\n",
       " 'Lol Good idea Bought these for our \"go bags\" - hands must be DRY to get a sheet out of the case, otherwise they\\'ll all mush together.',\n",
       " 'The packaging is like a pack of candy.',\n",
       " 'The packaging though is very, very cheap.',\n",
       " 'I won’t have to carry a container of liquid soap.',\n",
       " 'Plastic container.',\n",
       " 'Only 4 or 5 soap sheets per container???',\n",
       " 'These claim to have 20 soap sheets er container.',\n",
       " 'Each of ours only had 3 to 6 sheets per container.',\n",
       " 'Colorful, nice gift ~ small, flat, portable dry soap in container Really like these portable soap containers.',\n",
       " 'which is nice in case all you have is a bottle of water in the car or whatever.',\n",
       " 'Sturdy package and they close without a problem.',\n",
       " 'Only complaint was the container is a little hard to open.',\n",
       " \"I always keep one in my bag, in case I need to wash my hands and there's no soap.\",\n",
       " 'Great idea for travel Love these convenience soap with the cute package.',\n",
       " 'Need improvement on case.',\n",
       " 'I thought this would be good use at the public after stay-at-home in case I need.',\n",
       " 'Definitely need lotion after The case is no-go.',\n",
       " 'Lie.. only 2 sheets per container, not 20!',\n",
       " 'As soon as you open it the case separates and is impossible\\nTo get back together Perfect for front line workers I used these in car packages for front line workers during COVID-19.',\n",
       " 'I do wonder about the longevity and what temperatures they should be stored at because there are so many in a package, I envision these lasting for a long while.',\n",
       " 'Nice product Love the convenience of having soap in a nice compact case.',\n",
       " 'The travel case is small and relatively flat.',\n",
       " 'Great value for the money as there are 4 containers with 50 sheets per container.',\n",
       " '200 sheets, nice packaging, travel size soap sheets.',\n",
       " 'Cons: The container which holding the soap is made with cheap plastic.',\n",
       " 'They come in really cute and convenient to carry packaging.',\n",
       " 'They are slim little packages ghat fit in your pocket or purse.',\n",
       " 'Takes up no space and the container is too cute.',\n",
       " \"This is definitely come in handy at festivals, camping trips, or just to have in case wherever you go doesn't have soap.\",\n",
       " 'They come in a small plastic case, which is compact enough to fit in your pocket.',\n",
       " 'The only complaint I have is that the case is a bit difficult to open, hope that can be improved in the future.',\n",
       " 'Very convenient and love the cute packaging.',\n",
       " 'On the go washing❤️ I love these soaps and the packaging is so small that I can fit it into my wallet for on the go.',\n",
       " 'Especially in growing times, having soap in your bag in case you need it is important hygiene.',\n",
       " 'The paper soap is easy to get out of the container.',\n",
       " 'Cute container for eady store in any pocket .',\n",
       " 'The container is small and compact so I can throw it in my purse, car, backpack or pocket.',\n",
       " 'Works well for on the go handwashing Cute packaging.',\n",
       " \"Great It's a good product came in a nice package box it works perfectly I had my 4 daughter try it herself and it works perfect when she was washing her hands Suds up nicely!\",\n",
       " 'I bought this for a recent road trip to have peace of mind in case I needed soap at a rest stop.',\n",
       " 'Soap in a single use package is super smart and convenient.',\n",
       " 'Great Please come in a nice cute convenient little package easy to use really happy with the product Quick and easy hand washing We use these for the beach and have extras in the car just in case we need them.',\n",
       " 'The packaging is cute and the papers are wafer thin and non-greasy.',\n",
       " 'The packaging is small and thin so your able to tuck into your pocket if need be.',\n",
       " \"It's a sturdy package, so it closes without any problems.\",\n",
       " 'Small plastic case.',\n",
       " 'The package is super small and will be easy to have available.',\n",
       " 'The plastic case in which the paper goes is ideal for small handbags, or even travel pockets simple usage Just take out the paper soap, put water on it, rub it, foam it, and wash it.',\n",
       " 'If you make soap for kids that kids will like, so you can use a soap case shaped like a character.',\n",
       " 'Cute case Works as advertised.',\n",
       " 'Really cute case.',\n",
       " 'very good soap The soap case is bigger than I thought.',\n",
       " 'Cute little package that fit in your pocket with 3 colors, my daughter likes pink.',\n",
       " 'A little upset with the packaging.',\n",
       " 'Convenient packaging though.',\n",
       " 'Cute packaging and colors.',\n",
       " 'This product is a great value and packaging was good too.',\n",
       " 'Plus I ordered two 12 box packages and received the same colors in each box.',\n",
       " 'I Have not even used them because of the strong fragrance they have even in the packaging!',\n",
       " 'Higher Quality The case is excellent quality.',\n",
       " \"Only thing I don't like is there's a cancer warning on the package.\",\n",
       " 'My daughter took these packages with her on a mission trip to Peru and loved them.',\n",
       " 'The size and weight of the container is very small and perfect for travel.',\n",
       " 'Small plastic case.',\n",
       " 'Seriously, cut a slice off of your bar of soap at home and put it in an old mints container.',\n",
       " 'This is a good little case to carry in purse or backpack This is a good little case to carry in purse or backpack.',\n",
       " 'Love the packaging and concept.',\n",
       " 'This one comes in plastic packaging.',\n",
       " 'When they arrived the packaging says contains ingredients that are recognized by the state of California as carcinogens.',\n",
       " 'Needless to say I do not want to be using this product and then touching my infant Easy To Use Great if you are in a restroom and the soap dispensers are empty....and you have the container in your purse.',\n",
       " 'The issue I have is the packaging.',\n",
       " 'Now I just keep a spare bottle of water in the car in case we need an \"emergency hand wash\".',\n",
       " 'Glad I found these Cute carrying case and the soap sheets are easy to use.',\n",
       " 'I keep a case in my hiking backpack but can easily see how convenient they’d be for a purse, diaper bag, school backpack etc.',\n",
       " 'Missing pieces I only received one green package, missing three packages for set.',\n",
       " 'Missing items It’s supposed to be a package of 4 but I only recieved 1.',\n",
       " 'It’s easy to use & comes in cute packaging.',\n",
       " 'The container they come in is sturdy so I don’t have to worry about them spilling inside my bag, and the smell is great!',\n",
       " 'Fast shipping & good packaging each container comes individually wrapped.',\n",
       " 'Each little container is sturdy and small enough to stash anywhere, with a little hole through one end so you can make a keychain out of it.',\n",
       " \"Each colored container has soap of the same color (it doesn't show up on your hands), and they have different scents that are mild and pleasant.\",\n",
       " 'But in doing so, I discovered that there is a good sized roll in the container!',\n",
       " 'This product is a great value and packaging was good too.Great for road trips when you don’t want to touch public soap dispensers.',\n",
       " 'Because the soap is in a roll and completely within the plastic case, it is not exposed.',\n",
       " 'You lift the lid of the cylinder and pull off as much as you need, tearing it on the serrated edge of the case, then close the lid.',\n",
       " 'Be careful, though, not to pull out more than you need, as you can’t push it back in without taking the case apart (not difficult but not convenient).',\n",
       " 'Also, you can barely smell the scent on the sheets while in the case, so I don’t have to worry about it transferring scent to other items in my bag.',\n",
       " \"The package sort of smelled like the detergent aisle at the dollar store, but the individual soap rolls do have a pleasant scent, and the different colors do smell slightly different (though it's subtle).\",\n",
       " 'WIsh they were stored in a plastic container.',\n",
       " \"It's hard not to get the packaging wet when washing hands especially if more than one person need to use them.\",\n",
       " 'The packages are small and can be carried easily in my purse or bag.',\n",
       " 'You will dampen the entire package and basically just turn all the sheet back into a bar.',\n",
       " 'The thought being that I can supply the soap sheets and recysle the paper packaging they came in.',\n",
       " 'I like that there is no plastic container for these (less plastic, yeah!)',\n",
       " 'Take the soap out of container before any water is used.',\n",
       " 'The packaging makes it easy to carry.',\n",
       " 'I will be storing these in a ziplock bag since the sheet separation will be ruined if the package gets wet.',\n",
       " 'They come in a package the size of a pack of gum and the soap lathers nicely and washes away easily although occasionally there is a blob of soap that needs to be flicked off as you rinse your hands.',\n",
       " \"You could easily keep a pack of these in a purse or clutch, and they'd be a must if you're traveling, regularly rely on public restrooms, or to give away to someone as a cute and incredibly useful present (the packaging is lovely).\",\n",
       " 'They DO have a strong scent in the package.',\n",
       " 'Best part for me, the scent does not linger more than a few minutes\\n\\nNow, I wanted to give 3 stars because it is very difficult to remove only 1 from the package.',\n",
       " \"I also don't love the cardboard packaging.\",\n",
       " 'These tissue sheets are enclosed in a cardboard container and it is going to very difficult to use the entire package before one day you discover the entire box is a hard, wet mess.',\n",
       " 'I also keep a package in my truck.',\n",
       " 'Nice packaging.',\n",
       " 'The packaging fits easily in a purse of backpack.',\n",
       " 'I love that it smells great when you take it out of the package, but the smell doesn’t linger on your skin after you’ve finished washing.',\n",
       " 'Exactly what I wanted, and cute packaging!',\n",
       " 'Came in such cute packaging - I loved the orange one!',\n",
       " 'The package is about the size of a pack of gum so you can easily bring it anywhere.',\n",
       " 'The packaging is cute and there was enough to share.',\n",
       " 'Only wish it came in plastic container Will buy again I bought 3 different types of paper soap.',\n",
       " 'And the packaging is cute.',\n",
       " 'Ok Lather well but no scent when used only scent in package.',\n",
       " 'It’s very dissapointin, there is not much to say but I like the packaging idea .',\n",
       " 'Just bringing one small case and this portable small soap will help a lot while you are outside.',\n",
       " '(I would like to bring one when I go to the dog park) Like the container.']"
      ]
     },
     "execution_count": 105,
     "metadata": {},
     "output_type": "execute_result"
    }
   ],
   "source": [
    "list_"
   ]
  },
  {
   "cell_type": "code",
   "execution_count": 106,
   "metadata": {},
   "outputs": [],
   "source": [
    "from wordcloud import WordCloud, STOPWORDS \n",
    "from nltk.stem import PorterStemmer\n",
    "from nltk.corpus import stopwords\n",
    "from nltk.tokenize import word_tokenize, sent_tokenize\n",
    "import string\n",
    "import matplotlib\n",
    "from matplotlib import pyplot as plt\n",
    "\n",
    "# make data preprocessing on the review to remove stop words and change each word to their stem\n",
    "def preprocess_data(raw_text):\n",
    "    texts = []\n",
    "    stop_words = set(stopwords.words('english')) \n",
    "    p_stemmer = PorterStemmer()\n",
    "    for i in raw_text:\n",
    "        if type(i) == str:\n",
    "            word_tokens = word_tokenize(i.lower().strip().translate(str.maketrans('', '', string.punctuation)))\n",
    "            #remove stop words\n",
    "            stopped_tokens = [i for i in word_tokens if not i in stop_words]\n",
    "            # change each word to their stem\n",
    "            stemmed_tokens = [p_stemmer.stem(i) for i in stopped_tokens]\n",
    "            texts.append(stemmed_tokens)\n",
    "        else:\n",
    "            continue\n",
    "    return texts"
   ]
  },
  {
   "cell_type": "code",
   "execution_count": 107,
   "metadata": {},
   "outputs": [],
   "source": [
    "# function to draw wordcloud\n",
    "def get_wordcloud(delete_words, text_list):\n",
    "    # raw text preprocessing\n",
    "    clean_text = preprocess_data(text_list)\n",
    "    text = ','.join([','.join(item) for item in clean_text])\n",
    "    # Remove unwanted words\n",
    "    for word in delete_words:\n",
    "        text = text.replace(word,' ')\n",
    "    wordcloud = WordCloud(stopwords=STOPWORDS,background_color='white',width=4000,height=4000,max_words=50).generate(text)\n",
    "    # plot WordCloud\n",
    "    plt.imshow(wordcloud)\n",
    "    plt.axis('off')\n",
    "    plt.show()"
   ]
  },
  {
   "cell_type": "code",
   "execution_count": 108,
   "metadata": {},
   "outputs": [],
   "source": [
    "import string"
   ]
  },
  {
   "cell_type": "code",
   "execution_count": 111,
   "metadata": {
    "scrolled": true
   },
   "outputs": [
    {
     "data": {
      "text/plain": [
       "[('packag', 77),\n",
       " ('case', 47),\n",
       " ('soap', 40),\n",
       " ('contain', 38),\n",
       " ('cute', 23),\n",
       " ('’', 20),\n",
       " ('small', 20),\n",
       " ('like', 17),\n",
       " ('sheet', 17),\n",
       " ('plastic', 16),\n",
       " ('use', 16),\n",
       " ('come', 13),\n",
       " ('good', 13),\n",
       " ('littl', 13),\n",
       " ('need', 13),\n",
       " ('bag', 12),\n",
       " ('great', 12),\n",
       " ('love', 12),\n",
       " ('hand', 11),\n",
       " ('travel', 11),\n",
       " ('one', 10),\n",
       " ('easi', 10),\n",
       " ('carri', 10),\n",
       " ('purs', 10),\n",
       " ('nice', 10),\n",
       " ('product', 9),\n",
       " ('scent', 9),\n",
       " ('go', 9),\n",
       " ('pocket', 9),\n",
       " ('conveni', 9),\n",
       " ('open', 8),\n",
       " ('smell', 8),\n",
       " ('wash', 8),\n",
       " ('close', 7),\n",
       " ('paper', 7),\n",
       " ('easili', 7),\n",
       " ('color', 7),\n",
       " ('fit', 6),\n",
       " ('keep', 6),\n",
       " ('want', 6),\n",
       " ('perfect', 6),\n",
       " ('hard', 6),\n",
       " ('realli', 6),\n",
       " ('size', 6),\n",
       " ('take', 6),\n",
       " ('get', 6),\n",
       " ('car', 6),\n",
       " ('backpack', 6),\n",
       " ('trip', 5),\n",
       " ('sturdi', 5)]"
      ]
     },
     "execution_count": 111,
     "metadata": {},
     "output_type": "execute_result"
    }
   ],
   "source": [
    "# get the 50 most common words in package text\n",
    "from collections import Counter\n",
    "Review = preprocess_data(list_)\n",
    "Review_list = []\n",
    "for i in Review:\n",
    "    Review_list.extend(i)\n",
    "c = Counter(Review_list)\n",
    "c.most_common(50)"
   ]
  },
  {
   "cell_type": "code",
   "execution_count": 112,
   "metadata": {},
   "outputs": [
    {
     "data": {
      "image/png": "[encoded data removed]",
      "text/plain": [
       "<Figure size 432x288 with 1 Axes>"
      ]
     },
     "metadata": {
      "needs_background": "light"
     },
     "output_type": "display_data"
    }
   ],
   "source": [
    "# find the most common confusing words in reviews before covid and put them into delete words list\n",
    "delete_words = ['soap', 'hand', 'use', '’', 'packag', 'sheet', 'great', 'case', 'one', 'good', 'product', 'like', 'contain', 'wash', 'love','smell','scent','go','nice']\n",
    "get_wordcloud(delete_words, list_)"
   ]
  },
  {
   "cell_type": "code",
   "execution_count": 124,
   "metadata": {},
   "outputs": [],
   "source": [
    "# Draw noun chunk bubble chart\n",
    "# remove confusing words\n",
    "delete_words = ['soap','hand','use','’','packag','sheet','great','case','one','good','product','like','contain','wash','love','smell','scent','go','nice','public','little','soaps','sheets','water','wet','workers','containers','restrooms','purposes','entire','bag']\n",
    "import spacy\n",
    "# set up nlp environment in spacy\n",
    "nlp = spacy.load(\"en_core_web_sm\")\n",
    "# use spacy to identify each chunk in the review \n",
    "chunk_list = []\n",
    "for text in list_:\n",
    "    doc = nlp(text.lower())\n",
    "    for chunk in doc.noun_chunks:\n",
    "        chunk = ' '.join([word for word in str(chunk.text).split() if word not in STOPWORDS])\n",
    "        if not (len(chunk.split(' ')) == 0 or len(chunk.split(' ')) == 1):\n",
    "            chunk_list.append(chunk)\n",
    "# create chunk dict to record each chunk's appearence time\n",
    "chunk_dict = dict()\n",
    "for i in chunk_list:\n",
    "    if not set.intersection(set(i.lower().split(' ')), set(delete_words)):\n",
    "        if chunk_dict.get(i):\n",
    "            chunk_dict[i] += 1\n",
    "        else:\n",
    "            chunk_dict[i] = 1\n",
    "# sort chunk dict based on the value\n",
    "sort_list = sorted(chunk_dict.items(), key=lambda x: x[1], reverse=True)"
   ]
  },
  {
   "cell_type": "code",
   "execution_count": 125,
   "metadata": {
    "scrolled": true
   },
   "outputs": [
    {
     "data": {
      "text/plain": [
       "[('cute packaging', 5),\n",
       " ('plastic container', 4),\n",
       " ('camping trips', 2),\n",
       " ('cute package', 2),\n",
       " ('sturdy package', 2),\n",
       " ('best packaging', 1),\n",
       " ('small bags', 1),\n",
       " ('care package', 1),\n",
       " ('silicon type container', 1),\n",
       " ('hard cheap plastic', 1),\n",
       " ('light weight', 1),\n",
       " ('travel size', 1),\n",
       " ('cheap side', 1),\n",
       " ('different looks', 1),\n",
       " ('perfect packaging', 1),\n",
       " ('really thin plastic', 1),\n",
       " ('\"go bags', 1),\n",
       " ('- hands', 1),\n",
       " ('car packages', 1),\n",
       " ('cheap plastic', 1),\n",
       " ('growing times', 1),\n",
       " ('important hygiene', 1),\n",
       " ('cute container', 1),\n",
       " ('eady store', 1),\n",
       " ('4 daughter', 1),\n",
       " ('recent road trip', 1),\n",
       " ('rest stop', 1),\n",
       " ('small handbags', 1),\n",
       " ('simple usage', 1),\n",
       " ('3 colors', 1),\n",
       " ('convenient packaging', 1),\n",
       " ('two 12 box packages', 1),\n",
       " ('strong fragrance', 1),\n",
       " ('higher quality', 1),\n",
       " ('excellent quality', 1),\n",
       " ('mission trip', 1),\n",
       " ('old mints container', 1),\n",
       " ('plastic packaging', 1),\n",
       " ('spare bottle', 1),\n",
       " ('hiking backpack', 1),\n",
       " ('three packages', 1),\n",
       " ('fast shipping', 1),\n",
       " ('colored container', 1),\n",
       " ('different scents', 1),\n",
       " ('road trips', 1),\n",
       " ('serrated edge', 1),\n",
       " ('detergent aisle', 1),\n",
       " ('dollar store', 1),\n",
       " ('different colors', 1),\n",
       " ('paper packaging', 1),\n",
       " ('(less plastic', 1),\n",
       " ('cute incredibly useful present', 1),\n",
       " ('3 stars', 1),\n",
       " ('cardboard packaging', 1),\n",
       " ('cardboard container', 1),\n",
       " ('3 different types', 1),\n",
       " ('packaging idea', 1),\n",
       " ('dog park', 1)]"
      ]
     },
     "execution_count": 125,
     "metadata": {},
     "output_type": "execute_result"
    }
   ],
   "source": [
    "sort_list"
   ]
  },
  {
   "cell_type": "code",
   "execution_count": 126,
   "metadata": {},
   "outputs": [
    {
     "data": {
      "application/vnd.plotly.v1+json": {
       "config": {
        "plotlyServerURL": "https://plot.ly"
       },
       "data": [
        {
         "marker": {
          "size": [
           5,
           4,
           2,
           2,
           2,
           1,
           1,
           1,
           1,
           1
          ]
         },
         "mode": "markers",
         "type": "scatter",
         "x": [
          0,
          1,
          2,
          3,
          4,
          5,
          6,
          7,
          8,
          9
         ],
         "y": [
          5,
          4,
          2,
          2,
          2,
          1,
          1,
          1,
          1,
          1
         ]
        }
       ],
       "layout": {
        "annotations": [
         {
          "showarrow": false,
          "text": "cute packaging",
          "x": 0,
          "xanchor": "center",
          "y": 5,
          "yanchor": "bottom"
         },
         {
          "showarrow": false,
          "text": "plastic container",
          "x": 1,
          "xanchor": "center",
          "y": 4,
          "yanchor": "top"
         },
         {
          "showarrow": false,
          "text": "camping trips",
          "x": 2,
          "xanchor": "center",
          "y": 2,
          "yanchor": "bottom"
         },
         {
          "showarrow": false,
          "text": "cute package",
          "x": 3,
          "xanchor": "center",
          "y": 2,
          "yanchor": "top"
         },
         {
          "showarrow": false,
          "text": "sturdy package",
          "x": 4,
          "xanchor": "center",
          "y": 2,
          "yanchor": "bottom"
         },
         {
          "showarrow": false,
          "text": "best packaging",
          "x": 5,
          "xanchor": "center",
          "y": 1,
          "yanchor": "top"
         },
         {
          "showarrow": false,
          "text": "small bags",
          "x": 6,
          "xanchor": "center",
          "y": 1,
          "yanchor": "bottom"
         },
         {
          "showarrow": false,
          "text": "care package",
          "x": 7,
          "xanchor": "center",
          "y": 1,
          "yanchor": "top"
         },
         {
          "showarrow": false,
          "text": "silicon type container",
          "x": 8,
          "xanchor": "center",
          "y": 1,
          "yanchor": "bottom"
         },
         {
          "showarrow": false,
          "text": "hard cheap plastic",
          "x": 9,
          "xanchor": "center",
          "y": 1,
          "yanchor": "top"
         }
        ],
        "template": {
         "data": {
          "bar": [
           {
            "error_x": {
             "color": "#2a3f5f"
            },
            "error_y": {
             "color": "#2a3f5f"
            },
            "marker": {
             "line": {
              "color": "#E5ECF6",
              "width": 0.5
             }
            },
            "type": "bar"
           }
          ],
          "barpolar": [
           {
            "marker": {
             "line": {
              "color": "#E5ECF6",
              "width": 0.5
             }
            },
            "type": "barpolar"
           }
          ],
          "carpet": [
           {
            "aaxis": {
             "endlinecolor": "#2a3f5f",
             "gridcolor": "white",
             "linecolor": "white",
             "minorgridcolor": "white",
             "startlinecolor": "#2a3f5f"
            },
            "baxis": {
             "endlinecolor": "#2a3f5f",
             "gridcolor": "white",
             "linecolor": "white",
             "minorgridcolor": "white",
             "startlinecolor": "#2a3f5f"
            },
            "type": "carpet"
           }
          ],
          "choropleth": [
           {
            "colorbar": {
             "outlinewidth": 0,
             "ticks": ""
            },
            "type": "choropleth"
           }
          ],
          "contour": [
           {
            "colorbar": {
             "outlinewidth": 0,
             "ticks": ""
            },
            "colorscale": [
             [
              0,
              "#0d0887"
             ],
             [
              0.1111111111111111,
              "#46039f"
             ],
             [
              0.2222222222222222,
              "#7201a8"
             ],
             [
              0.3333333333333333,
              "#9c179e"
             ],
             [
              0.4444444444444444,
              "#bd3786"
             ],
             [
              0.5555555555555556,
              "#d8576b"
             ],
             [
              0.6666666666666666,
              "#ed7953"
             ],
             [
              0.7777777777777778,
              "#fb9f3a"
             ],
             [
              0.8888888888888888,
              "#fdca26"
             ],
             [
              1,
              "#f0f921"
             ]
            ],
            "type": "contour"
           }
          ],
          "contourcarpet": [
           {
            "colorbar": {
             "outlinewidth": 0,
             "ticks": ""
            },
            "type": "contourcarpet"
           }
          ],
          "heatmap": [
           {
            "colorbar": {
             "outlinewidth": 0,
             "ticks": ""
            },
            "colorscale": [
             [
              0,
              "#0d0887"
             ],
             [
              0.1111111111111111,
              "#46039f"
             ],
             [
              0.2222222222222222,
              "#7201a8"
             ],
             [
              0.3333333333333333,
              "#9c179e"
             ],
             [
              0.4444444444444444,
              "#bd3786"
             ],
             [
              0.5555555555555556,
              "#d8576b"
             ],
             [
              0.6666666666666666,
              "#ed7953"
             ],
             [
              0.7777777777777778,
              "#fb9f3a"
             ],
             [
              0.8888888888888888,
              "#fdca26"
             ],
             [
              1,
              "#f0f921"
             ]
            ],
            "type": "heatmap"
           }
          ],
          "heatmapgl": [
           {
            "colorbar": {
             "outlinewidth": 0,
             "ticks": ""
            },
            "colorscale": [
             [
              0,
              "#0d0887"
             ],
             [
              0.1111111111111111,
              "#46039f"
             ],
             [
              0.2222222222222222,
              "#7201a8"
             ],
             [
              0.3333333333333333,
              "#9c179e"
             ],
             [
              0.4444444444444444,
              "#bd3786"
             ],
             [
              0.5555555555555556,
              "#d8576b"
             ],
             [
              0.6666666666666666,
              "#ed7953"
             ],
             [
              0.7777777777777778,
              "#fb9f3a"
             ],
             [
              0.8888888888888888,
              "#fdca26"
             ],
             [
              1,
              "#f0f921"
             ]
            ],
            "type": "heatmapgl"
           }
          ],
          "histogram": [
           {
            "marker": {
             "colorbar": {
              "outlinewidth": 0,
              "ticks": ""
             }
            },
            "type": "histogram"
           }
          ],
          "histogram2d": [
           {
            "colorbar": {
             "outlinewidth": 0,
             "ticks": ""
            },
            "colorscale": [
             [
              0,
              "#0d0887"
             ],
             [
              0.1111111111111111,
              "#46039f"
             ],
             [
              0.2222222222222222,
              "#7201a8"
             ],
             [
              0.3333333333333333,
              "#9c179e"
             ],
             [
              0.4444444444444444,
              "#bd3786"
             ],
             [
              0.5555555555555556,
              "#d8576b"
             ],
             [
              0.6666666666666666,
              "#ed7953"
             ],
             [
              0.7777777777777778,
              "#fb9f3a"
             ],
             [
              0.8888888888888888,
              "#fdca26"
             ],
             [
              1,
              "#f0f921"
             ]
            ],
            "type": "histogram2d"
           }
          ],
          "histogram2dcontour": [
           {
            "colorbar": {
             "outlinewidth": 0,
             "ticks": ""
            },
            "colorscale": [
             [
              0,
              "#0d0887"
             ],
             [
              0.1111111111111111,
              "#46039f"
             ],
             [
              0.2222222222222222,
              "#7201a8"
             ],
             [
              0.3333333333333333,
              "#9c179e"
             ],
             [
              0.4444444444444444,
              "#bd3786"
             ],
             [
              0.5555555555555556,
              "#d8576b"
             ],
             [
              0.6666666666666666,
              "#ed7953"
             ],
             [
              0.7777777777777778,
              "#fb9f3a"
             ],
             [
              0.8888888888888888,
              "#fdca26"
             ],
             [
              1,
              "#f0f921"
             ]
            ],
            "type": "histogram2dcontour"
           }
          ],
          "mesh3d": [
           {
            "colorbar": {
             "outlinewidth": 0,
             "ticks": ""
            },
            "type": "mesh3d"
           }
          ],
          "parcoords": [
           {
            "line": {
             "colorbar": {
              "outlinewidth": 0,
              "ticks": ""
             }
            },
            "type": "parcoords"
           }
          ],
          "pie": [
           {
            "automargin": true,
            "type": "pie"
           }
          ],
          "scatter": [
           {
            "marker": {
             "colorbar": {
              "outlinewidth": 0,
              "ticks": ""
             }
            },
            "type": "scatter"
           }
          ],
          "scatter3d": [
           {
            "line": {
             "colorbar": {
              "outlinewidth": 0,
              "ticks": ""
             }
            },
            "marker": {
             "colorbar": {
              "outlinewidth": 0,
              "ticks": ""
             }
            },
            "type": "scatter3d"
           }
          ],
          "scattercarpet": [
           {
            "marker": {
             "colorbar": {
              "outlinewidth": 0,
              "ticks": ""
             }
            },
            "type": "scattercarpet"
           }
          ],
          "scattergeo": [
           {
            "marker": {
             "colorbar": {
              "outlinewidth": 0,
              "ticks": ""
             }
            },
            "type": "scattergeo"
           }
          ],
          "scattergl": [
           {
            "marker": {
             "colorbar": {
              "outlinewidth": 0,
              "ticks": ""
             }
            },
            "type": "scattergl"
           }
          ],
          "scattermapbox": [
           {
            "marker": {
             "colorbar": {
              "outlinewidth": 0,
              "ticks": ""
             }
            },
            "type": "scattermapbox"
           }
          ],
          "scatterpolar": [
           {
            "marker": {
             "colorbar": {
              "outlinewidth": 0,
              "ticks": ""
             }
            },
            "type": "scatterpolar"
           }
          ],
          "scatterpolargl": [
           {
            "marker": {
             "colorbar": {
              "outlinewidth": 0,
              "ticks": ""
             }
            },
            "type": "scatterpolargl"
           }
          ],
          "scatterternary": [
           {
            "marker": {
             "colorbar": {
              "outlinewidth": 0,
              "ticks": ""
             }
            },
            "type": "scatterternary"
           }
          ],
          "surface": [
           {
            "colorbar": {
             "outlinewidth": 0,
             "ticks": ""
            },
            "colorscale": [
             [
              0,
              "#0d0887"
             ],
             [
              0.1111111111111111,
              "#46039f"
             ],
             [
              0.2222222222222222,
              "#7201a8"
             ],
             [
              0.3333333333333333,
              "#9c179e"
             ],
             [
              0.4444444444444444,
              "#bd3786"
             ],
             [
              0.5555555555555556,
              "#d8576b"
             ],
             [
              0.6666666666666666,
              "#ed7953"
             ],
             [
              0.7777777777777778,
              "#fb9f3a"
             ],
             [
              0.8888888888888888,
              "#fdca26"
             ],
             [
              1,
              "#f0f921"
             ]
            ],
            "type": "surface"
           }
          ],
          "table": [
           {
            "cells": {
             "fill": {
              "color": "#EBF0F8"
             },
             "line": {
              "color": "white"
             }
            },
            "header": {
             "fill": {
              "color": "#C8D4E3"
             },
             "line": {
              "color": "white"
             }
            },
            "type": "table"
           }
          ]
         },
         "layout": {
          "annotationdefaults": {
           "arrowcolor": "#2a3f5f",
           "arrowhead": 0,
           "arrowwidth": 1
          },
          "coloraxis": {
           "colorbar": {
            "outlinewidth": 0,
            "ticks": ""
           }
          },
          "colorscale": {
           "diverging": [
            [
             0,
             "#8e0152"
            ],
            [
             0.1,
             "#c51b7d"
            ],
            [
             0.2,
             "#de77ae"
            ],
            [
             0.3,
             "#f1b6da"
            ],
            [
             0.4,
             "#fde0ef"
            ],
            [
             0.5,
             "#f7f7f7"
            ],
            [
             0.6,
             "#e6f5d0"
            ],
            [
             0.7,
             "#b8e186"
            ],
            [
             0.8,
             "#7fbc41"
            ],
            [
             0.9,
             "#4d9221"
            ],
            [
             1,
             "#276419"
            ]
           ],
           "sequential": [
            [
             0,
             "#0d0887"
            ],
            [
             0.1111111111111111,
             "#46039f"
            ],
            [
             0.2222222222222222,
             "#7201a8"
            ],
            [
             0.3333333333333333,
             "#9c179e"
            ],
            [
             0.4444444444444444,
             "#bd3786"
            ],
            [
             0.5555555555555556,
             "#d8576b"
            ],
            [
             0.6666666666666666,
             "#ed7953"
            ],
            [
             0.7777777777777778,
             "#fb9f3a"
            ],
            [
             0.8888888888888888,
             "#fdca26"
            ],
            [
             1,
             "#f0f921"
            ]
           ],
           "sequentialminus": [
            [
             0,
             "#0d0887"
            ],
            [
             0.1111111111111111,
             "#46039f"
            ],
            [
             0.2222222222222222,
             "#7201a8"
            ],
            [
             0.3333333333333333,
             "#9c179e"
            ],
            [
             0.4444444444444444,
             "#bd3786"
            ],
            [
             0.5555555555555556,
             "#d8576b"
            ],
            [
             0.6666666666666666,
             "#ed7953"
            ],
            [
             0.7777777777777778,
             "#fb9f3a"
            ],
            [
             0.8888888888888888,
             "#fdca26"
            ],
            [
             1,
             "#f0f921"
            ]
           ]
          },
          "colorway": [
           "#636efa",
           "#EF553B",
           "#00cc96",
           "#ab63fa",
           "#FFA15A",
           "#19d3f3",
           "#FF6692",
           "#B6E880",
           "#FF97FF",
           "#FECB52"
          ],
          "font": {
           "color": "#2a3f5f"
          },
          "geo": {
           "bgcolor": "white",
           "lakecolor": "white",
           "landcolor": "#E5ECF6",
           "showlakes": true,
           "showland": true,
           "subunitcolor": "white"
          },
          "hoverlabel": {
           "align": "left"
          },
          "hovermode": "closest",
          "mapbox": {
           "style": "light"
          },
          "paper_bgcolor": "white",
          "plot_bgcolor": "#E5ECF6",
          "polar": {
           "angularaxis": {
            "gridcolor": "white",
            "linecolor": "white",
            "ticks": ""
           },
           "bgcolor": "#E5ECF6",
           "radialaxis": {
            "gridcolor": "white",
            "linecolor": "white",
            "ticks": ""
           }
          },
          "scene": {
           "xaxis": {
            "backgroundcolor": "#E5ECF6",
            "gridcolor": "white",
            "gridwidth": 2,
            "linecolor": "white",
            "showbackground": true,
            "ticks": "",
            "zerolinecolor": "white"
           },
           "yaxis": {
            "backgroundcolor": "#E5ECF6",
            "gridcolor": "white",
            "gridwidth": 2,
            "linecolor": "white",
            "showbackground": true,
            "ticks": "",
            "zerolinecolor": "white"
           },
           "zaxis": {
            "backgroundcolor": "#E5ECF6",
            "gridcolor": "white",
            "gridwidth": 2,
            "linecolor": "white",
            "showbackground": true,
            "ticks": "",
            "zerolinecolor": "white"
           }
          },
          "shapedefaults": {
           "line": {
            "color": "#2a3f5f"
           }
          },
          "ternary": {
           "aaxis": {
            "gridcolor": "white",
            "linecolor": "white",
            "ticks": ""
           },
           "baxis": {
            "gridcolor": "white",
            "linecolor": "white",
            "ticks": ""
           },
           "bgcolor": "#E5ECF6",
           "caxis": {
            "gridcolor": "white",
            "linecolor": "white",
            "ticks": ""
           }
          },
          "title": {
           "x": 0.05
          },
          "xaxis": {
           "automargin": true,
           "gridcolor": "white",
           "linecolor": "white",
           "ticks": "",
           "title": {
            "standoff": 15
           },
           "zerolinecolor": "white",
           "zerolinewidth": 2
          },
          "yaxis": {
           "automargin": true,
           "gridcolor": "white",
           "linecolor": "white",
           "ticks": "",
           "title": {
            "standoff": 15
           },
           "zerolinecolor": "white",
           "zerolinewidth": 2
          }
         }
        }
       }
      },
      "text/html": [
       "<div>\n",
       "        \n",
       "        \n",
       "            <div id=\"353a61b3-c70d-49f0-9acc-bb5ea1aa9a71\" class=\"plotly-graph-div\" style=\"height:525px; width:100%;\"></div>\n",
       "            <script type=\"text/javascript\">\n",
       "                require([\"plotly\"], function(Plotly) {\n",
       "                    window.PLOTLYENV=window.PLOTLYENV || {};\n",
       "                    \n",
       "                if (document.getElementById(\"353a61b3-c70d-49f0-9acc-bb5ea1aa9a71\")) {\n",
       "                    Plotly.newPlot(\n",
       "                        '353a61b3-c70d-49f0-9acc-bb5ea1aa9a71',\n",
       "                        [{\"marker\": {\"size\": [5, 4, 2, 2, 2, 1, 1, 1, 1, 1]}, \"mode\": \"markers\", \"type\": \"scatter\", \"x\": [0, 1, 2, 3, 4, 5, 6, 7, 8, 9], \"y\": [5, 4, 2, 2, 2, 1, 1, 1, 1, 1]}],\n",
       "                        {\"annotations\": [{\"showarrow\": false, \"text\": \"cute packaging\", \"x\": 0, \"xanchor\": \"center\", \"y\": 5, \"yanchor\": \"bottom\"}, {\"showarrow\": false, \"text\": \"plastic container\", \"x\": 1, \"xanchor\": \"center\", \"y\": 4, \"yanchor\": \"top\"}, {\"showarrow\": false, \"text\": \"camping trips\", \"x\": 2, \"xanchor\": \"center\", \"y\": 2, \"yanchor\": \"bottom\"}, {\"showarrow\": false, \"text\": \"cute package\", \"x\": 3, \"xanchor\": \"center\", \"y\": 2, \"yanchor\": \"top\"}, {\"showarrow\": false, \"text\": \"sturdy package\", \"x\": 4, \"xanchor\": \"center\", \"y\": 2, \"yanchor\": \"bottom\"}, {\"showarrow\": false, \"text\": \"best packaging\", \"x\": 5, \"xanchor\": \"center\", \"y\": 1, \"yanchor\": \"top\"}, {\"showarrow\": false, \"text\": \"small bags\", \"x\": 6, \"xanchor\": \"center\", \"y\": 1, \"yanchor\": \"bottom\"}, {\"showarrow\": false, \"text\": \"care package\", \"x\": 7, \"xanchor\": \"center\", \"y\": 1, \"yanchor\": \"top\"}, {\"showarrow\": false, \"text\": \"silicon type container\", \"x\": 8, \"xanchor\": \"center\", \"y\": 1, \"yanchor\": \"bottom\"}, {\"showarrow\": false, \"text\": \"hard cheap plastic\", \"x\": 9, \"xanchor\": \"center\", \"y\": 1, \"yanchor\": \"top\"}], \"template\": {\"data\": {\"bar\": [{\"error_x\": {\"color\": \"#2a3f5f\"}, \"error_y\": {\"color\": \"#2a3f5f\"}, \"marker\": {\"line\": {\"color\": \"#E5ECF6\", \"width\": 0.5}}, \"type\": \"bar\"}], \"barpolar\": [{\"marker\": {\"line\": {\"color\": \"#E5ECF6\", \"width\": 0.5}}, \"type\": \"barpolar\"}], \"carpet\": [{\"aaxis\": {\"endlinecolor\": \"#2a3f5f\", \"gridcolor\": \"white\", \"linecolor\": \"white\", \"minorgridcolor\": \"white\", \"startlinecolor\": \"#2a3f5f\"}, \"baxis\": {\"endlinecolor\": \"#2a3f5f\", \"gridcolor\": \"white\", \"linecolor\": \"white\", \"minorgridcolor\": \"white\", \"startlinecolor\": \"#2a3f5f\"}, \"type\": \"carpet\"}], \"choropleth\": [{\"colorbar\": {\"outlinewidth\": 0, \"ticks\": \"\"}, \"type\": \"choropleth\"}], \"contour\": [{\"colorbar\": {\"outlinewidth\": 0, \"ticks\": \"\"}, \"colorscale\": [[0.0, \"#0d0887\"], [0.1111111111111111, \"#46039f\"], [0.2222222222222222, \"#7201a8\"], [0.3333333333333333, \"#9c179e\"], [0.4444444444444444, \"#bd3786\"], [0.5555555555555556, \"#d8576b\"], [0.6666666666666666, \"#ed7953\"], [0.7777777777777778, \"#fb9f3a\"], [0.8888888888888888, \"#fdca26\"], [1.0, \"#f0f921\"]], \"type\": \"contour\"}], \"contourcarpet\": [{\"colorbar\": {\"outlinewidth\": 0, \"ticks\": \"\"}, \"type\": \"contourcarpet\"}], \"heatmap\": [{\"colorbar\": {\"outlinewidth\": 0, \"ticks\": \"\"}, \"colorscale\": [[0.0, \"#0d0887\"], [0.1111111111111111, \"#46039f\"], [0.2222222222222222, \"#7201a8\"], [0.3333333333333333, \"#9c179e\"], [0.4444444444444444, \"#bd3786\"], [0.5555555555555556, \"#d8576b\"], [0.6666666666666666, \"#ed7953\"], [0.7777777777777778, \"#fb9f3a\"], [0.8888888888888888, \"#fdca26\"], [1.0, \"#f0f921\"]], \"type\": \"heatmap\"}], \"heatmapgl\": [{\"colorbar\": {\"outlinewidth\": 0, \"ticks\": \"\"}, \"colorscale\": [[0.0, \"#0d0887\"], [0.1111111111111111, \"#46039f\"], [0.2222222222222222, \"#7201a8\"], [0.3333333333333333, \"#9c179e\"], [0.4444444444444444, \"#bd3786\"], [0.5555555555555556, \"#d8576b\"], [0.6666666666666666, \"#ed7953\"], [0.7777777777777778, \"#fb9f3a\"], [0.8888888888888888, \"#fdca26\"], [1.0, \"#f0f921\"]], \"type\": \"heatmapgl\"}], \"histogram\": [{\"marker\": {\"colorbar\": {\"outlinewidth\": 0, \"ticks\": \"\"}}, \"type\": \"histogram\"}], \"histogram2d\": [{\"colorbar\": {\"outlinewidth\": 0, \"ticks\": \"\"}, \"colorscale\": [[0.0, \"#0d0887\"], [0.1111111111111111, \"#46039f\"], [0.2222222222222222, \"#7201a8\"], [0.3333333333333333, \"#9c179e\"], [0.4444444444444444, \"#bd3786\"], [0.5555555555555556, \"#d8576b\"], [0.6666666666666666, \"#ed7953\"], [0.7777777777777778, \"#fb9f3a\"], [0.8888888888888888, \"#fdca26\"], [1.0, \"#f0f921\"]], \"type\": \"histogram2d\"}], \"histogram2dcontour\": [{\"colorbar\": {\"outlinewidth\": 0, \"ticks\": \"\"}, \"colorscale\": [[0.0, \"#0d0887\"], [0.1111111111111111, \"#46039f\"], [0.2222222222222222, \"#7201a8\"], [0.3333333333333333, \"#9c179e\"], [0.4444444444444444, \"#bd3786\"], [0.5555555555555556, \"#d8576b\"], [0.6666666666666666, \"#ed7953\"], [0.7777777777777778, \"#fb9f3a\"], [0.8888888888888888, \"#fdca26\"], [1.0, \"#f0f921\"]], \"type\": \"histogram2dcontour\"}], \"mesh3d\": [{\"colorbar\": {\"outlinewidth\": 0, \"ticks\": \"\"}, \"type\": \"mesh3d\"}], \"parcoords\": [{\"line\": {\"colorbar\": {\"outlinewidth\": 0, \"ticks\": \"\"}}, \"type\": \"parcoords\"}], \"pie\": [{\"automargin\": true, \"type\": \"pie\"}], \"scatter\": [{\"marker\": {\"colorbar\": {\"outlinewidth\": 0, \"ticks\": \"\"}}, \"type\": \"scatter\"}], \"scatter3d\": [{\"line\": {\"colorbar\": {\"outlinewidth\": 0, \"ticks\": \"\"}}, \"marker\": {\"colorbar\": {\"outlinewidth\": 0, \"ticks\": \"\"}}, \"type\": \"scatter3d\"}], \"scattercarpet\": [{\"marker\": {\"colorbar\": {\"outlinewidth\": 0, \"ticks\": \"\"}}, \"type\": \"scattercarpet\"}], \"scattergeo\": [{\"marker\": {\"colorbar\": {\"outlinewidth\": 0, \"ticks\": \"\"}}, \"type\": \"scattergeo\"}], \"scattergl\": [{\"marker\": {\"colorbar\": {\"outlinewidth\": 0, \"ticks\": \"\"}}, \"type\": \"scattergl\"}], \"scattermapbox\": [{\"marker\": {\"colorbar\": {\"outlinewidth\": 0, \"ticks\": \"\"}}, \"type\": \"scattermapbox\"}], \"scatterpolar\": [{\"marker\": {\"colorbar\": {\"outlinewidth\": 0, \"ticks\": \"\"}}, \"type\": \"scatterpolar\"}], \"scatterpolargl\": [{\"marker\": {\"colorbar\": {\"outlinewidth\": 0, \"ticks\": \"\"}}, \"type\": \"scatterpolargl\"}], \"scatterternary\": [{\"marker\": {\"colorbar\": {\"outlinewidth\": 0, \"ticks\": \"\"}}, \"type\": \"scatterternary\"}], \"surface\": [{\"colorbar\": {\"outlinewidth\": 0, \"ticks\": \"\"}, \"colorscale\": [[0.0, \"#0d0887\"], [0.1111111111111111, \"#46039f\"], [0.2222222222222222, \"#7201a8\"], [0.3333333333333333, \"#9c179e\"], [0.4444444444444444, \"#bd3786\"], [0.5555555555555556, \"#d8576b\"], [0.6666666666666666, \"#ed7953\"], [0.7777777777777778, \"#fb9f3a\"], [0.8888888888888888, \"#fdca26\"], [1.0, \"#f0f921\"]], \"type\": \"surface\"}], \"table\": [{\"cells\": {\"fill\": {\"color\": \"#EBF0F8\"}, \"line\": {\"color\": \"white\"}}, \"header\": {\"fill\": {\"color\": \"#C8D4E3\"}, \"line\": {\"color\": \"white\"}}, \"type\": \"table\"}]}, \"layout\": {\"annotationdefaults\": {\"arrowcolor\": \"#2a3f5f\", \"arrowhead\": 0, \"arrowwidth\": 1}, \"coloraxis\": {\"colorbar\": {\"outlinewidth\": 0, \"ticks\": \"\"}}, \"colorscale\": {\"diverging\": [[0, \"#8e0152\"], [0.1, \"#c51b7d\"], [0.2, \"#de77ae\"], [0.3, \"#f1b6da\"], [0.4, \"#fde0ef\"], [0.5, \"#f7f7f7\"], [0.6, \"#e6f5d0\"], [0.7, \"#b8e186\"], [0.8, \"#7fbc41\"], [0.9, \"#4d9221\"], [1, \"#276419\"]], \"sequential\": [[0.0, \"#0d0887\"], [0.1111111111111111, \"#46039f\"], [0.2222222222222222, \"#7201a8\"], [0.3333333333333333, \"#9c179e\"], [0.4444444444444444, \"#bd3786\"], [0.5555555555555556, \"#d8576b\"], [0.6666666666666666, \"#ed7953\"], [0.7777777777777778, \"#fb9f3a\"], [0.8888888888888888, \"#fdca26\"], [1.0, \"#f0f921\"]], \"sequentialminus\": [[0.0, \"#0d0887\"], [0.1111111111111111, \"#46039f\"], [0.2222222222222222, \"#7201a8\"], [0.3333333333333333, \"#9c179e\"], [0.4444444444444444, \"#bd3786\"], [0.5555555555555556, \"#d8576b\"], [0.6666666666666666, \"#ed7953\"], [0.7777777777777778, \"#fb9f3a\"], [0.8888888888888888, \"#fdca26\"], [1.0, \"#f0f921\"]]}, \"colorway\": [\"#636efa\", \"#EF553B\", \"#00cc96\", \"#ab63fa\", \"#FFA15A\", \"#19d3f3\", \"#FF6692\", \"#B6E880\", \"#FF97FF\", \"#FECB52\"], \"font\": {\"color\": \"#2a3f5f\"}, \"geo\": {\"bgcolor\": \"white\", \"lakecolor\": \"white\", \"landcolor\": \"#E5ECF6\", \"showlakes\": true, \"showland\": true, \"subunitcolor\": \"white\"}, \"hoverlabel\": {\"align\": \"left\"}, \"hovermode\": \"closest\", \"mapbox\": {\"style\": \"light\"}, \"paper_bgcolor\": \"white\", \"plot_bgcolor\": \"#E5ECF6\", \"polar\": {\"angularaxis\": {\"gridcolor\": \"white\", \"linecolor\": \"white\", \"ticks\": \"\"}, \"bgcolor\": \"#E5ECF6\", \"radialaxis\": {\"gridcolor\": \"white\", \"linecolor\": \"white\", \"ticks\": \"\"}}, \"scene\": {\"xaxis\": {\"backgroundcolor\": \"#E5ECF6\", \"gridcolor\": \"white\", \"gridwidth\": 2, \"linecolor\": \"white\", \"showbackground\": true, \"ticks\": \"\", \"zerolinecolor\": \"white\"}, \"yaxis\": {\"backgroundcolor\": \"#E5ECF6\", \"gridcolor\": \"white\", \"gridwidth\": 2, \"linecolor\": \"white\", \"showbackground\": true, \"ticks\": \"\", \"zerolinecolor\": \"white\"}, \"zaxis\": {\"backgroundcolor\": \"#E5ECF6\", \"gridcolor\": \"white\", \"gridwidth\": 2, \"linecolor\": \"white\", \"showbackground\": true, \"ticks\": \"\", \"zerolinecolor\": \"white\"}}, \"shapedefaults\": {\"line\": {\"color\": \"#2a3f5f\"}}, \"ternary\": {\"aaxis\": {\"gridcolor\": \"white\", \"linecolor\": \"white\", \"ticks\": \"\"}, \"baxis\": {\"gridcolor\": \"white\", \"linecolor\": \"white\", \"ticks\": \"\"}, \"bgcolor\": \"#E5ECF6\", \"caxis\": {\"gridcolor\": \"white\", \"linecolor\": \"white\", \"ticks\": \"\"}}, \"title\": {\"x\": 0.05}, \"xaxis\": {\"automargin\": true, \"gridcolor\": \"white\", \"linecolor\": \"white\", \"ticks\": \"\", \"title\": {\"standoff\": 15}, \"zerolinecolor\": \"white\", \"zerolinewidth\": 2}, \"yaxis\": {\"automargin\": true, \"gridcolor\": \"white\", \"linecolor\": \"white\", \"ticks\": \"\", \"title\": {\"standoff\": 15}, \"zerolinecolor\": \"white\", \"zerolinewidth\": 2}}}},\n",
       "                        {\"responsive\": true}\n",
       "                    ).then(function(){\n",
       "                            \n",
       "var gd = document.getElementById('353a61b3-c70d-49f0-9acc-bb5ea1aa9a71');\n",
       "var x = new MutationObserver(function (mutations, observer) {{\n",
       "        var display = window.getComputedStyle(gd).display;\n",
       "        if (!display || display === 'none') {{\n",
       "            console.log([gd, 'removed!']);\n",
       "            Plotly.purge(gd);\n",
       "            observer.disconnect();\n",
       "        }}\n",
       "}});\n",
       "\n",
       "// Listen for the removal of the full notebook cells\n",
       "var notebookContainer = gd.closest('#notebook-container');\n",
       "if (notebookContainer) {{\n",
       "    x.observe(notebookContainer, {childList: true});\n",
       "}}\n",
       "\n",
       "// Listen for the clearing of the current output cell\n",
       "var outputEl = gd.closest('.output');\n",
       "if (outputEl) {{\n",
       "    x.observe(outputEl, {childList: true});\n",
       "}}\n",
       "\n",
       "                        })\n",
       "                };\n",
       "                });\n",
       "            </script>\n",
       "        </div>"
      ]
     },
     "metadata": {},
     "output_type": "display_data"
    }
   ],
   "source": [
    "# draw bubble chart for the most ten frequency chunks\n",
    "import plotly.graph_objects as go\n",
    "x_data = list(range(10))\n",
    "y_data = list(zip(*sort_list))[1][:10]\n",
    "z_data = list(zip(*sort_list))[0][:10]\n",
    "annotations = [\n",
    "    dict(\n",
    "        x=x_data[i], \n",
    "        y=y_data[i],\n",
    "        text=z_data[i], # Some conditional to define outliers\n",
    "        showarrow=False,\n",
    "        xanchor='center',  # Position of text relative to x axis (left/right/center)\n",
    "        yanchor='top' if i%2 else 'bottom',  # Position of text relative to y axis (top/bottom/middle)\n",
    "    ) for i in range(10)\n",
    "]\n",
    "trace0 = go.Scatter(\n",
    "    x=x_data,\n",
    "    y=y_data,\n",
    "    mode='markers',\n",
    "    marker=dict(\n",
    "        size=[i for i in y_data],\n",
    "    )\n",
    ")\n",
    "\n",
    "data = [trace0]\n",
    "layout = go.Layout(annotations=annotations)\n",
    "\n",
    "fig = go.Figure(data=data, layout=layout)\n",
    "fig.show()"
   ]
  },
  {
   "cell_type": "code",
   "execution_count": 127,
   "metadata": {},
   "outputs": [],
   "source": [
    "# conduct sentiment analysis on these reviews\n",
    "from pattern.en import sentiment\n",
    "senti = []\n",
    "for i in range(len(list_)):\n",
    "    senti.append(sentiment(list_[i])[0])"
   ]
  },
  {
   "cell_type": "code",
   "execution_count": 128,
   "metadata": {},
   "outputs": [
    {
     "data": {
      "text/plain": [
       "[0.0,\n",
       " 0.26,\n",
       " 0.3,\n",
       " -0.0625,\n",
       " 0.12111111111111117,\n",
       " -0.35,\n",
       " 0.0,\n",
       " 1.0,\n",
       " 0.0,\n",
       " 0.22777777777777777,\n",
       " 0.7749999999999999,\n",
       " -0.22916666666666666,\n",
       " 0.0,\n",
       " 1.0,\n",
       " 0.036111111111111094,\n",
       " 0.3333333333333333,\n",
       " -0.1375,\n",
       " -0.12361111111111112,\n",
       " 0.8,\n",
       " 0.0,\n",
       " 0.09449999999999999,\n",
       " 0.05416666666666667,\n",
       " 0.0,\n",
       " 0.5111111111111112,\n",
       " 0.58,\n",
       " 0.08611111111111112,\n",
       " -0.25,\n",
       " -0.375,\n",
       " 0.07500000000000001,\n",
       " 0.0,\n",
       " 0.1328125,\n",
       " 1.0,\n",
       " 0.04916666666666667,\n",
       " 0.4777777777777778,\n",
       " 0.0,\n",
       " 0.52,\n",
       " 0.0,\n",
       " 0.0,\n",
       " 0.0,\n",
       " 0.0,\n",
       " 0.0,\n",
       " 0.12638888888888888,\n",
       " 0.6,\n",
       " 0.0,\n",
       " -0.15583333333333332,\n",
       " 0.0,\n",
       " 0.6,\n",
       " 0.0,\n",
       " 0.35,\n",
       " 0.0,\n",
       " 0.0,\n",
       " 0.08333333333333334,\n",
       " 0.15,\n",
       " 0.5666666666666668,\n",
       " -0.1375,\n",
       " 0.8,\n",
       " 0.6,\n",
       " 0.4,\n",
       " 0.5,\n",
       " 0.10625000000000001,\n",
       " 0.5,\n",
       " 0.3,\n",
       " 0.05000000000000001,\n",
       " -0.16,\n",
       " 0.39999999999999997,\n",
       " 0.4125,\n",
       " 0.2,\n",
       " 0.43333333333333335,\n",
       " 0.5,\n",
       " -0.25,\n",
       " 0.5,\n",
       " 0.8083333333333332,\n",
       " 0.0,\n",
       " 0.15873015873015872,\n",
       " 0.46406249999999993,\n",
       " 0.04999999999999999,\n",
       " -0.05000000000000001,\n",
       " 0.0,\n",
       " -0.25,\n",
       " 0.22916666666666666,\n",
       " 0.21666666666666667,\n",
       " 0.0,\n",
       " 0.5,\n",
       " 0.5,\n",
       " 0.45499999999999996,\n",
       " 0.153125,\n",
       " -0.1875,\n",
       " 0.0,\n",
       " 0.5,\n",
       " 0.75,\n",
       " 0.0,\n",
       " 0.5416666666666666,\n",
       " 0.625,\n",
       " 0.0,\n",
       " 0.7,\n",
       " 0.3375,\n",
       " -0.25,\n",
       " -0.11666666666666665,\n",
       " 0.25625,\n",
       " 0.5,\n",
       " 0.0,\n",
       " 0.0,\n",
       " 0.30833333333333335,\n",
       " 0.0,\n",
       " 0.0,\n",
       " 0.4777777777777778,\n",
       " 0.43333333333333335,\n",
       " -0.15000000000000002,\n",
       " -0.1,\n",
       " 0.4666666666666667,\n",
       " 1.0,\n",
       " 0.3,\n",
       " -0.15625,\n",
       " 0.26666666666666666,\n",
       " 0.875,\n",
       " 0.5,\n",
       " 0.1,\n",
       " 0.2,\n",
       " 0.1625,\n",
       " -0.0375,\n",
       " 0.07999999999999999,\n",
       " 0.0,\n",
       " 0.20277777777777775,\n",
       " 0.09166666666666667,\n",
       " 0.0,\n",
       " 0.0,\n",
       " -0.20833333333333331,\n",
       " 0.0,\n",
       " 0.43333333333333335,\n",
       " -0.1,\n",
       " 0.3444444444444444,\n",
       " 0.24761904761904763,\n",
       " 0.4333333333333333,\n",
       " 0.13,\n",
       " -0.25,\n",
       " -0.2027777777777778,\n",
       " 0.0,\n",
       " 0.6,\n",
       " 0.43333333333333335,\n",
       " 0.65,\n",
       " 0.4375,\n",
       " 0.4583333333333333,\n",
       " 0.43333333333333335,\n",
       " 0.25,\n",
       " 0.0,\n",
       " 0.5,\n",
       " 0.25,\n",
       " 0.05,\n",
       " -0.16666666666666666,\n",
       " 0.0]"
      ]
     },
     "execution_count": 128,
     "metadata": {},
     "output_type": "execute_result"
    }
   ],
   "source": [
    "senti"
   ]
  },
  {
   "cell_type": "code",
   "execution_count": 137,
   "metadata": {},
   "outputs": [
    {
     "data": {
      "application/vnd.plotly.v1+json": {
       "config": {
        "plotlyServerURL": "https://plot.ly"
       },
       "data": [
        {
         "alignmentgroup": "True",
         "box": {
          "visible": false
         },
         "hovertemplate": "variable=%{x}<br>value=%{y}<extra></extra>",
         "legendgroup": "",
         "marker": {
          "color": "#636efa"
         },
         "name": "",
         "offsetgroup": "",
         "orientation": "v",
         "scalegroup": "True",
         "showlegend": false,
         "type": "violin",
         "x": [
          "0",
          "0",
          "0",
          "0",
          "0",
          "0",
          "0",
          "0",
          "0",
          "0",
          "0",
          "0",
          "0",
          "0",
          "0",
          "0",
          "0",
          "0",
          "0",
          "0",
          "0",
          "0",
          "0",
          "0",
          "0",
          "0",
          "0",
          "0",
          "0",
          "0",
          "0",
          "0",
          "0",
          "0",
          "0",
          "0",
          "0",
          "0",
          "0",
          "0",
          "0",
          "0",
          "0",
          "0",
          "0",
          "0",
          "0",
          "0",
          "0",
          "0",
          "0",
          "0",
          "0",
          "0",
          "0",
          "0",
          "0",
          "0",
          "0",
          "0",
          "0",
          "0",
          "0",
          "0",
          "0",
          "0",
          "0",
          "0",
          "0",
          "0",
          "0",
          "0",
          "0",
          "0",
          "0",
          "0",
          "0",
          "0",
          "0",
          "0",
          "0",
          "0",
          "0",
          "0",
          "0",
          "0",
          "0",
          "0",
          "0",
          "0",
          "0",
          "0",
          "0",
          "0",
          "0",
          "0",
          "0",
          "0",
          "0",
          "0",
          "0",
          "0",
          "0",
          "0",
          "0",
          "0",
          "0",
          "0",
          "0",
          "0",
          "0",
          "0",
          "0",
          "0",
          "0",
          "0",
          "0",
          "0",
          "0",
          "0",
          "0",
          "0",
          "0",
          "0",
          "0",
          "0",
          "0",
          "0",
          "0",
          "0",
          "0",
          "0",
          "0",
          "0",
          "0",
          "0",
          "0",
          "0",
          "0",
          "0",
          "0",
          "0",
          "0",
          "0",
          "0",
          "0",
          "0",
          "0",
          "0",
          "0"
         ],
         "x0": " ",
         "xaxis": "x",
         "y": [
          0,
          0.26,
          0.3,
          -0.0625,
          0.12111111111111117,
          -0.35,
          0,
          1,
          0,
          0.22777777777777777,
          0.7749999999999999,
          -0.22916666666666666,
          0,
          1,
          0.036111111111111094,
          0.3333333333333333,
          -0.1375,
          -0.12361111111111112,
          0.8,
          0,
          0.09449999999999999,
          0.05416666666666667,
          0,
          0.5111111111111112,
          0.58,
          0.08611111111111112,
          -0.25,
          -0.375,
          0.07500000000000001,
          0,
          0.1328125,
          1,
          0.04916666666666667,
          0.4777777777777778,
          0,
          0.52,
          0,
          0,
          0,
          0,
          0,
          0.12638888888888888,
          0.6,
          0,
          -0.15583333333333332,
          0,
          0.6,
          0,
          0.35,
          0,
          0,
          0.08333333333333334,
          0.15,
          0.5666666666666668,
          -0.1375,
          0.8,
          0.6,
          0.4,
          0.5,
          0.10625000000000001,
          0.5,
          0.3,
          0.05000000000000001,
          -0.16,
          0.39999999999999997,
          0.4125,
          0.2,
          0.43333333333333335,
          0.5,
          -0.25,
          0.5,
          0.8083333333333332,
          0,
          0.15873015873015872,
          0.46406249999999993,
          0.04999999999999999,
          -0.05000000000000001,
          0,
          -0.25,
          0.22916666666666666,
          0.21666666666666667,
          0,
          0.5,
          0.5,
          0.45499999999999996,
          0.153125,
          -0.1875,
          0,
          0.5,
          0.75,
          0,
          0.5416666666666666,
          0.625,
          0,
          0.7,
          0.3375,
          -0.25,
          -0.11666666666666665,
          0.25625,
          0.5,
          0,
          0,
          0.30833333333333335,
          0,
          0,
          0.4777777777777778,
          0.43333333333333335,
          -0.15000000000000002,
          -0.1,
          0.4666666666666667,
          1,
          0.3,
          -0.15625,
          0.26666666666666666,
          0.875,
          0.5,
          0.1,
          0.2,
          0.1625,
          -0.0375,
          0.07999999999999999,
          0,
          0.20277777777777775,
          0.09166666666666667,
          0,
          0,
          -0.20833333333333331,
          0,
          0.43333333333333335,
          -0.1,
          0.3444444444444444,
          0.24761904761904763,
          0.4333333333333333,
          0.13,
          -0.25,
          -0.2027777777777778,
          0,
          0.6,
          0.43333333333333335,
          0.65,
          0.4375,
          0.4583333333333333,
          0.43333333333333335,
          0.25,
          0,
          0.5,
          0.25,
          0.05,
          -0.16666666666666666,
          0
         ],
         "y0": " ",
         "yaxis": "y"
        }
       ],
       "layout": {
        "legend": {
         "tracegroupgap": 0
        },
        "margin": {
         "t": 60
        },
        "template": {
         "data": {
          "bar": [
           {
            "error_x": {
             "color": "#2a3f5f"
            },
            "error_y": {
             "color": "#2a3f5f"
            },
            "marker": {
             "line": {
              "color": "#E5ECF6",
              "width": 0.5
             }
            },
            "type": "bar"
           }
          ],
          "barpolar": [
           {
            "marker": {
             "line": {
              "color": "#E5ECF6",
              "width": 0.5
             }
            },
            "type": "barpolar"
           }
          ],
          "carpet": [
           {
            "aaxis": {
             "endlinecolor": "#2a3f5f",
             "gridcolor": "white",
             "linecolor": "white",
             "minorgridcolor": "white",
             "startlinecolor": "#2a3f5f"
            },
            "baxis": {
             "endlinecolor": "#2a3f5f",
             "gridcolor": "white",
             "linecolor": "white",
             "minorgridcolor": "white",
             "startlinecolor": "#2a3f5f"
            },
            "type": "carpet"
           }
          ],
          "choropleth": [
           {
            "colorbar": {
             "outlinewidth": 0,
             "ticks": ""
            },
            "type": "choropleth"
           }
          ],
          "contour": [
           {
            "colorbar": {
             "outlinewidth": 0,
             "ticks": ""
            },
            "colorscale": [
             [
              0,
              "#0d0887"
             ],
             [
              0.1111111111111111,
              "#46039f"
             ],
             [
              0.2222222222222222,
              "#7201a8"
             ],
             [
              0.3333333333333333,
              "#9c179e"
             ],
             [
              0.4444444444444444,
              "#bd3786"
             ],
             [
              0.5555555555555556,
              "#d8576b"
             ],
             [
              0.6666666666666666,
              "#ed7953"
             ],
             [
              0.7777777777777778,
              "#fb9f3a"
             ],
             [
              0.8888888888888888,
              "#fdca26"
             ],
             [
              1,
              "#f0f921"
             ]
            ],
            "type": "contour"
           }
          ],
          "contourcarpet": [
           {
            "colorbar": {
             "outlinewidth": 0,
             "ticks": ""
            },
            "type": "contourcarpet"
           }
          ],
          "heatmap": [
           {
            "colorbar": {
             "outlinewidth": 0,
             "ticks": ""
            },
            "colorscale": [
             [
              0,
              "#0d0887"
             ],
             [
              0.1111111111111111,
              "#46039f"
             ],
             [
              0.2222222222222222,
              "#7201a8"
             ],
             [
              0.3333333333333333,
              "#9c179e"
             ],
             [
              0.4444444444444444,
              "#bd3786"
             ],
             [
              0.5555555555555556,
              "#d8576b"
             ],
             [
              0.6666666666666666,
              "#ed7953"
             ],
             [
              0.7777777777777778,
              "#fb9f3a"
             ],
             [
              0.8888888888888888,
              "#fdca26"
             ],
             [
              1,
              "#f0f921"
             ]
            ],
            "type": "heatmap"
           }
          ],
          "heatmapgl": [
           {
            "colorbar": {
             "outlinewidth": 0,
             "ticks": ""
            },
            "colorscale": [
             [
              0,
              "#0d0887"
             ],
             [
              0.1111111111111111,
              "#46039f"
             ],
             [
              0.2222222222222222,
              "#7201a8"
             ],
             [
              0.3333333333333333,
              "#9c179e"
             ],
             [
              0.4444444444444444,
              "#bd3786"
             ],
             [
              0.5555555555555556,
              "#d8576b"
             ],
             [
              0.6666666666666666,
              "#ed7953"
             ],
             [
              0.7777777777777778,
              "#fb9f3a"
             ],
             [
              0.8888888888888888,
              "#fdca26"
             ],
             [
              1,
              "#f0f921"
             ]
            ],
            "type": "heatmapgl"
           }
          ],
          "histogram": [
           {
            "marker": {
             "colorbar": {
              "outlinewidth": 0,
              "ticks": ""
             }
            },
            "type": "histogram"
           }
          ],
          "histogram2d": [
           {
            "colorbar": {
             "outlinewidth": 0,
             "ticks": ""
            },
            "colorscale": [
             [
              0,
              "#0d0887"
             ],
             [
              0.1111111111111111,
              "#46039f"
             ],
             [
              0.2222222222222222,
              "#7201a8"
             ],
             [
              0.3333333333333333,
              "#9c179e"
             ],
             [
              0.4444444444444444,
              "#bd3786"
             ],
             [
              0.5555555555555556,
              "#d8576b"
             ],
             [
              0.6666666666666666,
              "#ed7953"
             ],
             [
              0.7777777777777778,
              "#fb9f3a"
             ],
             [
              0.8888888888888888,
              "#fdca26"
             ],
             [
              1,
              "#f0f921"
             ]
            ],
            "type": "histogram2d"
           }
          ],
          "histogram2dcontour": [
           {
            "colorbar": {
             "outlinewidth": 0,
             "ticks": ""
            },
            "colorscale": [
             [
              0,
              "#0d0887"
             ],
             [
              0.1111111111111111,
              "#46039f"
             ],
             [
              0.2222222222222222,
              "#7201a8"
             ],
             [
              0.3333333333333333,
              "#9c179e"
             ],
             [
              0.4444444444444444,
              "#bd3786"
             ],
             [
              0.5555555555555556,
              "#d8576b"
             ],
             [
              0.6666666666666666,
              "#ed7953"
             ],
             [
              0.7777777777777778,
              "#fb9f3a"
             ],
             [
              0.8888888888888888,
              "#fdca26"
             ],
             [
              1,
              "#f0f921"
             ]
            ],
            "type": "histogram2dcontour"
           }
          ],
          "mesh3d": [
           {
            "colorbar": {
             "outlinewidth": 0,
             "ticks": ""
            },
            "type": "mesh3d"
           }
          ],
          "parcoords": [
           {
            "line": {
             "colorbar": {
              "outlinewidth": 0,
              "ticks": ""
             }
            },
            "type": "parcoords"
           }
          ],
          "pie": [
           {
            "automargin": true,
            "type": "pie"
           }
          ],
          "scatter": [
           {
            "marker": {
             "colorbar": {
              "outlinewidth": 0,
              "ticks": ""
             }
            },
            "type": "scatter"
           }
          ],
          "scatter3d": [
           {
            "line": {
             "colorbar": {
              "outlinewidth": 0,
              "ticks": ""
             }
            },
            "marker": {
             "colorbar": {
              "outlinewidth": 0,
              "ticks": ""
             }
            },
            "type": "scatter3d"
           }
          ],
          "scattercarpet": [
           {
            "marker": {
             "colorbar": {
              "outlinewidth": 0,
              "ticks": ""
             }
            },
            "type": "scattercarpet"
           }
          ],
          "scattergeo": [
           {
            "marker": {
             "colorbar": {
              "outlinewidth": 0,
              "ticks": ""
             }
            },
            "type": "scattergeo"
           }
          ],
          "scattergl": [
           {
            "marker": {
             "colorbar": {
              "outlinewidth": 0,
              "ticks": ""
             }
            },
            "type": "scattergl"
           }
          ],
          "scattermapbox": [
           {
            "marker": {
             "colorbar": {
              "outlinewidth": 0,
              "ticks": ""
             }
            },
            "type": "scattermapbox"
           }
          ],
          "scatterpolar": [
           {
            "marker": {
             "colorbar": {
              "outlinewidth": 0,
              "ticks": ""
             }
            },
            "type": "scatterpolar"
           }
          ],
          "scatterpolargl": [
           {
            "marker": {
             "colorbar": {
              "outlinewidth": 0,
              "ticks": ""
             }
            },
            "type": "scatterpolargl"
           }
          ],
          "scatterternary": [
           {
            "marker": {
             "colorbar": {
              "outlinewidth": 0,
              "ticks": ""
             }
            },
            "type": "scatterternary"
           }
          ],
          "surface": [
           {
            "colorbar": {
             "outlinewidth": 0,
             "ticks": ""
            },
            "colorscale": [
             [
              0,
              "#0d0887"
             ],
             [
              0.1111111111111111,
              "#46039f"
             ],
             [
              0.2222222222222222,
              "#7201a8"
             ],
             [
              0.3333333333333333,
              "#9c179e"
             ],
             [
              0.4444444444444444,
              "#bd3786"
             ],
             [
              0.5555555555555556,
              "#d8576b"
             ],
             [
              0.6666666666666666,
              "#ed7953"
             ],
             [
              0.7777777777777778,
              "#fb9f3a"
             ],
             [
              0.8888888888888888,
              "#fdca26"
             ],
             [
              1,
              "#f0f921"
             ]
            ],
            "type": "surface"
           }
          ],
          "table": [
           {
            "cells": {
             "fill": {
              "color": "#EBF0F8"
             },
             "line": {
              "color": "white"
             }
            },
            "header": {
             "fill": {
              "color": "#C8D4E3"
             },
             "line": {
              "color": "white"
             }
            },
            "type": "table"
           }
          ]
         },
         "layout": {
          "annotationdefaults": {
           "arrowcolor": "#2a3f5f",
           "arrowhead": 0,
           "arrowwidth": 1
          },
          "coloraxis": {
           "colorbar": {
            "outlinewidth": 0,
            "ticks": ""
           }
          },
          "colorscale": {
           "diverging": [
            [
             0,
             "#8e0152"
            ],
            [
             0.1,
             "#c51b7d"
            ],
            [
             0.2,
             "#de77ae"
            ],
            [
             0.3,
             "#f1b6da"
            ],
            [
             0.4,
             "#fde0ef"
            ],
            [
             0.5,
             "#f7f7f7"
            ],
            [
             0.6,
             "#e6f5d0"
            ],
            [
             0.7,
             "#b8e186"
            ],
            [
             0.8,
             "#7fbc41"
            ],
            [
             0.9,
             "#4d9221"
            ],
            [
             1,
             "#276419"
            ]
           ],
           "sequential": [
            [
             0,
             "#0d0887"
            ],
            [
             0.1111111111111111,
             "#46039f"
            ],
            [
             0.2222222222222222,
             "#7201a8"
            ],
            [
             0.3333333333333333,
             "#9c179e"
            ],
            [
             0.4444444444444444,
             "#bd3786"
            ],
            [
             0.5555555555555556,
             "#d8576b"
            ],
            [
             0.6666666666666666,
             "#ed7953"
            ],
            [
             0.7777777777777778,
             "#fb9f3a"
            ],
            [
             0.8888888888888888,
             "#fdca26"
            ],
            [
             1,
             "#f0f921"
            ]
           ],
           "sequentialminus": [
            [
             0,
             "#0d0887"
            ],
            [
             0.1111111111111111,
             "#46039f"
            ],
            [
             0.2222222222222222,
             "#7201a8"
            ],
            [
             0.3333333333333333,
             "#9c179e"
            ],
            [
             0.4444444444444444,
             "#bd3786"
            ],
            [
             0.5555555555555556,
             "#d8576b"
            ],
            [
             0.6666666666666666,
             "#ed7953"
            ],
            [
             0.7777777777777778,
             "#fb9f3a"
            ],
            [
             0.8888888888888888,
             "#fdca26"
            ],
            [
             1,
             "#f0f921"
            ]
           ]
          },
          "colorway": [
           "#636efa",
           "#EF553B",
           "#00cc96",
           "#ab63fa",
           "#FFA15A",
           "#19d3f3",
           "#FF6692",
           "#B6E880",
           "#FF97FF",
           "#FECB52"
          ],
          "font": {
           "color": "#2a3f5f"
          },
          "geo": {
           "bgcolor": "white",
           "lakecolor": "white",
           "landcolor": "#E5ECF6",
           "showlakes": true,
           "showland": true,
           "subunitcolor": "white"
          },
          "hoverlabel": {
           "align": "left"
          },
          "hovermode": "closest",
          "mapbox": {
           "style": "light"
          },
          "paper_bgcolor": "white",
          "plot_bgcolor": "#E5ECF6",
          "polar": {
           "angularaxis": {
            "gridcolor": "white",
            "linecolor": "white",
            "ticks": ""
           },
           "bgcolor": "#E5ECF6",
           "radialaxis": {
            "gridcolor": "white",
            "linecolor": "white",
            "ticks": ""
           }
          },
          "scene": {
           "xaxis": {
            "backgroundcolor": "#E5ECF6",
            "gridcolor": "white",
            "gridwidth": 2,
            "linecolor": "white",
            "showbackground": true,
            "ticks": "",
            "zerolinecolor": "white"
           },
           "yaxis": {
            "backgroundcolor": "#E5ECF6",
            "gridcolor": "white",
            "gridwidth": 2,
            "linecolor": "white",
            "showbackground": true,
            "ticks": "",
            "zerolinecolor": "white"
           },
           "zaxis": {
            "backgroundcolor": "#E5ECF6",
            "gridcolor": "white",
            "gridwidth": 2,
            "linecolor": "white",
            "showbackground": true,
            "ticks": "",
            "zerolinecolor": "white"
           }
          },
          "shapedefaults": {
           "line": {
            "color": "#2a3f5f"
           }
          },
          "ternary": {
           "aaxis": {
            "gridcolor": "white",
            "linecolor": "white",
            "ticks": ""
           },
           "baxis": {
            "gridcolor": "white",
            "linecolor": "white",
            "ticks": ""
           },
           "bgcolor": "#E5ECF6",
           "caxis": {
            "gridcolor": "white",
            "linecolor": "white",
            "ticks": ""
           }
          },
          "title": {
           "x": 0.05
          },
          "xaxis": {
           "automargin": true,
           "gridcolor": "white",
           "linecolor": "white",
           "ticks": "",
           "title": {
            "standoff": 15
           },
           "zerolinecolor": "white",
           "zerolinewidth": 2
          },
          "yaxis": {
           "automargin": true,
           "gridcolor": "white",
           "linecolor": "white",
           "ticks": "",
           "title": {
            "standoff": 15
           },
           "zerolinecolor": "white",
           "zerolinewidth": 2
          }
         }
        },
        "violinmode": "group",
        "xaxis": {
         "anchor": "y",
         "domain": [
          0,
          1
         ],
         "title": {
          "text": "variable"
         }
        },
        "yaxis": {
         "anchor": "x",
         "domain": [
          0,
          1
         ],
         "title": {
          "text": "value"
         }
        }
       }
      },
      "text/html": [
       "<div>\n",
       "        \n",
       "        \n",
       "            <div id=\"346c4275-50a1-4151-a620-3ad49641dadd\" class=\"plotly-graph-div\" style=\"height:525px; width:100%;\"></div>\n",
       "            <script type=\"text/javascript\">\n",
       "                require([\"plotly\"], function(Plotly) {\n",
       "                    window.PLOTLYENV=window.PLOTLYENV || {};\n",
       "                    \n",
       "                if (document.getElementById(\"346c4275-50a1-4151-a620-3ad49641dadd\")) {\n",
       "                    Plotly.newPlot(\n",
       "                        '346c4275-50a1-4151-a620-3ad49641dadd',\n",
       "                        [{\"alignmentgroup\": \"True\", \"box\": {\"visible\": false}, \"hovertemplate\": \"variable=%{x}<br>value=%{y}<extra></extra>\", \"legendgroup\": \"\", \"marker\": {\"color\": \"#636efa\"}, \"name\": \"\", \"offsetgroup\": \"\", \"orientation\": \"v\", \"scalegroup\": \"True\", \"showlegend\": false, \"type\": \"violin\", \"x\": [\"0\", \"0\", \"0\", \"0\", \"0\", \"0\", \"0\", \"0\", \"0\", \"0\", \"0\", \"0\", \"0\", \"0\", \"0\", \"0\", \"0\", \"0\", \"0\", \"0\", \"0\", \"0\", \"0\", \"0\", \"0\", \"0\", \"0\", \"0\", \"0\", \"0\", \"0\", \"0\", \"0\", \"0\", \"0\", \"0\", \"0\", \"0\", \"0\", \"0\", \"0\", \"0\", \"0\", \"0\", \"0\", \"0\", \"0\", \"0\", \"0\", \"0\", \"0\", \"0\", \"0\", \"0\", \"0\", \"0\", \"0\", \"0\", \"0\", \"0\", \"0\", \"0\", \"0\", \"0\", \"0\", \"0\", \"0\", \"0\", \"0\", \"0\", \"0\", \"0\", \"0\", \"0\", \"0\", \"0\", \"0\", \"0\", \"0\", \"0\", \"0\", \"0\", \"0\", \"0\", \"0\", \"0\", \"0\", \"0\", \"0\", \"0\", \"0\", \"0\", \"0\", \"0\", \"0\", \"0\", \"0\", \"0\", \"0\", \"0\", \"0\", \"0\", \"0\", \"0\", \"0\", \"0\", \"0\", \"0\", \"0\", \"0\", \"0\", \"0\", \"0\", \"0\", \"0\", \"0\", \"0\", \"0\", \"0\", \"0\", \"0\", \"0\", \"0\", \"0\", \"0\", \"0\", \"0\", \"0\", \"0\", \"0\", \"0\", \"0\", \"0\", \"0\", \"0\", \"0\", \"0\", \"0\", \"0\", \"0\", \"0\", \"0\", \"0\", \"0\", \"0\", \"0\", \"0\", \"0\", \"0\", \"0\"], \"x0\": \" \", \"xaxis\": \"x\", \"y\": [0.0, 0.26, 0.3, -0.0625, 0.12111111111111117, -0.35, 0.0, 1.0, 0.0, 0.22777777777777777, 0.7749999999999999, -0.22916666666666666, 0.0, 1.0, 0.036111111111111094, 0.3333333333333333, -0.1375, -0.12361111111111112, 0.8, 0.0, 0.09449999999999999, 0.05416666666666667, 0.0, 0.5111111111111112, 0.58, 0.08611111111111112, -0.25, -0.375, 0.07500000000000001, 0.0, 0.1328125, 1.0, 0.04916666666666667, 0.4777777777777778, 0.0, 0.52, 0.0, 0.0, 0.0, 0.0, 0.0, 0.12638888888888888, 0.6, 0.0, -0.15583333333333332, 0.0, 0.6, 0.0, 0.35, 0.0, 0.0, 0.08333333333333334, 0.15, 0.5666666666666668, -0.1375, 0.8, 0.6, 0.4, 0.5, 0.10625000000000001, 0.5, 0.3, 0.05000000000000001, -0.16, 0.39999999999999997, 0.4125, 0.2, 0.43333333333333335, 0.5, -0.25, 0.5, 0.8083333333333332, 0.0, 0.15873015873015872, 0.46406249999999993, 0.04999999999999999, -0.05000000000000001, 0.0, -0.25, 0.22916666666666666, 0.21666666666666667, 0.0, 0.5, 0.5, 0.45499999999999996, 0.153125, -0.1875, 0.0, 0.5, 0.75, 0.0, 0.5416666666666666, 0.625, 0.0, 0.7, 0.3375, -0.25, -0.11666666666666665, 0.25625, 0.5, 0.0, 0.0, 0.30833333333333335, 0.0, 0.0, 0.4777777777777778, 0.43333333333333335, -0.15000000000000002, -0.1, 0.4666666666666667, 1.0, 0.3, -0.15625, 0.26666666666666666, 0.875, 0.5, 0.1, 0.2, 0.1625, -0.0375, 0.07999999999999999, 0.0, 0.20277777777777775, 0.09166666666666667, 0.0, 0.0, -0.20833333333333331, 0.0, 0.43333333333333335, -0.1, 0.3444444444444444, 0.24761904761904763, 0.4333333333333333, 0.13, -0.25, -0.2027777777777778, 0.0, 0.6, 0.43333333333333335, 0.65, 0.4375, 0.4583333333333333, 0.43333333333333335, 0.25, 0.0, 0.5, 0.25, 0.05, -0.16666666666666666, 0.0], \"y0\": \" \", \"yaxis\": \"y\"}],\n",
       "                        {\"legend\": {\"tracegroupgap\": 0}, \"margin\": {\"t\": 60}, \"template\": {\"data\": {\"bar\": [{\"error_x\": {\"color\": \"#2a3f5f\"}, \"error_y\": {\"color\": \"#2a3f5f\"}, \"marker\": {\"line\": {\"color\": \"#E5ECF6\", \"width\": 0.5}}, \"type\": \"bar\"}], \"barpolar\": [{\"marker\": {\"line\": {\"color\": \"#E5ECF6\", \"width\": 0.5}}, \"type\": \"barpolar\"}], \"carpet\": [{\"aaxis\": {\"endlinecolor\": \"#2a3f5f\", \"gridcolor\": \"white\", \"linecolor\": \"white\", \"minorgridcolor\": \"white\", \"startlinecolor\": \"#2a3f5f\"}, \"baxis\": {\"endlinecolor\": \"#2a3f5f\", \"gridcolor\": \"white\", \"linecolor\": \"white\", \"minorgridcolor\": \"white\", \"startlinecolor\": \"#2a3f5f\"}, \"type\": \"carpet\"}], \"choropleth\": [{\"colorbar\": {\"outlinewidth\": 0, \"ticks\": \"\"}, \"type\": \"choropleth\"}], \"contour\": [{\"colorbar\": {\"outlinewidth\": 0, \"ticks\": \"\"}, \"colorscale\": [[0.0, \"#0d0887\"], [0.1111111111111111, \"#46039f\"], [0.2222222222222222, \"#7201a8\"], [0.3333333333333333, \"#9c179e\"], [0.4444444444444444, \"#bd3786\"], [0.5555555555555556, \"#d8576b\"], [0.6666666666666666, \"#ed7953\"], [0.7777777777777778, \"#fb9f3a\"], [0.8888888888888888, \"#fdca26\"], [1.0, \"#f0f921\"]], \"type\": \"contour\"}], \"contourcarpet\": [{\"colorbar\": {\"outlinewidth\": 0, \"ticks\": \"\"}, \"type\": \"contourcarpet\"}], \"heatmap\": [{\"colorbar\": {\"outlinewidth\": 0, \"ticks\": \"\"}, \"colorscale\": [[0.0, \"#0d0887\"], [0.1111111111111111, \"#46039f\"], [0.2222222222222222, \"#7201a8\"], [0.3333333333333333, \"#9c179e\"], [0.4444444444444444, \"#bd3786\"], [0.5555555555555556, \"#d8576b\"], [0.6666666666666666, \"#ed7953\"], [0.7777777777777778, \"#fb9f3a\"], [0.8888888888888888, \"#fdca26\"], [1.0, \"#f0f921\"]], \"type\": \"heatmap\"}], \"heatmapgl\": [{\"colorbar\": {\"outlinewidth\": 0, \"ticks\": \"\"}, \"colorscale\": [[0.0, \"#0d0887\"], [0.1111111111111111, \"#46039f\"], [0.2222222222222222, \"#7201a8\"], [0.3333333333333333, \"#9c179e\"], [0.4444444444444444, \"#bd3786\"], [0.5555555555555556, \"#d8576b\"], [0.6666666666666666, \"#ed7953\"], [0.7777777777777778, \"#fb9f3a\"], [0.8888888888888888, \"#fdca26\"], [1.0, \"#f0f921\"]], \"type\": \"heatmapgl\"}], \"histogram\": [{\"marker\": {\"colorbar\": {\"outlinewidth\": 0, \"ticks\": \"\"}}, \"type\": \"histogram\"}], \"histogram2d\": [{\"colorbar\": {\"outlinewidth\": 0, \"ticks\": \"\"}, \"colorscale\": [[0.0, \"#0d0887\"], [0.1111111111111111, \"#46039f\"], [0.2222222222222222, \"#7201a8\"], [0.3333333333333333, \"#9c179e\"], [0.4444444444444444, \"#bd3786\"], [0.5555555555555556, \"#d8576b\"], [0.6666666666666666, \"#ed7953\"], [0.7777777777777778, \"#fb9f3a\"], [0.8888888888888888, \"#fdca26\"], [1.0, \"#f0f921\"]], \"type\": \"histogram2d\"}], \"histogram2dcontour\": [{\"colorbar\": {\"outlinewidth\": 0, \"ticks\": \"\"}, \"colorscale\": [[0.0, \"#0d0887\"], [0.1111111111111111, \"#46039f\"], [0.2222222222222222, \"#7201a8\"], [0.3333333333333333, \"#9c179e\"], [0.4444444444444444, \"#bd3786\"], [0.5555555555555556, \"#d8576b\"], [0.6666666666666666, \"#ed7953\"], [0.7777777777777778, \"#fb9f3a\"], [0.8888888888888888, \"#fdca26\"], [1.0, \"#f0f921\"]], \"type\": \"histogram2dcontour\"}], \"mesh3d\": [{\"colorbar\": {\"outlinewidth\": 0, \"ticks\": \"\"}, \"type\": \"mesh3d\"}], \"parcoords\": [{\"line\": {\"colorbar\": {\"outlinewidth\": 0, \"ticks\": \"\"}}, \"type\": \"parcoords\"}], \"pie\": [{\"automargin\": true, \"type\": \"pie\"}], \"scatter\": [{\"marker\": {\"colorbar\": {\"outlinewidth\": 0, \"ticks\": \"\"}}, \"type\": \"scatter\"}], \"scatter3d\": [{\"line\": {\"colorbar\": {\"outlinewidth\": 0, \"ticks\": \"\"}}, \"marker\": {\"colorbar\": {\"outlinewidth\": 0, \"ticks\": \"\"}}, \"type\": \"scatter3d\"}], \"scattercarpet\": [{\"marker\": {\"colorbar\": {\"outlinewidth\": 0, \"ticks\": \"\"}}, \"type\": \"scattercarpet\"}], \"scattergeo\": [{\"marker\": {\"colorbar\": {\"outlinewidth\": 0, \"ticks\": \"\"}}, \"type\": \"scattergeo\"}], \"scattergl\": [{\"marker\": {\"colorbar\": {\"outlinewidth\": 0, \"ticks\": \"\"}}, \"type\": \"scattergl\"}], \"scattermapbox\": [{\"marker\": {\"colorbar\": {\"outlinewidth\": 0, \"ticks\": \"\"}}, \"type\": \"scattermapbox\"}], \"scatterpolar\": [{\"marker\": {\"colorbar\": {\"outlinewidth\": 0, \"ticks\": \"\"}}, \"type\": \"scatterpolar\"}], \"scatterpolargl\": [{\"marker\": {\"colorbar\": {\"outlinewidth\": 0, \"ticks\": \"\"}}, \"type\": \"scatterpolargl\"}], \"scatterternary\": [{\"marker\": {\"colorbar\": {\"outlinewidth\": 0, \"ticks\": \"\"}}, \"type\": \"scatterternary\"}], \"surface\": [{\"colorbar\": {\"outlinewidth\": 0, \"ticks\": \"\"}, \"colorscale\": [[0.0, \"#0d0887\"], [0.1111111111111111, \"#46039f\"], [0.2222222222222222, \"#7201a8\"], [0.3333333333333333, \"#9c179e\"], [0.4444444444444444, \"#bd3786\"], [0.5555555555555556, \"#d8576b\"], [0.6666666666666666, \"#ed7953\"], [0.7777777777777778, \"#fb9f3a\"], [0.8888888888888888, \"#fdca26\"], [1.0, \"#f0f921\"]], \"type\": \"surface\"}], \"table\": [{\"cells\": {\"fill\": {\"color\": \"#EBF0F8\"}, \"line\": {\"color\": \"white\"}}, \"header\": {\"fill\": {\"color\": \"#C8D4E3\"}, \"line\": {\"color\": \"white\"}}, \"type\": \"table\"}]}, \"layout\": {\"annotationdefaults\": {\"arrowcolor\": \"#2a3f5f\", \"arrowhead\": 0, \"arrowwidth\": 1}, \"coloraxis\": {\"colorbar\": {\"outlinewidth\": 0, \"ticks\": \"\"}}, \"colorscale\": {\"diverging\": [[0, \"#8e0152\"], [0.1, \"#c51b7d\"], [0.2, \"#de77ae\"], [0.3, \"#f1b6da\"], [0.4, \"#fde0ef\"], [0.5, \"#f7f7f7\"], [0.6, \"#e6f5d0\"], [0.7, \"#b8e186\"], [0.8, \"#7fbc41\"], [0.9, \"#4d9221\"], [1, \"#276419\"]], \"sequential\": [[0.0, \"#0d0887\"], [0.1111111111111111, \"#46039f\"], [0.2222222222222222, \"#7201a8\"], [0.3333333333333333, \"#9c179e\"], [0.4444444444444444, \"#bd3786\"], [0.5555555555555556, \"#d8576b\"], [0.6666666666666666, \"#ed7953\"], [0.7777777777777778, \"#fb9f3a\"], [0.8888888888888888, \"#fdca26\"], [1.0, \"#f0f921\"]], \"sequentialminus\": [[0.0, \"#0d0887\"], [0.1111111111111111, \"#46039f\"], [0.2222222222222222, \"#7201a8\"], [0.3333333333333333, \"#9c179e\"], [0.4444444444444444, \"#bd3786\"], [0.5555555555555556, \"#d8576b\"], [0.6666666666666666, \"#ed7953\"], [0.7777777777777778, \"#fb9f3a\"], [0.8888888888888888, \"#fdca26\"], [1.0, \"#f0f921\"]]}, \"colorway\": [\"#636efa\", \"#EF553B\", \"#00cc96\", \"#ab63fa\", \"#FFA15A\", \"#19d3f3\", \"#FF6692\", \"#B6E880\", \"#FF97FF\", \"#FECB52\"], \"font\": {\"color\": \"#2a3f5f\"}, \"geo\": {\"bgcolor\": \"white\", \"lakecolor\": \"white\", \"landcolor\": \"#E5ECF6\", \"showlakes\": true, \"showland\": true, \"subunitcolor\": \"white\"}, \"hoverlabel\": {\"align\": \"left\"}, \"hovermode\": \"closest\", \"mapbox\": {\"style\": \"light\"}, \"paper_bgcolor\": \"white\", \"plot_bgcolor\": \"#E5ECF6\", \"polar\": {\"angularaxis\": {\"gridcolor\": \"white\", \"linecolor\": \"white\", \"ticks\": \"\"}, \"bgcolor\": \"#E5ECF6\", \"radialaxis\": {\"gridcolor\": \"white\", \"linecolor\": \"white\", \"ticks\": \"\"}}, \"scene\": {\"xaxis\": {\"backgroundcolor\": \"#E5ECF6\", \"gridcolor\": \"white\", \"gridwidth\": 2, \"linecolor\": \"white\", \"showbackground\": true, \"ticks\": \"\", \"zerolinecolor\": \"white\"}, \"yaxis\": {\"backgroundcolor\": \"#E5ECF6\", \"gridcolor\": \"white\", \"gridwidth\": 2, \"linecolor\": \"white\", \"showbackground\": true, \"ticks\": \"\", \"zerolinecolor\": \"white\"}, \"zaxis\": {\"backgroundcolor\": \"#E5ECF6\", \"gridcolor\": \"white\", \"gridwidth\": 2, \"linecolor\": \"white\", \"showbackground\": true, \"ticks\": \"\", \"zerolinecolor\": \"white\"}}, \"shapedefaults\": {\"line\": {\"color\": \"#2a3f5f\"}}, \"ternary\": {\"aaxis\": {\"gridcolor\": \"white\", \"linecolor\": \"white\", \"ticks\": \"\"}, \"baxis\": {\"gridcolor\": \"white\", \"linecolor\": \"white\", \"ticks\": \"\"}, \"bgcolor\": \"#E5ECF6\", \"caxis\": {\"gridcolor\": \"white\", \"linecolor\": \"white\", \"ticks\": \"\"}}, \"title\": {\"x\": 0.05}, \"xaxis\": {\"automargin\": true, \"gridcolor\": \"white\", \"linecolor\": \"white\", \"ticks\": \"\", \"title\": {\"standoff\": 15}, \"zerolinecolor\": \"white\", \"zerolinewidth\": 2}, \"yaxis\": {\"automargin\": true, \"gridcolor\": \"white\", \"linecolor\": \"white\", \"ticks\": \"\", \"title\": {\"standoff\": 15}, \"zerolinecolor\": \"white\", \"zerolinewidth\": 2}}}, \"violinmode\": \"group\", \"xaxis\": {\"anchor\": \"y\", \"domain\": [0.0, 1.0], \"title\": {\"text\": \"variable\"}}, \"yaxis\": {\"anchor\": \"x\", \"domain\": [0.0, 1.0], \"title\": {\"text\": \"value\"}}},\n",
       "                        {\"responsive\": true}\n",
       "                    ).then(function(){\n",
       "                            \n",
       "var gd = document.getElementById('346c4275-50a1-4151-a620-3ad49641dadd');\n",
       "var x = new MutationObserver(function (mutations, observer) {{\n",
       "        var display = window.getComputedStyle(gd).display;\n",
       "        if (!display || display === 'none') {{\n",
       "            console.log([gd, 'removed!']);\n",
       "            Plotly.purge(gd);\n",
       "            observer.disconnect();\n",
       "        }}\n",
       "}});\n",
       "\n",
       "// Listen for the removal of the full notebook cells\n",
       "var notebookContainer = gd.closest('#notebook-container');\n",
       "if (notebookContainer) {{\n",
       "    x.observe(notebookContainer, {childList: true});\n",
       "}}\n",
       "\n",
       "// Listen for the clearing of the current output cell\n",
       "var outputEl = gd.closest('.output');\n",
       "if (outputEl) {{\n",
       "    x.observe(outputEl, {childList: true});\n",
       "}}\n",
       "\n",
       "                        })\n",
       "                };\n",
       "                });\n",
       "            </script>\n",
       "        </div>"
      ]
     },
     "metadata": {},
     "output_type": "display_data"
    }
   ],
   "source": [
    "# draw violin plot for sentiment value of each review\n",
    "import plotly.express as px\n",
    "df = pd.DataFrame(senti)\n",
    "fig = px.violin(df)\n",
    "fig.show()"
   ]
  },
  {
   "cell_type": "code",
   "execution_count": 129,
   "metadata": {},
   "outputs": [
    {
     "data": {
      "text/plain": [
       "-0.375"
      ]
     },
     "execution_count": 129,
     "metadata": {},
     "output_type": "execute_result"
    }
   ],
   "source": [
    "min(senti)"
   ]
  },
  {
   "cell_type": "code",
   "execution_count": 130,
   "metadata": {},
   "outputs": [
    {
     "data": {
      "text/plain": [
       "1.0"
      ]
     },
     "execution_count": 130,
     "metadata": {},
     "output_type": "execute_result"
    }
   ],
   "source": [
    "max(senti)"
   ]
  },
  {
   "cell_type": "code",
   "execution_count": 131,
   "metadata": {},
   "outputs": [],
   "source": [
    "# extract high value ones and low value ones to see the pros and cons for the package\n",
    "# due to min(senti) and max(senti), set low value as [-0.375,-0.175], set high value as [0.8,1.0]\n",
    "pros = []\n",
    "cons = []\n",
    "for i in range(len(senti)):\n",
    "    if senti[i] >= -0.375 and senti[i] <= -0.175:\n",
    "        cons.append(list_[i])\n",
    "    elif senti[i] >= 0.8 and senti[i] <= 1.0:\n",
    "        pros.append(list_[i])\n",
    "    else:\n",
    "        continue"
   ]
  },
  {
   "cell_type": "code",
   "execution_count": 132,
   "metadata": {},
   "outputs": [
    {
     "data": {
      "text/plain": [
       "['Not the best packaging but the product itself is what’s advertised!',\n",
       " 'perfect for travel, suspect restrooms, and just to have for the \"in case\" situations Great soap for traveling!',\n",
       " 'Great value for the money as there are 4 containers with 50 sheets per container.',\n",
       " 'Perfect packaging to just toss in your purse or pocket and go.',\n",
       " 'Great value for the money as there are 4 containers with 50 sheets per container.',\n",
       " \"Great It's a good product came in a nice package box it works perfectly I had my 4 daughter try it herself and it works perfect when she was washing her hands Suds up nicely!\",\n",
       " 'The container they come in is sturdy so I don’t have to worry about them spilling inside my bag, and the smell is great!',\n",
       " 'But in doing so, I discovered that there is a good sized roll in the container!']"
      ]
     },
     "execution_count": 132,
     "metadata": {},
     "output_type": "execute_result"
    }
   ],
   "source": [
    "pros"
   ]
  },
  {
   "cell_type": "code",
   "execution_count": 133,
   "metadata": {},
   "outputs": [
    {
     "data": {
      "text/plain": [
       "['I have discarded it and the package is not good when it is delivered.',\n",
       " 'Also, the packaging on it is a little difficult to open and close.',\n",
       " 'Small plastic case.',\n",
       " 'With a time like this due to coronavirus I threw the entire thing away I didn’t want to risk it after seeing all the gunk around the case NASTY.',\n",
       " 'The container is small and compact so I can throw it in my purse, car, backpack or pocket.',\n",
       " 'Small plastic case.',\n",
       " 'A little upset with the packaging.',\n",
       " 'Small plastic case.',\n",
       " 'I like that there is no plastic container for these (less plastic, yeah!)',\n",
       " \"I also don't love the cardboard packaging.\",\n",
       " 'These tissue sheets are enclosed in a cardboard container and it is going to very difficult to use the entire package before one day you discover the entire box is a hard, wet mess.']"
      ]
     },
     "execution_count": 133,
     "metadata": {},
     "output_type": "execute_result"
    }
   ],
   "source": [
    "cons"
   ]
  },
  {
   "cell_type": "code",
   "execution_count": null,
   "metadata": {},
   "outputs": [],
   "source": []
  },
  {
   "cell_type": "code",
   "execution_count": null,
   "metadata": {},
   "outputs": [],
   "source": []
  },
  {
   "cell_type": "code",
   "execution_count": null,
   "metadata": {},
   "outputs": [],
   "source": []
  },
  {
   "cell_type": "code",
   "execution_count": null,
   "metadata": {},
   "outputs": [],
   "source": []
  },
  {
   "cell_type": "code",
   "execution_count": null,
   "metadata": {},
   "outputs": [],
   "source": []
  },
  {
   "cell_type": "code",
   "execution_count": null,
   "metadata": {},
   "outputs": [],
   "source": []
  },
  {
   "cell_type": "code",
   "execution_count": null,
   "metadata": {},
   "outputs": [],
   "source": []
  },
  {
   "cell_type": "code",
   "execution_count": null,
   "metadata": {},
   "outputs": [],
   "source": []
  },
  {
   "cell_type": "code",
   "execution_count": null,
   "metadata": {},
   "outputs": [],
   "source": []
  }
 ],
 "metadata": {
  "kernelspec": {
   "display_name": "Python 3",
   "language": "python",
   "name": "python3"
  },
  "language_info": {
   "codemirror_mode": {
    "name": "ipython",
    "version": 3
   },
   "file_extension": ".py",
   "mimetype": "text/x-python",
   "name": "python",
   "nbconvert_exporter": "python",
   "pygments_lexer": "ipython3",
   "version": "3.7.6"
  }
 },
 "nbformat": 4,
 "nbformat_minor": 4
}
