{
 "cells": [
  {
   "cell_type": "code",
   "execution_count": 1,
   "metadata": {},
   "outputs": [],
   "source": [
    "from bs4 import BeautifulSoup\n",
    "import requests\n",
    "import pandas as pd"
   ]
  },
  {
   "cell_type": "code",
   "execution_count": 32,
   "metadata": {},
   "outputs": [],
   "source": [
    "from selenium import webdriver\n",
    "from webdriver_manager.chrome import ChromeDriverManager\n",
    "import time"
   ]
  },
  {
   "cell_type": "code",
   "execution_count": 57,
   "metadata": {},
   "outputs": [],
   "source": [
    "from googletrans import Translator, constants\n",
    "translator = Translator()"
   ]
  },
  {
   "cell_type": "code",
   "execution_count": 2,
   "metadata": {},
   "outputs": [],
   "source": [
    "url = 'https://lista.mercadolivre.com.br/sabonetes-em-barra#D[A:sabonetes%20em%20barra]'\n",
    "response = requests.get(url)\n",
    "soup = BeautifulSoup(response.content, 'lxml')"
   ]
  },
  {
   "cell_type": "code",
   "execution_count": 22,
   "metadata": {},
   "outputs": [],
   "source": [
    "product = soup.find_all('li', class_ = 'ui-search-layout__item')[6]"
   ]
  },
  {
   "cell_type": "code",
   "execution_count": 24,
   "metadata": {},
   "outputs": [],
   "source": [
    "prod_url = product.find('div', class_ = 'andes-card andes-card--flat andes-card--default ui-search-result ui-search-result--core andes-card--padding-default andes-card--animated').find('a').get('href')"
   ]
  },
  {
   "cell_type": "code",
   "execution_count": 25,
   "metadata": {},
   "outputs": [],
   "source": [
    "product_response = requests.get(prod_url)\n",
    "product_soup = BeautifulSoup(response.content, 'lxml')"
   ]
  },
  {
   "cell_type": "code",
   "execution_count": 33,
   "metadata": {},
   "outputs": [],
   "source": [
    "driver = webdriver.Chrome('/Users/guopinjie/Downloads/chromedriver')\n",
    "driver.get(prod_url)"
   ]
  },
  {
   "cell_type": "code",
   "execution_count": 60,
   "metadata": {},
   "outputs": [],
   "source": [
    "name = translator.translate(driver.find_elements_by_xpath(\"//h1[@class='ui-pdp-title']\")[0].text.strip()).text"
   ]
  },
  {
   "cell_type": "code",
   "execution_count": 62,
   "metadata": {},
   "outputs": [],
   "source": [
    "price = float(driver.find_elements_by_xpath(\"//meta[@itemprop='price']\")[0].get_attribute('content'))"
   ]
  },
  {
   "cell_type": "code",
   "execution_count": 63,
   "metadata": {},
   "outputs": [],
   "source": [
    "try:\n",
    "    new_or_not = translator.translate(driver.find_elements_by_xpath(\"//span[@class='ui-pdp-subtitle']\")[0].text.split('  |  ')[0]).text\n",
    "    sold_number = int(driver.find_elements_by_xpath(\"//span[@class='ui-pdp-subtitle']\")[0].text.split('  |  ')[1].split(' ')[0])\n",
    "except:\n",
    "    pass"
   ]
  },
  {
   "cell_type": "code",
   "execution_count": 78,
   "metadata": {},
   "outputs": [
    {
     "data": {
      "text/plain": [
       "{'Brand': 'Dove',\n",
       " 'Line': 'Original',\n",
       " 'Units per package': '6',\n",
       " 'Unit weight': '90 g'}"
      ]
     },
     "execution_count": 78,
     "metadata": {},
     "output_type": "execute_result"
    }
   ],
   "source": [
    "dict_ = {}\n",
    "for item in driver.find_elements_by_xpath(\"//table[@class='andes-table']/tbody/tr\"):\n",
    "    dict_[translator.translate(item.find_elements_by_xpath(\".//th\")[0].text).text] = translator.translate(item.find_elements_by_xpath(\".//td\")[0].text).text\n",
    "dict_"
   ]
  },
  {
   "cell_type": "code",
   "execution_count": 81,
   "metadata": {},
   "outputs": [],
   "source": [
    "description = translator.translate(driver.find_elements_by_xpath(\"//div[@class='ui-pdp-description']\")[0].text).text"
   ]
  },
  {
   "cell_type": "code",
   "execution_count": 89,
   "metadata": {},
   "outputs": [],
   "source": [
    "questions = []\n",
    "answers = []\n",
    "try:\n",
    "    for i in driver.find_elements_by_xpath(\"//div[@class='ui-pdp-questions__questions-list__item-questions--others-questions']\"):\n",
    "        questions.append(translator.translate(i.find_elements_by_xpath(\".//div\")[0].text).text)\n",
    "        answers.append(translator.translate(i.find_elements_by_xpath(\".//div\")[1].text).text)\n",
    "except:\n",
    "    pass"
   ]
  },
  {
   "cell_type": "code",
   "execution_count": 94,
   "metadata": {},
   "outputs": [],
   "source": [
    "review_rating = float(driver.find_elements_by_xpath(\"//h2[@class='ui-pdp-reviews__rating__summary__average']\")[0].text)"
   ]
  },
  {
   "cell_type": "code",
   "execution_count": 102,
   "metadata": {},
   "outputs": [],
   "source": [
    "reviews = []\n",
    "try:\n",
    "    for i in driver.find_elements_by_xpath(\"//div[@class='ui-pdp-reviews__comments__review-comment']\"):\n",
    "        reviews.append(translator.translate(' '.join(i.text.split('\\n')[:-1])).text)\n",
    "except:\n",
    "    pass"
   ]
  },
  {
   "cell_type": "code",
   "execution_count": 107,
   "metadata": {},
   "outputs": [],
   "source": [
    "store = driver.find_elements_by_xpath(\"//div[@class='ui-box-component ui-box-component-pdp__visible--desktop']\")[0]\n",
    "translator.translate(store.text).text.split('\\n')[0] = translator.translate(store.text).text.split('\\n')[1]\n",
    "store_sales_last_4_month = translator.translate(store.text).text.split('\\n')[3]"
   ]
  },
  {
   "cell_type": "code",
   "execution_count": 142,
   "metadata": {},
   "outputs": [],
   "source": [
    "def get_info(prod_url):\n",
    "    product_dict = {}\n",
    "    driver.get(prod_url)\n",
    "    name = translator.translate(driver.find_elements_by_xpath(\"//h1[@class='ui-pdp-title']\")[0].text.strip()).text\n",
    "    product_dict['name'] = name\n",
    "    price = float(driver.find_elements_by_xpath(\"//meta[@itemprop='price']\")[0].get_attribute('content'))\n",
    "    product_dict['price'] = price\n",
    "    try:\n",
    "        new_or_not = translator.translate(driver.find_elements_by_xpath(\"//span[@class='ui-pdp-subtitle']\")[0].text.split('  |  ')[0]).text\n",
    "        sold_number = int(driver.find_elements_by_xpath(\"//span[@class='ui-pdp-subtitle']\")[0].text.split('  |  ')[1].split(' ')[0])\n",
    "        product_dict['new_or_not'] = new_or_not\n",
    "        product_dict['sold_number'] = sold_number\n",
    "    except:\n",
    "        pass\n",
    "    dict_ = {}\n",
    "    for item in driver.find_elements_by_xpath(\"//table[@class='andes-table']/tbody/tr\"):\n",
    "        dict_[translator.translate(item.find_elements_by_xpath(\".//th\")[0].text).text] = translator.translate(item.find_elements_by_xpath(\".//td\")[0].text).text\n",
    "    product_dict.update(dict_)\n",
    "    description = translator.translate(driver.find_elements_by_xpath(\"//div[@class='ui-pdp-description']\")[0].text).text\n",
    "    product_dict['description'] = description\n",
    "    try:\n",
    "        questions = []\n",
    "        answers = []\n",
    "        for i in driver.find_elements_by_xpath(\"//div[@class='ui-pdp-questions__questions-list__item-questions--others-questions']\"):\n",
    "            questions.append(translator.translate(i.find_elements_by_xpath(\".//div\")[0].text).text)\n",
    "            answers.append(translator.translate(i.find_elements_by_xpath(\".//div\")[1].text).text)\n",
    "        product_dict['questions'] = questions\n",
    "        product_dict['answers'] = answers\n",
    "    except:\n",
    "        pass\n",
    "    try:\n",
    "        review_rating = float(driver.find_elements_by_xpath(\"//h2[@class='ui-pdp-reviews__rating__summary__average']\")[0].text)\n",
    "        product_dict['review_rating'] = review_rating\n",
    "    except:\n",
    "        pass\n",
    "    try:\n",
    "        reviews = []\n",
    "        for i in driver.find_elements_by_xpath(\"//div[@class='ui-pdp-reviews__comments__review-comment']\"):\n",
    "            reviews.append(translator.translate(' '.join(i.text.split('\\n')[:-1])).text)\n",
    "        product_dict['reviews'] = reviews\n",
    "    except:\n",
    "        pass\n",
    "    store = driver.find_elements_by_xpath(\"//div[@class='ui-box-component ui-box-component-pdp__visible--desktop']\")[0]\n",
    "    store_name = translator.translate(store.text).text.split('\\n')[1]\n",
    "    product_dict['store_name'] = store_name\n",
    "    try:\n",
    "        store_sales_last_4_month = translator.translate(store.text).text.split('\\n')[3]\n",
    "        product_dict['store_sales_last_4_month'] = store_sales_last_4_month\n",
    "    except:\n",
    "        pass\n",
    "    return product_dict"
   ]
  },
  {
   "cell_type": "code",
   "execution_count": 134,
   "metadata": {},
   "outputs": [],
   "source": [
    "all_products_list = []\n",
    "url = 'https://lista.mercadolivre.com.br/sabonetes-em-barra#D[A:sabonetes%20em%20barra]'\n",
    "i = 0"
   ]
  },
  {
   "cell_type": "code",
   "execution_count": null,
   "metadata": {},
   "outputs": [],
   "source": [
    "driver = webdriver.Chrome('/Users/guopinjie/Downloads/chromedriver')"
   ]
  },
  {
   "cell_type": "code",
   "execution_count": 144,
   "metadata": {
    "scrolled": true
   },
   "outputs": [
    {
     "name": "stdout",
     "output_type": "stream",
     "text": [
      "11\n",
      "12\n",
      "13\n",
      "14\n",
      "15\n",
      "16\n",
      "17\n",
      "18\n",
      "19\n",
      "20\n",
      "21\n",
      "22\n",
      "23\n",
      "24\n",
      "25\n",
      "26\n",
      "27\n",
      "28\n",
      "29\n",
      "30\n",
      "31\n",
      "32\n",
      "33\n",
      "34\n",
      "35\n",
      "36\n",
      "37\n",
      "38\n",
      "39\n",
      "40\n",
      "41\n",
      "42\n"
     ]
    }
   ],
   "source": [
    "while True:\n",
    "    i = i + 1\n",
    "    response = requests.get(url)\n",
    "    soup = BeautifulSoup(response.content, 'lxml')\n",
    "    all_products = soup.find_all('li', class_ = 'ui-search-layout__item')\n",
    "    for product in all_products:\n",
    "        try:\n",
    "            prod_url = product.find('div', class_ = 'andes-card andes-card--flat andes-card--default ui-search-result ui-search-result--core andes-card--padding-default andes-card--animated').find('a').get('href')\n",
    "        except:\n",
    "            pass\n",
    "        all_products_list.append(get_info(prod_url))\n",
    "    print(i)\n",
    "    try:\n",
    "        url = soup.find('li',class_ = 'andes-pagination__button andes-pagination__button--next').find('a').get('href')\n",
    "    except:\n",
    "        break"
   ]
  },
  {
   "cell_type": "code",
   "execution_count": 145,
   "metadata": {},
   "outputs": [
    {
     "data": {
      "text/plain": [
       "2157"
      ]
     },
     "execution_count": 145,
     "metadata": {},
     "output_type": "execute_result"
    }
   ],
   "source": [
    "len(all_products_list)"
   ]
  },
  {
   "cell_type": "code",
   "execution_count": 146,
   "metadata": {},
   "outputs": [],
   "source": [
    "bar_soap_Brazil = pd.DataFrame(all_products_list)"
   ]
  },
  {
   "cell_type": "code",
   "execution_count": 171,
   "metadata": {},
   "outputs": [],
   "source": [
    "bar_soap_Brazil = bar_soap_Brazil.drop(columns=['', 'Modelo', 'Marca', 'Peso da unidade', 'Unidades por embalagem', 'Linha', 'questions', 'answers', 'reviews', 'store_sales_last_4_month'])"
   ]
  },
  {
   "cell_type": "code",
   "execution_count": 176,
   "metadata": {},
   "outputs": [],
   "source": [
    "bar_soap_Brazil = bar_soap_Brazil.drop_duplicates()"
   ]
  },
  {
   "cell_type": "code",
   "execution_count": 178,
   "metadata": {},
   "outputs": [],
   "source": [
    "bar_soap_Brazil.reset_index(inplace = True, drop = True)"
   ]
  },
  {
   "cell_type": "code",
   "execution_count": 179,
   "metadata": {
    "scrolled": true
   },
   "outputs": [
    {
     "data": {
      "text/html": [
       "<div>\n",
       "<style scoped>\n",
       "    .dataframe tbody tr th:only-of-type {\n",
       "        vertical-align: middle;\n",
       "    }\n",
       "\n",
       "    .dataframe tbody tr th {\n",
       "        vertical-align: top;\n",
       "    }\n",
       "\n",
       "    .dataframe thead th {\n",
       "        text-align: right;\n",
       "    }\n",
       "</style>\n",
       "<table border=\"1\" class=\"dataframe\">\n",
       "  <thead>\n",
       "    <tr style=\"text-align: right;\">\n",
       "      <th></th>\n",
       "      <th>name</th>\n",
       "      <th>price</th>\n",
       "      <th>Brand</th>\n",
       "      <th>Line</th>\n",
       "      <th>Unit weight</th>\n",
       "      <th>Model</th>\n",
       "      <th>description</th>\n",
       "      <th>store_name</th>\n",
       "      <th>new_or_not</th>\n",
       "      <th>sold_number</th>\n",
       "      <th>Units per package</th>\n",
       "      <th>review_rating</th>\n",
       "    </tr>\n",
       "  </thead>\n",
       "  <tbody>\n",
       "    <tr>\n",
       "      <th>0</th>\n",
       "      <td>Pack 4 Lux Bar Soaps Bouquet of Jasmine Botani...</td>\n",
       "      <td>4.90</td>\n",
       "      <td>Lux</td>\n",
       "      <td>Bouquet of Jasmine Botanicals</td>\n",
       "      <td>85 g</td>\n",
       "      <td>Bouquet of Jasmine</td>\n",
       "      <td>description\\nPack 4 Lux Glycerin Soaps Bar Jas...</td>\n",
       "      <td>Your Grocery Store</td>\n",
       "      <td>NaN</td>\n",
       "      <td>NaN</td>\n",
       "      <td>NaN</td>\n",
       "      <td>NaN</td>\n",
       "    </tr>\n",
       "    <tr>\n",
       "      <th>1</th>\n",
       "      <td>Dove Original Soap Bar 90g</td>\n",
       "      <td>2.90</td>\n",
       "      <td>Dove</td>\n",
       "      <td>Original</td>\n",
       "      <td>90 g</td>\n",
       "      <td>Original</td>\n",
       "      <td>description\\nBarra Dove Original Soap 90g Ther...</td>\n",
       "      <td>Dove</td>\n",
       "      <td>NaN</td>\n",
       "      <td>NaN</td>\n",
       "      <td>NaN</td>\n",
       "      <td>NaN</td>\n",
       "    </tr>\n",
       "    <tr>\n",
       "      <th>2</th>\n",
       "      <td>Pack 4 Lux Bar Soaps Bouquet of Jasmine Botani...</td>\n",
       "      <td>4.90</td>\n",
       "      <td>Lux</td>\n",
       "      <td>Bouquet of Jasmine Botanicals</td>\n",
       "      <td>85 g</td>\n",
       "      <td>Bouquet of Jasmine</td>\n",
       "      <td>description\\nPack 4 Lux Glycerin Soaps Bar Jas...</td>\n",
       "      <td>Lux</td>\n",
       "      <td>NaN</td>\n",
       "      <td>NaN</td>\n",
       "      <td>NaN</td>\n",
       "      <td>NaN</td>\n",
       "    </tr>\n",
       "    <tr>\n",
       "      <th>3</th>\n",
       "      <td>Dove Original Soap Bar 90g</td>\n",
       "      <td>2.90</td>\n",
       "      <td>Dove</td>\n",
       "      <td>Original</td>\n",
       "      <td>90 g</td>\n",
       "      <td>Original</td>\n",
       "      <td>description\\nBarra Dove Original Soap 90g Ther...</td>\n",
       "      <td>Your Grocery Store</td>\n",
       "      <td>NaN</td>\n",
       "      <td>NaN</td>\n",
       "      <td>NaN</td>\n",
       "      <td>NaN</td>\n",
       "    </tr>\n",
       "    <tr>\n",
       "      <th>4</th>\n",
       "      <td>Kit 6 Soap Rexona Antibacterial Deep Cleaning 84g</td>\n",
       "      <td>6.21</td>\n",
       "      <td>Rexona</td>\n",
       "      <td>Antibacterial</td>\n",
       "      <td>84 g</td>\n",
       "      <td>Deep Cleaning</td>\n",
       "      <td>description\\nKit 6 Antibacterial Deep Soap Bar...</td>\n",
       "      <td>Your Grocery Store</td>\n",
       "      <td>NaN</td>\n",
       "      <td>NaN</td>\n",
       "      <td>NaN</td>\n",
       "      <td>NaN</td>\n",
       "    </tr>\n",
       "    <tr>\n",
       "      <th>...</th>\n",
       "      <td>...</td>\n",
       "      <td>...</td>\n",
       "      <td>...</td>\n",
       "      <td>...</td>\n",
       "      <td>...</td>\n",
       "      <td>...</td>\n",
       "      <td>...</td>\n",
       "      <td>...</td>\n",
       "      <td>...</td>\n",
       "      <td>...</td>\n",
       "      <td>...</td>\n",
       "      <td>...</td>\n",
       "    </tr>\n",
       "    <tr>\n",
       "      <th>2129</th>\n",
       "      <td>Calendula Soap 110g X 24 - Cheiro D'ervas</td>\n",
       "      <td>66.90</td>\n",
       "      <td>NaN</td>\n",
       "      <td>Sabonete</td>\n",
       "      <td>NaN</td>\n",
       "      <td>NaN</td>\n",
       "      <td>description\\nWHY BUY AT W3 LIFE?\\n\\nIMMEDIATE ...</td>\n",
       "      <td>Localização</td>\n",
       "      <td>NaN</td>\n",
       "      <td>NaN</td>\n",
       "      <td>NaN</td>\n",
       "      <td>NaN</td>\n",
       "    </tr>\n",
       "    <tr>\n",
       "      <th>2130</th>\n",
       "      <td>Sabonete De Copaíba 110g X 24 - Cheiro D'ervas</td>\n",
       "      <td>66.90</td>\n",
       "      <td>Smell of Herbs</td>\n",
       "      <td>NaN</td>\n",
       "      <td>110 g</td>\n",
       "      <td>NaN</td>\n",
       "      <td>Descrição\\nPOR QUE COMPRAR NA W3 LIFE?\\n\\nENVI...</td>\n",
       "      <td>Localização</td>\n",
       "      <td>NaN</td>\n",
       "      <td>NaN</td>\n",
       "      <td>24</td>\n",
       "      <td>NaN</td>\n",
       "    </tr>\n",
       "    <tr>\n",
       "      <th>2131</th>\n",
       "      <td>Sabonete Hidratante De Juá 110g X 2 - Cheiro D...</td>\n",
       "      <td>11.90</td>\n",
       "      <td>NaN</td>\n",
       "      <td>NaN</td>\n",
       "      <td>NaN</td>\n",
       "      <td>NaN</td>\n",
       "      <td>description\\nWHY BUY AT W3 LIFE?\\n\\nIMMEDIATE ...</td>\n",
       "      <td>Location</td>\n",
       "      <td>NaN</td>\n",
       "      <td>NaN</td>\n",
       "      <td>2</td>\n",
       "      <td>NaN</td>\n",
       "    </tr>\n",
       "    <tr>\n",
       "      <th>2132</th>\n",
       "      <td>Aroma Bar Soap 110g X 2 - Herbal Smell</td>\n",
       "      <td>11.90</td>\n",
       "      <td>Smell of Herbs</td>\n",
       "      <td>NaN</td>\n",
       "      <td>110 g</td>\n",
       "      <td>NaN</td>\n",
       "      <td>description\\nWHY BUY AT W3 LIFE?\\n\\nIMMEDIATE ...</td>\n",
       "      <td>Location</td>\n",
       "      <td>NaN</td>\n",
       "      <td>NaN</td>\n",
       "      <td>2</td>\n",
       "      <td>NaN</td>\n",
       "    </tr>\n",
       "    <tr>\n",
       "      <th>2133</th>\n",
       "      <td>Calendula Soap 2 X 110g - Cheiro D'ervas</td>\n",
       "      <td>12.90</td>\n",
       "      <td>Smell of Herbs</td>\n",
       "      <td>NaN</td>\n",
       "      <td>NaN</td>\n",
       "      <td>NaN</td>\n",
       "      <td>description\\nWHY BUY AT W3 LIFE?\\n\\nIMMEDIATE ...</td>\n",
       "      <td>Location</td>\n",
       "      <td>NaN</td>\n",
       "      <td>NaN</td>\n",
       "      <td>2</td>\n",
       "      <td>NaN</td>\n",
       "    </tr>\n",
       "  </tbody>\n",
       "</table>\n",
       "<p>2134 rows × 12 columns</p>\n",
       "</div>"
      ],
      "text/plain": [
       "                                                   name  price  \\\n",
       "0     Pack 4 Lux Bar Soaps Bouquet of Jasmine Botani...   4.90   \n",
       "1                            Dove Original Soap Bar 90g   2.90   \n",
       "2     Pack 4 Lux Bar Soaps Bouquet of Jasmine Botani...   4.90   \n",
       "3                            Dove Original Soap Bar 90g   2.90   \n",
       "4     Kit 6 Soap Rexona Antibacterial Deep Cleaning 84g   6.21   \n",
       "...                                                 ...    ...   \n",
       "2129          Calendula Soap 110g X 24 - Cheiro D'ervas  66.90   \n",
       "2130     Sabonete De Copaíba 110g X 24 - Cheiro D'ervas  66.90   \n",
       "2131  Sabonete Hidratante De Juá 110g X 2 - Cheiro D...  11.90   \n",
       "2132             Aroma Bar Soap 110g X 2 - Herbal Smell  11.90   \n",
       "2133           Calendula Soap 2 X 110g - Cheiro D'ervas  12.90   \n",
       "\n",
       "               Brand                           Line Unit weight  \\\n",
       "0                Lux  Bouquet of Jasmine Botanicals        85 g   \n",
       "1               Dove                       Original        90 g   \n",
       "2                Lux  Bouquet of Jasmine Botanicals        85 g   \n",
       "3               Dove                       Original        90 g   \n",
       "4             Rexona                  Antibacterial        84 g   \n",
       "...              ...                            ...         ...   \n",
       "2129             NaN                       Sabonete         NaN   \n",
       "2130  Smell of Herbs                            NaN       110 g   \n",
       "2131             NaN                            NaN         NaN   \n",
       "2132  Smell of Herbs                            NaN       110 g   \n",
       "2133  Smell of Herbs                            NaN         NaN   \n",
       "\n",
       "                   Model                                        description  \\\n",
       "0     Bouquet of Jasmine  description\\nPack 4 Lux Glycerin Soaps Bar Jas...   \n",
       "1               Original  description\\nBarra Dove Original Soap 90g Ther...   \n",
       "2     Bouquet of Jasmine  description\\nPack 4 Lux Glycerin Soaps Bar Jas...   \n",
       "3               Original  description\\nBarra Dove Original Soap 90g Ther...   \n",
       "4          Deep Cleaning  description\\nKit 6 Antibacterial Deep Soap Bar...   \n",
       "...                  ...                                                ...   \n",
       "2129                 NaN  description\\nWHY BUY AT W3 LIFE?\\n\\nIMMEDIATE ...   \n",
       "2130                 NaN  Descrição\\nPOR QUE COMPRAR NA W3 LIFE?\\n\\nENVI...   \n",
       "2131                 NaN  description\\nWHY BUY AT W3 LIFE?\\n\\nIMMEDIATE ...   \n",
       "2132                 NaN  description\\nWHY BUY AT W3 LIFE?\\n\\nIMMEDIATE ...   \n",
       "2133                 NaN  description\\nWHY BUY AT W3 LIFE?\\n\\nIMMEDIATE ...   \n",
       "\n",
       "              store_name new_or_not  sold_number Units per package  \\\n",
       "0     Your Grocery Store        NaN          NaN               NaN   \n",
       "1                   Dove        NaN          NaN               NaN   \n",
       "2                    Lux        NaN          NaN               NaN   \n",
       "3     Your Grocery Store        NaN          NaN               NaN   \n",
       "4     Your Grocery Store        NaN          NaN               NaN   \n",
       "...                  ...        ...          ...               ...   \n",
       "2129         Localização        NaN          NaN               NaN   \n",
       "2130         Localização        NaN          NaN                24   \n",
       "2131            Location        NaN          NaN                 2   \n",
       "2132            Location        NaN          NaN                 2   \n",
       "2133            Location        NaN          NaN                 2   \n",
       "\n",
       "      review_rating  \n",
       "0               NaN  \n",
       "1               NaN  \n",
       "2               NaN  \n",
       "3               NaN  \n",
       "4               NaN  \n",
       "...             ...  \n",
       "2129            NaN  \n",
       "2130            NaN  \n",
       "2131            NaN  \n",
       "2132            NaN  \n",
       "2133            NaN  \n",
       "\n",
       "[2134 rows x 12 columns]"
      ]
     },
     "execution_count": 179,
     "metadata": {},
     "output_type": "execute_result"
    }
   ],
   "source": [
    "bar_soap_Brazil"
   ]
  },
  {
   "cell_type": "code",
   "execution_count": 292,
   "metadata": {},
   "outputs": [],
   "source": [
    "bar_soap_Brazil.to_csv('Brazil_Bar_Soap.csv')"
   ]
  },
  {
   "cell_type": "code",
   "execution_count": 181,
   "metadata": {},
   "outputs": [
    {
     "data": {
      "text/plain": [
       "933"
      ]
     },
     "execution_count": 181,
     "metadata": {},
     "output_type": "execute_result"
    }
   ],
   "source": [
    "bar_soap_Brazil['Units per package'].isnull().sum()"
   ]
  },
  {
   "cell_type": "code",
   "execution_count": 163,
   "metadata": {
    "scrolled": true
   },
   "outputs": [],
   "source": [
    "all_product_names = []\n",
    "all_product_questions = []\n",
    "all_product_answers = []\n",
    "for product in all_products_list:\n",
    "    if product.get('questions'):\n",
    "        all_product_names.extend([product['name']] * len(product['questions']))\n",
    "        all_product_questions.extend(product['questions'])\n",
    "        all_product_answers.extend(product['answers'])\n",
    "question_and_answer = pd.DataFrame(list(zip(all_product_names, all_product_questions, all_product_answers)), columns = ['Name', 'Question', 'Answer'])"
   ]
  },
  {
   "cell_type": "code",
   "execution_count": 164,
   "metadata": {
    "scrolled": false
   },
   "outputs": [
    {
     "data": {
      "text/html": [
       "<div>\n",
       "<style scoped>\n",
       "    .dataframe tbody tr th:only-of-type {\n",
       "        vertical-align: middle;\n",
       "    }\n",
       "\n",
       "    .dataframe tbody tr th {\n",
       "        vertical-align: top;\n",
       "    }\n",
       "\n",
       "    .dataframe thead th {\n",
       "        text-align: right;\n",
       "    }\n",
       "</style>\n",
       "<table border=\"1\" class=\"dataframe\">\n",
       "  <thead>\n",
       "    <tr style=\"text-align: right;\">\n",
       "      <th></th>\n",
       "      <th>Name</th>\n",
       "      <th>Question</th>\n",
       "      <th>Answer</th>\n",
       "    </tr>\n",
       "  </thead>\n",
       "  <tbody>\n",
       "    <tr>\n",
       "      <th>0</th>\n",
       "      <td>Kit 500 Soap 10 Gr Floral Hotel Pousada Free S...</td>\n",
       "      <td>I already made the purchase ... I didn't know ...</td>\n",
       "      <td>We will issue it manually and send it by email...</td>\n",
       "    </tr>\n",
       "    <tr>\n",
       "      <th>1</th>\n",
       "      <td>Kit 500 Soap 10 Gr Floral Hotel Pousada Free S...</td>\n",
       "      <td>Hello, I just made the purchase of this produc...</td>\n",
       "      <td>Good Morning! The issuance is automatic, befor...</td>\n",
       "    </tr>\n",
       "    <tr>\n",
       "      <th>2</th>\n",
       "      <td>Kit 500 Soap 10 Gr Floral Hotel Pousada Free S...</td>\n",
       "      <td>Could this kit be Eva's sweet?</td>\n",
       "      <td>The fennel is in the 13 gram model, follow the...</td>\n",
       "    </tr>\n",
       "    <tr>\n",
       "      <th>3</th>\n",
       "      <td>Kit 500 Soap 10 Gr Floral Hotel Pousada Free S...</td>\n",
       "      <td>good night, what is the essence (smell)?</td>\n",
       "      <td>Good night! It has floral fragrance, we have o...</td>\n",
       "    </tr>\n",
       "    <tr>\n",
       "      <th>4</th>\n",
       "      <td>Kit 500 Soap 10 Gr Floral Hotel Pousada Free S...</td>\n",
       "      <td>delivery and by the post office?</td>\n",
       "      <td>Good afternoon! Delivery is made by carrier. W...</td>\n",
       "    </tr>\n",
       "    <tr>\n",
       "      <th>...</th>\n",
       "      <td>...</td>\n",
       "      <td>...</td>\n",
       "      <td>...</td>\n",
       "    </tr>\n",
       "    <tr>\n",
       "      <th>3753</th>\n",
       "      <td>Kit With 12 Copaíba Soaps 110g - Cheiro D'ervas</td>\n",
       "      <td>Bom dia, conseguiu checar se e de copaíba puro ?</td>\n",
       "      <td>It is pure copaiba, yes, but it contains other...</td>\n",
       "    </tr>\n",
       "    <tr>\n",
       "      <th>3754</th>\n",
       "      <td>Kit With 12 Copaíba Soaps 110g - Cheiro D'ervas</td>\n",
       "      <td>Boa noite, e de copaíba puro ?</td>\n",
       "      <td>Good night, we will confirm and we will return...</td>\n",
       "    </tr>\n",
       "    <tr>\n",
       "      <th>3755</th>\n",
       "      <td>5 Box Natura Tododia Soap Bar With 5 Units 90g</td>\n",
       "      <td>Good Morning! what fragrances are available to...</td>\n",
       "      <td>Bom dia.. frutas vermelhas Cereja e avelã Noz ...</td>\n",
       "    </tr>\n",
       "    <tr>\n",
       "      <th>3756</th>\n",
       "      <td>5 Box Natura Tododia Soap Bar With 5 Units 90g</td>\n",
       "      <td>Jabuticaba pepper red fruits macadamia lime fr...</td>\n",
       "      <td>Good morning, I didn't understand.</td>\n",
       "    </tr>\n",
       "    <tr>\n",
       "      <th>3757</th>\n",
       "      <td>Kit With 6 Juá Moisturizing Soaps 110g - Cheir...</td>\n",
       "      <td>Good night and good for the skin? Thank you</td>\n",
       "      <td>Good night, it's very good yes Anything is ava...</td>\n",
       "    </tr>\n",
       "  </tbody>\n",
       "</table>\n",
       "<p>3758 rows × 3 columns</p>\n",
       "</div>"
      ],
      "text/plain": [
       "                                                   Name  \\\n",
       "0     Kit 500 Soap 10 Gr Floral Hotel Pousada Free S...   \n",
       "1     Kit 500 Soap 10 Gr Floral Hotel Pousada Free S...   \n",
       "2     Kit 500 Soap 10 Gr Floral Hotel Pousada Free S...   \n",
       "3     Kit 500 Soap 10 Gr Floral Hotel Pousada Free S...   \n",
       "4     Kit 500 Soap 10 Gr Floral Hotel Pousada Free S...   \n",
       "...                                                 ...   \n",
       "3753    Kit With 12 Copaíba Soaps 110g - Cheiro D'ervas   \n",
       "3754    Kit With 12 Copaíba Soaps 110g - Cheiro D'ervas   \n",
       "3755     5 Box Natura Tododia Soap Bar With 5 Units 90g   \n",
       "3756     5 Box Natura Tododia Soap Bar With 5 Units 90g   \n",
       "3757  Kit With 6 Juá Moisturizing Soaps 110g - Cheir...   \n",
       "\n",
       "                                               Question  \\\n",
       "0     I already made the purchase ... I didn't know ...   \n",
       "1     Hello, I just made the purchase of this produc...   \n",
       "2                        Could this kit be Eva's sweet?   \n",
       "3              good night, what is the essence (smell)?   \n",
       "4                      delivery and by the post office?   \n",
       "...                                                 ...   \n",
       "3753   Bom dia, conseguiu checar se e de copaíba puro ?   \n",
       "3754                     Boa noite, e de copaíba puro ?   \n",
       "3755  Good Morning! what fragrances are available to...   \n",
       "3756  Jabuticaba pepper red fruits macadamia lime fr...   \n",
       "3757        Good night and good for the skin? Thank you   \n",
       "\n",
       "                                                 Answer  \n",
       "0     We will issue it manually and send it by email...  \n",
       "1     Good Morning! The issuance is automatic, befor...  \n",
       "2     The fennel is in the 13 gram model, follow the...  \n",
       "3     Good night! It has floral fragrance, we have o...  \n",
       "4     Good afternoon! Delivery is made by carrier. W...  \n",
       "...                                                 ...  \n",
       "3753  It is pure copaiba, yes, but it contains other...  \n",
       "3754  Good night, we will confirm and we will return...  \n",
       "3755  Bom dia.. frutas vermelhas Cereja e avelã Noz ...  \n",
       "3756                 Good morning, I didn't understand.  \n",
       "3757  Good night, it's very good yes Anything is ava...  \n",
       "\n",
       "[3758 rows x 3 columns]"
      ]
     },
     "execution_count": 164,
     "metadata": {},
     "output_type": "execute_result"
    }
   ],
   "source": [
    "question_and_answer"
   ]
  },
  {
   "cell_type": "code",
   "execution_count": 293,
   "metadata": {},
   "outputs": [],
   "source": [
    "question_and_answer.to_csv('Brazil_Bar_Soap_question_and_answer.csv')"
   ]
  },
  {
   "cell_type": "code",
   "execution_count": 165,
   "metadata": {},
   "outputs": [],
   "source": [
    "all_product_names = []\n",
    "all_product_reviews = []\n",
    "for product in all_products_list:\n",
    "    if product.get('reviews'):\n",
    "        all_product_names.extend([product['name']] * len(product['reviews']))\n",
    "        all_product_reviews.extend(product['reviews'])\n",
    "reviews = pd.DataFrame(list(zip(all_product_names, all_product_reviews)), columns = ['Name', 'Review'])"
   ]
  },
  {
   "cell_type": "code",
   "execution_count": 166,
   "metadata": {},
   "outputs": [
    {
     "data": {
      "text/html": [
       "<div>\n",
       "<style scoped>\n",
       "    .dataframe tbody tr th:only-of-type {\n",
       "        vertical-align: middle;\n",
       "    }\n",
       "\n",
       "    .dataframe tbody tr th {\n",
       "        vertical-align: top;\n",
       "    }\n",
       "\n",
       "    .dataframe thead th {\n",
       "        text-align: right;\n",
       "    }\n",
       "</style>\n",
       "<table border=\"1\" class=\"dataframe\">\n",
       "  <thead>\n",
       "    <tr style=\"text-align: right;\">\n",
       "      <th></th>\n",
       "      <th>Name</th>\n",
       "      <th>Review</th>\n",
       "    </tr>\n",
       "  </thead>\n",
       "  <tbody>\n",
       "    <tr>\n",
       "      <th>0</th>\n",
       "      <td>Kit 500 Soap 10 Gr Floral Hotel Pousada Free S...</td>\n",
       "      <td>Good The product is good though. It could be o...</td>\n",
       "    </tr>\n",
       "    <tr>\n",
       "      <th>1</th>\n",
       "      <td>Kit 500 Soap 10 Gr Floral Hotel Pousada Free S...</td>\n",
       "      <td>Excellent Great. Excellent product. I recommen...</td>\n",
       "    </tr>\n",
       "    <tr>\n",
       "      <th>2</th>\n",
       "      <td>Kit 500 Soap 10 Gr Floral Hotel Pousada Free S...</td>\n",
       "      <td>Excellent Adore faser buys with you 10 note vo...</td>\n",
       "    </tr>\n",
       "    <tr>\n",
       "      <th>3</th>\n",
       "      <td>Kit 500 Soap 10 Gr Floral Hotel Pousada Free S...</td>\n",
       "      <td>Good The product is good though. It could be o...</td>\n",
       "    </tr>\n",
       "    <tr>\n",
       "      <th>4</th>\n",
       "      <td>Kit 500 Soap 10 Gr Floral Hotel Pousada Free S...</td>\n",
       "      <td>Excellent Great. Excellent product. I recommen...</td>\n",
       "    </tr>\n",
       "    <tr>\n",
       "      <th>...</th>\n",
       "      <td>...</td>\n",
       "      <td>...</td>\n",
       "    </tr>\n",
       "    <tr>\n",
       "      <th>717</th>\n",
       "      <td>Soapex Sabonete Antisséptico Proteção Diária 80g</td>\n",
       "      <td>Melhor Sabonete da Categoria! É o melhor produ...</td>\n",
       "    </tr>\n",
       "    <tr>\n",
       "      <th>718</th>\n",
       "      <td>Soapex Sabonete Antisséptico Proteção Diária 80g</td>\n",
       "      <td>I recommend! Best soap for hygiene and protect...</td>\n",
       "    </tr>\n",
       "    <tr>\n",
       "      <th>719</th>\n",
       "      <td>Soapex Sabonete Antisséptico Proteção Diária 80g</td>\n",
       "      <td>Excellent I have been using this soapex for a ...</td>\n",
       "    </tr>\n",
       "    <tr>\n",
       "      <th>720</th>\n",
       "      <td>Soapex Sab Antisséptico Prot Antisséptica 1% T...</td>\n",
       "      <td>Best product on the market !!! Best product fo...</td>\n",
       "    </tr>\n",
       "    <tr>\n",
       "      <th>721</th>\n",
       "      <td>Soapex Sab Antisséptico Prot Antisséptica 1% T...</td>\n",
       "      <td>Excellent helped me a lot really works.</td>\n",
       "    </tr>\n",
       "  </tbody>\n",
       "</table>\n",
       "<p>722 rows × 2 columns</p>\n",
       "</div>"
      ],
      "text/plain": [
       "                                                  Name  \\\n",
       "0    Kit 500 Soap 10 Gr Floral Hotel Pousada Free S...   \n",
       "1    Kit 500 Soap 10 Gr Floral Hotel Pousada Free S...   \n",
       "2    Kit 500 Soap 10 Gr Floral Hotel Pousada Free S...   \n",
       "3    Kit 500 Soap 10 Gr Floral Hotel Pousada Free S...   \n",
       "4    Kit 500 Soap 10 Gr Floral Hotel Pousada Free S...   \n",
       "..                                                 ...   \n",
       "717   Soapex Sabonete Antisséptico Proteção Diária 80g   \n",
       "718   Soapex Sabonete Antisséptico Proteção Diária 80g   \n",
       "719   Soapex Sabonete Antisséptico Proteção Diária 80g   \n",
       "720  Soapex Sab Antisséptico Prot Antisséptica 1% T...   \n",
       "721  Soapex Sab Antisséptico Prot Antisséptica 1% T...   \n",
       "\n",
       "                                                Review  \n",
       "0    Good The product is good though. It could be o...  \n",
       "1    Excellent Great. Excellent product. I recommen...  \n",
       "2    Excellent Adore faser buys with you 10 note vo...  \n",
       "3    Good The product is good though. It could be o...  \n",
       "4    Excellent Great. Excellent product. I recommen...  \n",
       "..                                                 ...  \n",
       "717  Melhor Sabonete da Categoria! É o melhor produ...  \n",
       "718  I recommend! Best soap for hygiene and protect...  \n",
       "719  Excellent I have been using this soapex for a ...  \n",
       "720  Best product on the market !!! Best product fo...  \n",
       "721            Excellent helped me a lot really works.  \n",
       "\n",
       "[722 rows x 2 columns]"
      ]
     },
     "execution_count": 166,
     "metadata": {},
     "output_type": "execute_result"
    }
   ],
   "source": [
    "reviews"
   ]
  },
  {
   "cell_type": "code",
   "execution_count": 294,
   "metadata": {},
   "outputs": [],
   "source": [
    "reviews.to_csv('Brazil_Bar_Soap_reviews.csv')"
   ]
  },
  {
   "cell_type": "markdown",
   "metadata": {},
   "source": [
    "## Model"
   ]
  },
  {
   "cell_type": "code",
   "execution_count": 223,
   "metadata": {},
   "outputs": [],
   "source": [
    "model = [translator.translate(i).text for i in bar_soap_Brazil['Model'].dropna()]"
   ]
  },
  {
   "cell_type": "code",
   "execution_count": 200,
   "metadata": {},
   "outputs": [],
   "source": [
    "from wordcloud import WordCloud, STOPWORDS \n",
    "from nltk.stem import PorterStemmer\n",
    "from nltk.corpus import stopwords\n",
    "from nltk.tokenize import word_tokenize, sent_tokenize\n",
    "import string"
   ]
  },
  {
   "cell_type": "code",
   "execution_count": 227,
   "metadata": {},
   "outputs": [],
   "source": [
    "delete_words = ['soap', 'grams', 'units', 'gramas', 'barra', 'rectangular', 'male']\n",
    "import spacy\n",
    "# set up nlp environment in spacy\n",
    "nlp = spacy.load(\"en_core_web_sm\")\n",
    "# use spacy to identify each chunk in the review after covid and put them into the chunk list\n",
    "chunk_list = []\n",
    "for text in model:\n",
    "    doc = nlp(text.lower())\n",
    "    for chunk in doc.noun_chunks:\n",
    "        chunk = ' '.join([word for word in str(chunk.text).split() if word not in STOPWORDS])\n",
    "        if not (len(chunk.split(' ')) == 0 or len(chunk.split(' ')) == 1):\n",
    "            chunk_list.append(chunk)\n",
    "# create chunk dict to record each chunk's appearence time\n",
    "chunk_dict = dict()\n",
    "for i in chunk_list:\n",
    "    if not set.intersection(set(i.lower().split(' ')), set(delete_words)):\n",
    "        if chunk_dict.get(i):\n",
    "            chunk_dict[i] += 1\n",
    "        else:\n",
    "            chunk_dict[i] = 1\n",
    "# sort chunk dict based on the value\n",
    "sort_list = sorted(chunk_dict.items(), key=lambda x: x[1], reverse=True)"
   ]
  },
  {
   "cell_type": "code",
   "execution_count": 228,
   "metadata": {
    "scrolled": true
   },
   "outputs": [
    {
     "data": {
      "text/plain": [
       "[('vegan line', 13),\n",
       " ('deep cleaning', 5),\n",
       " ('vegan herbs line', 4),\n",
       " ('nutri protect', 4),\n",
       " ('biocrema capim', 3),\n",
       " ('baby original', 2),\n",
       " ('neutrogerm antiseptic body', 2),\n",
       " ('dermotivin control', 2),\n",
       " ('secret nature pitaya', 2),\n",
       " ('granado bebê dermocalmante peles sensíveis - sabonete', 2),\n",
       " ('protex oats', 2),\n",
       " ('oil control', 2),\n",
       " ('organic pure vegetable white tea', 2),\n",
       " ('soapex sab antiseptic prot', 2),\n",
       " ('dermotivin salix', 2),\n",
       " ('bioderma atoderm', 2),\n",
       " ('dermotivin original sab', 2),\n",
       " ('facial foam 130ml', 2),\n",
       " ('verisol wrinkle', 2),\n",
       " ('hydrolyzed powder light', 2),\n",
       " ('balanced hydration', 1),\n",
       " ('condicionador vegano', 1),\n",
       " ('linha vegan', 1),\n",
       " ('limpeza profunda', 1),\n",
       " ('vegan flowers line', 1),\n",
       " ('lavender officinale', 1),\n",
       " ('anti acne', 1),\n",
       " ('sab facial foam', 1),\n",
       " ('vanilla 6x90g', 1),\n",
       " ('granado glicerina frutas brasileiras - sabonete', 1),\n",
       " ('healthy hydration', 1),\n",
       " ('florentine hills', 1),\n",
       " ('granado terrapeutics castanha', 1),\n",
       " ('de glicerina - sabonete', 1),\n",
       " ('neutrogerm antiseptic liquid body', 1),\n",
       " ('45ml brown bottle', 1),\n",
       " ('white packaging', 1),\n",
       " ('normaderm vichy acne-free skin', 1),\n",
       " ('g sensitive hydration soaps', 1),\n",
       " ('óleo de rosa mosqueta dermytrat', 1),\n",
       " ('organic pure vegetable peach', 1),\n",
       " ('dove baby hidratação', 1),\n",
       " ('sab facial fluid', 1),\n",
       " ('skin 70ml', 1),\n",
       " ('g hydration', 1),\n",
       " ('jasmine case', 1),\n",
       " ('3 soaps', 1),\n",
       " ('la roche-posay', 1),\n",
       " ('granado sulfurous treatment sulfur', 1),\n",
       " ('calendula line', 1),\n",
       " ('white clay mineral element kit', 1),\n",
       " ('3 products', 1),\n",
       " ('high concentration / glycerin eucalyptus', 1),\n",
       " ('dove baby hidrat', 1),\n",
       " ('alma de flores', 1),\n",
       " ('7 lines', 1),\n",
       " ('facial 100g', 1),\n",
       " ('granado sabonete vegetal de glicerina', 1),\n",
       " ('phebo sicilian lemon', 1),\n",
       " ('granado bebê glicerina tradicional - sabonete', 1),\n",
       " ('oily skin', 1),\n",
       " ('soapex sabonete antisséptico proteção diária', 1),\n",
       " ('ayurvedic chandrika', 1),\n",
       " ('dry sensitive skin', 1),\n",
       " ('kit de 6 peças', 1),\n",
       " ('ann bow adstringente sabonete', 1),\n",
       " ('protex cream', 1),\n",
       " ('tododia cotton', 1),\n",
       " ('soapex sab antisséptico', 1),\n",
       " ('1% triclosano', 1)]"
      ]
     },
     "execution_count": 228,
     "metadata": {},
     "output_type": "execute_result"
    }
   ],
   "source": [
    "sort_list"
   ]
  },
  {
   "cell_type": "code",
   "execution_count": 229,
   "metadata": {},
   "outputs": [
    {
     "data": {
      "application/vnd.plotly.v1+json": {
       "config": {
        "plotlyServerURL": "https://plot.ly"
       },
       "data": [
        {
         "marker": {
          "size": [
           26,
           10,
           8,
           8,
           6,
           4,
           4,
           4,
           4,
           4
          ]
         },
         "mode": "markers",
         "type": "scatter",
         "x": [
          0,
          1,
          2,
          3,
          4,
          5,
          6,
          7,
          8,
          9
         ],
         "y": [
          13,
          5,
          4,
          4,
          3,
          2,
          2,
          2,
          2,
          2
         ]
        }
       ],
       "layout": {
        "annotations": [
         {
          "showarrow": false,
          "text": "vegan line",
          "x": 0,
          "xanchor": "center",
          "y": 13,
          "yanchor": "bottom"
         },
         {
          "showarrow": false,
          "text": "deep cleaning",
          "x": 1,
          "xanchor": "center",
          "y": 5,
          "yanchor": "top"
         },
         {
          "showarrow": false,
          "text": "vegan herbs line",
          "x": 2,
          "xanchor": "center",
          "y": 4,
          "yanchor": "bottom"
         },
         {
          "showarrow": false,
          "text": "nutri protect",
          "x": 3,
          "xanchor": "center",
          "y": 4,
          "yanchor": "top"
         },
         {
          "showarrow": false,
          "text": "biocrema capim",
          "x": 4,
          "xanchor": "center",
          "y": 3,
          "yanchor": "bottom"
         },
         {
          "showarrow": false,
          "text": "baby original",
          "x": 5,
          "xanchor": "center",
          "y": 2,
          "yanchor": "top"
         },
         {
          "showarrow": false,
          "text": "neutrogerm antiseptic body",
          "x": 6,
          "xanchor": "center",
          "y": 2,
          "yanchor": "bottom"
         },
         {
          "showarrow": false,
          "text": "dermotivin control",
          "x": 7,
          "xanchor": "center",
          "y": 2,
          "yanchor": "top"
         },
         {
          "showarrow": false,
          "text": "secret nature pitaya",
          "x": 8,
          "xanchor": "center",
          "y": 2,
          "yanchor": "bottom"
         },
         {
          "showarrow": false,
          "text": "granado bebê dermocalmante peles sensíveis - sabonete",
          "x": 9,
          "xanchor": "center",
          "y": 2,
          "yanchor": "top"
         }
        ],
        "template": {
         "data": {
          "bar": [
           {
            "error_x": {
             "color": "#2a3f5f"
            },
            "error_y": {
             "color": "#2a3f5f"
            },
            "marker": {
             "line": {
              "color": "#E5ECF6",
              "width": 0.5
             }
            },
            "type": "bar"
           }
          ],
          "barpolar": [
           {
            "marker": {
             "line": {
              "color": "#E5ECF6",
              "width": 0.5
             }
            },
            "type": "barpolar"
           }
          ],
          "carpet": [
           {
            "aaxis": {
             "endlinecolor": "#2a3f5f",
             "gridcolor": "white",
             "linecolor": "white",
             "minorgridcolor": "white",
             "startlinecolor": "#2a3f5f"
            },
            "baxis": {
             "endlinecolor": "#2a3f5f",
             "gridcolor": "white",
             "linecolor": "white",
             "minorgridcolor": "white",
             "startlinecolor": "#2a3f5f"
            },
            "type": "carpet"
           }
          ],
          "choropleth": [
           {
            "colorbar": {
             "outlinewidth": 0,
             "ticks": ""
            },
            "type": "choropleth"
           }
          ],
          "contour": [
           {
            "colorbar": {
             "outlinewidth": 0,
             "ticks": ""
            },
            "colorscale": [
             [
              0,
              "#0d0887"
             ],
             [
              0.1111111111111111,
              "#46039f"
             ],
             [
              0.2222222222222222,
              "#7201a8"
             ],
             [
              0.3333333333333333,
              "#9c179e"
             ],
             [
              0.4444444444444444,
              "#bd3786"
             ],
             [
              0.5555555555555556,
              "#d8576b"
             ],
             [
              0.6666666666666666,
              "#ed7953"
             ],
             [
              0.7777777777777778,
              "#fb9f3a"
             ],
             [
              0.8888888888888888,
              "#fdca26"
             ],
             [
              1,
              "#f0f921"
             ]
            ],
            "type": "contour"
           }
          ],
          "contourcarpet": [
           {
            "colorbar": {
             "outlinewidth": 0,
             "ticks": ""
            },
            "type": "contourcarpet"
           }
          ],
          "heatmap": [
           {
            "colorbar": {
             "outlinewidth": 0,
             "ticks": ""
            },
            "colorscale": [
             [
              0,
              "#0d0887"
             ],
             [
              0.1111111111111111,
              "#46039f"
             ],
             [
              0.2222222222222222,
              "#7201a8"
             ],
             [
              0.3333333333333333,
              "#9c179e"
             ],
             [
              0.4444444444444444,
              "#bd3786"
             ],
             [
              0.5555555555555556,
              "#d8576b"
             ],
             [
              0.6666666666666666,
              "#ed7953"
             ],
             [
              0.7777777777777778,
              "#fb9f3a"
             ],
             [
              0.8888888888888888,
              "#fdca26"
             ],
             [
              1,
              "#f0f921"
             ]
            ],
            "type": "heatmap"
           }
          ],
          "heatmapgl": [
           {
            "colorbar": {
             "outlinewidth": 0,
             "ticks": ""
            },
            "colorscale": [
             [
              0,
              "#0d0887"
             ],
             [
              0.1111111111111111,
              "#46039f"
             ],
             [
              0.2222222222222222,
              "#7201a8"
             ],
             [
              0.3333333333333333,
              "#9c179e"
             ],
             [
              0.4444444444444444,
              "#bd3786"
             ],
             [
              0.5555555555555556,
              "#d8576b"
             ],
             [
              0.6666666666666666,
              "#ed7953"
             ],
             [
              0.7777777777777778,
              "#fb9f3a"
             ],
             [
              0.8888888888888888,
              "#fdca26"
             ],
             [
              1,
              "#f0f921"
             ]
            ],
            "type": "heatmapgl"
           }
          ],
          "histogram": [
           {
            "marker": {
             "colorbar": {
              "outlinewidth": 0,
              "ticks": ""
             }
            },
            "type": "histogram"
           }
          ],
          "histogram2d": [
           {
            "colorbar": {
             "outlinewidth": 0,
             "ticks": ""
            },
            "colorscale": [
             [
              0,
              "#0d0887"
             ],
             [
              0.1111111111111111,
              "#46039f"
             ],
             [
              0.2222222222222222,
              "#7201a8"
             ],
             [
              0.3333333333333333,
              "#9c179e"
             ],
             [
              0.4444444444444444,
              "#bd3786"
             ],
             [
              0.5555555555555556,
              "#d8576b"
             ],
             [
              0.6666666666666666,
              "#ed7953"
             ],
             [
              0.7777777777777778,
              "#fb9f3a"
             ],
             [
              0.8888888888888888,
              "#fdca26"
             ],
             [
              1,
              "#f0f921"
             ]
            ],
            "type": "histogram2d"
           }
          ],
          "histogram2dcontour": [
           {
            "colorbar": {
             "outlinewidth": 0,
             "ticks": ""
            },
            "colorscale": [
             [
              0,
              "#0d0887"
             ],
             [
              0.1111111111111111,
              "#46039f"
             ],
             [
              0.2222222222222222,
              "#7201a8"
             ],
             [
              0.3333333333333333,
              "#9c179e"
             ],
             [
              0.4444444444444444,
              "#bd3786"
             ],
             [
              0.5555555555555556,
              "#d8576b"
             ],
             [
              0.6666666666666666,
              "#ed7953"
             ],
             [
              0.7777777777777778,
              "#fb9f3a"
             ],
             [
              0.8888888888888888,
              "#fdca26"
             ],
             [
              1,
              "#f0f921"
             ]
            ],
            "type": "histogram2dcontour"
           }
          ],
          "mesh3d": [
           {
            "colorbar": {
             "outlinewidth": 0,
             "ticks": ""
            },
            "type": "mesh3d"
           }
          ],
          "parcoords": [
           {
            "line": {
             "colorbar": {
              "outlinewidth": 0,
              "ticks": ""
             }
            },
            "type": "parcoords"
           }
          ],
          "pie": [
           {
            "automargin": true,
            "type": "pie"
           }
          ],
          "scatter": [
           {
            "marker": {
             "colorbar": {
              "outlinewidth": 0,
              "ticks": ""
             }
            },
            "type": "scatter"
           }
          ],
          "scatter3d": [
           {
            "line": {
             "colorbar": {
              "outlinewidth": 0,
              "ticks": ""
             }
            },
            "marker": {
             "colorbar": {
              "outlinewidth": 0,
              "ticks": ""
             }
            },
            "type": "scatter3d"
           }
          ],
          "scattercarpet": [
           {
            "marker": {
             "colorbar": {
              "outlinewidth": 0,
              "ticks": ""
             }
            },
            "type": "scattercarpet"
           }
          ],
          "scattergeo": [
           {
            "marker": {
             "colorbar": {
              "outlinewidth": 0,
              "ticks": ""
             }
            },
            "type": "scattergeo"
           }
          ],
          "scattergl": [
           {
            "marker": {
             "colorbar": {
              "outlinewidth": 0,
              "ticks": ""
             }
            },
            "type": "scattergl"
           }
          ],
          "scattermapbox": [
           {
            "marker": {
             "colorbar": {
              "outlinewidth": 0,
              "ticks": ""
             }
            },
            "type": "scattermapbox"
           }
          ],
          "scatterpolar": [
           {
            "marker": {
             "colorbar": {
              "outlinewidth": 0,
              "ticks": ""
             }
            },
            "type": "scatterpolar"
           }
          ],
          "scatterpolargl": [
           {
            "marker": {
             "colorbar": {
              "outlinewidth": 0,
              "ticks": ""
             }
            },
            "type": "scatterpolargl"
           }
          ],
          "scatterternary": [
           {
            "marker": {
             "colorbar": {
              "outlinewidth": 0,
              "ticks": ""
             }
            },
            "type": "scatterternary"
           }
          ],
          "surface": [
           {
            "colorbar": {
             "outlinewidth": 0,
             "ticks": ""
            },
            "colorscale": [
             [
              0,
              "#0d0887"
             ],
             [
              0.1111111111111111,
              "#46039f"
             ],
             [
              0.2222222222222222,
              "#7201a8"
             ],
             [
              0.3333333333333333,
              "#9c179e"
             ],
             [
              0.4444444444444444,
              "#bd3786"
             ],
             [
              0.5555555555555556,
              "#d8576b"
             ],
             [
              0.6666666666666666,
              "#ed7953"
             ],
             [
              0.7777777777777778,
              "#fb9f3a"
             ],
             [
              0.8888888888888888,
              "#fdca26"
             ],
             [
              1,
              "#f0f921"
             ]
            ],
            "type": "surface"
           }
          ],
          "table": [
           {
            "cells": {
             "fill": {
              "color": "#EBF0F8"
             },
             "line": {
              "color": "white"
             }
            },
            "header": {
             "fill": {
              "color": "#C8D4E3"
             },
             "line": {
              "color": "white"
             }
            },
            "type": "table"
           }
          ]
         },
         "layout": {
          "annotationdefaults": {
           "arrowcolor": "#2a3f5f",
           "arrowhead": 0,
           "arrowwidth": 1
          },
          "coloraxis": {
           "colorbar": {
            "outlinewidth": 0,
            "ticks": ""
           }
          },
          "colorscale": {
           "diverging": [
            [
             0,
             "#8e0152"
            ],
            [
             0.1,
             "#c51b7d"
            ],
            [
             0.2,
             "#de77ae"
            ],
            [
             0.3,
             "#f1b6da"
            ],
            [
             0.4,
             "#fde0ef"
            ],
            [
             0.5,
             "#f7f7f7"
            ],
            [
             0.6,
             "#e6f5d0"
            ],
            [
             0.7,
             "#b8e186"
            ],
            [
             0.8,
             "#7fbc41"
            ],
            [
             0.9,
             "#4d9221"
            ],
            [
             1,
             "#276419"
            ]
           ],
           "sequential": [
            [
             0,
             "#0d0887"
            ],
            [
             0.1111111111111111,
             "#46039f"
            ],
            [
             0.2222222222222222,
             "#7201a8"
            ],
            [
             0.3333333333333333,
             "#9c179e"
            ],
            [
             0.4444444444444444,
             "#bd3786"
            ],
            [
             0.5555555555555556,
             "#d8576b"
            ],
            [
             0.6666666666666666,
             "#ed7953"
            ],
            [
             0.7777777777777778,
             "#fb9f3a"
            ],
            [
             0.8888888888888888,
             "#fdca26"
            ],
            [
             1,
             "#f0f921"
            ]
           ],
           "sequentialminus": [
            [
             0,
             "#0d0887"
            ],
            [
             0.1111111111111111,
             "#46039f"
            ],
            [
             0.2222222222222222,
             "#7201a8"
            ],
            [
             0.3333333333333333,
             "#9c179e"
            ],
            [
             0.4444444444444444,
             "#bd3786"
            ],
            [
             0.5555555555555556,
             "#d8576b"
            ],
            [
             0.6666666666666666,
             "#ed7953"
            ],
            [
             0.7777777777777778,
             "#fb9f3a"
            ],
            [
             0.8888888888888888,
             "#fdca26"
            ],
            [
             1,
             "#f0f921"
            ]
           ]
          },
          "colorway": [
           "#636efa",
           "#EF553B",
           "#00cc96",
           "#ab63fa",
           "#FFA15A",
           "#19d3f3",
           "#FF6692",
           "#B6E880",
           "#FF97FF",
           "#FECB52"
          ],
          "font": {
           "color": "#2a3f5f"
          },
          "geo": {
           "bgcolor": "white",
           "lakecolor": "white",
           "landcolor": "#E5ECF6",
           "showlakes": true,
           "showland": true,
           "subunitcolor": "white"
          },
          "hoverlabel": {
           "align": "left"
          },
          "hovermode": "closest",
          "mapbox": {
           "style": "light"
          },
          "paper_bgcolor": "white",
          "plot_bgcolor": "#E5ECF6",
          "polar": {
           "angularaxis": {
            "gridcolor": "white",
            "linecolor": "white",
            "ticks": ""
           },
           "bgcolor": "#E5ECF6",
           "radialaxis": {
            "gridcolor": "white",
            "linecolor": "white",
            "ticks": ""
           }
          },
          "scene": {
           "xaxis": {
            "backgroundcolor": "#E5ECF6",
            "gridcolor": "white",
            "gridwidth": 2,
            "linecolor": "white",
            "showbackground": true,
            "ticks": "",
            "zerolinecolor": "white"
           },
           "yaxis": {
            "backgroundcolor": "#E5ECF6",
            "gridcolor": "white",
            "gridwidth": 2,
            "linecolor": "white",
            "showbackground": true,
            "ticks": "",
            "zerolinecolor": "white"
           },
           "zaxis": {
            "backgroundcolor": "#E5ECF6",
            "gridcolor": "white",
            "gridwidth": 2,
            "linecolor": "white",
            "showbackground": true,
            "ticks": "",
            "zerolinecolor": "white"
           }
          },
          "shapedefaults": {
           "line": {
            "color": "#2a3f5f"
           }
          },
          "ternary": {
           "aaxis": {
            "gridcolor": "white",
            "linecolor": "white",
            "ticks": ""
           },
           "baxis": {
            "gridcolor": "white",
            "linecolor": "white",
            "ticks": ""
           },
           "bgcolor": "#E5ECF6",
           "caxis": {
            "gridcolor": "white",
            "linecolor": "white",
            "ticks": ""
           }
          },
          "title": {
           "x": 0.05
          },
          "xaxis": {
           "automargin": true,
           "gridcolor": "white",
           "linecolor": "white",
           "ticks": "",
           "title": {
            "standoff": 15
           },
           "zerolinecolor": "white",
           "zerolinewidth": 2
          },
          "yaxis": {
           "automargin": true,
           "gridcolor": "white",
           "linecolor": "white",
           "ticks": "",
           "title": {
            "standoff": 15
           },
           "zerolinecolor": "white",
           "zerolinewidth": 2
          }
         }
        }
       }
      },
      "text/html": [
       "<div>\n",
       "        \n",
       "        \n",
       "            <div id=\"f8c55441-4572-451c-9e8c-86e74b5ec93e\" class=\"plotly-graph-div\" style=\"height:525px; width:100%;\"></div>\n",
       "            <script type=\"text/javascript\">\n",
       "                require([\"plotly\"], function(Plotly) {\n",
       "                    window.PLOTLYENV=window.PLOTLYENV || {};\n",
       "                    \n",
       "                if (document.getElementById(\"f8c55441-4572-451c-9e8c-86e74b5ec93e\")) {\n",
       "                    Plotly.newPlot(\n",
       "                        'f8c55441-4572-451c-9e8c-86e74b5ec93e',\n",
       "                        [{\"marker\": {\"size\": [26, 10, 8, 8, 6, 4, 4, 4, 4, 4]}, \"mode\": \"markers\", \"type\": \"scatter\", \"x\": [0, 1, 2, 3, 4, 5, 6, 7, 8, 9], \"y\": [13, 5, 4, 4, 3, 2, 2, 2, 2, 2]}],\n",
       "                        {\"annotations\": [{\"showarrow\": false, \"text\": \"vegan line\", \"x\": 0, \"xanchor\": \"center\", \"y\": 13, \"yanchor\": \"bottom\"}, {\"showarrow\": false, \"text\": \"deep cleaning\", \"x\": 1, \"xanchor\": \"center\", \"y\": 5, \"yanchor\": \"top\"}, {\"showarrow\": false, \"text\": \"vegan herbs line\", \"x\": 2, \"xanchor\": \"center\", \"y\": 4, \"yanchor\": \"bottom\"}, {\"showarrow\": false, \"text\": \"nutri protect\", \"x\": 3, \"xanchor\": \"center\", \"y\": 4, \"yanchor\": \"top\"}, {\"showarrow\": false, \"text\": \"biocrema capim\", \"x\": 4, \"xanchor\": \"center\", \"y\": 3, \"yanchor\": \"bottom\"}, {\"showarrow\": false, \"text\": \"baby original\", \"x\": 5, \"xanchor\": \"center\", \"y\": 2, \"yanchor\": \"top\"}, {\"showarrow\": false, \"text\": \"neutrogerm antiseptic body\", \"x\": 6, \"xanchor\": \"center\", \"y\": 2, \"yanchor\": \"bottom\"}, {\"showarrow\": false, \"text\": \"dermotivin control\", \"x\": 7, \"xanchor\": \"center\", \"y\": 2, \"yanchor\": \"top\"}, {\"showarrow\": false, \"text\": \"secret nature pitaya\", \"x\": 8, \"xanchor\": \"center\", \"y\": 2, \"yanchor\": \"bottom\"}, {\"showarrow\": false, \"text\": \"granado beb\\u00ea dermocalmante peles sens\\u00edveis - sabonete\", \"x\": 9, \"xanchor\": \"center\", \"y\": 2, \"yanchor\": \"top\"}], \"template\": {\"data\": {\"bar\": [{\"error_x\": {\"color\": \"#2a3f5f\"}, \"error_y\": {\"color\": \"#2a3f5f\"}, \"marker\": {\"line\": {\"color\": \"#E5ECF6\", \"width\": 0.5}}, \"type\": \"bar\"}], \"barpolar\": [{\"marker\": {\"line\": {\"color\": \"#E5ECF6\", \"width\": 0.5}}, \"type\": \"barpolar\"}], \"carpet\": [{\"aaxis\": {\"endlinecolor\": \"#2a3f5f\", \"gridcolor\": \"white\", \"linecolor\": \"white\", \"minorgridcolor\": \"white\", \"startlinecolor\": \"#2a3f5f\"}, \"baxis\": {\"endlinecolor\": \"#2a3f5f\", \"gridcolor\": \"white\", \"linecolor\": \"white\", \"minorgridcolor\": \"white\", \"startlinecolor\": \"#2a3f5f\"}, \"type\": \"carpet\"}], \"choropleth\": [{\"colorbar\": {\"outlinewidth\": 0, \"ticks\": \"\"}, \"type\": \"choropleth\"}], \"contour\": [{\"colorbar\": {\"outlinewidth\": 0, \"ticks\": \"\"}, \"colorscale\": [[0.0, \"#0d0887\"], [0.1111111111111111, \"#46039f\"], [0.2222222222222222, \"#7201a8\"], [0.3333333333333333, \"#9c179e\"], [0.4444444444444444, \"#bd3786\"], [0.5555555555555556, \"#d8576b\"], [0.6666666666666666, \"#ed7953\"], [0.7777777777777778, \"#fb9f3a\"], [0.8888888888888888, \"#fdca26\"], [1.0, \"#f0f921\"]], \"type\": \"contour\"}], \"contourcarpet\": [{\"colorbar\": {\"outlinewidth\": 0, \"ticks\": \"\"}, \"type\": \"contourcarpet\"}], \"heatmap\": [{\"colorbar\": {\"outlinewidth\": 0, \"ticks\": \"\"}, \"colorscale\": [[0.0, \"#0d0887\"], [0.1111111111111111, \"#46039f\"], [0.2222222222222222, \"#7201a8\"], [0.3333333333333333, \"#9c179e\"], [0.4444444444444444, \"#bd3786\"], [0.5555555555555556, \"#d8576b\"], [0.6666666666666666, \"#ed7953\"], [0.7777777777777778, \"#fb9f3a\"], [0.8888888888888888, \"#fdca26\"], [1.0, \"#f0f921\"]], \"type\": \"heatmap\"}], \"heatmapgl\": [{\"colorbar\": {\"outlinewidth\": 0, \"ticks\": \"\"}, \"colorscale\": [[0.0, \"#0d0887\"], [0.1111111111111111, \"#46039f\"], [0.2222222222222222, \"#7201a8\"], [0.3333333333333333, \"#9c179e\"], [0.4444444444444444, \"#bd3786\"], [0.5555555555555556, \"#d8576b\"], [0.6666666666666666, \"#ed7953\"], [0.7777777777777778, \"#fb9f3a\"], [0.8888888888888888, \"#fdca26\"], [1.0, \"#f0f921\"]], \"type\": \"heatmapgl\"}], \"histogram\": [{\"marker\": {\"colorbar\": {\"outlinewidth\": 0, \"ticks\": \"\"}}, \"type\": \"histogram\"}], \"histogram2d\": [{\"colorbar\": {\"outlinewidth\": 0, \"ticks\": \"\"}, \"colorscale\": [[0.0, \"#0d0887\"], [0.1111111111111111, \"#46039f\"], [0.2222222222222222, \"#7201a8\"], [0.3333333333333333, \"#9c179e\"], [0.4444444444444444, \"#bd3786\"], [0.5555555555555556, \"#d8576b\"], [0.6666666666666666, \"#ed7953\"], [0.7777777777777778, \"#fb9f3a\"], [0.8888888888888888, \"#fdca26\"], [1.0, \"#f0f921\"]], \"type\": \"histogram2d\"}], \"histogram2dcontour\": [{\"colorbar\": {\"outlinewidth\": 0, \"ticks\": \"\"}, \"colorscale\": [[0.0, \"#0d0887\"], [0.1111111111111111, \"#46039f\"], [0.2222222222222222, \"#7201a8\"], [0.3333333333333333, \"#9c179e\"], [0.4444444444444444, \"#bd3786\"], [0.5555555555555556, \"#d8576b\"], [0.6666666666666666, \"#ed7953\"], [0.7777777777777778, \"#fb9f3a\"], [0.8888888888888888, \"#fdca26\"], [1.0, \"#f0f921\"]], \"type\": \"histogram2dcontour\"}], \"mesh3d\": [{\"colorbar\": {\"outlinewidth\": 0, \"ticks\": \"\"}, \"type\": \"mesh3d\"}], \"parcoords\": [{\"line\": {\"colorbar\": {\"outlinewidth\": 0, \"ticks\": \"\"}}, \"type\": \"parcoords\"}], \"pie\": [{\"automargin\": true, \"type\": \"pie\"}], \"scatter\": [{\"marker\": {\"colorbar\": {\"outlinewidth\": 0, \"ticks\": \"\"}}, \"type\": \"scatter\"}], \"scatter3d\": [{\"line\": {\"colorbar\": {\"outlinewidth\": 0, \"ticks\": \"\"}}, \"marker\": {\"colorbar\": {\"outlinewidth\": 0, \"ticks\": \"\"}}, \"type\": \"scatter3d\"}], \"scattercarpet\": [{\"marker\": {\"colorbar\": {\"outlinewidth\": 0, \"ticks\": \"\"}}, \"type\": \"scattercarpet\"}], \"scattergeo\": [{\"marker\": {\"colorbar\": {\"outlinewidth\": 0, \"ticks\": \"\"}}, \"type\": \"scattergeo\"}], \"scattergl\": [{\"marker\": {\"colorbar\": {\"outlinewidth\": 0, \"ticks\": \"\"}}, \"type\": \"scattergl\"}], \"scattermapbox\": [{\"marker\": {\"colorbar\": {\"outlinewidth\": 0, \"ticks\": \"\"}}, \"type\": \"scattermapbox\"}], \"scatterpolar\": [{\"marker\": {\"colorbar\": {\"outlinewidth\": 0, \"ticks\": \"\"}}, \"type\": \"scatterpolar\"}], \"scatterpolargl\": [{\"marker\": {\"colorbar\": {\"outlinewidth\": 0, \"ticks\": \"\"}}, \"type\": \"scatterpolargl\"}], \"scatterternary\": [{\"marker\": {\"colorbar\": {\"outlinewidth\": 0, \"ticks\": \"\"}}, \"type\": \"scatterternary\"}], \"surface\": [{\"colorbar\": {\"outlinewidth\": 0, \"ticks\": \"\"}, \"colorscale\": [[0.0, \"#0d0887\"], [0.1111111111111111, \"#46039f\"], [0.2222222222222222, \"#7201a8\"], [0.3333333333333333, \"#9c179e\"], [0.4444444444444444, \"#bd3786\"], [0.5555555555555556, \"#d8576b\"], [0.6666666666666666, \"#ed7953\"], [0.7777777777777778, \"#fb9f3a\"], [0.8888888888888888, \"#fdca26\"], [1.0, \"#f0f921\"]], \"type\": \"surface\"}], \"table\": [{\"cells\": {\"fill\": {\"color\": \"#EBF0F8\"}, \"line\": {\"color\": \"white\"}}, \"header\": {\"fill\": {\"color\": \"#C8D4E3\"}, \"line\": {\"color\": \"white\"}}, \"type\": \"table\"}]}, \"layout\": {\"annotationdefaults\": {\"arrowcolor\": \"#2a3f5f\", \"arrowhead\": 0, \"arrowwidth\": 1}, \"coloraxis\": {\"colorbar\": {\"outlinewidth\": 0, \"ticks\": \"\"}}, \"colorscale\": {\"diverging\": [[0, \"#8e0152\"], [0.1, \"#c51b7d\"], [0.2, \"#de77ae\"], [0.3, \"#f1b6da\"], [0.4, \"#fde0ef\"], [0.5, \"#f7f7f7\"], [0.6, \"#e6f5d0\"], [0.7, \"#b8e186\"], [0.8, \"#7fbc41\"], [0.9, \"#4d9221\"], [1, \"#276419\"]], \"sequential\": [[0.0, \"#0d0887\"], [0.1111111111111111, \"#46039f\"], [0.2222222222222222, \"#7201a8\"], [0.3333333333333333, \"#9c179e\"], [0.4444444444444444, \"#bd3786\"], [0.5555555555555556, \"#d8576b\"], [0.6666666666666666, \"#ed7953\"], [0.7777777777777778, \"#fb9f3a\"], [0.8888888888888888, \"#fdca26\"], [1.0, \"#f0f921\"]], \"sequentialminus\": [[0.0, \"#0d0887\"], [0.1111111111111111, \"#46039f\"], [0.2222222222222222, \"#7201a8\"], [0.3333333333333333, \"#9c179e\"], [0.4444444444444444, \"#bd3786\"], [0.5555555555555556, \"#d8576b\"], [0.6666666666666666, \"#ed7953\"], [0.7777777777777778, \"#fb9f3a\"], [0.8888888888888888, \"#fdca26\"], [1.0, \"#f0f921\"]]}, \"colorway\": [\"#636efa\", \"#EF553B\", \"#00cc96\", \"#ab63fa\", \"#FFA15A\", \"#19d3f3\", \"#FF6692\", \"#B6E880\", \"#FF97FF\", \"#FECB52\"], \"font\": {\"color\": \"#2a3f5f\"}, \"geo\": {\"bgcolor\": \"white\", \"lakecolor\": \"white\", \"landcolor\": \"#E5ECF6\", \"showlakes\": true, \"showland\": true, \"subunitcolor\": \"white\"}, \"hoverlabel\": {\"align\": \"left\"}, \"hovermode\": \"closest\", \"mapbox\": {\"style\": \"light\"}, \"paper_bgcolor\": \"white\", \"plot_bgcolor\": \"#E5ECF6\", \"polar\": {\"angularaxis\": {\"gridcolor\": \"white\", \"linecolor\": \"white\", \"ticks\": \"\"}, \"bgcolor\": \"#E5ECF6\", \"radialaxis\": {\"gridcolor\": \"white\", \"linecolor\": \"white\", \"ticks\": \"\"}}, \"scene\": {\"xaxis\": {\"backgroundcolor\": \"#E5ECF6\", \"gridcolor\": \"white\", \"gridwidth\": 2, \"linecolor\": \"white\", \"showbackground\": true, \"ticks\": \"\", \"zerolinecolor\": \"white\"}, \"yaxis\": {\"backgroundcolor\": \"#E5ECF6\", \"gridcolor\": \"white\", \"gridwidth\": 2, \"linecolor\": \"white\", \"showbackground\": true, \"ticks\": \"\", \"zerolinecolor\": \"white\"}, \"zaxis\": {\"backgroundcolor\": \"#E5ECF6\", \"gridcolor\": \"white\", \"gridwidth\": 2, \"linecolor\": \"white\", \"showbackground\": true, \"ticks\": \"\", \"zerolinecolor\": \"white\"}}, \"shapedefaults\": {\"line\": {\"color\": \"#2a3f5f\"}}, \"ternary\": {\"aaxis\": {\"gridcolor\": \"white\", \"linecolor\": \"white\", \"ticks\": \"\"}, \"baxis\": {\"gridcolor\": \"white\", \"linecolor\": \"white\", \"ticks\": \"\"}, \"bgcolor\": \"#E5ECF6\", \"caxis\": {\"gridcolor\": \"white\", \"linecolor\": \"white\", \"ticks\": \"\"}}, \"title\": {\"x\": 0.05}, \"xaxis\": {\"automargin\": true, \"gridcolor\": \"white\", \"linecolor\": \"white\", \"ticks\": \"\", \"title\": {\"standoff\": 15}, \"zerolinecolor\": \"white\", \"zerolinewidth\": 2}, \"yaxis\": {\"automargin\": true, \"gridcolor\": \"white\", \"linecolor\": \"white\", \"ticks\": \"\", \"title\": {\"standoff\": 15}, \"zerolinecolor\": \"white\", \"zerolinewidth\": 2}}}},\n",
       "                        {\"responsive\": true}\n",
       "                    ).then(function(){\n",
       "                            \n",
       "var gd = document.getElementById('f8c55441-4572-451c-9e8c-86e74b5ec93e');\n",
       "var x = new MutationObserver(function (mutations, observer) {{\n",
       "        var display = window.getComputedStyle(gd).display;\n",
       "        if (!display || display === 'none') {{\n",
       "            console.log([gd, 'removed!']);\n",
       "            Plotly.purge(gd);\n",
       "            observer.disconnect();\n",
       "        }}\n",
       "}});\n",
       "\n",
       "// Listen for the removal of the full notebook cells\n",
       "var notebookContainer = gd.closest('#notebook-container');\n",
       "if (notebookContainer) {{\n",
       "    x.observe(notebookContainer, {childList: true});\n",
       "}}\n",
       "\n",
       "// Listen for the clearing of the current output cell\n",
       "var outputEl = gd.closest('.output');\n",
       "if (outputEl) {{\n",
       "    x.observe(outputEl, {childList: true});\n",
       "}}\n",
       "\n",
       "                        })\n",
       "                };\n",
       "                });\n",
       "            </script>\n",
       "        </div>"
      ]
     },
     "metadata": {},
     "output_type": "display_data"
    }
   ],
   "source": [
    "# draw bubble chart for the most ten frequency chunks\n",
    "import plotly.graph_objects as go\n",
    "x_data = list(range(10))\n",
    "y_data = list(zip(*sort_list))[1][:10]\n",
    "z_data = list(zip(*sort_list))[0][:10]\n",
    "annotations = [\n",
    "    dict(\n",
    "        x=x_data[i], \n",
    "        y=y_data[i],\n",
    "        text=z_data[i], # Some conditional to define outliers\n",
    "        showarrow=False,\n",
    "        xanchor='center',  # Position of text relative to x axis (left/right/center)\n",
    "        yanchor='top' if i%2 else 'bottom',  # Position of text relative to y axis (top/bottom/middle)\n",
    "    ) for i in range(10)\n",
    "]\n",
    "trace0 = go.Scatter(\n",
    "    x=x_data,\n",
    "    y=y_data,\n",
    "    mode='markers',\n",
    "    marker=dict(\n",
    "        size=[i * 2 for i in y_data],\n",
    "    )\n",
    ")\n",
    "\n",
    "data = [trace0]\n",
    "layout = go.Layout(annotations=annotations)\n",
    "\n",
    "fig = go.Figure(data=data, layout=layout)\n",
    "fig.show()"
   ]
  },
  {
   "cell_type": "code",
   "execution_count": 237,
   "metadata": {},
   "outputs": [],
   "source": [
    "import spacy\n",
    "nlp = spacy.load(\"en_core_web_sm\")\n",
    "# func to get the 'adjective&adverb', 'verb', 'noun' in each review and store them into list\n",
    "def pos_func(text):\n",
    "    adj_adv = []\n",
    "    verb = []\n",
    "    noun = []\n",
    "    propn = []\n",
    "    combined_doc = nlp(text)\n",
    "    for token in combined_doc:\n",
    "        if token.pos_ == 'ADJ' or token.pos_ == 'ADV':\n",
    "            if not str(token) == '-':\n",
    "                adj_adv.append(str(token))\n",
    "        elif token.pos_ == 'VERB':\n",
    "            verb.append(str(token))\n",
    "        elif token.pos_ == 'NOUN':\n",
    "            noun.append(str(token))\n",
    "        else:\n",
    "            continue\n",
    "    return adj_adv, verb, noun"
   ]
  },
  {
   "cell_type": "code",
   "execution_count": 238,
   "metadata": {},
   "outputs": [],
   "source": [
    "# func to draw frequency bubble chart for each pos_tag word list\n",
    "def frequency_bubble_chart(pos_tag_list,count,x = 1):\n",
    "    from collections import Counter\n",
    "    word_freq = Counter(pos_tag_list)\n",
    "    common_words = word_freq.most_common(count)\n",
    "    ### Draw frequency bubble charts\n",
    "    import plotly.graph_objects as go\n",
    "    x_data = list(range(count))\n",
    "    y_data = list(zip(*common_words))[1]\n",
    "    z_data = list(zip(*common_words))[0]\n",
    "    annotations = [\n",
    "        dict(\n",
    "            x=x_data[i], \n",
    "            y=y_data[i],\n",
    "            text=z_data[i], # Some conditional to define outliers\n",
    "            showarrow=False,\n",
    "            xanchor='center',  # Position of text relative to x axis (left/right/center)\n",
    "            yanchor='middle',  # Position of text relative to y axis (top/bottom/middle)\n",
    "        ) for i in range(count)\n",
    "    ]\n",
    "    trace0 = go.Scatter(\n",
    "        x=x_data,\n",
    "        y=y_data,\n",
    "        mode='markers',\n",
    "        marker=dict(\n",
    "            size=[i*x for i in y_data],\n",
    "        )\n",
    "    )\n",
    "\n",
    "    data = [trace0]\n",
    "    layout = go.Layout(annotations=annotations)\n",
    "\n",
    "    fig = go.Figure(data=data, layout=layout)\n",
    "    fig.show()\n",
    "    return common_words"
   ]
  },
  {
   "cell_type": "code",
   "execution_count": 239,
   "metadata": {},
   "outputs": [],
   "source": [
    "delete_words = ['soap', 'grams', 'units', 'gramas', 'barra', 'rectangular', 'bar', 'sabonetes', 'sabonete', 'g', 'soaps']\n",
    "# func to remove unnecessary words\n",
    "def remove_words(raw_text):\n",
    "    texts = []\n",
    "    stop_words = set(stopwords.words('english')) \n",
    "    for i in raw_text:\n",
    "        if type(i) == str:\n",
    "            word_tokens = word_tokenize(i.lower().strip().translate(str.maketrans('', '', string.punctuation)))\n",
    "            # remove stop words and delete words\n",
    "            stopped_tokens = [i for i in word_tokens if not i in stop_words.union(set(delete_words))]\n",
    "            texts.append(' '.join(stopped_tokens))\n",
    "        else:\n",
    "            continue\n",
    "    return texts"
   ]
  },
  {
   "cell_type": "code",
   "execution_count": 250,
   "metadata": {},
   "outputs": [],
   "source": [
    "adj_adv, verb, noun = pos_func(' '.join(remove_words(model)))\n",
    "pos_dict = {}\n",
    "pos_dict['adj_adv'] = adj_adv\n",
    "pos_dict['verb'] = verb\n",
    "noun = [word for word in noun if word not in ['g','line','information','skin','body']]\n",
    "pos_dict['noun'] = noun"
   ]
  },
  {
   "cell_type": "code",
   "execution_count": 251,
   "metadata": {},
   "outputs": [
    {
     "data": {
      "application/vnd.plotly.v1+json": {
       "config": {
        "plotlyServerURL": "https://plot.ly"
       },
       "data": [
        {
         "marker": {
          "size": [
           30,
           30,
           24,
           21,
           15,
           15,
           12,
           12,
           12,
           9,
           9,
           9,
           9,
           9,
           9
          ]
         },
         "mode": "markers",
         "type": "scatter",
         "x": [
          0,
          1,
          2,
          3,
          4,
          5,
          6,
          7,
          8,
          9,
          10,
          11,
          12,
          13,
          14
         ],
         "y": [
          10,
          10,
          8,
          7,
          5,
          5,
          4,
          4,
          4,
          3,
          3,
          3,
          3,
          3,
          3
         ]
        }
       ],
       "layout": {
        "annotations": [
         {
          "showarrow": false,
          "text": "natural",
          "x": 0,
          "xanchor": "center",
          "y": 10,
          "yanchor": "middle"
         },
         {
          "showarrow": false,
          "text": "oily",
          "x": 1,
          "xanchor": "center",
          "y": 10,
          "yanchor": "middle"
         },
         {
          "showarrow": false,
          "text": "facial",
          "x": 2,
          "xanchor": "center",
          "y": 8,
          "yanchor": "middle"
         },
         {
          "showarrow": false,
          "text": "deep",
          "x": 3,
          "xanchor": "center",
          "y": 7,
          "yanchor": "middle"
         },
         {
          "showarrow": false,
          "text": "various",
          "x": 4,
          "xanchor": "center",
          "y": 5,
          "yanchor": "middle"
         },
         {
          "showarrow": false,
          "text": "single",
          "x": 5,
          "xanchor": "center",
          "y": 5,
          "yanchor": "middle"
         },
         {
          "showarrow": false,
          "text": "original",
          "x": 6,
          "xanchor": "center",
          "y": 4,
          "yanchor": "middle"
         },
         {
          "showarrow": false,
          "text": "antiacne",
          "x": 7,
          "xanchor": "center",
          "y": 4,
          "yanchor": "middle"
         },
         {
          "showarrow": false,
          "text": "liquid",
          "x": 8,
          "xanchor": "center",
          "y": 4,
          "yanchor": "middle"
         },
         {
          "showarrow": false,
          "text": "antibacterial",
          "x": 9,
          "xanchor": "center",
          "y": 3,
          "yanchor": "middle"
         },
         {
          "showarrow": false,
          "text": "organic",
          "x": 10,
          "xanchor": "center",
          "y": 3,
          "yanchor": "middle"
         },
         {
          "showarrow": false,
          "text": "pure",
          "x": 11,
          "xanchor": "center",
          "y": 3,
          "yanchor": "middle"
         },
         {
          "showarrow": false,
          "text": "white",
          "x": 12,
          "xanchor": "center",
          "y": 3,
          "yanchor": "middle"
         },
         {
          "showarrow": false,
          "text": "essential",
          "x": 13,
          "xanchor": "center",
          "y": 3,
          "yanchor": "middle"
         },
         {
          "showarrow": false,
          "text": "sensitive",
          "x": 14,
          "xanchor": "center",
          "y": 3,
          "yanchor": "middle"
         }
        ],
        "template": {
         "data": {
          "bar": [
           {
            "error_x": {
             "color": "#2a3f5f"
            },
            "error_y": {
             "color": "#2a3f5f"
            },
            "marker": {
             "line": {
              "color": "#E5ECF6",
              "width": 0.5
             }
            },
            "type": "bar"
           }
          ],
          "barpolar": [
           {
            "marker": {
             "line": {
              "color": "#E5ECF6",
              "width": 0.5
             }
            },
            "type": "barpolar"
           }
          ],
          "carpet": [
           {
            "aaxis": {
             "endlinecolor": "#2a3f5f",
             "gridcolor": "white",
             "linecolor": "white",
             "minorgridcolor": "white",
             "startlinecolor": "#2a3f5f"
            },
            "baxis": {
             "endlinecolor": "#2a3f5f",
             "gridcolor": "white",
             "linecolor": "white",
             "minorgridcolor": "white",
             "startlinecolor": "#2a3f5f"
            },
            "type": "carpet"
           }
          ],
          "choropleth": [
           {
            "colorbar": {
             "outlinewidth": 0,
             "ticks": ""
            },
            "type": "choropleth"
           }
          ],
          "contour": [
           {
            "colorbar": {
             "outlinewidth": 0,
             "ticks": ""
            },
            "colorscale": [
             [
              0,
              "#0d0887"
             ],
             [
              0.1111111111111111,
              "#46039f"
             ],
             [
              0.2222222222222222,
              "#7201a8"
             ],
             [
              0.3333333333333333,
              "#9c179e"
             ],
             [
              0.4444444444444444,
              "#bd3786"
             ],
             [
              0.5555555555555556,
              "#d8576b"
             ],
             [
              0.6666666666666666,
              "#ed7953"
             ],
             [
              0.7777777777777778,
              "#fb9f3a"
             ],
             [
              0.8888888888888888,
              "#fdca26"
             ],
             [
              1,
              "#f0f921"
             ]
            ],
            "type": "contour"
           }
          ],
          "contourcarpet": [
           {
            "colorbar": {
             "outlinewidth": 0,
             "ticks": ""
            },
            "type": "contourcarpet"
           }
          ],
          "heatmap": [
           {
            "colorbar": {
             "outlinewidth": 0,
             "ticks": ""
            },
            "colorscale": [
             [
              0,
              "#0d0887"
             ],
             [
              0.1111111111111111,
              "#46039f"
             ],
             [
              0.2222222222222222,
              "#7201a8"
             ],
             [
              0.3333333333333333,
              "#9c179e"
             ],
             [
              0.4444444444444444,
              "#bd3786"
             ],
             [
              0.5555555555555556,
              "#d8576b"
             ],
             [
              0.6666666666666666,
              "#ed7953"
             ],
             [
              0.7777777777777778,
              "#fb9f3a"
             ],
             [
              0.8888888888888888,
              "#fdca26"
             ],
             [
              1,
              "#f0f921"
             ]
            ],
            "type": "heatmap"
           }
          ],
          "heatmapgl": [
           {
            "colorbar": {
             "outlinewidth": 0,
             "ticks": ""
            },
            "colorscale": [
             [
              0,
              "#0d0887"
             ],
             [
              0.1111111111111111,
              "#46039f"
             ],
             [
              0.2222222222222222,
              "#7201a8"
             ],
             [
              0.3333333333333333,
              "#9c179e"
             ],
             [
              0.4444444444444444,
              "#bd3786"
             ],
             [
              0.5555555555555556,
              "#d8576b"
             ],
             [
              0.6666666666666666,
              "#ed7953"
             ],
             [
              0.7777777777777778,
              "#fb9f3a"
             ],
             [
              0.8888888888888888,
              "#fdca26"
             ],
             [
              1,
              "#f0f921"
             ]
            ],
            "type": "heatmapgl"
           }
          ],
          "histogram": [
           {
            "marker": {
             "colorbar": {
              "outlinewidth": 0,
              "ticks": ""
             }
            },
            "type": "histogram"
           }
          ],
          "histogram2d": [
           {
            "colorbar": {
             "outlinewidth": 0,
             "ticks": ""
            },
            "colorscale": [
             [
              0,
              "#0d0887"
             ],
             [
              0.1111111111111111,
              "#46039f"
             ],
             [
              0.2222222222222222,
              "#7201a8"
             ],
             [
              0.3333333333333333,
              "#9c179e"
             ],
             [
              0.4444444444444444,
              "#bd3786"
             ],
             [
              0.5555555555555556,
              "#d8576b"
             ],
             [
              0.6666666666666666,
              "#ed7953"
             ],
             [
              0.7777777777777778,
              "#fb9f3a"
             ],
             [
              0.8888888888888888,
              "#fdca26"
             ],
             [
              1,
              "#f0f921"
             ]
            ],
            "type": "histogram2d"
           }
          ],
          "histogram2dcontour": [
           {
            "colorbar": {
             "outlinewidth": 0,
             "ticks": ""
            },
            "colorscale": [
             [
              0,
              "#0d0887"
             ],
             [
              0.1111111111111111,
              "#46039f"
             ],
             [
              0.2222222222222222,
              "#7201a8"
             ],
             [
              0.3333333333333333,
              "#9c179e"
             ],
             [
              0.4444444444444444,
              "#bd3786"
             ],
             [
              0.5555555555555556,
              "#d8576b"
             ],
             [
              0.6666666666666666,
              "#ed7953"
             ],
             [
              0.7777777777777778,
              "#fb9f3a"
             ],
             [
              0.8888888888888888,
              "#fdca26"
             ],
             [
              1,
              "#f0f921"
             ]
            ],
            "type": "histogram2dcontour"
           }
          ],
          "mesh3d": [
           {
            "colorbar": {
             "outlinewidth": 0,
             "ticks": ""
            },
            "type": "mesh3d"
           }
          ],
          "parcoords": [
           {
            "line": {
             "colorbar": {
              "outlinewidth": 0,
              "ticks": ""
             }
            },
            "type": "parcoords"
           }
          ],
          "pie": [
           {
            "automargin": true,
            "type": "pie"
           }
          ],
          "scatter": [
           {
            "marker": {
             "colorbar": {
              "outlinewidth": 0,
              "ticks": ""
             }
            },
            "type": "scatter"
           }
          ],
          "scatter3d": [
           {
            "line": {
             "colorbar": {
              "outlinewidth": 0,
              "ticks": ""
             }
            },
            "marker": {
             "colorbar": {
              "outlinewidth": 0,
              "ticks": ""
             }
            },
            "type": "scatter3d"
           }
          ],
          "scattercarpet": [
           {
            "marker": {
             "colorbar": {
              "outlinewidth": 0,
              "ticks": ""
             }
            },
            "type": "scattercarpet"
           }
          ],
          "scattergeo": [
           {
            "marker": {
             "colorbar": {
              "outlinewidth": 0,
              "ticks": ""
             }
            },
            "type": "scattergeo"
           }
          ],
          "scattergl": [
           {
            "marker": {
             "colorbar": {
              "outlinewidth": 0,
              "ticks": ""
             }
            },
            "type": "scattergl"
           }
          ],
          "scattermapbox": [
           {
            "marker": {
             "colorbar": {
              "outlinewidth": 0,
              "ticks": ""
             }
            },
            "type": "scattermapbox"
           }
          ],
          "scatterpolar": [
           {
            "marker": {
             "colorbar": {
              "outlinewidth": 0,
              "ticks": ""
             }
            },
            "type": "scatterpolar"
           }
          ],
          "scatterpolargl": [
           {
            "marker": {
             "colorbar": {
              "outlinewidth": 0,
              "ticks": ""
             }
            },
            "type": "scatterpolargl"
           }
          ],
          "scatterternary": [
           {
            "marker": {
             "colorbar": {
              "outlinewidth": 0,
              "ticks": ""
             }
            },
            "type": "scatterternary"
           }
          ],
          "surface": [
           {
            "colorbar": {
             "outlinewidth": 0,
             "ticks": ""
            },
            "colorscale": [
             [
              0,
              "#0d0887"
             ],
             [
              0.1111111111111111,
              "#46039f"
             ],
             [
              0.2222222222222222,
              "#7201a8"
             ],
             [
              0.3333333333333333,
              "#9c179e"
             ],
             [
              0.4444444444444444,
              "#bd3786"
             ],
             [
              0.5555555555555556,
              "#d8576b"
             ],
             [
              0.6666666666666666,
              "#ed7953"
             ],
             [
              0.7777777777777778,
              "#fb9f3a"
             ],
             [
              0.8888888888888888,
              "#fdca26"
             ],
             [
              1,
              "#f0f921"
             ]
            ],
            "type": "surface"
           }
          ],
          "table": [
           {
            "cells": {
             "fill": {
              "color": "#EBF0F8"
             },
             "line": {
              "color": "white"
             }
            },
            "header": {
             "fill": {
              "color": "#C8D4E3"
             },
             "line": {
              "color": "white"
             }
            },
            "type": "table"
           }
          ]
         },
         "layout": {
          "annotationdefaults": {
           "arrowcolor": "#2a3f5f",
           "arrowhead": 0,
           "arrowwidth": 1
          },
          "coloraxis": {
           "colorbar": {
            "outlinewidth": 0,
            "ticks": ""
           }
          },
          "colorscale": {
           "diverging": [
            [
             0,
             "#8e0152"
            ],
            [
             0.1,
             "#c51b7d"
            ],
            [
             0.2,
             "#de77ae"
            ],
            [
             0.3,
             "#f1b6da"
            ],
            [
             0.4,
             "#fde0ef"
            ],
            [
             0.5,
             "#f7f7f7"
            ],
            [
             0.6,
             "#e6f5d0"
            ],
            [
             0.7,
             "#b8e186"
            ],
            [
             0.8,
             "#7fbc41"
            ],
            [
             0.9,
             "#4d9221"
            ],
            [
             1,
             "#276419"
            ]
           ],
           "sequential": [
            [
             0,
             "#0d0887"
            ],
            [
             0.1111111111111111,
             "#46039f"
            ],
            [
             0.2222222222222222,
             "#7201a8"
            ],
            [
             0.3333333333333333,
             "#9c179e"
            ],
            [
             0.4444444444444444,
             "#bd3786"
            ],
            [
             0.5555555555555556,
             "#d8576b"
            ],
            [
             0.6666666666666666,
             "#ed7953"
            ],
            [
             0.7777777777777778,
             "#fb9f3a"
            ],
            [
             0.8888888888888888,
             "#fdca26"
            ],
            [
             1,
             "#f0f921"
            ]
           ],
           "sequentialminus": [
            [
             0,
             "#0d0887"
            ],
            [
             0.1111111111111111,
             "#46039f"
            ],
            [
             0.2222222222222222,
             "#7201a8"
            ],
            [
             0.3333333333333333,
             "#9c179e"
            ],
            [
             0.4444444444444444,
             "#bd3786"
            ],
            [
             0.5555555555555556,
             "#d8576b"
            ],
            [
             0.6666666666666666,
             "#ed7953"
            ],
            [
             0.7777777777777778,
             "#fb9f3a"
            ],
            [
             0.8888888888888888,
             "#fdca26"
            ],
            [
             1,
             "#f0f921"
            ]
           ]
          },
          "colorway": [
           "#636efa",
           "#EF553B",
           "#00cc96",
           "#ab63fa",
           "#FFA15A",
           "#19d3f3",
           "#FF6692",
           "#B6E880",
           "#FF97FF",
           "#FECB52"
          ],
          "font": {
           "color": "#2a3f5f"
          },
          "geo": {
           "bgcolor": "white",
           "lakecolor": "white",
           "landcolor": "#E5ECF6",
           "showlakes": true,
           "showland": true,
           "subunitcolor": "white"
          },
          "hoverlabel": {
           "align": "left"
          },
          "hovermode": "closest",
          "mapbox": {
           "style": "light"
          },
          "paper_bgcolor": "white",
          "plot_bgcolor": "#E5ECF6",
          "polar": {
           "angularaxis": {
            "gridcolor": "white",
            "linecolor": "white",
            "ticks": ""
           },
           "bgcolor": "#E5ECF6",
           "radialaxis": {
            "gridcolor": "white",
            "linecolor": "white",
            "ticks": ""
           }
          },
          "scene": {
           "xaxis": {
            "backgroundcolor": "#E5ECF6",
            "gridcolor": "white",
            "gridwidth": 2,
            "linecolor": "white",
            "showbackground": true,
            "ticks": "",
            "zerolinecolor": "white"
           },
           "yaxis": {
            "backgroundcolor": "#E5ECF6",
            "gridcolor": "white",
            "gridwidth": 2,
            "linecolor": "white",
            "showbackground": true,
            "ticks": "",
            "zerolinecolor": "white"
           },
           "zaxis": {
            "backgroundcolor": "#E5ECF6",
            "gridcolor": "white",
            "gridwidth": 2,
            "linecolor": "white",
            "showbackground": true,
            "ticks": "",
            "zerolinecolor": "white"
           }
          },
          "shapedefaults": {
           "line": {
            "color": "#2a3f5f"
           }
          },
          "ternary": {
           "aaxis": {
            "gridcolor": "white",
            "linecolor": "white",
            "ticks": ""
           },
           "baxis": {
            "gridcolor": "white",
            "linecolor": "white",
            "ticks": ""
           },
           "bgcolor": "#E5ECF6",
           "caxis": {
            "gridcolor": "white",
            "linecolor": "white",
            "ticks": ""
           }
          },
          "title": {
           "x": 0.05
          },
          "xaxis": {
           "automargin": true,
           "gridcolor": "white",
           "linecolor": "white",
           "ticks": "",
           "title": {
            "standoff": 15
           },
           "zerolinecolor": "white",
           "zerolinewidth": 2
          },
          "yaxis": {
           "automargin": true,
           "gridcolor": "white",
           "linecolor": "white",
           "ticks": "",
           "title": {
            "standoff": 15
           },
           "zerolinecolor": "white",
           "zerolinewidth": 2
          }
         }
        }
       }
      },
      "text/html": [
       "<div>\n",
       "        \n",
       "        \n",
       "            <div id=\"5c776660-456c-4f71-8b41-5dc8c9e8d6d2\" class=\"plotly-graph-div\" style=\"height:525px; width:100%;\"></div>\n",
       "            <script type=\"text/javascript\">\n",
       "                require([\"plotly\"], function(Plotly) {\n",
       "                    window.PLOTLYENV=window.PLOTLYENV || {};\n",
       "                    \n",
       "                if (document.getElementById(\"5c776660-456c-4f71-8b41-5dc8c9e8d6d2\")) {\n",
       "                    Plotly.newPlot(\n",
       "                        '5c776660-456c-4f71-8b41-5dc8c9e8d6d2',\n",
       "                        [{\"marker\": {\"size\": [30, 30, 24, 21, 15, 15, 12, 12, 12, 9, 9, 9, 9, 9, 9]}, \"mode\": \"markers\", \"type\": \"scatter\", \"x\": [0, 1, 2, 3, 4, 5, 6, 7, 8, 9, 10, 11, 12, 13, 14], \"y\": [10, 10, 8, 7, 5, 5, 4, 4, 4, 3, 3, 3, 3, 3, 3]}],\n",
       "                        {\"annotations\": [{\"showarrow\": false, \"text\": \"natural\", \"x\": 0, \"xanchor\": \"center\", \"y\": 10, \"yanchor\": \"middle\"}, {\"showarrow\": false, \"text\": \"oily\", \"x\": 1, \"xanchor\": \"center\", \"y\": 10, \"yanchor\": \"middle\"}, {\"showarrow\": false, \"text\": \"facial\", \"x\": 2, \"xanchor\": \"center\", \"y\": 8, \"yanchor\": \"middle\"}, {\"showarrow\": false, \"text\": \"deep\", \"x\": 3, \"xanchor\": \"center\", \"y\": 7, \"yanchor\": \"middle\"}, {\"showarrow\": false, \"text\": \"various\", \"x\": 4, \"xanchor\": \"center\", \"y\": 5, \"yanchor\": \"middle\"}, {\"showarrow\": false, \"text\": \"single\", \"x\": 5, \"xanchor\": \"center\", \"y\": 5, \"yanchor\": \"middle\"}, {\"showarrow\": false, \"text\": \"original\", \"x\": 6, \"xanchor\": \"center\", \"y\": 4, \"yanchor\": \"middle\"}, {\"showarrow\": false, \"text\": \"antiacne\", \"x\": 7, \"xanchor\": \"center\", \"y\": 4, \"yanchor\": \"middle\"}, {\"showarrow\": false, \"text\": \"liquid\", \"x\": 8, \"xanchor\": \"center\", \"y\": 4, \"yanchor\": \"middle\"}, {\"showarrow\": false, \"text\": \"antibacterial\", \"x\": 9, \"xanchor\": \"center\", \"y\": 3, \"yanchor\": \"middle\"}, {\"showarrow\": false, \"text\": \"organic\", \"x\": 10, \"xanchor\": \"center\", \"y\": 3, \"yanchor\": \"middle\"}, {\"showarrow\": false, \"text\": \"pure\", \"x\": 11, \"xanchor\": \"center\", \"y\": 3, \"yanchor\": \"middle\"}, {\"showarrow\": false, \"text\": \"white\", \"x\": 12, \"xanchor\": \"center\", \"y\": 3, \"yanchor\": \"middle\"}, {\"showarrow\": false, \"text\": \"essential\", \"x\": 13, \"xanchor\": \"center\", \"y\": 3, \"yanchor\": \"middle\"}, {\"showarrow\": false, \"text\": \"sensitive\", \"x\": 14, \"xanchor\": \"center\", \"y\": 3, \"yanchor\": \"middle\"}], \"template\": {\"data\": {\"bar\": [{\"error_x\": {\"color\": \"#2a3f5f\"}, \"error_y\": {\"color\": \"#2a3f5f\"}, \"marker\": {\"line\": {\"color\": \"#E5ECF6\", \"width\": 0.5}}, \"type\": \"bar\"}], \"barpolar\": [{\"marker\": {\"line\": {\"color\": \"#E5ECF6\", \"width\": 0.5}}, \"type\": \"barpolar\"}], \"carpet\": [{\"aaxis\": {\"endlinecolor\": \"#2a3f5f\", \"gridcolor\": \"white\", \"linecolor\": \"white\", \"minorgridcolor\": \"white\", \"startlinecolor\": \"#2a3f5f\"}, \"baxis\": {\"endlinecolor\": \"#2a3f5f\", \"gridcolor\": \"white\", \"linecolor\": \"white\", \"minorgridcolor\": \"white\", \"startlinecolor\": \"#2a3f5f\"}, \"type\": \"carpet\"}], \"choropleth\": [{\"colorbar\": {\"outlinewidth\": 0, \"ticks\": \"\"}, \"type\": \"choropleth\"}], \"contour\": [{\"colorbar\": {\"outlinewidth\": 0, \"ticks\": \"\"}, \"colorscale\": [[0.0, \"#0d0887\"], [0.1111111111111111, \"#46039f\"], [0.2222222222222222, \"#7201a8\"], [0.3333333333333333, \"#9c179e\"], [0.4444444444444444, \"#bd3786\"], [0.5555555555555556, \"#d8576b\"], [0.6666666666666666, \"#ed7953\"], [0.7777777777777778, \"#fb9f3a\"], [0.8888888888888888, \"#fdca26\"], [1.0, \"#f0f921\"]], \"type\": \"contour\"}], \"contourcarpet\": [{\"colorbar\": {\"outlinewidth\": 0, \"ticks\": \"\"}, \"type\": \"contourcarpet\"}], \"heatmap\": [{\"colorbar\": {\"outlinewidth\": 0, \"ticks\": \"\"}, \"colorscale\": [[0.0, \"#0d0887\"], [0.1111111111111111, \"#46039f\"], [0.2222222222222222, \"#7201a8\"], [0.3333333333333333, \"#9c179e\"], [0.4444444444444444, \"#bd3786\"], [0.5555555555555556, \"#d8576b\"], [0.6666666666666666, \"#ed7953\"], [0.7777777777777778, \"#fb9f3a\"], [0.8888888888888888, \"#fdca26\"], [1.0, \"#f0f921\"]], \"type\": \"heatmap\"}], \"heatmapgl\": [{\"colorbar\": {\"outlinewidth\": 0, \"ticks\": \"\"}, \"colorscale\": [[0.0, \"#0d0887\"], [0.1111111111111111, \"#46039f\"], [0.2222222222222222, \"#7201a8\"], [0.3333333333333333, \"#9c179e\"], [0.4444444444444444, \"#bd3786\"], [0.5555555555555556, \"#d8576b\"], [0.6666666666666666, \"#ed7953\"], [0.7777777777777778, \"#fb9f3a\"], [0.8888888888888888, \"#fdca26\"], [1.0, \"#f0f921\"]], \"type\": \"heatmapgl\"}], \"histogram\": [{\"marker\": {\"colorbar\": {\"outlinewidth\": 0, \"ticks\": \"\"}}, \"type\": \"histogram\"}], \"histogram2d\": [{\"colorbar\": {\"outlinewidth\": 0, \"ticks\": \"\"}, \"colorscale\": [[0.0, \"#0d0887\"], [0.1111111111111111, \"#46039f\"], [0.2222222222222222, \"#7201a8\"], [0.3333333333333333, \"#9c179e\"], [0.4444444444444444, \"#bd3786\"], [0.5555555555555556, \"#d8576b\"], [0.6666666666666666, \"#ed7953\"], [0.7777777777777778, \"#fb9f3a\"], [0.8888888888888888, \"#fdca26\"], [1.0, \"#f0f921\"]], \"type\": \"histogram2d\"}], \"histogram2dcontour\": [{\"colorbar\": {\"outlinewidth\": 0, \"ticks\": \"\"}, \"colorscale\": [[0.0, \"#0d0887\"], [0.1111111111111111, \"#46039f\"], [0.2222222222222222, \"#7201a8\"], [0.3333333333333333, \"#9c179e\"], [0.4444444444444444, \"#bd3786\"], [0.5555555555555556, \"#d8576b\"], [0.6666666666666666, \"#ed7953\"], [0.7777777777777778, \"#fb9f3a\"], [0.8888888888888888, \"#fdca26\"], [1.0, \"#f0f921\"]], \"type\": \"histogram2dcontour\"}], \"mesh3d\": [{\"colorbar\": {\"outlinewidth\": 0, \"ticks\": \"\"}, \"type\": \"mesh3d\"}], \"parcoords\": [{\"line\": {\"colorbar\": {\"outlinewidth\": 0, \"ticks\": \"\"}}, \"type\": \"parcoords\"}], \"pie\": [{\"automargin\": true, \"type\": \"pie\"}], \"scatter\": [{\"marker\": {\"colorbar\": {\"outlinewidth\": 0, \"ticks\": \"\"}}, \"type\": \"scatter\"}], \"scatter3d\": [{\"line\": {\"colorbar\": {\"outlinewidth\": 0, \"ticks\": \"\"}}, \"marker\": {\"colorbar\": {\"outlinewidth\": 0, \"ticks\": \"\"}}, \"type\": \"scatter3d\"}], \"scattercarpet\": [{\"marker\": {\"colorbar\": {\"outlinewidth\": 0, \"ticks\": \"\"}}, \"type\": \"scattercarpet\"}], \"scattergeo\": [{\"marker\": {\"colorbar\": {\"outlinewidth\": 0, \"ticks\": \"\"}}, \"type\": \"scattergeo\"}], \"scattergl\": [{\"marker\": {\"colorbar\": {\"outlinewidth\": 0, \"ticks\": \"\"}}, \"type\": \"scattergl\"}], \"scattermapbox\": [{\"marker\": {\"colorbar\": {\"outlinewidth\": 0, \"ticks\": \"\"}}, \"type\": \"scattermapbox\"}], \"scatterpolar\": [{\"marker\": {\"colorbar\": {\"outlinewidth\": 0, \"ticks\": \"\"}}, \"type\": \"scatterpolar\"}], \"scatterpolargl\": [{\"marker\": {\"colorbar\": {\"outlinewidth\": 0, \"ticks\": \"\"}}, \"type\": \"scatterpolargl\"}], \"scatterternary\": [{\"marker\": {\"colorbar\": {\"outlinewidth\": 0, \"ticks\": \"\"}}, \"type\": \"scatterternary\"}], \"surface\": [{\"colorbar\": {\"outlinewidth\": 0, \"ticks\": \"\"}, \"colorscale\": [[0.0, \"#0d0887\"], [0.1111111111111111, \"#46039f\"], [0.2222222222222222, \"#7201a8\"], [0.3333333333333333, \"#9c179e\"], [0.4444444444444444, \"#bd3786\"], [0.5555555555555556, \"#d8576b\"], [0.6666666666666666, \"#ed7953\"], [0.7777777777777778, \"#fb9f3a\"], [0.8888888888888888, \"#fdca26\"], [1.0, \"#f0f921\"]], \"type\": \"surface\"}], \"table\": [{\"cells\": {\"fill\": {\"color\": \"#EBF0F8\"}, \"line\": {\"color\": \"white\"}}, \"header\": {\"fill\": {\"color\": \"#C8D4E3\"}, \"line\": {\"color\": \"white\"}}, \"type\": \"table\"}]}, \"layout\": {\"annotationdefaults\": {\"arrowcolor\": \"#2a3f5f\", \"arrowhead\": 0, \"arrowwidth\": 1}, \"coloraxis\": {\"colorbar\": {\"outlinewidth\": 0, \"ticks\": \"\"}}, \"colorscale\": {\"diverging\": [[0, \"#8e0152\"], [0.1, \"#c51b7d\"], [0.2, \"#de77ae\"], [0.3, \"#f1b6da\"], [0.4, \"#fde0ef\"], [0.5, \"#f7f7f7\"], [0.6, \"#e6f5d0\"], [0.7, \"#b8e186\"], [0.8, \"#7fbc41\"], [0.9, \"#4d9221\"], [1, \"#276419\"]], \"sequential\": [[0.0, \"#0d0887\"], [0.1111111111111111, \"#46039f\"], [0.2222222222222222, \"#7201a8\"], [0.3333333333333333, \"#9c179e\"], [0.4444444444444444, \"#bd3786\"], [0.5555555555555556, \"#d8576b\"], [0.6666666666666666, \"#ed7953\"], [0.7777777777777778, \"#fb9f3a\"], [0.8888888888888888, \"#fdca26\"], [1.0, \"#f0f921\"]], \"sequentialminus\": [[0.0, \"#0d0887\"], [0.1111111111111111, \"#46039f\"], [0.2222222222222222, \"#7201a8\"], [0.3333333333333333, \"#9c179e\"], [0.4444444444444444, \"#bd3786\"], [0.5555555555555556, \"#d8576b\"], [0.6666666666666666, \"#ed7953\"], [0.7777777777777778, \"#fb9f3a\"], [0.8888888888888888, \"#fdca26\"], [1.0, \"#f0f921\"]]}, \"colorway\": [\"#636efa\", \"#EF553B\", \"#00cc96\", \"#ab63fa\", \"#FFA15A\", \"#19d3f3\", \"#FF6692\", \"#B6E880\", \"#FF97FF\", \"#FECB52\"], \"font\": {\"color\": \"#2a3f5f\"}, \"geo\": {\"bgcolor\": \"white\", \"lakecolor\": \"white\", \"landcolor\": \"#E5ECF6\", \"showlakes\": true, \"showland\": true, \"subunitcolor\": \"white\"}, \"hoverlabel\": {\"align\": \"left\"}, \"hovermode\": \"closest\", \"mapbox\": {\"style\": \"light\"}, \"paper_bgcolor\": \"white\", \"plot_bgcolor\": \"#E5ECF6\", \"polar\": {\"angularaxis\": {\"gridcolor\": \"white\", \"linecolor\": \"white\", \"ticks\": \"\"}, \"bgcolor\": \"#E5ECF6\", \"radialaxis\": {\"gridcolor\": \"white\", \"linecolor\": \"white\", \"ticks\": \"\"}}, \"scene\": {\"xaxis\": {\"backgroundcolor\": \"#E5ECF6\", \"gridcolor\": \"white\", \"gridwidth\": 2, \"linecolor\": \"white\", \"showbackground\": true, \"ticks\": \"\", \"zerolinecolor\": \"white\"}, \"yaxis\": {\"backgroundcolor\": \"#E5ECF6\", \"gridcolor\": \"white\", \"gridwidth\": 2, \"linecolor\": \"white\", \"showbackground\": true, \"ticks\": \"\", \"zerolinecolor\": \"white\"}, \"zaxis\": {\"backgroundcolor\": \"#E5ECF6\", \"gridcolor\": \"white\", \"gridwidth\": 2, \"linecolor\": \"white\", \"showbackground\": true, \"ticks\": \"\", \"zerolinecolor\": \"white\"}}, \"shapedefaults\": {\"line\": {\"color\": \"#2a3f5f\"}}, \"ternary\": {\"aaxis\": {\"gridcolor\": \"white\", \"linecolor\": \"white\", \"ticks\": \"\"}, \"baxis\": {\"gridcolor\": \"white\", \"linecolor\": \"white\", \"ticks\": \"\"}, \"bgcolor\": \"#E5ECF6\", \"caxis\": {\"gridcolor\": \"white\", \"linecolor\": \"white\", \"ticks\": \"\"}}, \"title\": {\"x\": 0.05}, \"xaxis\": {\"automargin\": true, \"gridcolor\": \"white\", \"linecolor\": \"white\", \"ticks\": \"\", \"title\": {\"standoff\": 15}, \"zerolinecolor\": \"white\", \"zerolinewidth\": 2}, \"yaxis\": {\"automargin\": true, \"gridcolor\": \"white\", \"linecolor\": \"white\", \"ticks\": \"\", \"title\": {\"standoff\": 15}, \"zerolinecolor\": \"white\", \"zerolinewidth\": 2}}}},\n",
       "                        {\"responsive\": true}\n",
       "                    ).then(function(){\n",
       "                            \n",
       "var gd = document.getElementById('5c776660-456c-4f71-8b41-5dc8c9e8d6d2');\n",
       "var x = new MutationObserver(function (mutations, observer) {{\n",
       "        var display = window.getComputedStyle(gd).display;\n",
       "        if (!display || display === 'none') {{\n",
       "            console.log([gd, 'removed!']);\n",
       "            Plotly.purge(gd);\n",
       "            observer.disconnect();\n",
       "        }}\n",
       "}});\n",
       "\n",
       "// Listen for the removal of the full notebook cells\n",
       "var notebookContainer = gd.closest('#notebook-container');\n",
       "if (notebookContainer) {{\n",
       "    x.observe(notebookContainer, {childList: true});\n",
       "}}\n",
       "\n",
       "// Listen for the clearing of the current output cell\n",
       "var outputEl = gd.closest('.output');\n",
       "if (outputEl) {{\n",
       "    x.observe(outputEl, {childList: true});\n",
       "}}\n",
       "\n",
       "                        })\n",
       "                };\n",
       "                });\n",
       "            </script>\n",
       "        </div>"
      ]
     },
     "metadata": {},
     "output_type": "display_data"
    },
    {
     "data": {
      "application/vnd.plotly.v1+json": {
       "config": {
        "plotlyServerURL": "https://plot.ly"
       },
       "data": [
        {
         "marker": {
          "size": [
           21,
           15,
           12,
           6,
           6,
           6,
           6,
           6,
           6,
           6
          ]
         },
         "mode": "markers",
         "type": "scatter",
         "x": [
          0,
          1,
          2,
          3,
          4,
          5,
          6,
          7,
          8,
          9
         ],
         "y": [
          7,
          5,
          4,
          2,
          2,
          2,
          2,
          2,
          2,
          2
         ]
        }
       ],
       "layout": {
        "annotations": [
         {
          "showarrow": false,
          "text": "scented",
          "x": 0,
          "xanchor": "center",
          "y": 7,
          "yanchor": "middle"
         },
         {
          "showarrow": false,
          "text": "skin",
          "x": 1,
          "xanchor": "center",
          "y": 5,
          "yanchor": "middle"
         },
         {
          "showarrow": false,
          "text": "cleaning",
          "x": 2,
          "xanchor": "center",
          "y": 4,
          "yanchor": "middle"
         },
         {
          "showarrow": false,
          "text": "uninformed",
          "x": 3,
          "xanchor": "center",
          "y": 2,
          "yanchor": "middle"
         },
         {
          "showarrow": false,
          "text": "sensíveis",
          "x": 4,
          "xanchor": "center",
          "y": 2,
          "yanchor": "middle"
         },
         {
          "showarrow": false,
          "text": "brasileiras",
          "x": 5,
          "xanchor": "center",
          "y": 2,
          "yanchor": "middle"
         },
         {
          "showarrow": false,
          "text": "moisturizing",
          "x": 6,
          "xanchor": "center",
          "y": 2,
          "yanchor": "middle"
         },
         {
          "showarrow": false,
          "text": "antiacne",
          "x": 7,
          "xanchor": "center",
          "y": 2,
          "yanchor": "middle"
         },
         {
          "showarrow": false,
          "text": "reducing",
          "x": 8,
          "xanchor": "center",
          "y": 2,
          "yanchor": "middle"
         },
         {
          "showarrow": false,
          "text": "hydrolyzed",
          "x": 9,
          "xanchor": "center",
          "y": 2,
          "yanchor": "middle"
         }
        ],
        "template": {
         "data": {
          "bar": [
           {
            "error_x": {
             "color": "#2a3f5f"
            },
            "error_y": {
             "color": "#2a3f5f"
            },
            "marker": {
             "line": {
              "color": "#E5ECF6",
              "width": 0.5
             }
            },
            "type": "bar"
           }
          ],
          "barpolar": [
           {
            "marker": {
             "line": {
              "color": "#E5ECF6",
              "width": 0.5
             }
            },
            "type": "barpolar"
           }
          ],
          "carpet": [
           {
            "aaxis": {
             "endlinecolor": "#2a3f5f",
             "gridcolor": "white",
             "linecolor": "white",
             "minorgridcolor": "white",
             "startlinecolor": "#2a3f5f"
            },
            "baxis": {
             "endlinecolor": "#2a3f5f",
             "gridcolor": "white",
             "linecolor": "white",
             "minorgridcolor": "white",
             "startlinecolor": "#2a3f5f"
            },
            "type": "carpet"
           }
          ],
          "choropleth": [
           {
            "colorbar": {
             "outlinewidth": 0,
             "ticks": ""
            },
            "type": "choropleth"
           }
          ],
          "contour": [
           {
            "colorbar": {
             "outlinewidth": 0,
             "ticks": ""
            },
            "colorscale": [
             [
              0,
              "#0d0887"
             ],
             [
              0.1111111111111111,
              "#46039f"
             ],
             [
              0.2222222222222222,
              "#7201a8"
             ],
             [
              0.3333333333333333,
              "#9c179e"
             ],
             [
              0.4444444444444444,
              "#bd3786"
             ],
             [
              0.5555555555555556,
              "#d8576b"
             ],
             [
              0.6666666666666666,
              "#ed7953"
             ],
             [
              0.7777777777777778,
              "#fb9f3a"
             ],
             [
              0.8888888888888888,
              "#fdca26"
             ],
             [
              1,
              "#f0f921"
             ]
            ],
            "type": "contour"
           }
          ],
          "contourcarpet": [
           {
            "colorbar": {
             "outlinewidth": 0,
             "ticks": ""
            },
            "type": "contourcarpet"
           }
          ],
          "heatmap": [
           {
            "colorbar": {
             "outlinewidth": 0,
             "ticks": ""
            },
            "colorscale": [
             [
              0,
              "#0d0887"
             ],
             [
              0.1111111111111111,
              "#46039f"
             ],
             [
              0.2222222222222222,
              "#7201a8"
             ],
             [
              0.3333333333333333,
              "#9c179e"
             ],
             [
              0.4444444444444444,
              "#bd3786"
             ],
             [
              0.5555555555555556,
              "#d8576b"
             ],
             [
              0.6666666666666666,
              "#ed7953"
             ],
             [
              0.7777777777777778,
              "#fb9f3a"
             ],
             [
              0.8888888888888888,
              "#fdca26"
             ],
             [
              1,
              "#f0f921"
             ]
            ],
            "type": "heatmap"
           }
          ],
          "heatmapgl": [
           {
            "colorbar": {
             "outlinewidth": 0,
             "ticks": ""
            },
            "colorscale": [
             [
              0,
              "#0d0887"
             ],
             [
              0.1111111111111111,
              "#46039f"
             ],
             [
              0.2222222222222222,
              "#7201a8"
             ],
             [
              0.3333333333333333,
              "#9c179e"
             ],
             [
              0.4444444444444444,
              "#bd3786"
             ],
             [
              0.5555555555555556,
              "#d8576b"
             ],
             [
              0.6666666666666666,
              "#ed7953"
             ],
             [
              0.7777777777777778,
              "#fb9f3a"
             ],
             [
              0.8888888888888888,
              "#fdca26"
             ],
             [
              1,
              "#f0f921"
             ]
            ],
            "type": "heatmapgl"
           }
          ],
          "histogram": [
           {
            "marker": {
             "colorbar": {
              "outlinewidth": 0,
              "ticks": ""
             }
            },
            "type": "histogram"
           }
          ],
          "histogram2d": [
           {
            "colorbar": {
             "outlinewidth": 0,
             "ticks": ""
            },
            "colorscale": [
             [
              0,
              "#0d0887"
             ],
             [
              0.1111111111111111,
              "#46039f"
             ],
             [
              0.2222222222222222,
              "#7201a8"
             ],
             [
              0.3333333333333333,
              "#9c179e"
             ],
             [
              0.4444444444444444,
              "#bd3786"
             ],
             [
              0.5555555555555556,
              "#d8576b"
             ],
             [
              0.6666666666666666,
              "#ed7953"
             ],
             [
              0.7777777777777778,
              "#fb9f3a"
             ],
             [
              0.8888888888888888,
              "#fdca26"
             ],
             [
              1,
              "#f0f921"
             ]
            ],
            "type": "histogram2d"
           }
          ],
          "histogram2dcontour": [
           {
            "colorbar": {
             "outlinewidth": 0,
             "ticks": ""
            },
            "colorscale": [
             [
              0,
              "#0d0887"
             ],
             [
              0.1111111111111111,
              "#46039f"
             ],
             [
              0.2222222222222222,
              "#7201a8"
             ],
             [
              0.3333333333333333,
              "#9c179e"
             ],
             [
              0.4444444444444444,
              "#bd3786"
             ],
             [
              0.5555555555555556,
              "#d8576b"
             ],
             [
              0.6666666666666666,
              "#ed7953"
             ],
             [
              0.7777777777777778,
              "#fb9f3a"
             ],
             [
              0.8888888888888888,
              "#fdca26"
             ],
             [
              1,
              "#f0f921"
             ]
            ],
            "type": "histogram2dcontour"
           }
          ],
          "mesh3d": [
           {
            "colorbar": {
             "outlinewidth": 0,
             "ticks": ""
            },
            "type": "mesh3d"
           }
          ],
          "parcoords": [
           {
            "line": {
             "colorbar": {
              "outlinewidth": 0,
              "ticks": ""
             }
            },
            "type": "parcoords"
           }
          ],
          "pie": [
           {
            "automargin": true,
            "type": "pie"
           }
          ],
          "scatter": [
           {
            "marker": {
             "colorbar": {
              "outlinewidth": 0,
              "ticks": ""
             }
            },
            "type": "scatter"
           }
          ],
          "scatter3d": [
           {
            "line": {
             "colorbar": {
              "outlinewidth": 0,
              "ticks": ""
             }
            },
            "marker": {
             "colorbar": {
              "outlinewidth": 0,
              "ticks": ""
             }
            },
            "type": "scatter3d"
           }
          ],
          "scattercarpet": [
           {
            "marker": {
             "colorbar": {
              "outlinewidth": 0,
              "ticks": ""
             }
            },
            "type": "scattercarpet"
           }
          ],
          "scattergeo": [
           {
            "marker": {
             "colorbar": {
              "outlinewidth": 0,
              "ticks": ""
             }
            },
            "type": "scattergeo"
           }
          ],
          "scattergl": [
           {
            "marker": {
             "colorbar": {
              "outlinewidth": 0,
              "ticks": ""
             }
            },
            "type": "scattergl"
           }
          ],
          "scattermapbox": [
           {
            "marker": {
             "colorbar": {
              "outlinewidth": 0,
              "ticks": ""
             }
            },
            "type": "scattermapbox"
           }
          ],
          "scatterpolar": [
           {
            "marker": {
             "colorbar": {
              "outlinewidth": 0,
              "ticks": ""
             }
            },
            "type": "scatterpolar"
           }
          ],
          "scatterpolargl": [
           {
            "marker": {
             "colorbar": {
              "outlinewidth": 0,
              "ticks": ""
             }
            },
            "type": "scatterpolargl"
           }
          ],
          "scatterternary": [
           {
            "marker": {
             "colorbar": {
              "outlinewidth": 0,
              "ticks": ""
             }
            },
            "type": "scatterternary"
           }
          ],
          "surface": [
           {
            "colorbar": {
             "outlinewidth": 0,
             "ticks": ""
            },
            "colorscale": [
             [
              0,
              "#0d0887"
             ],
             [
              0.1111111111111111,
              "#46039f"
             ],
             [
              0.2222222222222222,
              "#7201a8"
             ],
             [
              0.3333333333333333,
              "#9c179e"
             ],
             [
              0.4444444444444444,
              "#bd3786"
             ],
             [
              0.5555555555555556,
              "#d8576b"
             ],
             [
              0.6666666666666666,
              "#ed7953"
             ],
             [
              0.7777777777777778,
              "#fb9f3a"
             ],
             [
              0.8888888888888888,
              "#fdca26"
             ],
             [
              1,
              "#f0f921"
             ]
            ],
            "type": "surface"
           }
          ],
          "table": [
           {
            "cells": {
             "fill": {
              "color": "#EBF0F8"
             },
             "line": {
              "color": "white"
             }
            },
            "header": {
             "fill": {
              "color": "#C8D4E3"
             },
             "line": {
              "color": "white"
             }
            },
            "type": "table"
           }
          ]
         },
         "layout": {
          "annotationdefaults": {
           "arrowcolor": "#2a3f5f",
           "arrowhead": 0,
           "arrowwidth": 1
          },
          "coloraxis": {
           "colorbar": {
            "outlinewidth": 0,
            "ticks": ""
           }
          },
          "colorscale": {
           "diverging": [
            [
             0,
             "#8e0152"
            ],
            [
             0.1,
             "#c51b7d"
            ],
            [
             0.2,
             "#de77ae"
            ],
            [
             0.3,
             "#f1b6da"
            ],
            [
             0.4,
             "#fde0ef"
            ],
            [
             0.5,
             "#f7f7f7"
            ],
            [
             0.6,
             "#e6f5d0"
            ],
            [
             0.7,
             "#b8e186"
            ],
            [
             0.8,
             "#7fbc41"
            ],
            [
             0.9,
             "#4d9221"
            ],
            [
             1,
             "#276419"
            ]
           ],
           "sequential": [
            [
             0,
             "#0d0887"
            ],
            [
             0.1111111111111111,
             "#46039f"
            ],
            [
             0.2222222222222222,
             "#7201a8"
            ],
            [
             0.3333333333333333,
             "#9c179e"
            ],
            [
             0.4444444444444444,
             "#bd3786"
            ],
            [
             0.5555555555555556,
             "#d8576b"
            ],
            [
             0.6666666666666666,
             "#ed7953"
            ],
            [
             0.7777777777777778,
             "#fb9f3a"
            ],
            [
             0.8888888888888888,
             "#fdca26"
            ],
            [
             1,
             "#f0f921"
            ]
           ],
           "sequentialminus": [
            [
             0,
             "#0d0887"
            ],
            [
             0.1111111111111111,
             "#46039f"
            ],
            [
             0.2222222222222222,
             "#7201a8"
            ],
            [
             0.3333333333333333,
             "#9c179e"
            ],
            [
             0.4444444444444444,
             "#bd3786"
            ],
            [
             0.5555555555555556,
             "#d8576b"
            ],
            [
             0.6666666666666666,
             "#ed7953"
            ],
            [
             0.7777777777777778,
             "#fb9f3a"
            ],
            [
             0.8888888888888888,
             "#fdca26"
            ],
            [
             1,
             "#f0f921"
            ]
           ]
          },
          "colorway": [
           "#636efa",
           "#EF553B",
           "#00cc96",
           "#ab63fa",
           "#FFA15A",
           "#19d3f3",
           "#FF6692",
           "#B6E880",
           "#FF97FF",
           "#FECB52"
          ],
          "font": {
           "color": "#2a3f5f"
          },
          "geo": {
           "bgcolor": "white",
           "lakecolor": "white",
           "landcolor": "#E5ECF6",
           "showlakes": true,
           "showland": true,
           "subunitcolor": "white"
          },
          "hoverlabel": {
           "align": "left"
          },
          "hovermode": "closest",
          "mapbox": {
           "style": "light"
          },
          "paper_bgcolor": "white",
          "plot_bgcolor": "#E5ECF6",
          "polar": {
           "angularaxis": {
            "gridcolor": "white",
            "linecolor": "white",
            "ticks": ""
           },
           "bgcolor": "#E5ECF6",
           "radialaxis": {
            "gridcolor": "white",
            "linecolor": "white",
            "ticks": ""
           }
          },
          "scene": {
           "xaxis": {
            "backgroundcolor": "#E5ECF6",
            "gridcolor": "white",
            "gridwidth": 2,
            "linecolor": "white",
            "showbackground": true,
            "ticks": "",
            "zerolinecolor": "white"
           },
           "yaxis": {
            "backgroundcolor": "#E5ECF6",
            "gridcolor": "white",
            "gridwidth": 2,
            "linecolor": "white",
            "showbackground": true,
            "ticks": "",
            "zerolinecolor": "white"
           },
           "zaxis": {
            "backgroundcolor": "#E5ECF6",
            "gridcolor": "white",
            "gridwidth": 2,
            "linecolor": "white",
            "showbackground": true,
            "ticks": "",
            "zerolinecolor": "white"
           }
          },
          "shapedefaults": {
           "line": {
            "color": "#2a3f5f"
           }
          },
          "ternary": {
           "aaxis": {
            "gridcolor": "white",
            "linecolor": "white",
            "ticks": ""
           },
           "baxis": {
            "gridcolor": "white",
            "linecolor": "white",
            "ticks": ""
           },
           "bgcolor": "#E5ECF6",
           "caxis": {
            "gridcolor": "white",
            "linecolor": "white",
            "ticks": ""
           }
          },
          "title": {
           "x": 0.05
          },
          "xaxis": {
           "automargin": true,
           "gridcolor": "white",
           "linecolor": "white",
           "ticks": "",
           "title": {
            "standoff": 15
           },
           "zerolinecolor": "white",
           "zerolinewidth": 2
          },
          "yaxis": {
           "automargin": true,
           "gridcolor": "white",
           "linecolor": "white",
           "ticks": "",
           "title": {
            "standoff": 15
           },
           "zerolinecolor": "white",
           "zerolinewidth": 2
          }
         }
        }
       }
      },
      "text/html": [
       "<div>\n",
       "        \n",
       "        \n",
       "            <div id=\"4046441d-26e1-47f9-9ea7-8adee8216612\" class=\"plotly-graph-div\" style=\"height:525px; width:100%;\"></div>\n",
       "            <script type=\"text/javascript\">\n",
       "                require([\"plotly\"], function(Plotly) {\n",
       "                    window.PLOTLYENV=window.PLOTLYENV || {};\n",
       "                    \n",
       "                if (document.getElementById(\"4046441d-26e1-47f9-9ea7-8adee8216612\")) {\n",
       "                    Plotly.newPlot(\n",
       "                        '4046441d-26e1-47f9-9ea7-8adee8216612',\n",
       "                        [{\"marker\": {\"size\": [21, 15, 12, 6, 6, 6, 6, 6, 6, 6]}, \"mode\": \"markers\", \"type\": \"scatter\", \"x\": [0, 1, 2, 3, 4, 5, 6, 7, 8, 9], \"y\": [7, 5, 4, 2, 2, 2, 2, 2, 2, 2]}],\n",
       "                        {\"annotations\": [{\"showarrow\": false, \"text\": \"scented\", \"x\": 0, \"xanchor\": \"center\", \"y\": 7, \"yanchor\": \"middle\"}, {\"showarrow\": false, \"text\": \"skin\", \"x\": 1, \"xanchor\": \"center\", \"y\": 5, \"yanchor\": \"middle\"}, {\"showarrow\": false, \"text\": \"cleaning\", \"x\": 2, \"xanchor\": \"center\", \"y\": 4, \"yanchor\": \"middle\"}, {\"showarrow\": false, \"text\": \"uninformed\", \"x\": 3, \"xanchor\": \"center\", \"y\": 2, \"yanchor\": \"middle\"}, {\"showarrow\": false, \"text\": \"sens\\u00edveis\", \"x\": 4, \"xanchor\": \"center\", \"y\": 2, \"yanchor\": \"middle\"}, {\"showarrow\": false, \"text\": \"brasileiras\", \"x\": 5, \"xanchor\": \"center\", \"y\": 2, \"yanchor\": \"middle\"}, {\"showarrow\": false, \"text\": \"moisturizing\", \"x\": 6, \"xanchor\": \"center\", \"y\": 2, \"yanchor\": \"middle\"}, {\"showarrow\": false, \"text\": \"antiacne\", \"x\": 7, \"xanchor\": \"center\", \"y\": 2, \"yanchor\": \"middle\"}, {\"showarrow\": false, \"text\": \"reducing\", \"x\": 8, \"xanchor\": \"center\", \"y\": 2, \"yanchor\": \"middle\"}, {\"showarrow\": false, \"text\": \"hydrolyzed\", \"x\": 9, \"xanchor\": \"center\", \"y\": 2, \"yanchor\": \"middle\"}], \"template\": {\"data\": {\"bar\": [{\"error_x\": {\"color\": \"#2a3f5f\"}, \"error_y\": {\"color\": \"#2a3f5f\"}, \"marker\": {\"line\": {\"color\": \"#E5ECF6\", \"width\": 0.5}}, \"type\": \"bar\"}], \"barpolar\": [{\"marker\": {\"line\": {\"color\": \"#E5ECF6\", \"width\": 0.5}}, \"type\": \"barpolar\"}], \"carpet\": [{\"aaxis\": {\"endlinecolor\": \"#2a3f5f\", \"gridcolor\": \"white\", \"linecolor\": \"white\", \"minorgridcolor\": \"white\", \"startlinecolor\": \"#2a3f5f\"}, \"baxis\": {\"endlinecolor\": \"#2a3f5f\", \"gridcolor\": \"white\", \"linecolor\": \"white\", \"minorgridcolor\": \"white\", \"startlinecolor\": \"#2a3f5f\"}, \"type\": \"carpet\"}], \"choropleth\": [{\"colorbar\": {\"outlinewidth\": 0, \"ticks\": \"\"}, \"type\": \"choropleth\"}], \"contour\": [{\"colorbar\": {\"outlinewidth\": 0, \"ticks\": \"\"}, \"colorscale\": [[0.0, \"#0d0887\"], [0.1111111111111111, \"#46039f\"], [0.2222222222222222, \"#7201a8\"], [0.3333333333333333, \"#9c179e\"], [0.4444444444444444, \"#bd3786\"], [0.5555555555555556, \"#d8576b\"], [0.6666666666666666, \"#ed7953\"], [0.7777777777777778, \"#fb9f3a\"], [0.8888888888888888, \"#fdca26\"], [1.0, \"#f0f921\"]], \"type\": \"contour\"}], \"contourcarpet\": [{\"colorbar\": {\"outlinewidth\": 0, \"ticks\": \"\"}, \"type\": \"contourcarpet\"}], \"heatmap\": [{\"colorbar\": {\"outlinewidth\": 0, \"ticks\": \"\"}, \"colorscale\": [[0.0, \"#0d0887\"], [0.1111111111111111, \"#46039f\"], [0.2222222222222222, \"#7201a8\"], [0.3333333333333333, \"#9c179e\"], [0.4444444444444444, \"#bd3786\"], [0.5555555555555556, \"#d8576b\"], [0.6666666666666666, \"#ed7953\"], [0.7777777777777778, \"#fb9f3a\"], [0.8888888888888888, \"#fdca26\"], [1.0, \"#f0f921\"]], \"type\": \"heatmap\"}], \"heatmapgl\": [{\"colorbar\": {\"outlinewidth\": 0, \"ticks\": \"\"}, \"colorscale\": [[0.0, \"#0d0887\"], [0.1111111111111111, \"#46039f\"], [0.2222222222222222, \"#7201a8\"], [0.3333333333333333, \"#9c179e\"], [0.4444444444444444, \"#bd3786\"], [0.5555555555555556, \"#d8576b\"], [0.6666666666666666, \"#ed7953\"], [0.7777777777777778, \"#fb9f3a\"], [0.8888888888888888, \"#fdca26\"], [1.0, \"#f0f921\"]], \"type\": \"heatmapgl\"}], \"histogram\": [{\"marker\": {\"colorbar\": {\"outlinewidth\": 0, \"ticks\": \"\"}}, \"type\": \"histogram\"}], \"histogram2d\": [{\"colorbar\": {\"outlinewidth\": 0, \"ticks\": \"\"}, \"colorscale\": [[0.0, \"#0d0887\"], [0.1111111111111111, \"#46039f\"], [0.2222222222222222, \"#7201a8\"], [0.3333333333333333, \"#9c179e\"], [0.4444444444444444, \"#bd3786\"], [0.5555555555555556, \"#d8576b\"], [0.6666666666666666, \"#ed7953\"], [0.7777777777777778, \"#fb9f3a\"], [0.8888888888888888, \"#fdca26\"], [1.0, \"#f0f921\"]], \"type\": \"histogram2d\"}], \"histogram2dcontour\": [{\"colorbar\": {\"outlinewidth\": 0, \"ticks\": \"\"}, \"colorscale\": [[0.0, \"#0d0887\"], [0.1111111111111111, \"#46039f\"], [0.2222222222222222, \"#7201a8\"], [0.3333333333333333, \"#9c179e\"], [0.4444444444444444, \"#bd3786\"], [0.5555555555555556, \"#d8576b\"], [0.6666666666666666, \"#ed7953\"], [0.7777777777777778, \"#fb9f3a\"], [0.8888888888888888, \"#fdca26\"], [1.0, \"#f0f921\"]], \"type\": \"histogram2dcontour\"}], \"mesh3d\": [{\"colorbar\": {\"outlinewidth\": 0, \"ticks\": \"\"}, \"type\": \"mesh3d\"}], \"parcoords\": [{\"line\": {\"colorbar\": {\"outlinewidth\": 0, \"ticks\": \"\"}}, \"type\": \"parcoords\"}], \"pie\": [{\"automargin\": true, \"type\": \"pie\"}], \"scatter\": [{\"marker\": {\"colorbar\": {\"outlinewidth\": 0, \"ticks\": \"\"}}, \"type\": \"scatter\"}], \"scatter3d\": [{\"line\": {\"colorbar\": {\"outlinewidth\": 0, \"ticks\": \"\"}}, \"marker\": {\"colorbar\": {\"outlinewidth\": 0, \"ticks\": \"\"}}, \"type\": \"scatter3d\"}], \"scattercarpet\": [{\"marker\": {\"colorbar\": {\"outlinewidth\": 0, \"ticks\": \"\"}}, \"type\": \"scattercarpet\"}], \"scattergeo\": [{\"marker\": {\"colorbar\": {\"outlinewidth\": 0, \"ticks\": \"\"}}, \"type\": \"scattergeo\"}], \"scattergl\": [{\"marker\": {\"colorbar\": {\"outlinewidth\": 0, \"ticks\": \"\"}}, \"type\": \"scattergl\"}], \"scattermapbox\": [{\"marker\": {\"colorbar\": {\"outlinewidth\": 0, \"ticks\": \"\"}}, \"type\": \"scattermapbox\"}], \"scatterpolar\": [{\"marker\": {\"colorbar\": {\"outlinewidth\": 0, \"ticks\": \"\"}}, \"type\": \"scatterpolar\"}], \"scatterpolargl\": [{\"marker\": {\"colorbar\": {\"outlinewidth\": 0, \"ticks\": \"\"}}, \"type\": \"scatterpolargl\"}], \"scatterternary\": [{\"marker\": {\"colorbar\": {\"outlinewidth\": 0, \"ticks\": \"\"}}, \"type\": \"scatterternary\"}], \"surface\": [{\"colorbar\": {\"outlinewidth\": 0, \"ticks\": \"\"}, \"colorscale\": [[0.0, \"#0d0887\"], [0.1111111111111111, \"#46039f\"], [0.2222222222222222, \"#7201a8\"], [0.3333333333333333, \"#9c179e\"], [0.4444444444444444, \"#bd3786\"], [0.5555555555555556, \"#d8576b\"], [0.6666666666666666, \"#ed7953\"], [0.7777777777777778, \"#fb9f3a\"], [0.8888888888888888, \"#fdca26\"], [1.0, \"#f0f921\"]], \"type\": \"surface\"}], \"table\": [{\"cells\": {\"fill\": {\"color\": \"#EBF0F8\"}, \"line\": {\"color\": \"white\"}}, \"header\": {\"fill\": {\"color\": \"#C8D4E3\"}, \"line\": {\"color\": \"white\"}}, \"type\": \"table\"}]}, \"layout\": {\"annotationdefaults\": {\"arrowcolor\": \"#2a3f5f\", \"arrowhead\": 0, \"arrowwidth\": 1}, \"coloraxis\": {\"colorbar\": {\"outlinewidth\": 0, \"ticks\": \"\"}}, \"colorscale\": {\"diverging\": [[0, \"#8e0152\"], [0.1, \"#c51b7d\"], [0.2, \"#de77ae\"], [0.3, \"#f1b6da\"], [0.4, \"#fde0ef\"], [0.5, \"#f7f7f7\"], [0.6, \"#e6f5d0\"], [0.7, \"#b8e186\"], [0.8, \"#7fbc41\"], [0.9, \"#4d9221\"], [1, \"#276419\"]], \"sequential\": [[0.0, \"#0d0887\"], [0.1111111111111111, \"#46039f\"], [0.2222222222222222, \"#7201a8\"], [0.3333333333333333, \"#9c179e\"], [0.4444444444444444, \"#bd3786\"], [0.5555555555555556, \"#d8576b\"], [0.6666666666666666, \"#ed7953\"], [0.7777777777777778, \"#fb9f3a\"], [0.8888888888888888, \"#fdca26\"], [1.0, \"#f0f921\"]], \"sequentialminus\": [[0.0, \"#0d0887\"], [0.1111111111111111, \"#46039f\"], [0.2222222222222222, \"#7201a8\"], [0.3333333333333333, \"#9c179e\"], [0.4444444444444444, \"#bd3786\"], [0.5555555555555556, \"#d8576b\"], [0.6666666666666666, \"#ed7953\"], [0.7777777777777778, \"#fb9f3a\"], [0.8888888888888888, \"#fdca26\"], [1.0, \"#f0f921\"]]}, \"colorway\": [\"#636efa\", \"#EF553B\", \"#00cc96\", \"#ab63fa\", \"#FFA15A\", \"#19d3f3\", \"#FF6692\", \"#B6E880\", \"#FF97FF\", \"#FECB52\"], \"font\": {\"color\": \"#2a3f5f\"}, \"geo\": {\"bgcolor\": \"white\", \"lakecolor\": \"white\", \"landcolor\": \"#E5ECF6\", \"showlakes\": true, \"showland\": true, \"subunitcolor\": \"white\"}, \"hoverlabel\": {\"align\": \"left\"}, \"hovermode\": \"closest\", \"mapbox\": {\"style\": \"light\"}, \"paper_bgcolor\": \"white\", \"plot_bgcolor\": \"#E5ECF6\", \"polar\": {\"angularaxis\": {\"gridcolor\": \"white\", \"linecolor\": \"white\", \"ticks\": \"\"}, \"bgcolor\": \"#E5ECF6\", \"radialaxis\": {\"gridcolor\": \"white\", \"linecolor\": \"white\", \"ticks\": \"\"}}, \"scene\": {\"xaxis\": {\"backgroundcolor\": \"#E5ECF6\", \"gridcolor\": \"white\", \"gridwidth\": 2, \"linecolor\": \"white\", \"showbackground\": true, \"ticks\": \"\", \"zerolinecolor\": \"white\"}, \"yaxis\": {\"backgroundcolor\": \"#E5ECF6\", \"gridcolor\": \"white\", \"gridwidth\": 2, \"linecolor\": \"white\", \"showbackground\": true, \"ticks\": \"\", \"zerolinecolor\": \"white\"}, \"zaxis\": {\"backgroundcolor\": \"#E5ECF6\", \"gridcolor\": \"white\", \"gridwidth\": 2, \"linecolor\": \"white\", \"showbackground\": true, \"ticks\": \"\", \"zerolinecolor\": \"white\"}}, \"shapedefaults\": {\"line\": {\"color\": \"#2a3f5f\"}}, \"ternary\": {\"aaxis\": {\"gridcolor\": \"white\", \"linecolor\": \"white\", \"ticks\": \"\"}, \"baxis\": {\"gridcolor\": \"white\", \"linecolor\": \"white\", \"ticks\": \"\"}, \"bgcolor\": \"#E5ECF6\", \"caxis\": {\"gridcolor\": \"white\", \"linecolor\": \"white\", \"ticks\": \"\"}}, \"title\": {\"x\": 0.05}, \"xaxis\": {\"automargin\": true, \"gridcolor\": \"white\", \"linecolor\": \"white\", \"ticks\": \"\", \"title\": {\"standoff\": 15}, \"zerolinecolor\": \"white\", \"zerolinewidth\": 2}, \"yaxis\": {\"automargin\": true, \"gridcolor\": \"white\", \"linecolor\": \"white\", \"ticks\": \"\", \"title\": {\"standoff\": 15}, \"zerolinecolor\": \"white\", \"zerolinewidth\": 2}}}},\n",
       "                        {\"responsive\": true}\n",
       "                    ).then(function(){\n",
       "                            \n",
       "var gd = document.getElementById('4046441d-26e1-47f9-9ea7-8adee8216612');\n",
       "var x = new MutationObserver(function (mutations, observer) {{\n",
       "        var display = window.getComputedStyle(gd).display;\n",
       "        if (!display || display === 'none') {{\n",
       "            console.log([gd, 'removed!']);\n",
       "            Plotly.purge(gd);\n",
       "            observer.disconnect();\n",
       "        }}\n",
       "}});\n",
       "\n",
       "// Listen for the removal of the full notebook cells\n",
       "var notebookContainer = gd.closest('#notebook-container');\n",
       "if (notebookContainer) {{\n",
       "    x.observe(notebookContainer, {childList: true});\n",
       "}}\n",
       "\n",
       "// Listen for the clearing of the current output cell\n",
       "var outputEl = gd.closest('.output');\n",
       "if (outputEl) {{\n",
       "    x.observe(outputEl, {childList: true});\n",
       "}}\n",
       "\n",
       "                        })\n",
       "                };\n",
       "                });\n",
       "            </script>\n",
       "        </div>"
      ]
     },
     "metadata": {},
     "output_type": "display_data"
    },
    {
     "data": {
      "application/vnd.plotly.v1+json": {
       "config": {
        "plotlyServerURL": "https://plot.ly"
       },
       "data": [
        {
         "marker": {
          "size": [
           42,
           36,
           15,
           15,
           12,
           12,
           12,
           12,
           9,
           9,
           9,
           9,
           9,
           9,
           9
          ]
         },
         "mode": "markers",
         "type": "scatter",
         "x": [
          0,
          1,
          2,
          3,
          4,
          5,
          6,
          7,
          8,
          9,
          10,
          11,
          12,
          13,
          14
         ],
         "y": [
          14,
          12,
          5,
          5,
          4,
          4,
          4,
          4,
          3,
          3,
          3,
          3,
          3,
          3,
          3
         ]
        }
       ],
       "layout": {
        "annotations": [
         {
          "showarrow": false,
          "text": "baby",
          "x": 0,
          "xanchor": "center",
          "y": 14,
          "yanchor": "middle"
         },
         {
          "showarrow": false,
          "text": "vegetable",
          "x": 1,
          "xanchor": "center",
          "y": 12,
          "yanchor": "middle"
         },
         {
          "showarrow": false,
          "text": "lavender",
          "x": 2,
          "xanchor": "center",
          "y": 5,
          "yanchor": "middle"
         },
         {
          "showarrow": false,
          "text": "nature",
          "x": 3,
          "xanchor": "center",
          "y": 5,
          "yanchor": "middle"
         },
         {
          "showarrow": false,
          "text": "phebo",
          "x": 4,
          "xanchor": "center",
          "y": 4,
          "yanchor": "middle"
         },
         {
          "showarrow": false,
          "text": "herbs",
          "x": 5,
          "xanchor": "center",
          "y": 4,
          "yanchor": "middle"
         },
         {
          "showarrow": false,
          "text": "liquid",
          "x": 6,
          "xanchor": "center",
          "y": 4,
          "yanchor": "middle"
         },
         {
          "showarrow": false,
          "text": "granado",
          "x": 7,
          "xanchor": "center",
          "y": 4,
          "yanchor": "middle"
         },
         {
          "showarrow": false,
          "text": "hydration",
          "x": 8,
          "xanchor": "center",
          "y": 3,
          "yanchor": "middle"
         },
         {
          "showarrow": false,
          "text": "perfumery",
          "x": 9,
          "xanchor": "center",
          "y": 3,
          "yanchor": "middle"
         },
         {
          "showarrow": false,
          "text": "fennel",
          "x": 10,
          "xanchor": "center",
          "y": 3,
          "yanchor": "middle"
         },
         {
          "showarrow": false,
          "text": "foam",
          "x": 11,
          "xanchor": "center",
          "y": 3,
          "yanchor": "middle"
         },
         {
          "showarrow": false,
          "text": "oil",
          "x": 12,
          "xanchor": "center",
          "y": 3,
          "yanchor": "middle"
         },
         {
          "showarrow": false,
          "text": "sulfur",
          "x": 13,
          "xanchor": "center",
          "y": 3,
          "yanchor": "middle"
         },
         {
          "showarrow": false,
          "text": "tea",
          "x": 14,
          "xanchor": "center",
          "y": 3,
          "yanchor": "middle"
         }
        ],
        "template": {
         "data": {
          "bar": [
           {
            "error_x": {
             "color": "#2a3f5f"
            },
            "error_y": {
             "color": "#2a3f5f"
            },
            "marker": {
             "line": {
              "color": "#E5ECF6",
              "width": 0.5
             }
            },
            "type": "bar"
           }
          ],
          "barpolar": [
           {
            "marker": {
             "line": {
              "color": "#E5ECF6",
              "width": 0.5
             }
            },
            "type": "barpolar"
           }
          ],
          "carpet": [
           {
            "aaxis": {
             "endlinecolor": "#2a3f5f",
             "gridcolor": "white",
             "linecolor": "white",
             "minorgridcolor": "white",
             "startlinecolor": "#2a3f5f"
            },
            "baxis": {
             "endlinecolor": "#2a3f5f",
             "gridcolor": "white",
             "linecolor": "white",
             "minorgridcolor": "white",
             "startlinecolor": "#2a3f5f"
            },
            "type": "carpet"
           }
          ],
          "choropleth": [
           {
            "colorbar": {
             "outlinewidth": 0,
             "ticks": ""
            },
            "type": "choropleth"
           }
          ],
          "contour": [
           {
            "colorbar": {
             "outlinewidth": 0,
             "ticks": ""
            },
            "colorscale": [
             [
              0,
              "#0d0887"
             ],
             [
              0.1111111111111111,
              "#46039f"
             ],
             [
              0.2222222222222222,
              "#7201a8"
             ],
             [
              0.3333333333333333,
              "#9c179e"
             ],
             [
              0.4444444444444444,
              "#bd3786"
             ],
             [
              0.5555555555555556,
              "#d8576b"
             ],
             [
              0.6666666666666666,
              "#ed7953"
             ],
             [
              0.7777777777777778,
              "#fb9f3a"
             ],
             [
              0.8888888888888888,
              "#fdca26"
             ],
             [
              1,
              "#f0f921"
             ]
            ],
            "type": "contour"
           }
          ],
          "contourcarpet": [
           {
            "colorbar": {
             "outlinewidth": 0,
             "ticks": ""
            },
            "type": "contourcarpet"
           }
          ],
          "heatmap": [
           {
            "colorbar": {
             "outlinewidth": 0,
             "ticks": ""
            },
            "colorscale": [
             [
              0,
              "#0d0887"
             ],
             [
              0.1111111111111111,
              "#46039f"
             ],
             [
              0.2222222222222222,
              "#7201a8"
             ],
             [
              0.3333333333333333,
              "#9c179e"
             ],
             [
              0.4444444444444444,
              "#bd3786"
             ],
             [
              0.5555555555555556,
              "#d8576b"
             ],
             [
              0.6666666666666666,
              "#ed7953"
             ],
             [
              0.7777777777777778,
              "#fb9f3a"
             ],
             [
              0.8888888888888888,
              "#fdca26"
             ],
             [
              1,
              "#f0f921"
             ]
            ],
            "type": "heatmap"
           }
          ],
          "heatmapgl": [
           {
            "colorbar": {
             "outlinewidth": 0,
             "ticks": ""
            },
            "colorscale": [
             [
              0,
              "#0d0887"
             ],
             [
              0.1111111111111111,
              "#46039f"
             ],
             [
              0.2222222222222222,
              "#7201a8"
             ],
             [
              0.3333333333333333,
              "#9c179e"
             ],
             [
              0.4444444444444444,
              "#bd3786"
             ],
             [
              0.5555555555555556,
              "#d8576b"
             ],
             [
              0.6666666666666666,
              "#ed7953"
             ],
             [
              0.7777777777777778,
              "#fb9f3a"
             ],
             [
              0.8888888888888888,
              "#fdca26"
             ],
             [
              1,
              "#f0f921"
             ]
            ],
            "type": "heatmapgl"
           }
          ],
          "histogram": [
           {
            "marker": {
             "colorbar": {
              "outlinewidth": 0,
              "ticks": ""
             }
            },
            "type": "histogram"
           }
          ],
          "histogram2d": [
           {
            "colorbar": {
             "outlinewidth": 0,
             "ticks": ""
            },
            "colorscale": [
             [
              0,
              "#0d0887"
             ],
             [
              0.1111111111111111,
              "#46039f"
             ],
             [
              0.2222222222222222,
              "#7201a8"
             ],
             [
              0.3333333333333333,
              "#9c179e"
             ],
             [
              0.4444444444444444,
              "#bd3786"
             ],
             [
              0.5555555555555556,
              "#d8576b"
             ],
             [
              0.6666666666666666,
              "#ed7953"
             ],
             [
              0.7777777777777778,
              "#fb9f3a"
             ],
             [
              0.8888888888888888,
              "#fdca26"
             ],
             [
              1,
              "#f0f921"
             ]
            ],
            "type": "histogram2d"
           }
          ],
          "histogram2dcontour": [
           {
            "colorbar": {
             "outlinewidth": 0,
             "ticks": ""
            },
            "colorscale": [
             [
              0,
              "#0d0887"
             ],
             [
              0.1111111111111111,
              "#46039f"
             ],
             [
              0.2222222222222222,
              "#7201a8"
             ],
             [
              0.3333333333333333,
              "#9c179e"
             ],
             [
              0.4444444444444444,
              "#bd3786"
             ],
             [
              0.5555555555555556,
              "#d8576b"
             ],
             [
              0.6666666666666666,
              "#ed7953"
             ],
             [
              0.7777777777777778,
              "#fb9f3a"
             ],
             [
              0.8888888888888888,
              "#fdca26"
             ],
             [
              1,
              "#f0f921"
             ]
            ],
            "type": "histogram2dcontour"
           }
          ],
          "mesh3d": [
           {
            "colorbar": {
             "outlinewidth": 0,
             "ticks": ""
            },
            "type": "mesh3d"
           }
          ],
          "parcoords": [
           {
            "line": {
             "colorbar": {
              "outlinewidth": 0,
              "ticks": ""
             }
            },
            "type": "parcoords"
           }
          ],
          "pie": [
           {
            "automargin": true,
            "type": "pie"
           }
          ],
          "scatter": [
           {
            "marker": {
             "colorbar": {
              "outlinewidth": 0,
              "ticks": ""
             }
            },
            "type": "scatter"
           }
          ],
          "scatter3d": [
           {
            "line": {
             "colorbar": {
              "outlinewidth": 0,
              "ticks": ""
             }
            },
            "marker": {
             "colorbar": {
              "outlinewidth": 0,
              "ticks": ""
             }
            },
            "type": "scatter3d"
           }
          ],
          "scattercarpet": [
           {
            "marker": {
             "colorbar": {
              "outlinewidth": 0,
              "ticks": ""
             }
            },
            "type": "scattercarpet"
           }
          ],
          "scattergeo": [
           {
            "marker": {
             "colorbar": {
              "outlinewidth": 0,
              "ticks": ""
             }
            },
            "type": "scattergeo"
           }
          ],
          "scattergl": [
           {
            "marker": {
             "colorbar": {
              "outlinewidth": 0,
              "ticks": ""
             }
            },
            "type": "scattergl"
           }
          ],
          "scattermapbox": [
           {
            "marker": {
             "colorbar": {
              "outlinewidth": 0,
              "ticks": ""
             }
            },
            "type": "scattermapbox"
           }
          ],
          "scatterpolar": [
           {
            "marker": {
             "colorbar": {
              "outlinewidth": 0,
              "ticks": ""
             }
            },
            "type": "scatterpolar"
           }
          ],
          "scatterpolargl": [
           {
            "marker": {
             "colorbar": {
              "outlinewidth": 0,
              "ticks": ""
             }
            },
            "type": "scatterpolargl"
           }
          ],
          "scatterternary": [
           {
            "marker": {
             "colorbar": {
              "outlinewidth": 0,
              "ticks": ""
             }
            },
            "type": "scatterternary"
           }
          ],
          "surface": [
           {
            "colorbar": {
             "outlinewidth": 0,
             "ticks": ""
            },
            "colorscale": [
             [
              0,
              "#0d0887"
             ],
             [
              0.1111111111111111,
              "#46039f"
             ],
             [
              0.2222222222222222,
              "#7201a8"
             ],
             [
              0.3333333333333333,
              "#9c179e"
             ],
             [
              0.4444444444444444,
              "#bd3786"
             ],
             [
              0.5555555555555556,
              "#d8576b"
             ],
             [
              0.6666666666666666,
              "#ed7953"
             ],
             [
              0.7777777777777778,
              "#fb9f3a"
             ],
             [
              0.8888888888888888,
              "#fdca26"
             ],
             [
              1,
              "#f0f921"
             ]
            ],
            "type": "surface"
           }
          ],
          "table": [
           {
            "cells": {
             "fill": {
              "color": "#EBF0F8"
             },
             "line": {
              "color": "white"
             }
            },
            "header": {
             "fill": {
              "color": "#C8D4E3"
             },
             "line": {
              "color": "white"
             }
            },
            "type": "table"
           }
          ]
         },
         "layout": {
          "annotationdefaults": {
           "arrowcolor": "#2a3f5f",
           "arrowhead": 0,
           "arrowwidth": 1
          },
          "coloraxis": {
           "colorbar": {
            "outlinewidth": 0,
            "ticks": ""
           }
          },
          "colorscale": {
           "diverging": [
            [
             0,
             "#8e0152"
            ],
            [
             0.1,
             "#c51b7d"
            ],
            [
             0.2,
             "#de77ae"
            ],
            [
             0.3,
             "#f1b6da"
            ],
            [
             0.4,
             "#fde0ef"
            ],
            [
             0.5,
             "#f7f7f7"
            ],
            [
             0.6,
             "#e6f5d0"
            ],
            [
             0.7,
             "#b8e186"
            ],
            [
             0.8,
             "#7fbc41"
            ],
            [
             0.9,
             "#4d9221"
            ],
            [
             1,
             "#276419"
            ]
           ],
           "sequential": [
            [
             0,
             "#0d0887"
            ],
            [
             0.1111111111111111,
             "#46039f"
            ],
            [
             0.2222222222222222,
             "#7201a8"
            ],
            [
             0.3333333333333333,
             "#9c179e"
            ],
            [
             0.4444444444444444,
             "#bd3786"
            ],
            [
             0.5555555555555556,
             "#d8576b"
            ],
            [
             0.6666666666666666,
             "#ed7953"
            ],
            [
             0.7777777777777778,
             "#fb9f3a"
            ],
            [
             0.8888888888888888,
             "#fdca26"
            ],
            [
             1,
             "#f0f921"
            ]
           ],
           "sequentialminus": [
            [
             0,
             "#0d0887"
            ],
            [
             0.1111111111111111,
             "#46039f"
            ],
            [
             0.2222222222222222,
             "#7201a8"
            ],
            [
             0.3333333333333333,
             "#9c179e"
            ],
            [
             0.4444444444444444,
             "#bd3786"
            ],
            [
             0.5555555555555556,
             "#d8576b"
            ],
            [
             0.6666666666666666,
             "#ed7953"
            ],
            [
             0.7777777777777778,
             "#fb9f3a"
            ],
            [
             0.8888888888888888,
             "#fdca26"
            ],
            [
             1,
             "#f0f921"
            ]
           ]
          },
          "colorway": [
           "#636efa",
           "#EF553B",
           "#00cc96",
           "#ab63fa",
           "#FFA15A",
           "#19d3f3",
           "#FF6692",
           "#B6E880",
           "#FF97FF",
           "#FECB52"
          ],
          "font": {
           "color": "#2a3f5f"
          },
          "geo": {
           "bgcolor": "white",
           "lakecolor": "white",
           "landcolor": "#E5ECF6",
           "showlakes": true,
           "showland": true,
           "subunitcolor": "white"
          },
          "hoverlabel": {
           "align": "left"
          },
          "hovermode": "closest",
          "mapbox": {
           "style": "light"
          },
          "paper_bgcolor": "white",
          "plot_bgcolor": "#E5ECF6",
          "polar": {
           "angularaxis": {
            "gridcolor": "white",
            "linecolor": "white",
            "ticks": ""
           },
           "bgcolor": "#E5ECF6",
           "radialaxis": {
            "gridcolor": "white",
            "linecolor": "white",
            "ticks": ""
           }
          },
          "scene": {
           "xaxis": {
            "backgroundcolor": "#E5ECF6",
            "gridcolor": "white",
            "gridwidth": 2,
            "linecolor": "white",
            "showbackground": true,
            "ticks": "",
            "zerolinecolor": "white"
           },
           "yaxis": {
            "backgroundcolor": "#E5ECF6",
            "gridcolor": "white",
            "gridwidth": 2,
            "linecolor": "white",
            "showbackground": true,
            "ticks": "",
            "zerolinecolor": "white"
           },
           "zaxis": {
            "backgroundcolor": "#E5ECF6",
            "gridcolor": "white",
            "gridwidth": 2,
            "linecolor": "white",
            "showbackground": true,
            "ticks": "",
            "zerolinecolor": "white"
           }
          },
          "shapedefaults": {
           "line": {
            "color": "#2a3f5f"
           }
          },
          "ternary": {
           "aaxis": {
            "gridcolor": "white",
            "linecolor": "white",
            "ticks": ""
           },
           "baxis": {
            "gridcolor": "white",
            "linecolor": "white",
            "ticks": ""
           },
           "bgcolor": "#E5ECF6",
           "caxis": {
            "gridcolor": "white",
            "linecolor": "white",
            "ticks": ""
           }
          },
          "title": {
           "x": 0.05
          },
          "xaxis": {
           "automargin": true,
           "gridcolor": "white",
           "linecolor": "white",
           "ticks": "",
           "title": {
            "standoff": 15
           },
           "zerolinecolor": "white",
           "zerolinewidth": 2
          },
          "yaxis": {
           "automargin": true,
           "gridcolor": "white",
           "linecolor": "white",
           "ticks": "",
           "title": {
            "standoff": 15
           },
           "zerolinecolor": "white",
           "zerolinewidth": 2
          }
         }
        }
       }
      },
      "text/html": [
       "<div>\n",
       "        \n",
       "        \n",
       "            <div id=\"36952aad-1455-4374-a739-b3af0d86ae00\" class=\"plotly-graph-div\" style=\"height:525px; width:100%;\"></div>\n",
       "            <script type=\"text/javascript\">\n",
       "                require([\"plotly\"], function(Plotly) {\n",
       "                    window.PLOTLYENV=window.PLOTLYENV || {};\n",
       "                    \n",
       "                if (document.getElementById(\"36952aad-1455-4374-a739-b3af0d86ae00\")) {\n",
       "                    Plotly.newPlot(\n",
       "                        '36952aad-1455-4374-a739-b3af0d86ae00',\n",
       "                        [{\"marker\": {\"size\": [42, 36, 15, 15, 12, 12, 12, 12, 9, 9, 9, 9, 9, 9, 9]}, \"mode\": \"markers\", \"type\": \"scatter\", \"x\": [0, 1, 2, 3, 4, 5, 6, 7, 8, 9, 10, 11, 12, 13, 14], \"y\": [14, 12, 5, 5, 4, 4, 4, 4, 3, 3, 3, 3, 3, 3, 3]}],\n",
       "                        {\"annotations\": [{\"showarrow\": false, \"text\": \"baby\", \"x\": 0, \"xanchor\": \"center\", \"y\": 14, \"yanchor\": \"middle\"}, {\"showarrow\": false, \"text\": \"vegetable\", \"x\": 1, \"xanchor\": \"center\", \"y\": 12, \"yanchor\": \"middle\"}, {\"showarrow\": false, \"text\": \"lavender\", \"x\": 2, \"xanchor\": \"center\", \"y\": 5, \"yanchor\": \"middle\"}, {\"showarrow\": false, \"text\": \"nature\", \"x\": 3, \"xanchor\": \"center\", \"y\": 5, \"yanchor\": \"middle\"}, {\"showarrow\": false, \"text\": \"phebo\", \"x\": 4, \"xanchor\": \"center\", \"y\": 4, \"yanchor\": \"middle\"}, {\"showarrow\": false, \"text\": \"herbs\", \"x\": 5, \"xanchor\": \"center\", \"y\": 4, \"yanchor\": \"middle\"}, {\"showarrow\": false, \"text\": \"liquid\", \"x\": 6, \"xanchor\": \"center\", \"y\": 4, \"yanchor\": \"middle\"}, {\"showarrow\": false, \"text\": \"granado\", \"x\": 7, \"xanchor\": \"center\", \"y\": 4, \"yanchor\": \"middle\"}, {\"showarrow\": false, \"text\": \"hydration\", \"x\": 8, \"xanchor\": \"center\", \"y\": 3, \"yanchor\": \"middle\"}, {\"showarrow\": false, \"text\": \"perfumery\", \"x\": 9, \"xanchor\": \"center\", \"y\": 3, \"yanchor\": \"middle\"}, {\"showarrow\": false, \"text\": \"fennel\", \"x\": 10, \"xanchor\": \"center\", \"y\": 3, \"yanchor\": \"middle\"}, {\"showarrow\": false, \"text\": \"foam\", \"x\": 11, \"xanchor\": \"center\", \"y\": 3, \"yanchor\": \"middle\"}, {\"showarrow\": false, \"text\": \"oil\", \"x\": 12, \"xanchor\": \"center\", \"y\": 3, \"yanchor\": \"middle\"}, {\"showarrow\": false, \"text\": \"sulfur\", \"x\": 13, \"xanchor\": \"center\", \"y\": 3, \"yanchor\": \"middle\"}, {\"showarrow\": false, \"text\": \"tea\", \"x\": 14, \"xanchor\": \"center\", \"y\": 3, \"yanchor\": \"middle\"}], \"template\": {\"data\": {\"bar\": [{\"error_x\": {\"color\": \"#2a3f5f\"}, \"error_y\": {\"color\": \"#2a3f5f\"}, \"marker\": {\"line\": {\"color\": \"#E5ECF6\", \"width\": 0.5}}, \"type\": \"bar\"}], \"barpolar\": [{\"marker\": {\"line\": {\"color\": \"#E5ECF6\", \"width\": 0.5}}, \"type\": \"barpolar\"}], \"carpet\": [{\"aaxis\": {\"endlinecolor\": \"#2a3f5f\", \"gridcolor\": \"white\", \"linecolor\": \"white\", \"minorgridcolor\": \"white\", \"startlinecolor\": \"#2a3f5f\"}, \"baxis\": {\"endlinecolor\": \"#2a3f5f\", \"gridcolor\": \"white\", \"linecolor\": \"white\", \"minorgridcolor\": \"white\", \"startlinecolor\": \"#2a3f5f\"}, \"type\": \"carpet\"}], \"choropleth\": [{\"colorbar\": {\"outlinewidth\": 0, \"ticks\": \"\"}, \"type\": \"choropleth\"}], \"contour\": [{\"colorbar\": {\"outlinewidth\": 0, \"ticks\": \"\"}, \"colorscale\": [[0.0, \"#0d0887\"], [0.1111111111111111, \"#46039f\"], [0.2222222222222222, \"#7201a8\"], [0.3333333333333333, \"#9c179e\"], [0.4444444444444444, \"#bd3786\"], [0.5555555555555556, \"#d8576b\"], [0.6666666666666666, \"#ed7953\"], [0.7777777777777778, \"#fb9f3a\"], [0.8888888888888888, \"#fdca26\"], [1.0, \"#f0f921\"]], \"type\": \"contour\"}], \"contourcarpet\": [{\"colorbar\": {\"outlinewidth\": 0, \"ticks\": \"\"}, \"type\": \"contourcarpet\"}], \"heatmap\": [{\"colorbar\": {\"outlinewidth\": 0, \"ticks\": \"\"}, \"colorscale\": [[0.0, \"#0d0887\"], [0.1111111111111111, \"#46039f\"], [0.2222222222222222, \"#7201a8\"], [0.3333333333333333, \"#9c179e\"], [0.4444444444444444, \"#bd3786\"], [0.5555555555555556, \"#d8576b\"], [0.6666666666666666, \"#ed7953\"], [0.7777777777777778, \"#fb9f3a\"], [0.8888888888888888, \"#fdca26\"], [1.0, \"#f0f921\"]], \"type\": \"heatmap\"}], \"heatmapgl\": [{\"colorbar\": {\"outlinewidth\": 0, \"ticks\": \"\"}, \"colorscale\": [[0.0, \"#0d0887\"], [0.1111111111111111, \"#46039f\"], [0.2222222222222222, \"#7201a8\"], [0.3333333333333333, \"#9c179e\"], [0.4444444444444444, \"#bd3786\"], [0.5555555555555556, \"#d8576b\"], [0.6666666666666666, \"#ed7953\"], [0.7777777777777778, \"#fb9f3a\"], [0.8888888888888888, \"#fdca26\"], [1.0, \"#f0f921\"]], \"type\": \"heatmapgl\"}], \"histogram\": [{\"marker\": {\"colorbar\": {\"outlinewidth\": 0, \"ticks\": \"\"}}, \"type\": \"histogram\"}], \"histogram2d\": [{\"colorbar\": {\"outlinewidth\": 0, \"ticks\": \"\"}, \"colorscale\": [[0.0, \"#0d0887\"], [0.1111111111111111, \"#46039f\"], [0.2222222222222222, \"#7201a8\"], [0.3333333333333333, \"#9c179e\"], [0.4444444444444444, \"#bd3786\"], [0.5555555555555556, \"#d8576b\"], [0.6666666666666666, \"#ed7953\"], [0.7777777777777778, \"#fb9f3a\"], [0.8888888888888888, \"#fdca26\"], [1.0, \"#f0f921\"]], \"type\": \"histogram2d\"}], \"histogram2dcontour\": [{\"colorbar\": {\"outlinewidth\": 0, \"ticks\": \"\"}, \"colorscale\": [[0.0, \"#0d0887\"], [0.1111111111111111, \"#46039f\"], [0.2222222222222222, \"#7201a8\"], [0.3333333333333333, \"#9c179e\"], [0.4444444444444444, \"#bd3786\"], [0.5555555555555556, \"#d8576b\"], [0.6666666666666666, \"#ed7953\"], [0.7777777777777778, \"#fb9f3a\"], [0.8888888888888888, \"#fdca26\"], [1.0, \"#f0f921\"]], \"type\": \"histogram2dcontour\"}], \"mesh3d\": [{\"colorbar\": {\"outlinewidth\": 0, \"ticks\": \"\"}, \"type\": \"mesh3d\"}], \"parcoords\": [{\"line\": {\"colorbar\": {\"outlinewidth\": 0, \"ticks\": \"\"}}, \"type\": \"parcoords\"}], \"pie\": [{\"automargin\": true, \"type\": \"pie\"}], \"scatter\": [{\"marker\": {\"colorbar\": {\"outlinewidth\": 0, \"ticks\": \"\"}}, \"type\": \"scatter\"}], \"scatter3d\": [{\"line\": {\"colorbar\": {\"outlinewidth\": 0, \"ticks\": \"\"}}, \"marker\": {\"colorbar\": {\"outlinewidth\": 0, \"ticks\": \"\"}}, \"type\": \"scatter3d\"}], \"scattercarpet\": [{\"marker\": {\"colorbar\": {\"outlinewidth\": 0, \"ticks\": \"\"}}, \"type\": \"scattercarpet\"}], \"scattergeo\": [{\"marker\": {\"colorbar\": {\"outlinewidth\": 0, \"ticks\": \"\"}}, \"type\": \"scattergeo\"}], \"scattergl\": [{\"marker\": {\"colorbar\": {\"outlinewidth\": 0, \"ticks\": \"\"}}, \"type\": \"scattergl\"}], \"scattermapbox\": [{\"marker\": {\"colorbar\": {\"outlinewidth\": 0, \"ticks\": \"\"}}, \"type\": \"scattermapbox\"}], \"scatterpolar\": [{\"marker\": {\"colorbar\": {\"outlinewidth\": 0, \"ticks\": \"\"}}, \"type\": \"scatterpolar\"}], \"scatterpolargl\": [{\"marker\": {\"colorbar\": {\"outlinewidth\": 0, \"ticks\": \"\"}}, \"type\": \"scatterpolargl\"}], \"scatterternary\": [{\"marker\": {\"colorbar\": {\"outlinewidth\": 0, \"ticks\": \"\"}}, \"type\": \"scatterternary\"}], \"surface\": [{\"colorbar\": {\"outlinewidth\": 0, \"ticks\": \"\"}, \"colorscale\": [[0.0, \"#0d0887\"], [0.1111111111111111, \"#46039f\"], [0.2222222222222222, \"#7201a8\"], [0.3333333333333333, \"#9c179e\"], [0.4444444444444444, \"#bd3786\"], [0.5555555555555556, \"#d8576b\"], [0.6666666666666666, \"#ed7953\"], [0.7777777777777778, \"#fb9f3a\"], [0.8888888888888888, \"#fdca26\"], [1.0, \"#f0f921\"]], \"type\": \"surface\"}], \"table\": [{\"cells\": {\"fill\": {\"color\": \"#EBF0F8\"}, \"line\": {\"color\": \"white\"}}, \"header\": {\"fill\": {\"color\": \"#C8D4E3\"}, \"line\": {\"color\": \"white\"}}, \"type\": \"table\"}]}, \"layout\": {\"annotationdefaults\": {\"arrowcolor\": \"#2a3f5f\", \"arrowhead\": 0, \"arrowwidth\": 1}, \"coloraxis\": {\"colorbar\": {\"outlinewidth\": 0, \"ticks\": \"\"}}, \"colorscale\": {\"diverging\": [[0, \"#8e0152\"], [0.1, \"#c51b7d\"], [0.2, \"#de77ae\"], [0.3, \"#f1b6da\"], [0.4, \"#fde0ef\"], [0.5, \"#f7f7f7\"], [0.6, \"#e6f5d0\"], [0.7, \"#b8e186\"], [0.8, \"#7fbc41\"], [0.9, \"#4d9221\"], [1, \"#276419\"]], \"sequential\": [[0.0, \"#0d0887\"], [0.1111111111111111, \"#46039f\"], [0.2222222222222222, \"#7201a8\"], [0.3333333333333333, \"#9c179e\"], [0.4444444444444444, \"#bd3786\"], [0.5555555555555556, \"#d8576b\"], [0.6666666666666666, \"#ed7953\"], [0.7777777777777778, \"#fb9f3a\"], [0.8888888888888888, \"#fdca26\"], [1.0, \"#f0f921\"]], \"sequentialminus\": [[0.0, \"#0d0887\"], [0.1111111111111111, \"#46039f\"], [0.2222222222222222, \"#7201a8\"], [0.3333333333333333, \"#9c179e\"], [0.4444444444444444, \"#bd3786\"], [0.5555555555555556, \"#d8576b\"], [0.6666666666666666, \"#ed7953\"], [0.7777777777777778, \"#fb9f3a\"], [0.8888888888888888, \"#fdca26\"], [1.0, \"#f0f921\"]]}, \"colorway\": [\"#636efa\", \"#EF553B\", \"#00cc96\", \"#ab63fa\", \"#FFA15A\", \"#19d3f3\", \"#FF6692\", \"#B6E880\", \"#FF97FF\", \"#FECB52\"], \"font\": {\"color\": \"#2a3f5f\"}, \"geo\": {\"bgcolor\": \"white\", \"lakecolor\": \"white\", \"landcolor\": \"#E5ECF6\", \"showlakes\": true, \"showland\": true, \"subunitcolor\": \"white\"}, \"hoverlabel\": {\"align\": \"left\"}, \"hovermode\": \"closest\", \"mapbox\": {\"style\": \"light\"}, \"paper_bgcolor\": \"white\", \"plot_bgcolor\": \"#E5ECF6\", \"polar\": {\"angularaxis\": {\"gridcolor\": \"white\", \"linecolor\": \"white\", \"ticks\": \"\"}, \"bgcolor\": \"#E5ECF6\", \"radialaxis\": {\"gridcolor\": \"white\", \"linecolor\": \"white\", \"ticks\": \"\"}}, \"scene\": {\"xaxis\": {\"backgroundcolor\": \"#E5ECF6\", \"gridcolor\": \"white\", \"gridwidth\": 2, \"linecolor\": \"white\", \"showbackground\": true, \"ticks\": \"\", \"zerolinecolor\": \"white\"}, \"yaxis\": {\"backgroundcolor\": \"#E5ECF6\", \"gridcolor\": \"white\", \"gridwidth\": 2, \"linecolor\": \"white\", \"showbackground\": true, \"ticks\": \"\", \"zerolinecolor\": \"white\"}, \"zaxis\": {\"backgroundcolor\": \"#E5ECF6\", \"gridcolor\": \"white\", \"gridwidth\": 2, \"linecolor\": \"white\", \"showbackground\": true, \"ticks\": \"\", \"zerolinecolor\": \"white\"}}, \"shapedefaults\": {\"line\": {\"color\": \"#2a3f5f\"}}, \"ternary\": {\"aaxis\": {\"gridcolor\": \"white\", \"linecolor\": \"white\", \"ticks\": \"\"}, \"baxis\": {\"gridcolor\": \"white\", \"linecolor\": \"white\", \"ticks\": \"\"}, \"bgcolor\": \"#E5ECF6\", \"caxis\": {\"gridcolor\": \"white\", \"linecolor\": \"white\", \"ticks\": \"\"}}, \"title\": {\"x\": 0.05}, \"xaxis\": {\"automargin\": true, \"gridcolor\": \"white\", \"linecolor\": \"white\", \"ticks\": \"\", \"title\": {\"standoff\": 15}, \"zerolinecolor\": \"white\", \"zerolinewidth\": 2}, \"yaxis\": {\"automargin\": true, \"gridcolor\": \"white\", \"linecolor\": \"white\", \"ticks\": \"\", \"title\": {\"standoff\": 15}, \"zerolinecolor\": \"white\", \"zerolinewidth\": 2}}}},\n",
       "                        {\"responsive\": true}\n",
       "                    ).then(function(){\n",
       "                            \n",
       "var gd = document.getElementById('36952aad-1455-4374-a739-b3af0d86ae00');\n",
       "var x = new MutationObserver(function (mutations, observer) {{\n",
       "        var display = window.getComputedStyle(gd).display;\n",
       "        if (!display || display === 'none') {{\n",
       "            console.log([gd, 'removed!']);\n",
       "            Plotly.purge(gd);\n",
       "            observer.disconnect();\n",
       "        }}\n",
       "}});\n",
       "\n",
       "// Listen for the removal of the full notebook cells\n",
       "var notebookContainer = gd.closest('#notebook-container');\n",
       "if (notebookContainer) {{\n",
       "    x.observe(notebookContainer, {childList: true});\n",
       "}}\n",
       "\n",
       "// Listen for the clearing of the current output cell\n",
       "var outputEl = gd.closest('.output');\n",
       "if (outputEl) {{\n",
       "    x.observe(outputEl, {childList: true});\n",
       "}}\n",
       "\n",
       "                        })\n",
       "                };\n",
       "                });\n",
       "            </script>\n",
       "        </div>"
      ]
     },
     "metadata": {},
     "output_type": "display_data"
    }
   ],
   "source": [
    "count = 15\n",
    "for key,value in pos_dict.items():\n",
    "    if key == 'adj_adv':\n",
    "        common_words = frequency_bubble_chart(value,count,3)\n",
    "    elif key == 'verb':\n",
    "        common_words = frequency_bubble_chart(value,10,3)\n",
    "    else:\n",
    "        common_words = frequency_bubble_chart(value,count,3)"
   ]
  },
  {
   "cell_type": "markdown",
   "metadata": {},
   "source": [
    "## Description"
   ]
  },
  {
   "cell_type": "code",
   "execution_count": 258,
   "metadata": {},
   "outputs": [],
   "source": [
    "from gensim.models.ldamodel import LdaModel\n",
    "from gensim import corpora\n",
    "def prepare_text(texts,delete_list):\n",
    "    for i in range(len(texts)):\n",
    "        text = texts[i]\n",
    "        sents = sent_tokenize(text)\n",
    "        for j in range(len(sents)):\n",
    "            sent = sents[j]\n",
    "            sent = sent.strip().replace('\\n','')\n",
    "            sents[j] = sent\n",
    "        texts[i] = '. '.join(sents)\n",
    "    texts = [[word for word in text.lower().split()\n",
    "        if word not in STOPWORDS and word.isalnum() and not word.lower() in delete_list]\n",
    "        for text in texts]\n",
    "    return texts\n",
    "def lda_func(texts,num_topics, passes, delete_list):\n",
    "    texts = prepare_text(texts,delete_list)\n",
    "    dictionary = corpora.Dictionary(texts)\n",
    "    corpus = [dictionary.doc2bow(text) for text in texts]\n",
    "    lda = LdaModel(corpus,\n",
    "                  id2word=dictionary,\n",
    "                  num_topics=num_topics,\n",
    "                  passes=passes)\n",
    "    return lda"
   ]
  },
  {
   "cell_type": "code",
   "execution_count": null,
   "metadata": {},
   "outputs": [],
   "source": [
    "texts = [translator.translate(i).text for i in bar_soap_Brazil['description'].dropna()]"
   ]
  },
  {
   "cell_type": "code",
   "execution_count": 261,
   "metadata": {},
   "outputs": [
    {
     "data": {
      "text/plain": [
       "[(0,\n",
       "  '0.032*\"soap\" + 0.022*\"skin\" + 0.012*\"clay\" + 0.009*\"bar\" + 0.009*\"dove\" + 0.007*\"natural\" + 0.007*\"oil\" + 0.006*\"sodium\" + 0.006*\"helps\" + 0.006*\"will\"'),\n",
       " (1,\n",
       "  '0.028*\"soap\" + 0.019*\"skin\" + 0.014*\"bar\" + 0.010*\"natural\" + 0.009*\"soft\" + 0.009*\"soaps\" + 0.009*\"formula\" + 0.008*\"natura\" + 0.007*\"90g\" + 0.006*\"kit\"'),\n",
       " (2,\n",
       "  '0.035*\"soap\" + 0.032*\"skin\" + 0.016*\"daily\" + 0.016*\"natural\" + 0.013*\"without\" + 0.012*\"antiseptic\" + 0.009*\"contains\" + 0.009*\"use\" + 0.009*\"oily\" + 0.009*\"indicated\"'),\n",
       " (3,\n",
       "  '0.037*\"de\" + 0.036*\"e\" + 0.027*\"o\" + 0.014*\"da\" + 0.014*\"em\" + 0.013*\"para\" + 0.010*\"que\" + 0.009*\"é\" + 0.007*\"frete\" + 0.007*\"sabonete\"'),\n",
       " (4,\n",
       "  '0.022*\"shipping\" + 0.022*\"products\" + 0.017*\"will\" + 0.017*\"product\" + 0.016*\"mercado\" + 0.013*\"free\" + 0.012*\"buy\" + 0.012*\"informed\" + 0.010*\"made\" + 0.009*\"sodium\"')]"
      ]
     },
     "execution_count": 261,
     "metadata": {},
     "output_type": "execute_result"
    }
   ],
   "source": [
    "lda = lda_func(texts,5,50,[' '])\n",
    "lda.print_topics(num_words=10)"
   ]
  },
  {
   "cell_type": "code",
   "execution_count": 264,
   "metadata": {},
   "outputs": [
    {
     "data": {
      "text/plain": [
       "['______________________________________________________________soap',\n",
       " 'naturals',\n",
       " 'bars',\n",
       " 'oils',\n",
       " 'fragrances',\n",
       " 'g__________________________________________________description',\n",
       " '_______________________________________sabonete',\n",
       " 'peles',\n",
       " 'containers',\n",
       " 'moisturized',\n",
       " 'extraction',\n",
       " 'uses',\n",
       " 'uma',\n",
       " 'vegetation',\n",
       " '_________________________________________________________suas',\n",
       " 'cleanness',\n",
       " 'actions',\n",
       " 'descriptionthe',\n",
       " 'kit',\n",
       " 'hydratant']"
      ]
     },
     "execution_count": 264,
     "metadata": {},
     "output_type": "execute_result"
    }
   ],
   "source": [
    "import gensim.summarization\n",
    "keyword = gensim.summarization.keywords(text = ' '.join(texts), words = 20, lemmatize = True).split('\\n')\n",
    "keyword"
   ]
  },
  {
   "cell_type": "code",
   "execution_count": 274,
   "metadata": {},
   "outputs": [],
   "source": [
    "delete_words = ['soap', 'grams', 'units', 'gramas', 'barra', 'rectangular', 'male', 'mercado', 'pm', 'skin', 'full', 'w3', 'product', 'zip', 'loccitane', 'shopping', 'service', 'use', 'purchase', 'shipping', 'delivery']\n",
    "import spacy\n",
    "# set up nlp environment in spacy\n",
    "nlp = spacy.load(\"en_core_web_sm\")\n",
    "# use spacy to identify each chunk in the review after covid and put them into the chunk list\n",
    "chunk_list = []\n",
    "for text in texts:\n",
    "    doc = nlp(text.lower())\n",
    "    for chunk in doc.noun_chunks:\n",
    "        chunk = ' '.join([word for word in str(chunk.text).split() if word not in STOPWORDS])\n",
    "        if not (len(chunk.split(' ')) == 0 or len(chunk.split(' ')) == 1):\n",
    "            chunk_list.append(chunk)\n",
    "# create chunk dict to record each chunk's appearence time\n",
    "chunk_dict = dict()\n",
    "for i in chunk_list:\n",
    "    if not set.intersection(set(i.lower().split(' ')), set(delete_words)):\n",
    "        if chunk_dict.get(i):\n",
    "            chunk_dict[i] += 1\n",
    "        else:\n",
    "            chunk_dict[i] = 1\n",
    "# sort chunk dict based on the value\n",
    "sort_list = sorted(chunk_dict.items(), key=lambda x: x[1], reverse=True)"
   ]
  },
  {
   "cell_type": "code",
   "execution_count": 275,
   "metadata": {},
   "outputs": [
    {
     "data": {
      "text/plain": [
       "[('creamy foam', 134),\n",
       " ('sodium hydroxide', 129),\n",
       " ('sodium chloride', 104),\n",
       " ('etidronic acid', 101),\n",
       " ('natura express', 95),\n",
       " ('titanium dioxide', 88),\n",
       " ('sodium palmate', 87),\n",
       " ('sodium palm kernelate', 81),\n",
       " ('pleasant sensation', 74),\n",
       " ('sodium stearate', 70),\n",
       " ('gentle formula', 70),\n",
       " ('excess oil', 68),\n",
       " ('original products', 60),\n",
       " ('tracking code', 58),\n",
       " ('next business day', 58),\n",
       " ('natural ingredients', 54),\n",
       " ('free market', 54),\n",
       " ('animal origin', 53),\n",
       " ('tetrasodium edta', 52),\n",
       " ('natural hydration', 51),\n",
       " ('immediate dispatch', 51),\n",
       " ('leading platinum market', 51),\n",
       " ('authorized reseller', 51),\n",
       " ('fiscal note', 51),\n",
       " ('better country', 51),\n",
       " ('green reputation bar', 51),\n",
       " ('right side', 51),\n",
       " ('several variables', 51),\n",
       " ('technical error', 51),\n",
       " ('several different products', 51),\n",
       " ('desired products', 51),\n",
       " ('search field', 51),\n",
       " ('different places', 51),\n",
       " ('cpf / cnpj', 51),\n",
       " ('mineral oil', 49),\n",
       " ('natural extracts', 48),\n",
       " ('natura consultant', 47),\n",
       " ('dead cells', 47),\n",
       " ('salicylic acid', 47),\n",
       " ('vast number', 46),\n",
       " ('different price', 46),\n",
       " ('original, new sealed products', 46),\n",
       " ('cool place', 46),\n",
       " ('chamomile extract', 45),\n",
       " ('circular motions', 45),\n",
       " ('15 years', 45),\n",
       " (\"skin's natural moisture\", 45),\n",
       " ('deep cleansing', 45),\n",
       " ('question field', 45),\n",
       " ('shea butter', 42),\n",
       " ('100% vegetable', 42),\n",
       " ('vegetable oils', 42),\n",
       " ('coconut oil', 42),\n",
       " ('natural origin', 42),\n",
       " ('sodium laureth sulfate', 40),\n",
       " ('protective barrier', 39),\n",
       " ('...... content', 37),\n",
       " ('1/4 moisturizing cream', 36),\n",
       " ('zea mays starch', 36),\n",
       " ('medical advice', 35),\n",
       " ('atlantic forest', 35),\n",
       " ('several brands', 34),\n",
       " ('100% positive feedback', 34),\n",
       " ('activated carbon', 34),\n",
       " ('raw material', 34),\n",
       " ('accidental contact', 33),\n",
       " ('...... composition', 32),\n",
       " ('delicious sensation', 32),\n",
       " ('activated charcoal', 32),\n",
       " ('circular movements', 31),\n",
       " ('100% vegetable based pasta;-', 30),\n",
       " ('chemical preservatives;-', 30),\n",
       " ('artificial colors;-', 30),\n",
       " ('antibacterial properties', 30),\n",
       " ('beautiful box', 30),\n",
       " ('good health', 30),\n",
       " ('stretch marks', 29),\n",
       " ('citric acid', 29),\n",
       " ('pleasant feeling', 29),\n",
       " ('warm water', 28),\n",
       " ('naturally healthy protection', 28),\n",
       " ('special moment', 28),\n",
       " ('provence region', 28),\n",
       " ('invigorating bath', 27),\n",
       " ('greater affinity', 27),\n",
       " ('olive oil', 27),\n",
       " ('balanced ph', 27),\n",
       " (\"skin's natural hydration\", 26),\n",
       " ('delicious fragrance', 26),\n",
       " ('animal ingredients', 26),\n",
       " ('unique combination', 26),\n",
       " ('striking refreshing aroma', 26),\n",
       " ('desired items', 26),\n",
       " ('buy button', 26),\n",
       " ('requested address', 26),\n",
       " ('time period', 26),\n",
       " ('provence brand', 26),\n",
       " ('true relationship', 26),\n",
       " ('olivier baussan', 26),\n",
       " ('provencal nature', 26),\n",
       " ('43 years', 26),\n",
       " ('protected origin', 26),\n",
       " ('special benefits', 26),\n",
       " ('high effectiveness', 26),\n",
       " ('brazilian beauty', 26),\n",
       " ('diverse facets', 26),\n",
       " ('high quality cosmetics', 26),\n",
       " ('true passionate stories', 26),\n",
       " ('exclusive design', 26),\n",
       " ('natural cultural riches', 26),\n",
       " ('base mass', 25),\n",
       " ('cold process', 25),\n",
       " ('vitamin e', 25),\n",
       " ('48 hours', 25),\n",
       " ('vegetable glycerin', 25),\n",
       " ('vegetable base', 25),\n",
       " ('electronic invoice', 25),\n",
       " ('organic ingredients', 24),\n",
       " ('skin;• creamy', 24),\n",
       " ('10 boxes', 24),\n",
       " ('best flowers', 24),\n",
       " ('aloe vera', 23),\n",
       " ('second lung', 23),\n",
       " ('entire line', 23),\n",
       " ('hydrolyzed corn starch', 23),\n",
       " ('peg-150 distearate', 23),\n",
       " ('disodium cocamido mea-sulfosuccinate', 23),\n",
       " ('vegetable base pasta', 22),\n",
       " ('parfum.. organic ingredient', 22),\n",
       " ('official store', 22),\n",
       " ('artificial colors', 22),\n",
       " ('essential oils', 22),\n",
       " ('stearic acid', 21),\n",
       " ('benefits:• gentle cleaning', 21),\n",
       " (\"skin's natural hydration;• 98% natural ingredients\", 21),\n",
       " ('softness;• fragrance explosion', 21),\n",
       " ('.. link', 21),\n",
       " ('natural peeling', 21),\n",
       " ('long-lasting nourishing combination', 21),\n",
       " ('daily cleaning', 21),\n",
       " ('description15 years', 21),\n",
       " ('best sellers', 21),\n",
       " ('total customer satisfaction', 21),\n",
       " ('abundant foam', 21),\n",
       " ('bath time', 21),\n",
       " ('reserva folio', 21),\n",
       " ('orbignya oleifera seed oil', 21),\n",
       " ('chamomilla recutita', 20),\n",
       " ('15 boxes', 20),\n",
       " ('synthetic dyes', 20),\n",
       " ('delicate fragrance', 20),\n",
       " ('common soaps', 20),\n",
       " ('essential oil', 20),\n",
       " ('small amount', 20),\n",
       " ('glycolic acid', 20),\n",
       " ('sodium carbonate', 20),\n",
       " ('sodium tallowate', 20),\n",
       " ('calcium carbonate', 20),\n",
       " ('whole body', 20),\n",
       " ('best way', 20),\n",
       " ('original seal', 20),\n",
       " ('descriptionthe store', 19),\n",
       " ('propylene glycol', 19),\n",
       " ('damp face', 19),\n",
       " ('green clay', 19),\n",
       " ('foam forms', 19),\n",
       " ('physical store', 18),\n",
       " ('w / 04 boxes', 18),\n",
       " ('soft foam', 18),\n",
       " ('first applications', 18),\n",
       " ('moisturizing properties', 18),\n",
       " ('action / assets', 18),\n",
       " ('high quality products', 18),\n",
       " ('cell renewal', 18),\n",
       " ('mucous membranes', 17),\n",
       " ('90 g.without dye', 17),\n",
       " ('exclusive hydration', 17),\n",
       " ('mineral salts', 17),\n",
       " ('circular motion', 17),\n",
       " ('aloe vera extract', 17),\n",
       " (\"product's effectiveness\", 17),\n",
       " ('coconut acid', 17),\n",
       " ('turmeric extract', 17),\n",
       " ('w / 20 boxes', 17),\n",
       " ('sun exposure', 17),\n",
       " ('eucalyptus essential oil', 17),\n",
       " ('active ingredients', 17),\n",
       " ('best quality', 17),\n",
       " ('everyday life', 16),\n",
       " ('effective cleaning', 16),\n",
       " ('exclusive formula', 16),\n",
       " ('large amounts', 16),\n",
       " ('yellow clay', 16),\n",
       " ('moisturizing cream', 16),\n",
       " ('out;• moisturizes gently;• sensation', 16),\n",
       " ('daily hygiene', 16),\n",
       " ('high concentration', 16),\n",
       " ('artificial fragrances', 16),\n",
       " ('vegetable oil', 16),\n",
       " ('new advanced hidro-force formula', 16),\n",
       " ('perfect balance', 16),\n",
       " ('salicylic, glycolic acids', 16),\n",
       " ('multi-benefit formula', 16),\n",
       " ('first week', 16),\n",
       " ('small amounts', 16),\n",
       " ('slight burning sensation', 16),\n",
       " ('floral oils', 16),\n",
       " ('fair price', 16),\n",
       " ('another format', 16),\n",
       " ('health professionals', 16),\n",
       " ('hand hygiene', 16),\n",
       " ('cross.. safety rules', 16),\n",
       " ('hexyl cinnamal', 15),\n",
       " ('dermatological problems', 15),\n",
       " ('major damage', 15),\n",
       " ('main reasons', 15),\n",
       " ('best ingredient', 15),\n",
       " ('pigmentation spots', 15),\n",
       " ('anti-aging action', 15),\n",
       " ('close pores', 15),\n",
       " ('organic chamomile extract', 15),\n",
       " ('diverse properties', 15),\n",
       " ('emollient soothing activity', 15),\n",
       " ('deep cleaning', 15),\n",
       " ('open unbundled products', 15),\n",
       " ('benefits:- moisturizer;- emollient;-', 15),\n",
       " ('fsc seal', 15),\n",
       " ('responsible forest management', 15),\n",
       " ('undesirable effect', 15),\n",
       " ('bacteria exclusive formula', 15),\n",
       " ('floral extracts', 15),\n",
       " ('unique original fragrances', 15),\n",
       " ('delicate formula', 15),\n",
       " ('pre post procedures', 15),\n",
       " ('melt & pour base', 15),\n",
       " ('excellent level', 15),\n",
       " ('aromatic essences', 15),\n",
       " ('soft velvety touch', 15),\n",
       " ('90 g', 15),\n",
       " ('(matricaria) flower', 14),\n",
       " ('babassu oil', 14),\n",
       " ('100% vegetable composition', 14),\n",
       " ('velvety touch', 14),\n",
       " ('marigold flowers', 14),\n",
       " ('antiseptic healing properties', 14),\n",
       " ('unclog pores', 14),\n",
       " ('3 granado soaps', 14),\n",
       " ('clogged pores', 14),\n",
       " ('gentle cleansing', 14),\n",
       " ('zinc pidolate', 14),\n",
       " ('daily protection', 14),\n",
       " ('missing touch', 14),\n",
       " ('delicate perfumes', 14),\n",
       " ('smooth formulation', 14),\n",
       " ('24 hours', 14),\n",
       " ('basic mixture', 14),\n",
       " ('de usar', 14),\n",
       " ('higher concentration', 14),\n",
       " ('market shipping)important informations', 14),\n",
       " ('warranty policy complies', 14),\n",
       " ('brazilian legislation', 14),\n",
       " ('white cloth', 14),\n",
       " ('bacterial flora', 14),\n",
       " ('based pasta', 13),\n",
       " ('airbnb***immediate dispatch', 13),\n",
       " (\"nature's additives\", 13),\n",
       " ('high temperatures', 13),\n",
       " ('natural health', 13),\n",
       " ('soft fragrance', 13),\n",
       " ('astringent, toning, stimulating, drying, bactericidal, analgesic healing action',\n",
       "  13),\n",
       " ('intimate areas;- neutral formulation;- soft perfume;indication', 13),\n",
       " ('biodegradable formula', 13),\n",
       " ('w / 09 boxes', 13),\n",
       " ('active ingredient', 13),\n",
       " ('o boticário', 13),\n",
       " ('sunflower oil', 13),\n",
       " ('oleifera seed oil', 13),\n",
       " ('terebinthifolius leaf extract', 13),\n",
       " ('sodium cocoate', 13),\n",
       " ('natural assets', 13),\n",
       " ('deodorant properties', 13),\n",
       " ('quality products', 13),\n",
       " ('nesti dante', 13),\n",
       " ('light massage', 13),\n",
       " ('excessive shine', 13),\n",
       " ('red fruits', 13),\n",
       " ('payment confirmation', 13),\n",
       " ('striking pleasant aroma', 13),\n",
       " ('delicate scent', 13),\n",
       " ('pink cinnamon', 13),\n",
       " ('antiseptic agents', 13),\n",
       " ('gentle cleansing formula', 12),\n",
       " ('common bar soaps', 12),\n",
       " ('better bathing experience', 12),\n",
       " ('following method', 12),\n",
       " ('ordinary soaps', 12),\n",
       " ('many options', 12),\n",
       " ('every moment', 12),\n",
       " ('anti-inflammatory action', 12),\n",
       " ('ancient technique', 12),\n",
       " ('beautiful stories', 12),\n",
       " ('vegan composition', 12),\n",
       " ('external use;-', 12),\n",
       " ('curcuma longa', 12),\n",
       " ('content:04 boxes', 12),\n",
       " ('100% vegetable base', 12),\n",
       " ('entire face', 12),\n",
       " ('special formula', 12),\n",
       " ('silky touch', 12),\n",
       " ('soothing action', 12),\n",
       " ('5 cm', 12),\n",
       " ('rich creamy foam', 12),\n",
       " ('seed oil', 12),\n",
       " ('captive nature', 12),\n",
       " ('best price', 12),\n",
       " ('organic pure vegetable white tea', 12),\n",
       " ('sua compra', 12),\n",
       " ('em seguida', 12),\n",
       " ('high emollient power', 12),\n",
       " (\"sampafarm.store's mission\", 12),\n",
       " (\"skin's nutrients\", 11),\n",
       " ('cocamidopropyl betaine', 11),\n",
       " ('w / 08 boxes', 11),\n",
       " ('controls oiliness', 11),\n",
       " ('cetyl alcohol', 11),\n",
       " ('natural vitality', 11),\n",
       " ('delicate foam', 11),\n",
       " ('kraft paper', 11),\n",
       " ('premature aging', 11),\n",
       " ('gentle circular movements', 11),\n",
       " ('unnecessary chemical additives', 11),\n",
       " ('chemical toxins', 11),\n",
       " ('entire family', 11),\n",
       " ('acne scars', 11),\n",
       " ('blood circulation', 11),\n",
       " ('light exfoliation', 11),\n",
       " ('fine lines', 11),\n",
       " ('original packaging', 11),\n",
       " ('direct sunlight', 11),\n",
       " ('new hidro-force technology', 11),\n",
       " ('entire anti-acne line asepxia', 11),\n",
       " ('grape seed oil', 11),\n",
       " ('long time', 11),\n",
       " ('exfoliating actives', 11),\n",
       " ('30 years', 11),\n",
       " ('7% sulfur', 11),\n",
       " ('direct contact', 11),\n",
       " ('tracked organic inputs', 11),\n",
       " ('certified natural productsformula', 11),\n",
       " ('virtual store', 11),\n",
       " ('elaeis guineensis kernel oil', 11),\n",
       " ('pleasant softness', 11),\n",
       " ('handmade soaps', 11),\n",
       " ('body odors', 11),\n",
       " ('o sabonete', 11),\n",
       " ('little water', 11),\n",
       " ('entire body', 11),\n",
       " ('99,9% das bactérias', 11),\n",
       " ('syndet technology', 10),\n",
       " ('advertised products', 10),\n",
       " ('five assorted soaps', 10),\n",
       " ('cecita blossom', 10),\n",
       " ('acqua fresca', 10),\n",
       " ('new acqua fresca lines', 10),\n",
       " ('boticollection soaps', 10),\n",
       " ('even colors', 10),\n",
       " ('bar soaps', 10),\n",
       " ('refreshing fragrance', 10),\n",
       " ('solar radiation', 10),\n",
       " ('daily life', 10),\n",
       " ('glycolic marigold extract', 10),\n",
       " ('original, exotic formula', 10),\n",
       " ('whole family', 10),\n",
       " ('human health', 10),\n",
       " ('antiseptic antibacterial properties', 10),\n",
       " ('damp body', 10),\n",
       " ('benzyl salicylate', 10),\n",
       " ('chemical preservatives', 10),\n",
       " ('special formulation', 10),\n",
       " (\"johnson's delicate unmistakable scent\", 10),\n",
       " ('hypoallergenic formula', 10),\n",
       " ('enveloping perfume', 10),\n",
       " ('pleasant aroma', 10),\n",
       " ('natural honey', 10),\n",
       " ('.. - dermatologically tested.. - instructions', 10),\n",
       " ('delicious smell', 10),\n",
       " ('possible appearance', 10),\n",
       " ('april / 2021(we issue electronic invoice', 10),\n",
       " ('minimal shrinkage', 10),\n",
       " ('paraffin, dyes...... composition', 10),\n",
       " ('sodium tollowate', 10),\n",
       " ('ethanol alcohol', 10),\n",
       " ('olfactory notes', 10),\n",
       " ('amyl cinnamal', 10),\n",
       " ('citrus fragrance', 10),\n",
       " ('chamomile organic extract', 10),\n",
       " ('#artesanal #artesanatomineiro #mamaeebebe #soap #levyter #lembranquinhadecasamento',\n",
       "  10),\n",
       " ('#saboneteliquido #chadefralda #baby #friends', 10),\n",
       " ('# sales', 10),\n",
       " ('wet body', 10),\n",
       " ('natural moisture', 9),\n",
       " ('butylphenyl methylpropional', 9),\n",
       " ('first day', 9),\n",
       " ('charcoal powde', 9),\n",
       " ('business hours', 9),\n",
       " ('5 \\u200b\\u200bbar soaps', 9),\n",
       " ('neutral ph', 9),\n",
       " ('essential nutrients', 9),\n",
       " ('white clay', 9),\n",
       " ('natural products', 9),\n",
       " ('palm kernel', 9),\n",
       " ('919152767this kit', 9),\n",
       " ('100% vegetable oils', 9),\n",
       " ('descriptionlianda natural soaps', 9),\n",
       " ('prolonged antibacterial protection', 9),\n",
       " ('pleasant fragrance', 9),\n",
       " (\"nature's beneficial substances\", 9),\n",
       " ('high power', 9),\n",
       " ('expression marks', 9),\n",
       " ('regenerative power', 9),\n",
       " ('daily bath', 9),\n",
       " ('bath sponge', 9),\n",
       " ('maximum concentration', 9),\n",
       " ('descriptionols atacado - wholesale company', 9),\n",
       " ('wide variety', 9),\n",
       " ('low price', 9),\n",
       " ('childrenavoid eye contactexternal usebefore buying', 9),\n",
       " ('3 business days', 9),\n",
       " ('enlarged pores', 9),\n",
       " ('rosehip oil', 9),\n",
       " ('negative energies', 9),\n",
       " ('many products', 9),\n",
       " ('international quality requirements', 9),\n",
       " ('synthetic surfactants', 9),\n",
       " ('eye irritations', 9),\n",
       " ('vegan friend', 9),\n",
       " ('animal origin...... content', 9),\n",
       " ('unpleasant odors', 9),\n",
       " ('daily body hygiene', 9),\n",
       " ('half liter', 9),\n",
       " ('cleaning cloth', 9),\n",
       " ('ceramic, porcelain, tile cement floors', 9),\n",
       " ('40 ° c', 9),\n",
       " ('spicy resin', 9),\n",
       " ('vegetable starch', 9),\n",
       " ('melhor atendimento sempre', 9),\n",
       " ('merely illustrative imagesdifferentiated prices', 9),\n",
       " ('5 unidades', 9),\n",
       " ('90g cada', 9),\n",
       " ('80 git', 9),\n",
       " ('bulgarian roses', 9),\n",
       " ('creamy texture', 9),\n",
       " ('unique experience', 9),\n",
       " ('descriptionsoap 10 gr hotel motel pousada fragrância floralbox', 8),\n",
       " ('sodium laurate', 8),\n",
       " ('lauric acid', 8),\n",
       " ('...... indication', 8),\n",
       " ('nourishing regenerating action', 8),\n",
       " ('benzyl benzoate', 8),\n",
       " ('26 days', 8),\n",
       " ('right measure', 8),\n",
       " ('long-lasting nutritious combination', 8),\n",
       " ('1 box', 8),\n",
       " ('giorno bagno', 8),\n",
       " ('coconut water', 8),\n",
       " ('nourishes tissues', 8),\n",
       " ('100% natural origin', 8),\n",
       " ('skin;• fragrance explosion', 8),\n",
       " ('baking paper', 8),\n",
       " ('...... ideal', 8),\n",
       " ('dry cool place', 8),\n",
       " ('expression lines', 8),\n",
       " ('organic turmeric extract', 8),\n",
       " ('creamy abundant foam', 8),\n",
       " ('cosmetic resellers', 8),\n",
       " ('following brands', 8),\n",
       " ('passion fruit', 8),\n",
       " ('2 boxes', 8),\n",
       " ('lemon balm', 8),\n",
       " ('zinc pca', 8),\n",
       " ('...... contents', 8),\n",
       " ('harmful bacteria', 8),\n",
       " ('descriptionproduct information', 8),\n",
       " ('la roche-posay', 8),\n",
       " ('la roche posay', 8),\n",
       " ('perfumery phebo', 8),\n",
       " ('synthetic preservatives', 8),\n",
       " ('15 minutes', 8),\n",
       " ('total satisfaction', 8),\n",
       " ('sodium babassuate', 8),\n",
       " ('allergic rhinitis', 8),\n",
       " ('best things', 8),\n",
       " ('branco gift', 8),\n",
       " ('light aromatic fragrance', 8),\n",
       " ('creamy sandalwood', 8),\n",
       " ('indispensable gift', 8),\n",
       " ('benefits:• gift', 8),\n",
       " ('breu branco', 8),\n",
       " ('content:1 female freshness cologne deodorant', 8),\n",
       " ('1 moisturizing body deodorant', 8),\n",
       " ('1 moisturizing pulp', 8),\n",
       " ('1 body deodorant oil', 8),\n",
       " ('1 gift bag', 8),\n",
       " ('novos e lacrados', 8),\n",
       " ('e tranquilidade para sua compra', 8),\n",
       " ('natural extract', 8),\n",
       " ('envio imediato', 8),\n",
       " ('#esteticaanimal #petsmack #centervetclinicaveterinaria #centrodeesteticacentervet #taxidog #veterinariaaamoramoramora #grooming #cachorros # animaldeestimação',\n",
       "  8),\n",
       " ('#tosabebe #groomers #anapolisgo #quality #hotelpet # goiás #enfofre #acne # carnations',\n",
       "  8),\n",
       " ('# salesman', 8),\n",
       " ('# reseller', 8),\n",
       " ('# wholesale #growth', 8),\n",
       " ('.. precautions', 8),\n",
       " ('silver ions', 8),\n",
       " ('strong ally', 8),\n",
       " ('anti-inflammatory, healing, astringent, antiseptic, antifungal balsamic properties',\n",
       "  8),\n",
       " ('gynecological treatments', 8),\n",
       " ('> leaves', 8),\n",
       " ('good ally', 8),\n",
       " ('dermatological diseases', 8),\n",
       " ('insect repellentrecommendations', 8),\n",
       " ('leaf extract', 8),\n",
       " ('terebinthifolius extract', 8),\n",
       " ('best results', 8),\n",
       " ('larger less kits', 8),\n",
       " ('70 aut', 8),\n",
       " ('04366924we assembly art', 8),\n",
       " ('logocorporate toastyour company', 8),\n",
       " ('aromas order', 8),\n",
       " ('pet bottle', 8),\n",
       " ('alcohol gel - height', 8),\n",
       " ('* label waterproof photo paper', 8),\n",
       " ('3 business days-', 8),\n",
       " ('finish- simple assembly', 8),\n",
       " ('illustration purposes', 8),\n",
       " ('12 noon', 8),\n",
       " ('7 calendar days', 8),\n",
       " ('intense cleaning system', 8),\n",
       " ('himalayan salt', 8),\n",
       " ('daily hydration', 7),\n",
       " ('round pleatedrich', 7),\n",
       " ('maximum hydration', 7),\n",
       " ('brazilian flora', 7),\n",
       " ('antiseptic properties', 7),\n",
       " ('petroleum products', 7),\n",
       " ('special care', 7),\n",
       " ('5 bar soaps', 7),\n",
       " ('soft delicious fragrance', 7),\n",
       " ('delicious creamy foam', 7),\n",
       " ('50 g', 7),\n",
       " ('sebum production', 7),\n",
       " ('chemical components', 7),\n",
       " ('bacteriaexclusive formula', 7),\n",
       " ('emollient soothing action', 7),\n",
       " ('order confirmation-', 7),\n",
       " ('large variety', 7),\n",
       " ('100% original products- long expiry', 7),\n",
       " ('free radicals', 7),\n",
       " ('delicate protective layer', 7),\n",
       " ('benefits:• natura ekos bar soaps', 7),\n",
       " ('chestnut oil', 7),\n",
       " ('antioxidant action', 7),\n",
       " ('dark spots', 7),\n",
       " ('creamy formula', 7),\n",
       " ('daily invitation', 7),\n",
       " ('benefits:• ultra', 7),\n",
       " ('soft feeling', 7),\n",
       " ('skin;• ideal', 7),\n",
       " ('cinnamyl alcohol', 7),\n",
       " ('organic natural ingredients', 7),\n",
       " ('medical attention', 7),\n",
       " ('.. store', 7),\n",
       " ('natural moisturizer', 7),\n",
       " ('pentaerythrityl tetra-di-t-butyl hydroxyhydrocinnamate', 7),\n",
       " ('oil production', 7),\n",
       " ('6 7 cm', 7),\n",
       " ('3 cm', 7),\n",
       " ('vitamin e.', 7),\n",
       " ('natural beauty', 7),\n",
       " ('dermatologically tested formula', 7),\n",
       " ('balanced ph•', 7),\n",
       " ('sodium soyate', 7),\n",
       " ('organic productsblack', 7),\n",
       " ('smooth creamy foam', 7),\n",
       " ('desired region', 7),\n",
       " ('purified drops', 7),\n",
       " ('formaldehyde releasers', 7),\n",
       " ('animal products', 7),\n",
       " ('lighten spots', 7),\n",
       " ('purest goat milk', 7),\n",
       " ('balanced raw materials', 7),\n",
       " ('whose combination', 7),\n",
       " ('excellent humectant', 7),\n",
       " ('.. - dermatologically tested...... instructions', 7),\n",
       " ('high concentration eucalyptus essence', 7),\n",
       " ('formula aloe vera extract', 7),\n",
       " ('soothing healing effect', 7),\n",
       " ('aloe barbadensis leaf extract', 7),\n",
       " ('\"buy now\" button', 7),\n",
       " ('charcoal powder', 7),\n",
       " ('elaeis guineensis oil', 7),\n",
       " ('natura express mais de 15 anos de experiência como consultor natura', 7),\n",
       " ('temos um vasto número de produtos', 7),\n",
       " ('pronta entregue', 7),\n",
       " ('que nos permite oferecê-los', 7),\n",
       " ('produtos originais', 7),\n",
       " ('faça-nos uma pergunta', 7),\n",
       " ('sua disposição', 7),\n",
       " ('seu dia', 7),\n",
       " ('proporcionando uma', 7),\n",
       " ('preço e distância', 7),\n",
       " ('post office', 7),\n",
       " ('eye area', 7),\n",
       " ('folliculitis;- exfoliation', 7),\n",
       " ('face skin;- decrease', 7),\n",
       " ('inflammation;- treatment', 7),\n",
       " ('pimples;- cleans deeply;doubts:1', 7),\n",
       " ('anti-inflammatory antibacterial properties', 7),\n",
       " ('poor effect', 7),\n",
       " ('infant phase', 7),\n",
       " ('protection...... indication', 7),\n",
       " ('medium / low oiliness', 7),\n",
       " ('3 bar soaps', 7),\n",
       " (\"baby's body\", 7),\n",
       " ('100% vegan', 7),\n",
       " ('cruelty-free.. 80g', 7),\n",
       " ('natural actives', 7),\n",
       " ('wide range', 7),\n",
       " ('10 years', 7),\n",
       " ('characteristicsdelicate composition', 7),\n",
       " ('delicate composition', 7),\n",
       " ('worldfixing fragrances', 7),\n",
       " ('whose oils', 7),\n",
       " ('scented handkerchiefs', 7),\n",
       " ('argila verde', 7),\n",
       " ('disodium edta', 7),\n",
       " ('descriptionboticollection perfumed soaps', 7),\n",
       " ('__copaiba oil cleans', 7),\n",
       " ('sodium palmitate', 6),\n",
       " ('alpha-isomethyl ionone', 6),\n",
       " ('intimate region', 6),\n",
       " ('white paste;weight', 6),\n",
       " ('20 grams;packaging', 6),\n",
       " ('amino acids', 6),\n",
       " ('- reduces', 6),\n",
       " ('kit w / 09 boxes', 6),\n",
       " ('many others', 6),\n",
       " ('every day', 6),\n",
       " ('floral fragrance', 6),\n",
       " ('industrial processes', 6),\n",
       " ('5 soaps', 6),\n",
       " ('pink mango', 6),\n",
       " ('much health cost', 6),\n",
       " (\"lianda natural's soaps\", 6),\n",
       " ('beneficial natural components', 6),\n",
       " (', d', 6),\n",
       " ('normal mixed skins', 6),\n",
       " ('daily facial cleanser', 6),\n",
       " ('new woody fragrance', 6),\n",
       " ('casa de perfumaria', 6),\n",
       " ('pore size', 6),\n",
       " ('questions pharmaceutical', 6),\n",
       " ('moisturizing agent', 6),\n",
       " (\"skin's protective layer\", 6),\n",
       " ('almond oil', 6),\n",
       " ('giovanna baby', 6),\n",
       " ('important representatives', 6),\n",
       " ('brazilian palm trees', 6),\n",
       " ('amazon rainforest', 6),\n",
       " ('sustainable management', 6),\n",
       " ('immune system', 6),\n",
       " ('high foaming', 6),\n",
       " ('ecological kraft paper', 6),\n",
       " ('- minimum weight', 6),\n",
       " ('120g- brand', 6),\n",
       " ('running water', 6),\n",
       " ('scented bath', 6),\n",
       " ('striking personality', 6),\n",
       " ('special sophisticated moment', 6),\n",
       " ('safe men', 6),\n",
       " ('dark groins', 6),\n",
       " ('facial beautification', 6),\n",
       " ('action.. - whitening action', 6),\n",
       " ('wet palms', 6),\n",
       " ('composition:- acqua', 6),\n",
       " ('aloe barbadenis extract', 6),\n",
       " ('corn starch', 6),\n",
       " ('sodium tallowate / sodium palm kernelate / glycerin / sodium chloride / sodium hydroxide / tetrasodium edta / etidronic acid',\n",
       "  6),\n",
       " ('excessive oiliness', 6),\n",
       " ('epithelial cells', 6),\n",
       " ('deeply cleanses', 6),\n",
       " ('various types', 6),\n",
       " (\"giovanna baby's delicious fragrance\", 6),\n",
       " ('chamomile lemongrass extracts', 6),\n",
       " ('organic extracts', 6),\n",
       " ('natural chamomile', 6),\n",
       " ('organic natural raw materials', 6),\n",
       " ('unnecessary chemicals', 6),\n",
       " ('lemongrass extracts', 6),\n",
       " ('jojoba microspheres', 6),\n",
       " ('special size', 6),\n",
       " ('antiseptic potential', 6),\n",
       " (\"johnson's soaps\", 6),\n",
       " ('...... important claims', 6),\n",
       " ('100% natural ingredients', 6),\n",
       " ('even sensitive ones', 6),\n",
       " ('desired area', 6),\n",
       " ('comfortable fragrance', 6),\n",
       " ('pleasant cleaning', 6),\n",
       " ('refreshing astringent agents', 6),\n",
       " ('refreshing feeling', 6),\n",
       " ('3 boxes', 6),\n",
       " ('fatty acids', 6),\n",
       " ('clean super smelling skincode', 6),\n",
       " ('natural ingredient', 6),\n",
       " ('brands natura', 6),\n",
       " ('large stock', 6),\n",
       " ('immediate shipping, new, original sealed products', 6),\n",
       " ('free samples', 6),\n",
       " ('1 ml', 6),\n",
       " (\"brand's products\", 6),\n",
       " ('various fragrances', 6),\n",
       " ('1pro moisturizes', 6),\n",
       " ('great cleaning power', 6),\n",
       " ('astringent action', 6),\n",
       " ('sodium babassuate *, sodium palmitate', 6),\n",
       " ('animal fat', 6),\n",
       " ('90g eachfirst fragrance', 6),\n",
       " ('unique striking fragrances', 6),\n",
       " ('aqua (water', 6),\n",
       " (', c.i.. 42090 (blue1), c.i', 6),\n",
       " ('tea tree', 6),\n",
       " ('milk proteins', 6),\n",
       " ('belo horizonte', 6),\n",
       " ('sabão da costa', 6),\n",
       " ('4 cetaphil', 6),\n",
       " ('sodium sulfate', 6),\n",
       " ('2 working days', 6),\n",
       " ('natural oils', 6),\n",
       " ('previously moistened area', 6),\n",
       " ('este anúncio contém', 6),\n",
       " ('life line', 6),\n",
       " ('modo de usar', 6),\n",
       " ('link de ofertas', 6),\n",
       " ('aplique sobre', 6),\n",
       " ('descriçãoo vendedor', 6),\n",
       " ('não inseriu', 6),\n",
       " ('sinta seu corpo', 6),\n",
       " ('combinação de ingredientes', 6),\n",
       " ('uma fórmula gentil que limpa delicadamente mantendo', 6),\n",
       " ('limpeza gentil', 6),\n",
       " ('não resseca', 6),\n",
       " ('hidratação natural da pele;• 98% ingredientes naturais', 6),\n",
       " ('maior afinidade', 6),\n",
       " ('sua pele;• espuma cremosa', 6),\n",
       " ('banho revigorante e deliciosa sensação de maciez;• explosão de fragrância: transforma',\n",
       "  6),\n",
       " ('link para kit', 6),\n",
       " ('c/04 caixas', 6),\n",
       " ('caixas;https://produto.mercadolivre.com.br/mlb-1502901260-kit-6-cx-sabonete-barra-tododia-_jm?quantity=1link para kit',\n",
       "  6),\n",
       " ('c/15 caixas', 6),\n",
       " ('nutrient ingredient', 6),\n",
       " ('.. pode', 6),\n",
       " ('ser utilizado diariamente', 6),\n",
       " ('uso externo', 6),\n",
       " ('pele úmida', 6),\n",
       " ('caso queira', 6),\n",
       " ('outro formato e quantidade', 6),\n",
       " ('twice day', 6),\n",
       " ('6 granado soaps', 6),\n",
       " ('passion fruit bar', 6),\n",
       " ('features - organicskin types', 6),\n",
       " ('coalremoves impurities', 6),\n",
       " ('outreduces oiliness', 6),\n",
       " ('sodium carbonete', 6),\n",
       " ('addictive smell', 6),\n",
       " ('sweet enveloping fragrance', 6),\n",
       " ('warm embrace', 6),\n",
       " ('gourmand fragrance', 6),\n",
       " ('black clay', 6),\n",
       " ('descriptionthe flor de ype soaps', 6),\n",
       " ('nursing homes', 6),\n",
       " ('lianda naturalvalid', 6),\n",
       " ('freight cost', 6),\n",
       " ('.. rinse', 6),\n",
       " ('pentaerythrityltetra-di-t-butyl hydroxyhydrocinnamate', 6),\n",
       " ('todo o corpo', 6),\n",
       " ('pure goat milk', 6),\n",
       " ('hydroquinone cream', 6),\n",
       " ('juá powder', 6),\n",
       " ('typical tree', 6),\n",
       " ('natural detergent action', 6),\n",
       " ('cosmetics hygiene products', 6),\n",
       " ('skincombats spots', 6),\n",
       " ('nivea silk mousse rhubarb raspberry', 6),\n",
       " ('ethidronic acid', 6),\n",
       " ('sodium oleate', 5),\n",
       " ('barbatimão extractindication', 5),\n",
       " ('facial hygienehow', 5),\n",
       " ('additional cost', 5),\n",
       " ('main card brands', 5),\n",
       " ('facial hygiene', 5),\n",
       " ('vegan line', 5),\n",
       " ('solid shampoos', 5),\n",
       " ('natural shine', 5),\n",
       " ('collection box', 5),\n",
       " ('1 unit', 5),\n",
       " ('new line', 5),\n",
       " ('colored clays', 5),\n",
       " ('purple clay', 5),\n",
       " ('essential ingredient', 5),\n",
       " ('descriptiongreen clay', 5),\n",
       " ('moisturizing action', 5),\n",
       " ('gentle cleaning;•', 5),\n",
       " (\"fast farma's mission\", 5),\n",
       " ('products andin attendance', 5),\n",
       " ('regenerative powers', 5),\n",
       " ('unique blend', 5),\n",
       " ('natural firmness', 5),\n",
       " ('descriptionnatura ekos soaps', 5),\n",
       " ('sweet orange', 5),\n",
       " (', b', 5),\n",
       " ('melaleuca essential oil', 5),\n",
       " ('healthy cleansing', 5),\n",
       " (\"skin's nutrition\", 5),\n",
       " ('everyday external aggressions', 5),\n",
       " (\"skin's natural ph\", 5),\n",
       " ('prolonged soft perfume', 5),\n",
       " ('light soft formula', 5),\n",
       " ('sodium lauroil', 5),\n",
       " ('sodium sebate', 5),\n",
       " ('sodium isetionate', 5),\n",
       " ('sodium cocoate / sodium palm almond', 5),\n",
       " ('cinc oxide', 5),\n",
       " ('cinc oxide titanium', 5),\n",
       " ('tetrasodium etidronate', 5),\n",
       " ('methylpropional butylphenyl', 5),\n",
       " ('cinilic hexyl aldehyde', 5),\n",
       " ('original | sealed |', 5),\n",
       " ('superficial wounds', 5),\n",
       " ('high antiseptic potential', 5),\n",
       " ('health professionals;- cleaning', 5),\n",
       " ('pimples;- acne treatment', 5),\n",
       " ('natural defenses', 5),\n",
       " ('advanced formula', 5),\n",
       " ('abundant foam;•', 5),\n",
       " ('elegant aroma', 5),\n",
       " ('antimicrobial action', 5),\n",
       " ('sulfur maximum concentration', 5),\n",
       " ('excess oiliness;-', 5),\n",
       " ('irritation;- unclogs', 5),\n",
       " ('vegetable soaps', 5),\n",
       " ('- ingredients', 5),\n",
       " ('fat eye', 5),\n",
       " ('antibacterial protection', 5),\n",
       " ('small foam', 5),\n",
       " ('2 soaps', 5),\n",
       " ('e ajuda', 5),\n",
       " ('propolis extract', 5),\n",
       " ('2 cetaphil', 5),\n",
       " ('beauty cosmetics', 5),\n",
       " ('aut.. func', 5),\n",
       " ('healing properties', 5),\n",
       " (\"athlete's foot\", 5),\n",
       " ('nutri protect', 5),\n",
       " ('orange blossom', 5),\n",
       " ('protective layer', 5),\n",
       " ('characteristics• ibd', 5),\n",
       " ('calendula extract', 5),\n",
       " ('light exfoliation effect', 5),\n",
       " ('90 g kit', 5),\n",
       " ('african origin', 5),\n",
       " ('much fun', 5),\n",
       " ('1 tablespoon', 5),\n",
       " ('traditional saunas', 5),\n",
       " ('clay container', 5),\n",
       " ('sheltered corner', 5),\n",
       " ('.. - residential saunas', 5),\n",
       " ('10 15 drops', 5),\n",
       " ('sauna vaporizer', 5),\n",
       " ('combustible liquid', 5),\n",
       " ('compositionssodium stearate', 5),\n",
       " ('component triclosano', 5),\n",
       " ('descriptionthe asepxia brand', 5),\n",
       " ('ideal products', 5),\n",
       " ('animal, artificial paraben ingredients', 5),\n",
       " ('consult freight', 5),\n",
       " ('commemorative dates', 5),\n",
       " (\"father's day\", 5),\n",
       " ('soft touch', 5),\n",
       " ('transparent base', 5),\n",
       " ('translucent soaps', 5),\n",
       " ('transparent v&g glycerin', 5),\n",
       " ('germicidal action', 5),\n",
       " ('v&g white glycerin', 5),\n",
       " ('paraffin...... composition', 5),\n",
       " ('| original | sealed |', 5),\n",
       " ('horse chestnut', 5),\n",
       " (', extracts', 5),\n",
       " ('marigold aloe vera', 5),\n",
       " ('refreshing hygiene', 5),\n",
       " ('complete line', 5),\n",
       " ('c/09 caixas', 5),\n",
       " ('https://produto.mercadolivre.com.br/mlb-1502900155-kit-15cx-sabonete-barra-tododia-_jm?quantity=1link para kit c/20 caixas',\n",
       "  5),\n",
       " ('nossa loja oficial', 5),\n",
       " ('light excessive heat', 5),\n",
       " ('macia e sedosa', 5),\n",
       " ('manter fora', 5),\n",
       " ('pele molhada fazendo movimentos circulares', 5),\n",
       " ('baththis announcement', 5),\n",
       " ('antiseptic antiseborrheic properties', 5),\n",
       " ('2 (two) natural soaps giorno bagnofragrances', 5),\n",
       " ('9 cm', 5),\n",
       " ('x 3 cm', 5),\n",
       " ('24 unitseach unit', 5),\n",
       " ('excessive oil', 5),\n",
       " ('lilium candidum flower extract', 5),\n",
       " ('animal testing', 5),\n",
       " ('lotus flower', 5),\n",
       " ('15g ubonnote', 5),\n",
       " ('15g__________________________________soap ubon cinnamon', 5),\n",
       " ('easy task', 5),\n",
       " ('several dermatologists', 5),\n",
       " ('uterine infections', 5),\n",
       " ('antioxidant...... composition', 5),\n",
       " ('terebinthifolius leaf', 5),\n",
       " ('functional trace elements', 5),\n",
       " ('clay therapy', 5),\n",
       " ('renewing energy', 5),\n",
       " ('beauty style', 5),\n",
       " ('dove brand', 5),\n",
       " ('hygiene beauty products', 5),\n",
       " ('genuine difference', 5),\n",
       " ('direct association', 5),\n",
       " ('\\u200b\\u200bhydration, dove', 5),\n",
       " ('broader concept', 5),\n",
       " ('complete brand', 5),\n",
       " ('new variants', 5),\n",
       " ('fundamental role', 5),\n",
       " (\"consumer's perception\", 5),\n",
       " ('daily hair treatment', 5),\n",
       " ('special features', 5),\n",
       " ('armpit care', 5),\n",
       " ('bath cream', 5),\n",
       " ('mild fragrance', 5),\n",
       " ('greater hydration', 5),\n",
       " ('murumuru butter', 5),\n",
       " ('são bernardo', 5),\n",
       " ('excess impurity', 5),\n",
       " ('storage instructions', 5),\n",
       " ('100% vegetable v&gv', 5),\n",
       " ('100% vegetable glycerin', 5),\n",
       " ('minimal retraction', 5),\n",
       " ('handmade soapsglycerin v&g 100% vegetal', 5),\n",
       " ('sodium palm kernel vegetable glycerin', 5),\n",
       " ('another round bottle model', 5),\n",
       " ('final price', 5),\n",
       " ('lemongrass extract', 5),\n",
       " ('excessive heat', 5),\n",
       " ('3 soaps', 5),\n",
       " ('descriçãokit sabonete', 5),\n",
       " ('descriptionbath foam', 5),\n",
       " ('innovative texture', 5),\n",
       " ('fragance:-mangnolia lichia.. - orange flower', 5),\n",
       " ('cedar.. -lavanda', 5),\n",
       " ('brazilian fresh waters', 5),\n",
       " ('descriptionthe kit', 5),\n",
       " ('main components', 5),\n",
       " ('active emollients glycerin', 5),\n",
       " ('...... ingredients', 5),\n",
       " ('sodium seboate', 5),\n",
       " ('parfum fragrance', 5),\n",
       " ('action;antibacterial action;cleans skin;pleasant aroma;astringent action;takes care',\n",
       "  5),\n",
       " ('dove products', 4),\n",
       " ('descriptionsoap 13 gr hotel motel pousada fragrância erva docebox', 4),\n",
       " ('03 pots', 4),\n",
       " ('copaíba oil', 4),\n",
       " ('astringent, antiseptic anti-inflammatory action', 4),\n",
       " ('native herb', 4),\n",
       " ('brazilian savannahs', 4),\n",
       " ('wound healing', 4),\n",
       " ('numerous benefits', 4),\n",
       " ('intimate hygiene', 4),\n",
       " ('bad odor', 4),\n",
       " ('/ ms-2.05298.0re-anvs-343/05', 4),\n",
       " ('mild cleaning agents', 4),\n",
       " ('safe cleaning', 4),\n",
       " ('content:20 boxes', 4),\n",
       " ('vegan formula', 4),\n",
       " ('first bath', 4),\n",
       " (\"baby's sensitive skin;• fewer ingredients\", 4),\n",
       " ('smooth safe scent;•', 4),\n",
       " ('ecologically sustainability', 4),\n",
       " ('descriptionskin care', 4),\n",
       " ('light fresh floral fragrance', 4),\n",
       " ('purest note', 4),\n",
       " (\"baby's hair\", 4),\n",
       " ('hydrafloral oils', 4),\n",
       " ('high hydration power', 4),\n",
       " ('exclusive long-lasting nutritional combination', 4),\n",
       " ('charming fragrance', 4),\n",
       " ...]"
      ]
     },
     "execution_count": 275,
     "metadata": {},
     "output_type": "execute_result"
    }
   ],
   "source": [
    "sort_list"
   ]
  },
  {
   "cell_type": "code",
   "execution_count": 276,
   "metadata": {},
   "outputs": [
    {
     "data": {
      "application/vnd.plotly.v1+json": {
       "config": {
        "plotlyServerURL": "https://plot.ly"
       },
       "data": [
        {
         "marker": {
          "size": [
           67,
           64.5,
           52,
           50.5,
           47.5,
           44,
           43.5,
           40.5,
           37,
           35
          ]
         },
         "mode": "markers",
         "type": "scatter",
         "x": [
          0,
          1,
          2,
          3,
          4,
          5,
          6,
          7,
          8,
          9
         ],
         "y": [
          134,
          129,
          104,
          101,
          95,
          88,
          87,
          81,
          74,
          70
         ]
        }
       ],
       "layout": {
        "annotations": [
         {
          "showarrow": false,
          "text": "creamy foam",
          "x": 0,
          "xanchor": "center",
          "y": 134,
          "yanchor": "bottom"
         },
         {
          "showarrow": false,
          "text": "sodium hydroxide",
          "x": 1,
          "xanchor": "center",
          "y": 129,
          "yanchor": "top"
         },
         {
          "showarrow": false,
          "text": "sodium chloride",
          "x": 2,
          "xanchor": "center",
          "y": 104,
          "yanchor": "bottom"
         },
         {
          "showarrow": false,
          "text": "etidronic acid",
          "x": 3,
          "xanchor": "center",
          "y": 101,
          "yanchor": "top"
         },
         {
          "showarrow": false,
          "text": "natura express",
          "x": 4,
          "xanchor": "center",
          "y": 95,
          "yanchor": "bottom"
         },
         {
          "showarrow": false,
          "text": "titanium dioxide",
          "x": 5,
          "xanchor": "center",
          "y": 88,
          "yanchor": "top"
         },
         {
          "showarrow": false,
          "text": "sodium palmate",
          "x": 6,
          "xanchor": "center",
          "y": 87,
          "yanchor": "bottom"
         },
         {
          "showarrow": false,
          "text": "sodium palm kernelate",
          "x": 7,
          "xanchor": "center",
          "y": 81,
          "yanchor": "top"
         },
         {
          "showarrow": false,
          "text": "pleasant sensation",
          "x": 8,
          "xanchor": "center",
          "y": 74,
          "yanchor": "bottom"
         },
         {
          "showarrow": false,
          "text": "sodium stearate",
          "x": 9,
          "xanchor": "center",
          "y": 70,
          "yanchor": "top"
         }
        ],
        "template": {
         "data": {
          "bar": [
           {
            "error_x": {
             "color": "#2a3f5f"
            },
            "error_y": {
             "color": "#2a3f5f"
            },
            "marker": {
             "line": {
              "color": "#E5ECF6",
              "width": 0.5
             }
            },
            "type": "bar"
           }
          ],
          "barpolar": [
           {
            "marker": {
             "line": {
              "color": "#E5ECF6",
              "width": 0.5
             }
            },
            "type": "barpolar"
           }
          ],
          "carpet": [
           {
            "aaxis": {
             "endlinecolor": "#2a3f5f",
             "gridcolor": "white",
             "linecolor": "white",
             "minorgridcolor": "white",
             "startlinecolor": "#2a3f5f"
            },
            "baxis": {
             "endlinecolor": "#2a3f5f",
             "gridcolor": "white",
             "linecolor": "white",
             "minorgridcolor": "white",
             "startlinecolor": "#2a3f5f"
            },
            "type": "carpet"
           }
          ],
          "choropleth": [
           {
            "colorbar": {
             "outlinewidth": 0,
             "ticks": ""
            },
            "type": "choropleth"
           }
          ],
          "contour": [
           {
            "colorbar": {
             "outlinewidth": 0,
             "ticks": ""
            },
            "colorscale": [
             [
              0,
              "#0d0887"
             ],
             [
              0.1111111111111111,
              "#46039f"
             ],
             [
              0.2222222222222222,
              "#7201a8"
             ],
             [
              0.3333333333333333,
              "#9c179e"
             ],
             [
              0.4444444444444444,
              "#bd3786"
             ],
             [
              0.5555555555555556,
              "#d8576b"
             ],
             [
              0.6666666666666666,
              "#ed7953"
             ],
             [
              0.7777777777777778,
              "#fb9f3a"
             ],
             [
              0.8888888888888888,
              "#fdca26"
             ],
             [
              1,
              "#f0f921"
             ]
            ],
            "type": "contour"
           }
          ],
          "contourcarpet": [
           {
            "colorbar": {
             "outlinewidth": 0,
             "ticks": ""
            },
            "type": "contourcarpet"
           }
          ],
          "heatmap": [
           {
            "colorbar": {
             "outlinewidth": 0,
             "ticks": ""
            },
            "colorscale": [
             [
              0,
              "#0d0887"
             ],
             [
              0.1111111111111111,
              "#46039f"
             ],
             [
              0.2222222222222222,
              "#7201a8"
             ],
             [
              0.3333333333333333,
              "#9c179e"
             ],
             [
              0.4444444444444444,
              "#bd3786"
             ],
             [
              0.5555555555555556,
              "#d8576b"
             ],
             [
              0.6666666666666666,
              "#ed7953"
             ],
             [
              0.7777777777777778,
              "#fb9f3a"
             ],
             [
              0.8888888888888888,
              "#fdca26"
             ],
             [
              1,
              "#f0f921"
             ]
            ],
            "type": "heatmap"
           }
          ],
          "heatmapgl": [
           {
            "colorbar": {
             "outlinewidth": 0,
             "ticks": ""
            },
            "colorscale": [
             [
              0,
              "#0d0887"
             ],
             [
              0.1111111111111111,
              "#46039f"
             ],
             [
              0.2222222222222222,
              "#7201a8"
             ],
             [
              0.3333333333333333,
              "#9c179e"
             ],
             [
              0.4444444444444444,
              "#bd3786"
             ],
             [
              0.5555555555555556,
              "#d8576b"
             ],
             [
              0.6666666666666666,
              "#ed7953"
             ],
             [
              0.7777777777777778,
              "#fb9f3a"
             ],
             [
              0.8888888888888888,
              "#fdca26"
             ],
             [
              1,
              "#f0f921"
             ]
            ],
            "type": "heatmapgl"
           }
          ],
          "histogram": [
           {
            "marker": {
             "colorbar": {
              "outlinewidth": 0,
              "ticks": ""
             }
            },
            "type": "histogram"
           }
          ],
          "histogram2d": [
           {
            "colorbar": {
             "outlinewidth": 0,
             "ticks": ""
            },
            "colorscale": [
             [
              0,
              "#0d0887"
             ],
             [
              0.1111111111111111,
              "#46039f"
             ],
             [
              0.2222222222222222,
              "#7201a8"
             ],
             [
              0.3333333333333333,
              "#9c179e"
             ],
             [
              0.4444444444444444,
              "#bd3786"
             ],
             [
              0.5555555555555556,
              "#d8576b"
             ],
             [
              0.6666666666666666,
              "#ed7953"
             ],
             [
              0.7777777777777778,
              "#fb9f3a"
             ],
             [
              0.8888888888888888,
              "#fdca26"
             ],
             [
              1,
              "#f0f921"
             ]
            ],
            "type": "histogram2d"
           }
          ],
          "histogram2dcontour": [
           {
            "colorbar": {
             "outlinewidth": 0,
             "ticks": ""
            },
            "colorscale": [
             [
              0,
              "#0d0887"
             ],
             [
              0.1111111111111111,
              "#46039f"
             ],
             [
              0.2222222222222222,
              "#7201a8"
             ],
             [
              0.3333333333333333,
              "#9c179e"
             ],
             [
              0.4444444444444444,
              "#bd3786"
             ],
             [
              0.5555555555555556,
              "#d8576b"
             ],
             [
              0.6666666666666666,
              "#ed7953"
             ],
             [
              0.7777777777777778,
              "#fb9f3a"
             ],
             [
              0.8888888888888888,
              "#fdca26"
             ],
             [
              1,
              "#f0f921"
             ]
            ],
            "type": "histogram2dcontour"
           }
          ],
          "mesh3d": [
           {
            "colorbar": {
             "outlinewidth": 0,
             "ticks": ""
            },
            "type": "mesh3d"
           }
          ],
          "parcoords": [
           {
            "line": {
             "colorbar": {
              "outlinewidth": 0,
              "ticks": ""
             }
            },
            "type": "parcoords"
           }
          ],
          "pie": [
           {
            "automargin": true,
            "type": "pie"
           }
          ],
          "scatter": [
           {
            "marker": {
             "colorbar": {
              "outlinewidth": 0,
              "ticks": ""
             }
            },
            "type": "scatter"
           }
          ],
          "scatter3d": [
           {
            "line": {
             "colorbar": {
              "outlinewidth": 0,
              "ticks": ""
             }
            },
            "marker": {
             "colorbar": {
              "outlinewidth": 0,
              "ticks": ""
             }
            },
            "type": "scatter3d"
           }
          ],
          "scattercarpet": [
           {
            "marker": {
             "colorbar": {
              "outlinewidth": 0,
              "ticks": ""
             }
            },
            "type": "scattercarpet"
           }
          ],
          "scattergeo": [
           {
            "marker": {
             "colorbar": {
              "outlinewidth": 0,
              "ticks": ""
             }
            },
            "type": "scattergeo"
           }
          ],
          "scattergl": [
           {
            "marker": {
             "colorbar": {
              "outlinewidth": 0,
              "ticks": ""
             }
            },
            "type": "scattergl"
           }
          ],
          "scattermapbox": [
           {
            "marker": {
             "colorbar": {
              "outlinewidth": 0,
              "ticks": ""
             }
            },
            "type": "scattermapbox"
           }
          ],
          "scatterpolar": [
           {
            "marker": {
             "colorbar": {
              "outlinewidth": 0,
              "ticks": ""
             }
            },
            "type": "scatterpolar"
           }
          ],
          "scatterpolargl": [
           {
            "marker": {
             "colorbar": {
              "outlinewidth": 0,
              "ticks": ""
             }
            },
            "type": "scatterpolargl"
           }
          ],
          "scatterternary": [
           {
            "marker": {
             "colorbar": {
              "outlinewidth": 0,
              "ticks": ""
             }
            },
            "type": "scatterternary"
           }
          ],
          "surface": [
           {
            "colorbar": {
             "outlinewidth": 0,
             "ticks": ""
            },
            "colorscale": [
             [
              0,
              "#0d0887"
             ],
             [
              0.1111111111111111,
              "#46039f"
             ],
             [
              0.2222222222222222,
              "#7201a8"
             ],
             [
              0.3333333333333333,
              "#9c179e"
             ],
             [
              0.4444444444444444,
              "#bd3786"
             ],
             [
              0.5555555555555556,
              "#d8576b"
             ],
             [
              0.6666666666666666,
              "#ed7953"
             ],
             [
              0.7777777777777778,
              "#fb9f3a"
             ],
             [
              0.8888888888888888,
              "#fdca26"
             ],
             [
              1,
              "#f0f921"
             ]
            ],
            "type": "surface"
           }
          ],
          "table": [
           {
            "cells": {
             "fill": {
              "color": "#EBF0F8"
             },
             "line": {
              "color": "white"
             }
            },
            "header": {
             "fill": {
              "color": "#C8D4E3"
             },
             "line": {
              "color": "white"
             }
            },
            "type": "table"
           }
          ]
         },
         "layout": {
          "annotationdefaults": {
           "arrowcolor": "#2a3f5f",
           "arrowhead": 0,
           "arrowwidth": 1
          },
          "coloraxis": {
           "colorbar": {
            "outlinewidth": 0,
            "ticks": ""
           }
          },
          "colorscale": {
           "diverging": [
            [
             0,
             "#8e0152"
            ],
            [
             0.1,
             "#c51b7d"
            ],
            [
             0.2,
             "#de77ae"
            ],
            [
             0.3,
             "#f1b6da"
            ],
            [
             0.4,
             "#fde0ef"
            ],
            [
             0.5,
             "#f7f7f7"
            ],
            [
             0.6,
             "#e6f5d0"
            ],
            [
             0.7,
             "#b8e186"
            ],
            [
             0.8,
             "#7fbc41"
            ],
            [
             0.9,
             "#4d9221"
            ],
            [
             1,
             "#276419"
            ]
           ],
           "sequential": [
            [
             0,
             "#0d0887"
            ],
            [
             0.1111111111111111,
             "#46039f"
            ],
            [
             0.2222222222222222,
             "#7201a8"
            ],
            [
             0.3333333333333333,
             "#9c179e"
            ],
            [
             0.4444444444444444,
             "#bd3786"
            ],
            [
             0.5555555555555556,
             "#d8576b"
            ],
            [
             0.6666666666666666,
             "#ed7953"
            ],
            [
             0.7777777777777778,
             "#fb9f3a"
            ],
            [
             0.8888888888888888,
             "#fdca26"
            ],
            [
             1,
             "#f0f921"
            ]
           ],
           "sequentialminus": [
            [
             0,
             "#0d0887"
            ],
            [
             0.1111111111111111,
             "#46039f"
            ],
            [
             0.2222222222222222,
             "#7201a8"
            ],
            [
             0.3333333333333333,
             "#9c179e"
            ],
            [
             0.4444444444444444,
             "#bd3786"
            ],
            [
             0.5555555555555556,
             "#d8576b"
            ],
            [
             0.6666666666666666,
             "#ed7953"
            ],
            [
             0.7777777777777778,
             "#fb9f3a"
            ],
            [
             0.8888888888888888,
             "#fdca26"
            ],
            [
             1,
             "#f0f921"
            ]
           ]
          },
          "colorway": [
           "#636efa",
           "#EF553B",
           "#00cc96",
           "#ab63fa",
           "#FFA15A",
           "#19d3f3",
           "#FF6692",
           "#B6E880",
           "#FF97FF",
           "#FECB52"
          ],
          "font": {
           "color": "#2a3f5f"
          },
          "geo": {
           "bgcolor": "white",
           "lakecolor": "white",
           "landcolor": "#E5ECF6",
           "showlakes": true,
           "showland": true,
           "subunitcolor": "white"
          },
          "hoverlabel": {
           "align": "left"
          },
          "hovermode": "closest",
          "mapbox": {
           "style": "light"
          },
          "paper_bgcolor": "white",
          "plot_bgcolor": "#E5ECF6",
          "polar": {
           "angularaxis": {
            "gridcolor": "white",
            "linecolor": "white",
            "ticks": ""
           },
           "bgcolor": "#E5ECF6",
           "radialaxis": {
            "gridcolor": "white",
            "linecolor": "white",
            "ticks": ""
           }
          },
          "scene": {
           "xaxis": {
            "backgroundcolor": "#E5ECF6",
            "gridcolor": "white",
            "gridwidth": 2,
            "linecolor": "white",
            "showbackground": true,
            "ticks": "",
            "zerolinecolor": "white"
           },
           "yaxis": {
            "backgroundcolor": "#E5ECF6",
            "gridcolor": "white",
            "gridwidth": 2,
            "linecolor": "white",
            "showbackground": true,
            "ticks": "",
            "zerolinecolor": "white"
           },
           "zaxis": {
            "backgroundcolor": "#E5ECF6",
            "gridcolor": "white",
            "gridwidth": 2,
            "linecolor": "white",
            "showbackground": true,
            "ticks": "",
            "zerolinecolor": "white"
           }
          },
          "shapedefaults": {
           "line": {
            "color": "#2a3f5f"
           }
          },
          "ternary": {
           "aaxis": {
            "gridcolor": "white",
            "linecolor": "white",
            "ticks": ""
           },
           "baxis": {
            "gridcolor": "white",
            "linecolor": "white",
            "ticks": ""
           },
           "bgcolor": "#E5ECF6",
           "caxis": {
            "gridcolor": "white",
            "linecolor": "white",
            "ticks": ""
           }
          },
          "title": {
           "x": 0.05
          },
          "xaxis": {
           "automargin": true,
           "gridcolor": "white",
           "linecolor": "white",
           "ticks": "",
           "title": {
            "standoff": 15
           },
           "zerolinecolor": "white",
           "zerolinewidth": 2
          },
          "yaxis": {
           "automargin": true,
           "gridcolor": "white",
           "linecolor": "white",
           "ticks": "",
           "title": {
            "standoff": 15
           },
           "zerolinecolor": "white",
           "zerolinewidth": 2
          }
         }
        }
       }
      },
      "text/html": [
       "<div>\n",
       "        \n",
       "        \n",
       "            <div id=\"cfaa8676-85f6-4fb4-a390-a3d6b074c64c\" class=\"plotly-graph-div\" style=\"height:525px; width:100%;\"></div>\n",
       "            <script type=\"text/javascript\">\n",
       "                require([\"plotly\"], function(Plotly) {\n",
       "                    window.PLOTLYENV=window.PLOTLYENV || {};\n",
       "                    \n",
       "                if (document.getElementById(\"cfaa8676-85f6-4fb4-a390-a3d6b074c64c\")) {\n",
       "                    Plotly.newPlot(\n",
       "                        'cfaa8676-85f6-4fb4-a390-a3d6b074c64c',\n",
       "                        [{\"marker\": {\"size\": [67.0, 64.5, 52.0, 50.5, 47.5, 44.0, 43.5, 40.5, 37.0, 35.0]}, \"mode\": \"markers\", \"type\": \"scatter\", \"x\": [0, 1, 2, 3, 4, 5, 6, 7, 8, 9], \"y\": [134, 129, 104, 101, 95, 88, 87, 81, 74, 70]}],\n",
       "                        {\"annotations\": [{\"showarrow\": false, \"text\": \"creamy foam\", \"x\": 0, \"xanchor\": \"center\", \"y\": 134, \"yanchor\": \"bottom\"}, {\"showarrow\": false, \"text\": \"sodium hydroxide\", \"x\": 1, \"xanchor\": \"center\", \"y\": 129, \"yanchor\": \"top\"}, {\"showarrow\": false, \"text\": \"sodium chloride\", \"x\": 2, \"xanchor\": \"center\", \"y\": 104, \"yanchor\": \"bottom\"}, {\"showarrow\": false, \"text\": \"etidronic acid\", \"x\": 3, \"xanchor\": \"center\", \"y\": 101, \"yanchor\": \"top\"}, {\"showarrow\": false, \"text\": \"natura express\", \"x\": 4, \"xanchor\": \"center\", \"y\": 95, \"yanchor\": \"bottom\"}, {\"showarrow\": false, \"text\": \"titanium dioxide\", \"x\": 5, \"xanchor\": \"center\", \"y\": 88, \"yanchor\": \"top\"}, {\"showarrow\": false, \"text\": \"sodium palmate\", \"x\": 6, \"xanchor\": \"center\", \"y\": 87, \"yanchor\": \"bottom\"}, {\"showarrow\": false, \"text\": \"sodium palm kernelate\", \"x\": 7, \"xanchor\": \"center\", \"y\": 81, \"yanchor\": \"top\"}, {\"showarrow\": false, \"text\": \"pleasant sensation\", \"x\": 8, \"xanchor\": \"center\", \"y\": 74, \"yanchor\": \"bottom\"}, {\"showarrow\": false, \"text\": \"sodium stearate\", \"x\": 9, \"xanchor\": \"center\", \"y\": 70, \"yanchor\": \"top\"}], \"template\": {\"data\": {\"bar\": [{\"error_x\": {\"color\": \"#2a3f5f\"}, \"error_y\": {\"color\": \"#2a3f5f\"}, \"marker\": {\"line\": {\"color\": \"#E5ECF6\", \"width\": 0.5}}, \"type\": \"bar\"}], \"barpolar\": [{\"marker\": {\"line\": {\"color\": \"#E5ECF6\", \"width\": 0.5}}, \"type\": \"barpolar\"}], \"carpet\": [{\"aaxis\": {\"endlinecolor\": \"#2a3f5f\", \"gridcolor\": \"white\", \"linecolor\": \"white\", \"minorgridcolor\": \"white\", \"startlinecolor\": \"#2a3f5f\"}, \"baxis\": {\"endlinecolor\": \"#2a3f5f\", \"gridcolor\": \"white\", \"linecolor\": \"white\", \"minorgridcolor\": \"white\", \"startlinecolor\": \"#2a3f5f\"}, \"type\": \"carpet\"}], \"choropleth\": [{\"colorbar\": {\"outlinewidth\": 0, \"ticks\": \"\"}, \"type\": \"choropleth\"}], \"contour\": [{\"colorbar\": {\"outlinewidth\": 0, \"ticks\": \"\"}, \"colorscale\": [[0.0, \"#0d0887\"], [0.1111111111111111, \"#46039f\"], [0.2222222222222222, \"#7201a8\"], [0.3333333333333333, \"#9c179e\"], [0.4444444444444444, \"#bd3786\"], [0.5555555555555556, \"#d8576b\"], [0.6666666666666666, \"#ed7953\"], [0.7777777777777778, \"#fb9f3a\"], [0.8888888888888888, \"#fdca26\"], [1.0, \"#f0f921\"]], \"type\": \"contour\"}], \"contourcarpet\": [{\"colorbar\": {\"outlinewidth\": 0, \"ticks\": \"\"}, \"type\": \"contourcarpet\"}], \"heatmap\": [{\"colorbar\": {\"outlinewidth\": 0, \"ticks\": \"\"}, \"colorscale\": [[0.0, \"#0d0887\"], [0.1111111111111111, \"#46039f\"], [0.2222222222222222, \"#7201a8\"], [0.3333333333333333, \"#9c179e\"], [0.4444444444444444, \"#bd3786\"], [0.5555555555555556, \"#d8576b\"], [0.6666666666666666, \"#ed7953\"], [0.7777777777777778, \"#fb9f3a\"], [0.8888888888888888, \"#fdca26\"], [1.0, \"#f0f921\"]], \"type\": \"heatmap\"}], \"heatmapgl\": [{\"colorbar\": {\"outlinewidth\": 0, \"ticks\": \"\"}, \"colorscale\": [[0.0, \"#0d0887\"], [0.1111111111111111, \"#46039f\"], [0.2222222222222222, \"#7201a8\"], [0.3333333333333333, \"#9c179e\"], [0.4444444444444444, \"#bd3786\"], [0.5555555555555556, \"#d8576b\"], [0.6666666666666666, \"#ed7953\"], [0.7777777777777778, \"#fb9f3a\"], [0.8888888888888888, \"#fdca26\"], [1.0, \"#f0f921\"]], \"type\": \"heatmapgl\"}], \"histogram\": [{\"marker\": {\"colorbar\": {\"outlinewidth\": 0, \"ticks\": \"\"}}, \"type\": \"histogram\"}], \"histogram2d\": [{\"colorbar\": {\"outlinewidth\": 0, \"ticks\": \"\"}, \"colorscale\": [[0.0, \"#0d0887\"], [0.1111111111111111, \"#46039f\"], [0.2222222222222222, \"#7201a8\"], [0.3333333333333333, \"#9c179e\"], [0.4444444444444444, \"#bd3786\"], [0.5555555555555556, \"#d8576b\"], [0.6666666666666666, \"#ed7953\"], [0.7777777777777778, \"#fb9f3a\"], [0.8888888888888888, \"#fdca26\"], [1.0, \"#f0f921\"]], \"type\": \"histogram2d\"}], \"histogram2dcontour\": [{\"colorbar\": {\"outlinewidth\": 0, \"ticks\": \"\"}, \"colorscale\": [[0.0, \"#0d0887\"], [0.1111111111111111, \"#46039f\"], [0.2222222222222222, \"#7201a8\"], [0.3333333333333333, \"#9c179e\"], [0.4444444444444444, \"#bd3786\"], [0.5555555555555556, \"#d8576b\"], [0.6666666666666666, \"#ed7953\"], [0.7777777777777778, \"#fb9f3a\"], [0.8888888888888888, \"#fdca26\"], [1.0, \"#f0f921\"]], \"type\": \"histogram2dcontour\"}], \"mesh3d\": [{\"colorbar\": {\"outlinewidth\": 0, \"ticks\": \"\"}, \"type\": \"mesh3d\"}], \"parcoords\": [{\"line\": {\"colorbar\": {\"outlinewidth\": 0, \"ticks\": \"\"}}, \"type\": \"parcoords\"}], \"pie\": [{\"automargin\": true, \"type\": \"pie\"}], \"scatter\": [{\"marker\": {\"colorbar\": {\"outlinewidth\": 0, \"ticks\": \"\"}}, \"type\": \"scatter\"}], \"scatter3d\": [{\"line\": {\"colorbar\": {\"outlinewidth\": 0, \"ticks\": \"\"}}, \"marker\": {\"colorbar\": {\"outlinewidth\": 0, \"ticks\": \"\"}}, \"type\": \"scatter3d\"}], \"scattercarpet\": [{\"marker\": {\"colorbar\": {\"outlinewidth\": 0, \"ticks\": \"\"}}, \"type\": \"scattercarpet\"}], \"scattergeo\": [{\"marker\": {\"colorbar\": {\"outlinewidth\": 0, \"ticks\": \"\"}}, \"type\": \"scattergeo\"}], \"scattergl\": [{\"marker\": {\"colorbar\": {\"outlinewidth\": 0, \"ticks\": \"\"}}, \"type\": \"scattergl\"}], \"scattermapbox\": [{\"marker\": {\"colorbar\": {\"outlinewidth\": 0, \"ticks\": \"\"}}, \"type\": \"scattermapbox\"}], \"scatterpolar\": [{\"marker\": {\"colorbar\": {\"outlinewidth\": 0, \"ticks\": \"\"}}, \"type\": \"scatterpolar\"}], \"scatterpolargl\": [{\"marker\": {\"colorbar\": {\"outlinewidth\": 0, \"ticks\": \"\"}}, \"type\": \"scatterpolargl\"}], \"scatterternary\": [{\"marker\": {\"colorbar\": {\"outlinewidth\": 0, \"ticks\": \"\"}}, \"type\": \"scatterternary\"}], \"surface\": [{\"colorbar\": {\"outlinewidth\": 0, \"ticks\": \"\"}, \"colorscale\": [[0.0, \"#0d0887\"], [0.1111111111111111, \"#46039f\"], [0.2222222222222222, \"#7201a8\"], [0.3333333333333333, \"#9c179e\"], [0.4444444444444444, \"#bd3786\"], [0.5555555555555556, \"#d8576b\"], [0.6666666666666666, \"#ed7953\"], [0.7777777777777778, \"#fb9f3a\"], [0.8888888888888888, \"#fdca26\"], [1.0, \"#f0f921\"]], \"type\": \"surface\"}], \"table\": [{\"cells\": {\"fill\": {\"color\": \"#EBF0F8\"}, \"line\": {\"color\": \"white\"}}, \"header\": {\"fill\": {\"color\": \"#C8D4E3\"}, \"line\": {\"color\": \"white\"}}, \"type\": \"table\"}]}, \"layout\": {\"annotationdefaults\": {\"arrowcolor\": \"#2a3f5f\", \"arrowhead\": 0, \"arrowwidth\": 1}, \"coloraxis\": {\"colorbar\": {\"outlinewidth\": 0, \"ticks\": \"\"}}, \"colorscale\": {\"diverging\": [[0, \"#8e0152\"], [0.1, \"#c51b7d\"], [0.2, \"#de77ae\"], [0.3, \"#f1b6da\"], [0.4, \"#fde0ef\"], [0.5, \"#f7f7f7\"], [0.6, \"#e6f5d0\"], [0.7, \"#b8e186\"], [0.8, \"#7fbc41\"], [0.9, \"#4d9221\"], [1, \"#276419\"]], \"sequential\": [[0.0, \"#0d0887\"], [0.1111111111111111, \"#46039f\"], [0.2222222222222222, \"#7201a8\"], [0.3333333333333333, \"#9c179e\"], [0.4444444444444444, \"#bd3786\"], [0.5555555555555556, \"#d8576b\"], [0.6666666666666666, \"#ed7953\"], [0.7777777777777778, \"#fb9f3a\"], [0.8888888888888888, \"#fdca26\"], [1.0, \"#f0f921\"]], \"sequentialminus\": [[0.0, \"#0d0887\"], [0.1111111111111111, \"#46039f\"], [0.2222222222222222, \"#7201a8\"], [0.3333333333333333, \"#9c179e\"], [0.4444444444444444, \"#bd3786\"], [0.5555555555555556, \"#d8576b\"], [0.6666666666666666, \"#ed7953\"], [0.7777777777777778, \"#fb9f3a\"], [0.8888888888888888, \"#fdca26\"], [1.0, \"#f0f921\"]]}, \"colorway\": [\"#636efa\", \"#EF553B\", \"#00cc96\", \"#ab63fa\", \"#FFA15A\", \"#19d3f3\", \"#FF6692\", \"#B6E880\", \"#FF97FF\", \"#FECB52\"], \"font\": {\"color\": \"#2a3f5f\"}, \"geo\": {\"bgcolor\": \"white\", \"lakecolor\": \"white\", \"landcolor\": \"#E5ECF6\", \"showlakes\": true, \"showland\": true, \"subunitcolor\": \"white\"}, \"hoverlabel\": {\"align\": \"left\"}, \"hovermode\": \"closest\", \"mapbox\": {\"style\": \"light\"}, \"paper_bgcolor\": \"white\", \"plot_bgcolor\": \"#E5ECF6\", \"polar\": {\"angularaxis\": {\"gridcolor\": \"white\", \"linecolor\": \"white\", \"ticks\": \"\"}, \"bgcolor\": \"#E5ECF6\", \"radialaxis\": {\"gridcolor\": \"white\", \"linecolor\": \"white\", \"ticks\": \"\"}}, \"scene\": {\"xaxis\": {\"backgroundcolor\": \"#E5ECF6\", \"gridcolor\": \"white\", \"gridwidth\": 2, \"linecolor\": \"white\", \"showbackground\": true, \"ticks\": \"\", \"zerolinecolor\": \"white\"}, \"yaxis\": {\"backgroundcolor\": \"#E5ECF6\", \"gridcolor\": \"white\", \"gridwidth\": 2, \"linecolor\": \"white\", \"showbackground\": true, \"ticks\": \"\", \"zerolinecolor\": \"white\"}, \"zaxis\": {\"backgroundcolor\": \"#E5ECF6\", \"gridcolor\": \"white\", \"gridwidth\": 2, \"linecolor\": \"white\", \"showbackground\": true, \"ticks\": \"\", \"zerolinecolor\": \"white\"}}, \"shapedefaults\": {\"line\": {\"color\": \"#2a3f5f\"}}, \"ternary\": {\"aaxis\": {\"gridcolor\": \"white\", \"linecolor\": \"white\", \"ticks\": \"\"}, \"baxis\": {\"gridcolor\": \"white\", \"linecolor\": \"white\", \"ticks\": \"\"}, \"bgcolor\": \"#E5ECF6\", \"caxis\": {\"gridcolor\": \"white\", \"linecolor\": \"white\", \"ticks\": \"\"}}, \"title\": {\"x\": 0.05}, \"xaxis\": {\"automargin\": true, \"gridcolor\": \"white\", \"linecolor\": \"white\", \"ticks\": \"\", \"title\": {\"standoff\": 15}, \"zerolinecolor\": \"white\", \"zerolinewidth\": 2}, \"yaxis\": {\"automargin\": true, \"gridcolor\": \"white\", \"linecolor\": \"white\", \"ticks\": \"\", \"title\": {\"standoff\": 15}, \"zerolinecolor\": \"white\", \"zerolinewidth\": 2}}}},\n",
       "                        {\"responsive\": true}\n",
       "                    ).then(function(){\n",
       "                            \n",
       "var gd = document.getElementById('cfaa8676-85f6-4fb4-a390-a3d6b074c64c');\n",
       "var x = new MutationObserver(function (mutations, observer) {{\n",
       "        var display = window.getComputedStyle(gd).display;\n",
       "        if (!display || display === 'none') {{\n",
       "            console.log([gd, 'removed!']);\n",
       "            Plotly.purge(gd);\n",
       "            observer.disconnect();\n",
       "        }}\n",
       "}});\n",
       "\n",
       "// Listen for the removal of the full notebook cells\n",
       "var notebookContainer = gd.closest('#notebook-container');\n",
       "if (notebookContainer) {{\n",
       "    x.observe(notebookContainer, {childList: true});\n",
       "}}\n",
       "\n",
       "// Listen for the clearing of the current output cell\n",
       "var outputEl = gd.closest('.output');\n",
       "if (outputEl) {{\n",
       "    x.observe(outputEl, {childList: true});\n",
       "}}\n",
       "\n",
       "                        })\n",
       "                };\n",
       "                });\n",
       "            </script>\n",
       "        </div>"
      ]
     },
     "metadata": {},
     "output_type": "display_data"
    }
   ],
   "source": [
    "# draw bubble chart for the most ten frequency chunks\n",
    "import plotly.graph_objects as go\n",
    "x_data = list(range(10))\n",
    "y_data = list(zip(*sort_list))[1][:10]\n",
    "z_data = list(zip(*sort_list))[0][:10]\n",
    "annotations = [\n",
    "    dict(\n",
    "        x=x_data[i], \n",
    "        y=y_data[i],\n",
    "        text=z_data[i], # Some conditional to define outliers\n",
    "        showarrow=False,\n",
    "        xanchor='center',  # Position of text relative to x axis (left/right/center)\n",
    "        yanchor='top' if i%2 else 'bottom',  # Position of text relative to y axis (top/bottom/middle)\n",
    "    ) for i in range(10)\n",
    "]\n",
    "trace0 = go.Scatter(\n",
    "    x=x_data,\n",
    "    y=y_data,\n",
    "    mode='markers',\n",
    "    marker=dict(\n",
    "        size=[i * 0.5 for i in y_data],\n",
    "    )\n",
    ")\n",
    "\n",
    "data = [trace0]\n",
    "layout = go.Layout(annotations=annotations)\n",
    "\n",
    "fig = go.Figure(data=data, layout=layout)\n",
    "fig.show()"
   ]
  },
  {
   "cell_type": "code",
   "execution_count": 287,
   "metadata": {},
   "outputs": [],
   "source": [
    "nlp.max_length = 1230000\n",
    "adj_adv, verb, noun = pos_func(' '.join(remove_words(texts)))\n",
    "pos_dict = {}\n",
    "adj_adv = [word for word in adj_adv if word not in ['free','daily','best','always','also','new','high']]\n",
    "pos_dict['adj_adv'] = adj_adv\n",
    "verb = [word for word in verb if word not in ['helps','made','contains','leaving','used','apply','indicated','g']]\n",
    "pos_dict['verb'] = verb\n",
    "noun = [word for word in noun if word not in ['g','products','bar','information','skin','body','foams','soap','formula','ingredients','day','water']]\n",
    "pos_dict['noun'] = noun"
   ]
  },
  {
   "cell_type": "code",
   "execution_count": 288,
   "metadata": {},
   "outputs": [
    {
     "data": {
      "application/vnd.plotly.v1+json": {
       "config": {
        "plotlyServerURL": "https://plot.ly"
       },
       "data": [
        {
         "marker": {
          "size": [
           101.2,
           56.7,
           45.6,
           34.9,
           23.5,
           20.1,
           20,
           18.900000000000002,
           18.3,
           18.1
          ]
         },
         "mode": "markers",
         "type": "scatter",
         "x": [
          0,
          1,
          2,
          3,
          4,
          5,
          6,
          7,
          8,
          9
         ],
         "y": [
          1012,
          567,
          456,
          349,
          235,
          201,
          200,
          189,
          183,
          181
         ]
        }
       ],
       "layout": {
        "annotations": [
         {
          "showarrow": false,
          "text": "natural",
          "x": 0,
          "xanchor": "center",
          "y": 1012,
          "yanchor": "middle"
         },
         {
          "showarrow": false,
          "text": "soft",
          "x": 1,
          "xanchor": "center",
          "y": 567,
          "yanchor": "middle"
         },
         {
          "showarrow": false,
          "text": "gently",
          "x": 2,
          "xanchor": "center",
          "y": 456,
          "yanchor": "middle"
         },
         {
          "showarrow": false,
          "text": "original",
          "x": 3,
          "xanchor": "center",
          "y": 349,
          "yanchor": "middle"
         },
         {
          "showarrow": false,
          "text": "clean",
          "x": 4,
          "xanchor": "center",
          "y": 235,
          "yanchor": "middle"
         },
         {
          "showarrow": false,
          "text": "oily",
          "x": 5,
          "xanchor": "center",
          "y": 201,
          "yanchor": "middle"
         },
         {
          "showarrow": false,
          "text": "delicate",
          "x": 6,
          "xanchor": "center",
          "y": 200,
          "yanchor": "middle"
         },
         {
          "showarrow": false,
          "text": "gentle",
          "x": 7,
          "xanchor": "center",
          "y": 189,
          "yanchor": "middle"
         },
         {
          "showarrow": false,
          "text": "different",
          "x": 8,
          "xanchor": "center",
          "y": 183,
          "yanchor": "middle"
         },
         {
          "showarrow": false,
          "text": "dry",
          "x": 9,
          "xanchor": "center",
          "y": 181,
          "yanchor": "middle"
         }
        ],
        "template": {
         "data": {
          "bar": [
           {
            "error_x": {
             "color": "#2a3f5f"
            },
            "error_y": {
             "color": "#2a3f5f"
            },
            "marker": {
             "line": {
              "color": "#E5ECF6",
              "width": 0.5
             }
            },
            "type": "bar"
           }
          ],
          "barpolar": [
           {
            "marker": {
             "line": {
              "color": "#E5ECF6",
              "width": 0.5
             }
            },
            "type": "barpolar"
           }
          ],
          "carpet": [
           {
            "aaxis": {
             "endlinecolor": "#2a3f5f",
             "gridcolor": "white",
             "linecolor": "white",
             "minorgridcolor": "white",
             "startlinecolor": "#2a3f5f"
            },
            "baxis": {
             "endlinecolor": "#2a3f5f",
             "gridcolor": "white",
             "linecolor": "white",
             "minorgridcolor": "white",
             "startlinecolor": "#2a3f5f"
            },
            "type": "carpet"
           }
          ],
          "choropleth": [
           {
            "colorbar": {
             "outlinewidth": 0,
             "ticks": ""
            },
            "type": "choropleth"
           }
          ],
          "contour": [
           {
            "colorbar": {
             "outlinewidth": 0,
             "ticks": ""
            },
            "colorscale": [
             [
              0,
              "#0d0887"
             ],
             [
              0.1111111111111111,
              "#46039f"
             ],
             [
              0.2222222222222222,
              "#7201a8"
             ],
             [
              0.3333333333333333,
              "#9c179e"
             ],
             [
              0.4444444444444444,
              "#bd3786"
             ],
             [
              0.5555555555555556,
              "#d8576b"
             ],
             [
              0.6666666666666666,
              "#ed7953"
             ],
             [
              0.7777777777777778,
              "#fb9f3a"
             ],
             [
              0.8888888888888888,
              "#fdca26"
             ],
             [
              1,
              "#f0f921"
             ]
            ],
            "type": "contour"
           }
          ],
          "contourcarpet": [
           {
            "colorbar": {
             "outlinewidth": 0,
             "ticks": ""
            },
            "type": "contourcarpet"
           }
          ],
          "heatmap": [
           {
            "colorbar": {
             "outlinewidth": 0,
             "ticks": ""
            },
            "colorscale": [
             [
              0,
              "#0d0887"
             ],
             [
              0.1111111111111111,
              "#46039f"
             ],
             [
              0.2222222222222222,
              "#7201a8"
             ],
             [
              0.3333333333333333,
              "#9c179e"
             ],
             [
              0.4444444444444444,
              "#bd3786"
             ],
             [
              0.5555555555555556,
              "#d8576b"
             ],
             [
              0.6666666666666666,
              "#ed7953"
             ],
             [
              0.7777777777777778,
              "#fb9f3a"
             ],
             [
              0.8888888888888888,
              "#fdca26"
             ],
             [
              1,
              "#f0f921"
             ]
            ],
            "type": "heatmap"
           }
          ],
          "heatmapgl": [
           {
            "colorbar": {
             "outlinewidth": 0,
             "ticks": ""
            },
            "colorscale": [
             [
              0,
              "#0d0887"
             ],
             [
              0.1111111111111111,
              "#46039f"
             ],
             [
              0.2222222222222222,
              "#7201a8"
             ],
             [
              0.3333333333333333,
              "#9c179e"
             ],
             [
              0.4444444444444444,
              "#bd3786"
             ],
             [
              0.5555555555555556,
              "#d8576b"
             ],
             [
              0.6666666666666666,
              "#ed7953"
             ],
             [
              0.7777777777777778,
              "#fb9f3a"
             ],
             [
              0.8888888888888888,
              "#fdca26"
             ],
             [
              1,
              "#f0f921"
             ]
            ],
            "type": "heatmapgl"
           }
          ],
          "histogram": [
           {
            "marker": {
             "colorbar": {
              "outlinewidth": 0,
              "ticks": ""
             }
            },
            "type": "histogram"
           }
          ],
          "histogram2d": [
           {
            "colorbar": {
             "outlinewidth": 0,
             "ticks": ""
            },
            "colorscale": [
             [
              0,
              "#0d0887"
             ],
             [
              0.1111111111111111,
              "#46039f"
             ],
             [
              0.2222222222222222,
              "#7201a8"
             ],
             [
              0.3333333333333333,
              "#9c179e"
             ],
             [
              0.4444444444444444,
              "#bd3786"
             ],
             [
              0.5555555555555556,
              "#d8576b"
             ],
             [
              0.6666666666666666,
              "#ed7953"
             ],
             [
              0.7777777777777778,
              "#fb9f3a"
             ],
             [
              0.8888888888888888,
              "#fdca26"
             ],
             [
              1,
              "#f0f921"
             ]
            ],
            "type": "histogram2d"
           }
          ],
          "histogram2dcontour": [
           {
            "colorbar": {
             "outlinewidth": 0,
             "ticks": ""
            },
            "colorscale": [
             [
              0,
              "#0d0887"
             ],
             [
              0.1111111111111111,
              "#46039f"
             ],
             [
              0.2222222222222222,
              "#7201a8"
             ],
             [
              0.3333333333333333,
              "#9c179e"
             ],
             [
              0.4444444444444444,
              "#bd3786"
             ],
             [
              0.5555555555555556,
              "#d8576b"
             ],
             [
              0.6666666666666666,
              "#ed7953"
             ],
             [
              0.7777777777777778,
              "#fb9f3a"
             ],
             [
              0.8888888888888888,
              "#fdca26"
             ],
             [
              1,
              "#f0f921"
             ]
            ],
            "type": "histogram2dcontour"
           }
          ],
          "mesh3d": [
           {
            "colorbar": {
             "outlinewidth": 0,
             "ticks": ""
            },
            "type": "mesh3d"
           }
          ],
          "parcoords": [
           {
            "line": {
             "colorbar": {
              "outlinewidth": 0,
              "ticks": ""
             }
            },
            "type": "parcoords"
           }
          ],
          "pie": [
           {
            "automargin": true,
            "type": "pie"
           }
          ],
          "scatter": [
           {
            "marker": {
             "colorbar": {
              "outlinewidth": 0,
              "ticks": ""
             }
            },
            "type": "scatter"
           }
          ],
          "scatter3d": [
           {
            "line": {
             "colorbar": {
              "outlinewidth": 0,
              "ticks": ""
             }
            },
            "marker": {
             "colorbar": {
              "outlinewidth": 0,
              "ticks": ""
             }
            },
            "type": "scatter3d"
           }
          ],
          "scattercarpet": [
           {
            "marker": {
             "colorbar": {
              "outlinewidth": 0,
              "ticks": ""
             }
            },
            "type": "scattercarpet"
           }
          ],
          "scattergeo": [
           {
            "marker": {
             "colorbar": {
              "outlinewidth": 0,
              "ticks": ""
             }
            },
            "type": "scattergeo"
           }
          ],
          "scattergl": [
           {
            "marker": {
             "colorbar": {
              "outlinewidth": 0,
              "ticks": ""
             }
            },
            "type": "scattergl"
           }
          ],
          "scattermapbox": [
           {
            "marker": {
             "colorbar": {
              "outlinewidth": 0,
              "ticks": ""
             }
            },
            "type": "scattermapbox"
           }
          ],
          "scatterpolar": [
           {
            "marker": {
             "colorbar": {
              "outlinewidth": 0,
              "ticks": ""
             }
            },
            "type": "scatterpolar"
           }
          ],
          "scatterpolargl": [
           {
            "marker": {
             "colorbar": {
              "outlinewidth": 0,
              "ticks": ""
             }
            },
            "type": "scatterpolargl"
           }
          ],
          "scatterternary": [
           {
            "marker": {
             "colorbar": {
              "outlinewidth": 0,
              "ticks": ""
             }
            },
            "type": "scatterternary"
           }
          ],
          "surface": [
           {
            "colorbar": {
             "outlinewidth": 0,
             "ticks": ""
            },
            "colorscale": [
             [
              0,
              "#0d0887"
             ],
             [
              0.1111111111111111,
              "#46039f"
             ],
             [
              0.2222222222222222,
              "#7201a8"
             ],
             [
              0.3333333333333333,
              "#9c179e"
             ],
             [
              0.4444444444444444,
              "#bd3786"
             ],
             [
              0.5555555555555556,
              "#d8576b"
             ],
             [
              0.6666666666666666,
              "#ed7953"
             ],
             [
              0.7777777777777778,
              "#fb9f3a"
             ],
             [
              0.8888888888888888,
              "#fdca26"
             ],
             [
              1,
              "#f0f921"
             ]
            ],
            "type": "surface"
           }
          ],
          "table": [
           {
            "cells": {
             "fill": {
              "color": "#EBF0F8"
             },
             "line": {
              "color": "white"
             }
            },
            "header": {
             "fill": {
              "color": "#C8D4E3"
             },
             "line": {
              "color": "white"
             }
            },
            "type": "table"
           }
          ]
         },
         "layout": {
          "annotationdefaults": {
           "arrowcolor": "#2a3f5f",
           "arrowhead": 0,
           "arrowwidth": 1
          },
          "coloraxis": {
           "colorbar": {
            "outlinewidth": 0,
            "ticks": ""
           }
          },
          "colorscale": {
           "diverging": [
            [
             0,
             "#8e0152"
            ],
            [
             0.1,
             "#c51b7d"
            ],
            [
             0.2,
             "#de77ae"
            ],
            [
             0.3,
             "#f1b6da"
            ],
            [
             0.4,
             "#fde0ef"
            ],
            [
             0.5,
             "#f7f7f7"
            ],
            [
             0.6,
             "#e6f5d0"
            ],
            [
             0.7,
             "#b8e186"
            ],
            [
             0.8,
             "#7fbc41"
            ],
            [
             0.9,
             "#4d9221"
            ],
            [
             1,
             "#276419"
            ]
           ],
           "sequential": [
            [
             0,
             "#0d0887"
            ],
            [
             0.1111111111111111,
             "#46039f"
            ],
            [
             0.2222222222222222,
             "#7201a8"
            ],
            [
             0.3333333333333333,
             "#9c179e"
            ],
            [
             0.4444444444444444,
             "#bd3786"
            ],
            [
             0.5555555555555556,
             "#d8576b"
            ],
            [
             0.6666666666666666,
             "#ed7953"
            ],
            [
             0.7777777777777778,
             "#fb9f3a"
            ],
            [
             0.8888888888888888,
             "#fdca26"
            ],
            [
             1,
             "#f0f921"
            ]
           ],
           "sequentialminus": [
            [
             0,
             "#0d0887"
            ],
            [
             0.1111111111111111,
             "#46039f"
            ],
            [
             0.2222222222222222,
             "#7201a8"
            ],
            [
             0.3333333333333333,
             "#9c179e"
            ],
            [
             0.4444444444444444,
             "#bd3786"
            ],
            [
             0.5555555555555556,
             "#d8576b"
            ],
            [
             0.6666666666666666,
             "#ed7953"
            ],
            [
             0.7777777777777778,
             "#fb9f3a"
            ],
            [
             0.8888888888888888,
             "#fdca26"
            ],
            [
             1,
             "#f0f921"
            ]
           ]
          },
          "colorway": [
           "#636efa",
           "#EF553B",
           "#00cc96",
           "#ab63fa",
           "#FFA15A",
           "#19d3f3",
           "#FF6692",
           "#B6E880",
           "#FF97FF",
           "#FECB52"
          ],
          "font": {
           "color": "#2a3f5f"
          },
          "geo": {
           "bgcolor": "white",
           "lakecolor": "white",
           "landcolor": "#E5ECF6",
           "showlakes": true,
           "showland": true,
           "subunitcolor": "white"
          },
          "hoverlabel": {
           "align": "left"
          },
          "hovermode": "closest",
          "mapbox": {
           "style": "light"
          },
          "paper_bgcolor": "white",
          "plot_bgcolor": "#E5ECF6",
          "polar": {
           "angularaxis": {
            "gridcolor": "white",
            "linecolor": "white",
            "ticks": ""
           },
           "bgcolor": "#E5ECF6",
           "radialaxis": {
            "gridcolor": "white",
            "linecolor": "white",
            "ticks": ""
           }
          },
          "scene": {
           "xaxis": {
            "backgroundcolor": "#E5ECF6",
            "gridcolor": "white",
            "gridwidth": 2,
            "linecolor": "white",
            "showbackground": true,
            "ticks": "",
            "zerolinecolor": "white"
           },
           "yaxis": {
            "backgroundcolor": "#E5ECF6",
            "gridcolor": "white",
            "gridwidth": 2,
            "linecolor": "white",
            "showbackground": true,
            "ticks": "",
            "zerolinecolor": "white"
           },
           "zaxis": {
            "backgroundcolor": "#E5ECF6",
            "gridcolor": "white",
            "gridwidth": 2,
            "linecolor": "white",
            "showbackground": true,
            "ticks": "",
            "zerolinecolor": "white"
           }
          },
          "shapedefaults": {
           "line": {
            "color": "#2a3f5f"
           }
          },
          "ternary": {
           "aaxis": {
            "gridcolor": "white",
            "linecolor": "white",
            "ticks": ""
           },
           "baxis": {
            "gridcolor": "white",
            "linecolor": "white",
            "ticks": ""
           },
           "bgcolor": "#E5ECF6",
           "caxis": {
            "gridcolor": "white",
            "linecolor": "white",
            "ticks": ""
           }
          },
          "title": {
           "x": 0.05
          },
          "xaxis": {
           "automargin": true,
           "gridcolor": "white",
           "linecolor": "white",
           "ticks": "",
           "title": {
            "standoff": 15
           },
           "zerolinecolor": "white",
           "zerolinewidth": 2
          },
          "yaxis": {
           "automargin": true,
           "gridcolor": "white",
           "linecolor": "white",
           "ticks": "",
           "title": {
            "standoff": 15
           },
           "zerolinecolor": "white",
           "zerolinewidth": 2
          }
         }
        }
       }
      },
      "text/html": [
       "<div>\n",
       "        \n",
       "        \n",
       "            <div id=\"56a3fa8a-e2c4-4331-a1ee-059d882723f1\" class=\"plotly-graph-div\" style=\"height:525px; width:100%;\"></div>\n",
       "            <script type=\"text/javascript\">\n",
       "                require([\"plotly\"], function(Plotly) {\n",
       "                    window.PLOTLYENV=window.PLOTLYENV || {};\n",
       "                    \n",
       "                if (document.getElementById(\"56a3fa8a-e2c4-4331-a1ee-059d882723f1\")) {\n",
       "                    Plotly.newPlot(\n",
       "                        '56a3fa8a-e2c4-4331-a1ee-059d882723f1',\n",
       "                        [{\"marker\": {\"size\": [101.2, 56.7, 45.6, 34.9, 23.5, 20.1, 20.0, 18.900000000000002, 18.3, 18.1]}, \"mode\": \"markers\", \"type\": \"scatter\", \"x\": [0, 1, 2, 3, 4, 5, 6, 7, 8, 9], \"y\": [1012, 567, 456, 349, 235, 201, 200, 189, 183, 181]}],\n",
       "                        {\"annotations\": [{\"showarrow\": false, \"text\": \"natural\", \"x\": 0, \"xanchor\": \"center\", \"y\": 1012, \"yanchor\": \"middle\"}, {\"showarrow\": false, \"text\": \"soft\", \"x\": 1, \"xanchor\": \"center\", \"y\": 567, \"yanchor\": \"middle\"}, {\"showarrow\": false, \"text\": \"gently\", \"x\": 2, \"xanchor\": \"center\", \"y\": 456, \"yanchor\": \"middle\"}, {\"showarrow\": false, \"text\": \"original\", \"x\": 3, \"xanchor\": \"center\", \"y\": 349, \"yanchor\": \"middle\"}, {\"showarrow\": false, \"text\": \"clean\", \"x\": 4, \"xanchor\": \"center\", \"y\": 235, \"yanchor\": \"middle\"}, {\"showarrow\": false, \"text\": \"oily\", \"x\": 5, \"xanchor\": \"center\", \"y\": 201, \"yanchor\": \"middle\"}, {\"showarrow\": false, \"text\": \"delicate\", \"x\": 6, \"xanchor\": \"center\", \"y\": 200, \"yanchor\": \"middle\"}, {\"showarrow\": false, \"text\": \"gentle\", \"x\": 7, \"xanchor\": \"center\", \"y\": 189, \"yanchor\": \"middle\"}, {\"showarrow\": false, \"text\": \"different\", \"x\": 8, \"xanchor\": \"center\", \"y\": 183, \"yanchor\": \"middle\"}, {\"showarrow\": false, \"text\": \"dry\", \"x\": 9, \"xanchor\": \"center\", \"y\": 181, \"yanchor\": \"middle\"}], \"template\": {\"data\": {\"bar\": [{\"error_x\": {\"color\": \"#2a3f5f\"}, \"error_y\": {\"color\": \"#2a3f5f\"}, \"marker\": {\"line\": {\"color\": \"#E5ECF6\", \"width\": 0.5}}, \"type\": \"bar\"}], \"barpolar\": [{\"marker\": {\"line\": {\"color\": \"#E5ECF6\", \"width\": 0.5}}, \"type\": \"barpolar\"}], \"carpet\": [{\"aaxis\": {\"endlinecolor\": \"#2a3f5f\", \"gridcolor\": \"white\", \"linecolor\": \"white\", \"minorgridcolor\": \"white\", \"startlinecolor\": \"#2a3f5f\"}, \"baxis\": {\"endlinecolor\": \"#2a3f5f\", \"gridcolor\": \"white\", \"linecolor\": \"white\", \"minorgridcolor\": \"white\", \"startlinecolor\": \"#2a3f5f\"}, \"type\": \"carpet\"}], \"choropleth\": [{\"colorbar\": {\"outlinewidth\": 0, \"ticks\": \"\"}, \"type\": \"choropleth\"}], \"contour\": [{\"colorbar\": {\"outlinewidth\": 0, \"ticks\": \"\"}, \"colorscale\": [[0.0, \"#0d0887\"], [0.1111111111111111, \"#46039f\"], [0.2222222222222222, \"#7201a8\"], [0.3333333333333333, \"#9c179e\"], [0.4444444444444444, \"#bd3786\"], [0.5555555555555556, \"#d8576b\"], [0.6666666666666666, \"#ed7953\"], [0.7777777777777778, \"#fb9f3a\"], [0.8888888888888888, \"#fdca26\"], [1.0, \"#f0f921\"]], \"type\": \"contour\"}], \"contourcarpet\": [{\"colorbar\": {\"outlinewidth\": 0, \"ticks\": \"\"}, \"type\": \"contourcarpet\"}], \"heatmap\": [{\"colorbar\": {\"outlinewidth\": 0, \"ticks\": \"\"}, \"colorscale\": [[0.0, \"#0d0887\"], [0.1111111111111111, \"#46039f\"], [0.2222222222222222, \"#7201a8\"], [0.3333333333333333, \"#9c179e\"], [0.4444444444444444, \"#bd3786\"], [0.5555555555555556, \"#d8576b\"], [0.6666666666666666, \"#ed7953\"], [0.7777777777777778, \"#fb9f3a\"], [0.8888888888888888, \"#fdca26\"], [1.0, \"#f0f921\"]], \"type\": \"heatmap\"}], \"heatmapgl\": [{\"colorbar\": {\"outlinewidth\": 0, \"ticks\": \"\"}, \"colorscale\": [[0.0, \"#0d0887\"], [0.1111111111111111, \"#46039f\"], [0.2222222222222222, \"#7201a8\"], [0.3333333333333333, \"#9c179e\"], [0.4444444444444444, \"#bd3786\"], [0.5555555555555556, \"#d8576b\"], [0.6666666666666666, \"#ed7953\"], [0.7777777777777778, \"#fb9f3a\"], [0.8888888888888888, \"#fdca26\"], [1.0, \"#f0f921\"]], \"type\": \"heatmapgl\"}], \"histogram\": [{\"marker\": {\"colorbar\": {\"outlinewidth\": 0, \"ticks\": \"\"}}, \"type\": \"histogram\"}], \"histogram2d\": [{\"colorbar\": {\"outlinewidth\": 0, \"ticks\": \"\"}, \"colorscale\": [[0.0, \"#0d0887\"], [0.1111111111111111, \"#46039f\"], [0.2222222222222222, \"#7201a8\"], [0.3333333333333333, \"#9c179e\"], [0.4444444444444444, \"#bd3786\"], [0.5555555555555556, \"#d8576b\"], [0.6666666666666666, \"#ed7953\"], [0.7777777777777778, \"#fb9f3a\"], [0.8888888888888888, \"#fdca26\"], [1.0, \"#f0f921\"]], \"type\": \"histogram2d\"}], \"histogram2dcontour\": [{\"colorbar\": {\"outlinewidth\": 0, \"ticks\": \"\"}, \"colorscale\": [[0.0, \"#0d0887\"], [0.1111111111111111, \"#46039f\"], [0.2222222222222222, \"#7201a8\"], [0.3333333333333333, \"#9c179e\"], [0.4444444444444444, \"#bd3786\"], [0.5555555555555556, \"#d8576b\"], [0.6666666666666666, \"#ed7953\"], [0.7777777777777778, \"#fb9f3a\"], [0.8888888888888888, \"#fdca26\"], [1.0, \"#f0f921\"]], \"type\": \"histogram2dcontour\"}], \"mesh3d\": [{\"colorbar\": {\"outlinewidth\": 0, \"ticks\": \"\"}, \"type\": \"mesh3d\"}], \"parcoords\": [{\"line\": {\"colorbar\": {\"outlinewidth\": 0, \"ticks\": \"\"}}, \"type\": \"parcoords\"}], \"pie\": [{\"automargin\": true, \"type\": \"pie\"}], \"scatter\": [{\"marker\": {\"colorbar\": {\"outlinewidth\": 0, \"ticks\": \"\"}}, \"type\": \"scatter\"}], \"scatter3d\": [{\"line\": {\"colorbar\": {\"outlinewidth\": 0, \"ticks\": \"\"}}, \"marker\": {\"colorbar\": {\"outlinewidth\": 0, \"ticks\": \"\"}}, \"type\": \"scatter3d\"}], \"scattercarpet\": [{\"marker\": {\"colorbar\": {\"outlinewidth\": 0, \"ticks\": \"\"}}, \"type\": \"scattercarpet\"}], \"scattergeo\": [{\"marker\": {\"colorbar\": {\"outlinewidth\": 0, \"ticks\": \"\"}}, \"type\": \"scattergeo\"}], \"scattergl\": [{\"marker\": {\"colorbar\": {\"outlinewidth\": 0, \"ticks\": \"\"}}, \"type\": \"scattergl\"}], \"scattermapbox\": [{\"marker\": {\"colorbar\": {\"outlinewidth\": 0, \"ticks\": \"\"}}, \"type\": \"scattermapbox\"}], \"scatterpolar\": [{\"marker\": {\"colorbar\": {\"outlinewidth\": 0, \"ticks\": \"\"}}, \"type\": \"scatterpolar\"}], \"scatterpolargl\": [{\"marker\": {\"colorbar\": {\"outlinewidth\": 0, \"ticks\": \"\"}}, \"type\": \"scatterpolargl\"}], \"scatterternary\": [{\"marker\": {\"colorbar\": {\"outlinewidth\": 0, \"ticks\": \"\"}}, \"type\": \"scatterternary\"}], \"surface\": [{\"colorbar\": {\"outlinewidth\": 0, \"ticks\": \"\"}, \"colorscale\": [[0.0, \"#0d0887\"], [0.1111111111111111, \"#46039f\"], [0.2222222222222222, \"#7201a8\"], [0.3333333333333333, \"#9c179e\"], [0.4444444444444444, \"#bd3786\"], [0.5555555555555556, \"#d8576b\"], [0.6666666666666666, \"#ed7953\"], [0.7777777777777778, \"#fb9f3a\"], [0.8888888888888888, \"#fdca26\"], [1.0, \"#f0f921\"]], \"type\": \"surface\"}], \"table\": [{\"cells\": {\"fill\": {\"color\": \"#EBF0F8\"}, \"line\": {\"color\": \"white\"}}, \"header\": {\"fill\": {\"color\": \"#C8D4E3\"}, \"line\": {\"color\": \"white\"}}, \"type\": \"table\"}]}, \"layout\": {\"annotationdefaults\": {\"arrowcolor\": \"#2a3f5f\", \"arrowhead\": 0, \"arrowwidth\": 1}, \"coloraxis\": {\"colorbar\": {\"outlinewidth\": 0, \"ticks\": \"\"}}, \"colorscale\": {\"diverging\": [[0, \"#8e0152\"], [0.1, \"#c51b7d\"], [0.2, \"#de77ae\"], [0.3, \"#f1b6da\"], [0.4, \"#fde0ef\"], [0.5, \"#f7f7f7\"], [0.6, \"#e6f5d0\"], [0.7, \"#b8e186\"], [0.8, \"#7fbc41\"], [0.9, \"#4d9221\"], [1, \"#276419\"]], \"sequential\": [[0.0, \"#0d0887\"], [0.1111111111111111, \"#46039f\"], [0.2222222222222222, \"#7201a8\"], [0.3333333333333333, \"#9c179e\"], [0.4444444444444444, \"#bd3786\"], [0.5555555555555556, \"#d8576b\"], [0.6666666666666666, \"#ed7953\"], [0.7777777777777778, \"#fb9f3a\"], [0.8888888888888888, \"#fdca26\"], [1.0, \"#f0f921\"]], \"sequentialminus\": [[0.0, \"#0d0887\"], [0.1111111111111111, \"#46039f\"], [0.2222222222222222, \"#7201a8\"], [0.3333333333333333, \"#9c179e\"], [0.4444444444444444, \"#bd3786\"], [0.5555555555555556, \"#d8576b\"], [0.6666666666666666, \"#ed7953\"], [0.7777777777777778, \"#fb9f3a\"], [0.8888888888888888, \"#fdca26\"], [1.0, \"#f0f921\"]]}, \"colorway\": [\"#636efa\", \"#EF553B\", \"#00cc96\", \"#ab63fa\", \"#FFA15A\", \"#19d3f3\", \"#FF6692\", \"#B6E880\", \"#FF97FF\", \"#FECB52\"], \"font\": {\"color\": \"#2a3f5f\"}, \"geo\": {\"bgcolor\": \"white\", \"lakecolor\": \"white\", \"landcolor\": \"#E5ECF6\", \"showlakes\": true, \"showland\": true, \"subunitcolor\": \"white\"}, \"hoverlabel\": {\"align\": \"left\"}, \"hovermode\": \"closest\", \"mapbox\": {\"style\": \"light\"}, \"paper_bgcolor\": \"white\", \"plot_bgcolor\": \"#E5ECF6\", \"polar\": {\"angularaxis\": {\"gridcolor\": \"white\", \"linecolor\": \"white\", \"ticks\": \"\"}, \"bgcolor\": \"#E5ECF6\", \"radialaxis\": {\"gridcolor\": \"white\", \"linecolor\": \"white\", \"ticks\": \"\"}}, \"scene\": {\"xaxis\": {\"backgroundcolor\": \"#E5ECF6\", \"gridcolor\": \"white\", \"gridwidth\": 2, \"linecolor\": \"white\", \"showbackground\": true, \"ticks\": \"\", \"zerolinecolor\": \"white\"}, \"yaxis\": {\"backgroundcolor\": \"#E5ECF6\", \"gridcolor\": \"white\", \"gridwidth\": 2, \"linecolor\": \"white\", \"showbackground\": true, \"ticks\": \"\", \"zerolinecolor\": \"white\"}, \"zaxis\": {\"backgroundcolor\": \"#E5ECF6\", \"gridcolor\": \"white\", \"gridwidth\": 2, \"linecolor\": \"white\", \"showbackground\": true, \"ticks\": \"\", \"zerolinecolor\": \"white\"}}, \"shapedefaults\": {\"line\": {\"color\": \"#2a3f5f\"}}, \"ternary\": {\"aaxis\": {\"gridcolor\": \"white\", \"linecolor\": \"white\", \"ticks\": \"\"}, \"baxis\": {\"gridcolor\": \"white\", \"linecolor\": \"white\", \"ticks\": \"\"}, \"bgcolor\": \"#E5ECF6\", \"caxis\": {\"gridcolor\": \"white\", \"linecolor\": \"white\", \"ticks\": \"\"}}, \"title\": {\"x\": 0.05}, \"xaxis\": {\"automargin\": true, \"gridcolor\": \"white\", \"linecolor\": \"white\", \"ticks\": \"\", \"title\": {\"standoff\": 15}, \"zerolinecolor\": \"white\", \"zerolinewidth\": 2}, \"yaxis\": {\"automargin\": true, \"gridcolor\": \"white\", \"linecolor\": \"white\", \"ticks\": \"\", \"title\": {\"standoff\": 15}, \"zerolinecolor\": \"white\", \"zerolinewidth\": 2}}}},\n",
       "                        {\"responsive\": true}\n",
       "                    ).then(function(){\n",
       "                            \n",
       "var gd = document.getElementById('56a3fa8a-e2c4-4331-a1ee-059d882723f1');\n",
       "var x = new MutationObserver(function (mutations, observer) {{\n",
       "        var display = window.getComputedStyle(gd).display;\n",
       "        if (!display || display === 'none') {{\n",
       "            console.log([gd, 'removed!']);\n",
       "            Plotly.purge(gd);\n",
       "            observer.disconnect();\n",
       "        }}\n",
       "}});\n",
       "\n",
       "// Listen for the removal of the full notebook cells\n",
       "var notebookContainer = gd.closest('#notebook-container');\n",
       "if (notebookContainer) {{\n",
       "    x.observe(notebookContainer, {childList: true});\n",
       "}}\n",
       "\n",
       "// Listen for the clearing of the current output cell\n",
       "var outputEl = gd.closest('.output');\n",
       "if (outputEl) {{\n",
       "    x.observe(outputEl, {childList: true});\n",
       "}}\n",
       "\n",
       "                        })\n",
       "                };\n",
       "                });\n",
       "            </script>\n",
       "        </div>"
      ]
     },
     "metadata": {},
     "output_type": "display_data"
    },
    {
     "data": {
      "application/vnd.plotly.v1+json": {
       "config": {
        "plotlyServerURL": "https://plot.ly"
       },
       "data": [
        {
         "marker": {
          "size": [
           23.700000000000003,
           21.400000000000002,
           20.5,
           20.200000000000003,
           19.700000000000003,
           19.200000000000003,
           18.7,
           18.3,
           18.3,
           17.7
          ]
         },
         "mode": "markers",
         "type": "scatter",
         "x": [
          0,
          1,
          2,
          3,
          4,
          5,
          6,
          7,
          8,
          9
         ],
         "y": [
          237,
          214,
          205,
          202,
          197,
          192,
          187,
          183,
          183,
          177
         ]
        }
       ],
       "layout": {
        "annotations": [
         {
          "showarrow": false,
          "text": "cleanses",
          "x": 0,
          "xanchor": "center",
          "y": 237,
          "yanchor": "middle"
         },
         {
          "showarrow": false,
          "text": "tested",
          "x": 1,
          "xanchor": "center",
          "y": 214,
          "yanchor": "middle"
         },
         {
          "showarrow": false,
          "text": "moisturizing",
          "x": 2,
          "xanchor": "center",
          "y": 205,
          "yanchor": "middle"
         },
         {
          "showarrow": false,
          "text": "buy",
          "x": 3,
          "xanchor": "center",
          "y": 202,
          "yanchor": "middle"
         },
         {
          "showarrow": false,
          "text": "leaves",
          "x": 4,
          "xanchor": "center",
          "y": 197,
          "yanchor": "middle"
         },
         {
          "showarrow": false,
          "text": "keep",
          "x": 5,
          "xanchor": "center",
          "y": 192,
          "yanchor": "middle"
         },
         {
          "showarrow": false,
          "text": "provides",
          "x": 6,
          "xanchor": "center",
          "y": 187,
          "yanchor": "middle"
         },
         {
          "showarrow": false,
          "text": "leave",
          "x": 7,
          "xanchor": "center",
          "y": 183,
          "yanchor": "middle"
         },
         {
          "showarrow": false,
          "text": "using",
          "x": 8,
          "xanchor": "center",
          "y": 183,
          "yanchor": "middle"
         },
         {
          "showarrow": false,
          "text": "extract",
          "x": 9,
          "xanchor": "center",
          "y": 177,
          "yanchor": "middle"
         }
        ],
        "template": {
         "data": {
          "bar": [
           {
            "error_x": {
             "color": "#2a3f5f"
            },
            "error_y": {
             "color": "#2a3f5f"
            },
            "marker": {
             "line": {
              "color": "#E5ECF6",
              "width": 0.5
             }
            },
            "type": "bar"
           }
          ],
          "barpolar": [
           {
            "marker": {
             "line": {
              "color": "#E5ECF6",
              "width": 0.5
             }
            },
            "type": "barpolar"
           }
          ],
          "carpet": [
           {
            "aaxis": {
             "endlinecolor": "#2a3f5f",
             "gridcolor": "white",
             "linecolor": "white",
             "minorgridcolor": "white",
             "startlinecolor": "#2a3f5f"
            },
            "baxis": {
             "endlinecolor": "#2a3f5f",
             "gridcolor": "white",
             "linecolor": "white",
             "minorgridcolor": "white",
             "startlinecolor": "#2a3f5f"
            },
            "type": "carpet"
           }
          ],
          "choropleth": [
           {
            "colorbar": {
             "outlinewidth": 0,
             "ticks": ""
            },
            "type": "choropleth"
           }
          ],
          "contour": [
           {
            "colorbar": {
             "outlinewidth": 0,
             "ticks": ""
            },
            "colorscale": [
             [
              0,
              "#0d0887"
             ],
             [
              0.1111111111111111,
              "#46039f"
             ],
             [
              0.2222222222222222,
              "#7201a8"
             ],
             [
              0.3333333333333333,
              "#9c179e"
             ],
             [
              0.4444444444444444,
              "#bd3786"
             ],
             [
              0.5555555555555556,
              "#d8576b"
             ],
             [
              0.6666666666666666,
              "#ed7953"
             ],
             [
              0.7777777777777778,
              "#fb9f3a"
             ],
             [
              0.8888888888888888,
              "#fdca26"
             ],
             [
              1,
              "#f0f921"
             ]
            ],
            "type": "contour"
           }
          ],
          "contourcarpet": [
           {
            "colorbar": {
             "outlinewidth": 0,
             "ticks": ""
            },
            "type": "contourcarpet"
           }
          ],
          "heatmap": [
           {
            "colorbar": {
             "outlinewidth": 0,
             "ticks": ""
            },
            "colorscale": [
             [
              0,
              "#0d0887"
             ],
             [
              0.1111111111111111,
              "#46039f"
             ],
             [
              0.2222222222222222,
              "#7201a8"
             ],
             [
              0.3333333333333333,
              "#9c179e"
             ],
             [
              0.4444444444444444,
              "#bd3786"
             ],
             [
              0.5555555555555556,
              "#d8576b"
             ],
             [
              0.6666666666666666,
              "#ed7953"
             ],
             [
              0.7777777777777778,
              "#fb9f3a"
             ],
             [
              0.8888888888888888,
              "#fdca26"
             ],
             [
              1,
              "#f0f921"
             ]
            ],
            "type": "heatmap"
           }
          ],
          "heatmapgl": [
           {
            "colorbar": {
             "outlinewidth": 0,
             "ticks": ""
            },
            "colorscale": [
             [
              0,
              "#0d0887"
             ],
             [
              0.1111111111111111,
              "#46039f"
             ],
             [
              0.2222222222222222,
              "#7201a8"
             ],
             [
              0.3333333333333333,
              "#9c179e"
             ],
             [
              0.4444444444444444,
              "#bd3786"
             ],
             [
              0.5555555555555556,
              "#d8576b"
             ],
             [
              0.6666666666666666,
              "#ed7953"
             ],
             [
              0.7777777777777778,
              "#fb9f3a"
             ],
             [
              0.8888888888888888,
              "#fdca26"
             ],
             [
              1,
              "#f0f921"
             ]
            ],
            "type": "heatmapgl"
           }
          ],
          "histogram": [
           {
            "marker": {
             "colorbar": {
              "outlinewidth": 0,
              "ticks": ""
             }
            },
            "type": "histogram"
           }
          ],
          "histogram2d": [
           {
            "colorbar": {
             "outlinewidth": 0,
             "ticks": ""
            },
            "colorscale": [
             [
              0,
              "#0d0887"
             ],
             [
              0.1111111111111111,
              "#46039f"
             ],
             [
              0.2222222222222222,
              "#7201a8"
             ],
             [
              0.3333333333333333,
              "#9c179e"
             ],
             [
              0.4444444444444444,
              "#bd3786"
             ],
             [
              0.5555555555555556,
              "#d8576b"
             ],
             [
              0.6666666666666666,
              "#ed7953"
             ],
             [
              0.7777777777777778,
              "#fb9f3a"
             ],
             [
              0.8888888888888888,
              "#fdca26"
             ],
             [
              1,
              "#f0f921"
             ]
            ],
            "type": "histogram2d"
           }
          ],
          "histogram2dcontour": [
           {
            "colorbar": {
             "outlinewidth": 0,
             "ticks": ""
            },
            "colorscale": [
             [
              0,
              "#0d0887"
             ],
             [
              0.1111111111111111,
              "#46039f"
             ],
             [
              0.2222222222222222,
              "#7201a8"
             ],
             [
              0.3333333333333333,
              "#9c179e"
             ],
             [
              0.4444444444444444,
              "#bd3786"
             ],
             [
              0.5555555555555556,
              "#d8576b"
             ],
             [
              0.6666666666666666,
              "#ed7953"
             ],
             [
              0.7777777777777778,
              "#fb9f3a"
             ],
             [
              0.8888888888888888,
              "#fdca26"
             ],
             [
              1,
              "#f0f921"
             ]
            ],
            "type": "histogram2dcontour"
           }
          ],
          "mesh3d": [
           {
            "colorbar": {
             "outlinewidth": 0,
             "ticks": ""
            },
            "type": "mesh3d"
           }
          ],
          "parcoords": [
           {
            "line": {
             "colorbar": {
              "outlinewidth": 0,
              "ticks": ""
             }
            },
            "type": "parcoords"
           }
          ],
          "pie": [
           {
            "automargin": true,
            "type": "pie"
           }
          ],
          "scatter": [
           {
            "marker": {
             "colorbar": {
              "outlinewidth": 0,
              "ticks": ""
             }
            },
            "type": "scatter"
           }
          ],
          "scatter3d": [
           {
            "line": {
             "colorbar": {
              "outlinewidth": 0,
              "ticks": ""
             }
            },
            "marker": {
             "colorbar": {
              "outlinewidth": 0,
              "ticks": ""
             }
            },
            "type": "scatter3d"
           }
          ],
          "scattercarpet": [
           {
            "marker": {
             "colorbar": {
              "outlinewidth": 0,
              "ticks": ""
             }
            },
            "type": "scattercarpet"
           }
          ],
          "scattergeo": [
           {
            "marker": {
             "colorbar": {
              "outlinewidth": 0,
              "ticks": ""
             }
            },
            "type": "scattergeo"
           }
          ],
          "scattergl": [
           {
            "marker": {
             "colorbar": {
              "outlinewidth": 0,
              "ticks": ""
             }
            },
            "type": "scattergl"
           }
          ],
          "scattermapbox": [
           {
            "marker": {
             "colorbar": {
              "outlinewidth": 0,
              "ticks": ""
             }
            },
            "type": "scattermapbox"
           }
          ],
          "scatterpolar": [
           {
            "marker": {
             "colorbar": {
              "outlinewidth": 0,
              "ticks": ""
             }
            },
            "type": "scatterpolar"
           }
          ],
          "scatterpolargl": [
           {
            "marker": {
             "colorbar": {
              "outlinewidth": 0,
              "ticks": ""
             }
            },
            "type": "scatterpolargl"
           }
          ],
          "scatterternary": [
           {
            "marker": {
             "colorbar": {
              "outlinewidth": 0,
              "ticks": ""
             }
            },
            "type": "scatterternary"
           }
          ],
          "surface": [
           {
            "colorbar": {
             "outlinewidth": 0,
             "ticks": ""
            },
            "colorscale": [
             [
              0,
              "#0d0887"
             ],
             [
              0.1111111111111111,
              "#46039f"
             ],
             [
              0.2222222222222222,
              "#7201a8"
             ],
             [
              0.3333333333333333,
              "#9c179e"
             ],
             [
              0.4444444444444444,
              "#bd3786"
             ],
             [
              0.5555555555555556,
              "#d8576b"
             ],
             [
              0.6666666666666666,
              "#ed7953"
             ],
             [
              0.7777777777777778,
              "#fb9f3a"
             ],
             [
              0.8888888888888888,
              "#fdca26"
             ],
             [
              1,
              "#f0f921"
             ]
            ],
            "type": "surface"
           }
          ],
          "table": [
           {
            "cells": {
             "fill": {
              "color": "#EBF0F8"
             },
             "line": {
              "color": "white"
             }
            },
            "header": {
             "fill": {
              "color": "#C8D4E3"
             },
             "line": {
              "color": "white"
             }
            },
            "type": "table"
           }
          ]
         },
         "layout": {
          "annotationdefaults": {
           "arrowcolor": "#2a3f5f",
           "arrowhead": 0,
           "arrowwidth": 1
          },
          "coloraxis": {
           "colorbar": {
            "outlinewidth": 0,
            "ticks": ""
           }
          },
          "colorscale": {
           "diverging": [
            [
             0,
             "#8e0152"
            ],
            [
             0.1,
             "#c51b7d"
            ],
            [
             0.2,
             "#de77ae"
            ],
            [
             0.3,
             "#f1b6da"
            ],
            [
             0.4,
             "#fde0ef"
            ],
            [
             0.5,
             "#f7f7f7"
            ],
            [
             0.6,
             "#e6f5d0"
            ],
            [
             0.7,
             "#b8e186"
            ],
            [
             0.8,
             "#7fbc41"
            ],
            [
             0.9,
             "#4d9221"
            ],
            [
             1,
             "#276419"
            ]
           ],
           "sequential": [
            [
             0,
             "#0d0887"
            ],
            [
             0.1111111111111111,
             "#46039f"
            ],
            [
             0.2222222222222222,
             "#7201a8"
            ],
            [
             0.3333333333333333,
             "#9c179e"
            ],
            [
             0.4444444444444444,
             "#bd3786"
            ],
            [
             0.5555555555555556,
             "#d8576b"
            ],
            [
             0.6666666666666666,
             "#ed7953"
            ],
            [
             0.7777777777777778,
             "#fb9f3a"
            ],
            [
             0.8888888888888888,
             "#fdca26"
            ],
            [
             1,
             "#f0f921"
            ]
           ],
           "sequentialminus": [
            [
             0,
             "#0d0887"
            ],
            [
             0.1111111111111111,
             "#46039f"
            ],
            [
             0.2222222222222222,
             "#7201a8"
            ],
            [
             0.3333333333333333,
             "#9c179e"
            ],
            [
             0.4444444444444444,
             "#bd3786"
            ],
            [
             0.5555555555555556,
             "#d8576b"
            ],
            [
             0.6666666666666666,
             "#ed7953"
            ],
            [
             0.7777777777777778,
             "#fb9f3a"
            ],
            [
             0.8888888888888888,
             "#fdca26"
            ],
            [
             1,
             "#f0f921"
            ]
           ]
          },
          "colorway": [
           "#636efa",
           "#EF553B",
           "#00cc96",
           "#ab63fa",
           "#FFA15A",
           "#19d3f3",
           "#FF6692",
           "#B6E880",
           "#FF97FF",
           "#FECB52"
          ],
          "font": {
           "color": "#2a3f5f"
          },
          "geo": {
           "bgcolor": "white",
           "lakecolor": "white",
           "landcolor": "#E5ECF6",
           "showlakes": true,
           "showland": true,
           "subunitcolor": "white"
          },
          "hoverlabel": {
           "align": "left"
          },
          "hovermode": "closest",
          "mapbox": {
           "style": "light"
          },
          "paper_bgcolor": "white",
          "plot_bgcolor": "#E5ECF6",
          "polar": {
           "angularaxis": {
            "gridcolor": "white",
            "linecolor": "white",
            "ticks": ""
           },
           "bgcolor": "#E5ECF6",
           "radialaxis": {
            "gridcolor": "white",
            "linecolor": "white",
            "ticks": ""
           }
          },
          "scene": {
           "xaxis": {
            "backgroundcolor": "#E5ECF6",
            "gridcolor": "white",
            "gridwidth": 2,
            "linecolor": "white",
            "showbackground": true,
            "ticks": "",
            "zerolinecolor": "white"
           },
           "yaxis": {
            "backgroundcolor": "#E5ECF6",
            "gridcolor": "white",
            "gridwidth": 2,
            "linecolor": "white",
            "showbackground": true,
            "ticks": "",
            "zerolinecolor": "white"
           },
           "zaxis": {
            "backgroundcolor": "#E5ECF6",
            "gridcolor": "white",
            "gridwidth": 2,
            "linecolor": "white",
            "showbackground": true,
            "ticks": "",
            "zerolinecolor": "white"
           }
          },
          "shapedefaults": {
           "line": {
            "color": "#2a3f5f"
           }
          },
          "ternary": {
           "aaxis": {
            "gridcolor": "white",
            "linecolor": "white",
            "ticks": ""
           },
           "baxis": {
            "gridcolor": "white",
            "linecolor": "white",
            "ticks": ""
           },
           "bgcolor": "#E5ECF6",
           "caxis": {
            "gridcolor": "white",
            "linecolor": "white",
            "ticks": ""
           }
          },
          "title": {
           "x": 0.05
          },
          "xaxis": {
           "automargin": true,
           "gridcolor": "white",
           "linecolor": "white",
           "ticks": "",
           "title": {
            "standoff": 15
           },
           "zerolinecolor": "white",
           "zerolinewidth": 2
          },
          "yaxis": {
           "automargin": true,
           "gridcolor": "white",
           "linecolor": "white",
           "ticks": "",
           "title": {
            "standoff": 15
           },
           "zerolinecolor": "white",
           "zerolinewidth": 2
          }
         }
        }
       }
      },
      "text/html": [
       "<div>\n",
       "        \n",
       "        \n",
       "            <div id=\"71a39e2c-ca12-47b2-931e-70709a4d84af\" class=\"plotly-graph-div\" style=\"height:525px; width:100%;\"></div>\n",
       "            <script type=\"text/javascript\">\n",
       "                require([\"plotly\"], function(Plotly) {\n",
       "                    window.PLOTLYENV=window.PLOTLYENV || {};\n",
       "                    \n",
       "                if (document.getElementById(\"71a39e2c-ca12-47b2-931e-70709a4d84af\")) {\n",
       "                    Plotly.newPlot(\n",
       "                        '71a39e2c-ca12-47b2-931e-70709a4d84af',\n",
       "                        [{\"marker\": {\"size\": [23.700000000000003, 21.400000000000002, 20.5, 20.200000000000003, 19.700000000000003, 19.200000000000003, 18.7, 18.3, 18.3, 17.7]}, \"mode\": \"markers\", \"type\": \"scatter\", \"x\": [0, 1, 2, 3, 4, 5, 6, 7, 8, 9], \"y\": [237, 214, 205, 202, 197, 192, 187, 183, 183, 177]}],\n",
       "                        {\"annotations\": [{\"showarrow\": false, \"text\": \"cleanses\", \"x\": 0, \"xanchor\": \"center\", \"y\": 237, \"yanchor\": \"middle\"}, {\"showarrow\": false, \"text\": \"tested\", \"x\": 1, \"xanchor\": \"center\", \"y\": 214, \"yanchor\": \"middle\"}, {\"showarrow\": false, \"text\": \"moisturizing\", \"x\": 2, \"xanchor\": \"center\", \"y\": 205, \"yanchor\": \"middle\"}, {\"showarrow\": false, \"text\": \"buy\", \"x\": 3, \"xanchor\": \"center\", \"y\": 202, \"yanchor\": \"middle\"}, {\"showarrow\": false, \"text\": \"leaves\", \"x\": 4, \"xanchor\": \"center\", \"y\": 197, \"yanchor\": \"middle\"}, {\"showarrow\": false, \"text\": \"keep\", \"x\": 5, \"xanchor\": \"center\", \"y\": 192, \"yanchor\": \"middle\"}, {\"showarrow\": false, \"text\": \"provides\", \"x\": 6, \"xanchor\": \"center\", \"y\": 187, \"yanchor\": \"middle\"}, {\"showarrow\": false, \"text\": \"leave\", \"x\": 7, \"xanchor\": \"center\", \"y\": 183, \"yanchor\": \"middle\"}, {\"showarrow\": false, \"text\": \"using\", \"x\": 8, \"xanchor\": \"center\", \"y\": 183, \"yanchor\": \"middle\"}, {\"showarrow\": false, \"text\": \"extract\", \"x\": 9, \"xanchor\": \"center\", \"y\": 177, \"yanchor\": \"middle\"}], \"template\": {\"data\": {\"bar\": [{\"error_x\": {\"color\": \"#2a3f5f\"}, \"error_y\": {\"color\": \"#2a3f5f\"}, \"marker\": {\"line\": {\"color\": \"#E5ECF6\", \"width\": 0.5}}, \"type\": \"bar\"}], \"barpolar\": [{\"marker\": {\"line\": {\"color\": \"#E5ECF6\", \"width\": 0.5}}, \"type\": \"barpolar\"}], \"carpet\": [{\"aaxis\": {\"endlinecolor\": \"#2a3f5f\", \"gridcolor\": \"white\", \"linecolor\": \"white\", \"minorgridcolor\": \"white\", \"startlinecolor\": \"#2a3f5f\"}, \"baxis\": {\"endlinecolor\": \"#2a3f5f\", \"gridcolor\": \"white\", \"linecolor\": \"white\", \"minorgridcolor\": \"white\", \"startlinecolor\": \"#2a3f5f\"}, \"type\": \"carpet\"}], \"choropleth\": [{\"colorbar\": {\"outlinewidth\": 0, \"ticks\": \"\"}, \"type\": \"choropleth\"}], \"contour\": [{\"colorbar\": {\"outlinewidth\": 0, \"ticks\": \"\"}, \"colorscale\": [[0.0, \"#0d0887\"], [0.1111111111111111, \"#46039f\"], [0.2222222222222222, \"#7201a8\"], [0.3333333333333333, \"#9c179e\"], [0.4444444444444444, \"#bd3786\"], [0.5555555555555556, \"#d8576b\"], [0.6666666666666666, \"#ed7953\"], [0.7777777777777778, \"#fb9f3a\"], [0.8888888888888888, \"#fdca26\"], [1.0, \"#f0f921\"]], \"type\": \"contour\"}], \"contourcarpet\": [{\"colorbar\": {\"outlinewidth\": 0, \"ticks\": \"\"}, \"type\": \"contourcarpet\"}], \"heatmap\": [{\"colorbar\": {\"outlinewidth\": 0, \"ticks\": \"\"}, \"colorscale\": [[0.0, \"#0d0887\"], [0.1111111111111111, \"#46039f\"], [0.2222222222222222, \"#7201a8\"], [0.3333333333333333, \"#9c179e\"], [0.4444444444444444, \"#bd3786\"], [0.5555555555555556, \"#d8576b\"], [0.6666666666666666, \"#ed7953\"], [0.7777777777777778, \"#fb9f3a\"], [0.8888888888888888, \"#fdca26\"], [1.0, \"#f0f921\"]], \"type\": \"heatmap\"}], \"heatmapgl\": [{\"colorbar\": {\"outlinewidth\": 0, \"ticks\": \"\"}, \"colorscale\": [[0.0, \"#0d0887\"], [0.1111111111111111, \"#46039f\"], [0.2222222222222222, \"#7201a8\"], [0.3333333333333333, \"#9c179e\"], [0.4444444444444444, \"#bd3786\"], [0.5555555555555556, \"#d8576b\"], [0.6666666666666666, \"#ed7953\"], [0.7777777777777778, \"#fb9f3a\"], [0.8888888888888888, \"#fdca26\"], [1.0, \"#f0f921\"]], \"type\": \"heatmapgl\"}], \"histogram\": [{\"marker\": {\"colorbar\": {\"outlinewidth\": 0, \"ticks\": \"\"}}, \"type\": \"histogram\"}], \"histogram2d\": [{\"colorbar\": {\"outlinewidth\": 0, \"ticks\": \"\"}, \"colorscale\": [[0.0, \"#0d0887\"], [0.1111111111111111, \"#46039f\"], [0.2222222222222222, \"#7201a8\"], [0.3333333333333333, \"#9c179e\"], [0.4444444444444444, \"#bd3786\"], [0.5555555555555556, \"#d8576b\"], [0.6666666666666666, \"#ed7953\"], [0.7777777777777778, \"#fb9f3a\"], [0.8888888888888888, \"#fdca26\"], [1.0, \"#f0f921\"]], \"type\": \"histogram2d\"}], \"histogram2dcontour\": [{\"colorbar\": {\"outlinewidth\": 0, \"ticks\": \"\"}, \"colorscale\": [[0.0, \"#0d0887\"], [0.1111111111111111, \"#46039f\"], [0.2222222222222222, \"#7201a8\"], [0.3333333333333333, \"#9c179e\"], [0.4444444444444444, \"#bd3786\"], [0.5555555555555556, \"#d8576b\"], [0.6666666666666666, \"#ed7953\"], [0.7777777777777778, \"#fb9f3a\"], [0.8888888888888888, \"#fdca26\"], [1.0, \"#f0f921\"]], \"type\": \"histogram2dcontour\"}], \"mesh3d\": [{\"colorbar\": {\"outlinewidth\": 0, \"ticks\": \"\"}, \"type\": \"mesh3d\"}], \"parcoords\": [{\"line\": {\"colorbar\": {\"outlinewidth\": 0, \"ticks\": \"\"}}, \"type\": \"parcoords\"}], \"pie\": [{\"automargin\": true, \"type\": \"pie\"}], \"scatter\": [{\"marker\": {\"colorbar\": {\"outlinewidth\": 0, \"ticks\": \"\"}}, \"type\": \"scatter\"}], \"scatter3d\": [{\"line\": {\"colorbar\": {\"outlinewidth\": 0, \"ticks\": \"\"}}, \"marker\": {\"colorbar\": {\"outlinewidth\": 0, \"ticks\": \"\"}}, \"type\": \"scatter3d\"}], \"scattercarpet\": [{\"marker\": {\"colorbar\": {\"outlinewidth\": 0, \"ticks\": \"\"}}, \"type\": \"scattercarpet\"}], \"scattergeo\": [{\"marker\": {\"colorbar\": {\"outlinewidth\": 0, \"ticks\": \"\"}}, \"type\": \"scattergeo\"}], \"scattergl\": [{\"marker\": {\"colorbar\": {\"outlinewidth\": 0, \"ticks\": \"\"}}, \"type\": \"scattergl\"}], \"scattermapbox\": [{\"marker\": {\"colorbar\": {\"outlinewidth\": 0, \"ticks\": \"\"}}, \"type\": \"scattermapbox\"}], \"scatterpolar\": [{\"marker\": {\"colorbar\": {\"outlinewidth\": 0, \"ticks\": \"\"}}, \"type\": \"scatterpolar\"}], \"scatterpolargl\": [{\"marker\": {\"colorbar\": {\"outlinewidth\": 0, \"ticks\": \"\"}}, \"type\": \"scatterpolargl\"}], \"scatterternary\": [{\"marker\": {\"colorbar\": {\"outlinewidth\": 0, \"ticks\": \"\"}}, \"type\": \"scatterternary\"}], \"surface\": [{\"colorbar\": {\"outlinewidth\": 0, \"ticks\": \"\"}, \"colorscale\": [[0.0, \"#0d0887\"], [0.1111111111111111, \"#46039f\"], [0.2222222222222222, \"#7201a8\"], [0.3333333333333333, \"#9c179e\"], [0.4444444444444444, \"#bd3786\"], [0.5555555555555556, \"#d8576b\"], [0.6666666666666666, \"#ed7953\"], [0.7777777777777778, \"#fb9f3a\"], [0.8888888888888888, \"#fdca26\"], [1.0, \"#f0f921\"]], \"type\": \"surface\"}], \"table\": [{\"cells\": {\"fill\": {\"color\": \"#EBF0F8\"}, \"line\": {\"color\": \"white\"}}, \"header\": {\"fill\": {\"color\": \"#C8D4E3\"}, \"line\": {\"color\": \"white\"}}, \"type\": \"table\"}]}, \"layout\": {\"annotationdefaults\": {\"arrowcolor\": \"#2a3f5f\", \"arrowhead\": 0, \"arrowwidth\": 1}, \"coloraxis\": {\"colorbar\": {\"outlinewidth\": 0, \"ticks\": \"\"}}, \"colorscale\": {\"diverging\": [[0, \"#8e0152\"], [0.1, \"#c51b7d\"], [0.2, \"#de77ae\"], [0.3, \"#f1b6da\"], [0.4, \"#fde0ef\"], [0.5, \"#f7f7f7\"], [0.6, \"#e6f5d0\"], [0.7, \"#b8e186\"], [0.8, \"#7fbc41\"], [0.9, \"#4d9221\"], [1, \"#276419\"]], \"sequential\": [[0.0, \"#0d0887\"], [0.1111111111111111, \"#46039f\"], [0.2222222222222222, \"#7201a8\"], [0.3333333333333333, \"#9c179e\"], [0.4444444444444444, \"#bd3786\"], [0.5555555555555556, \"#d8576b\"], [0.6666666666666666, \"#ed7953\"], [0.7777777777777778, \"#fb9f3a\"], [0.8888888888888888, \"#fdca26\"], [1.0, \"#f0f921\"]], \"sequentialminus\": [[0.0, \"#0d0887\"], [0.1111111111111111, \"#46039f\"], [0.2222222222222222, \"#7201a8\"], [0.3333333333333333, \"#9c179e\"], [0.4444444444444444, \"#bd3786\"], [0.5555555555555556, \"#d8576b\"], [0.6666666666666666, \"#ed7953\"], [0.7777777777777778, \"#fb9f3a\"], [0.8888888888888888, \"#fdca26\"], [1.0, \"#f0f921\"]]}, \"colorway\": [\"#636efa\", \"#EF553B\", \"#00cc96\", \"#ab63fa\", \"#FFA15A\", \"#19d3f3\", \"#FF6692\", \"#B6E880\", \"#FF97FF\", \"#FECB52\"], \"font\": {\"color\": \"#2a3f5f\"}, \"geo\": {\"bgcolor\": \"white\", \"lakecolor\": \"white\", \"landcolor\": \"#E5ECF6\", \"showlakes\": true, \"showland\": true, \"subunitcolor\": \"white\"}, \"hoverlabel\": {\"align\": \"left\"}, \"hovermode\": \"closest\", \"mapbox\": {\"style\": \"light\"}, \"paper_bgcolor\": \"white\", \"plot_bgcolor\": \"#E5ECF6\", \"polar\": {\"angularaxis\": {\"gridcolor\": \"white\", \"linecolor\": \"white\", \"ticks\": \"\"}, \"bgcolor\": \"#E5ECF6\", \"radialaxis\": {\"gridcolor\": \"white\", \"linecolor\": \"white\", \"ticks\": \"\"}}, \"scene\": {\"xaxis\": {\"backgroundcolor\": \"#E5ECF6\", \"gridcolor\": \"white\", \"gridwidth\": 2, \"linecolor\": \"white\", \"showbackground\": true, \"ticks\": \"\", \"zerolinecolor\": \"white\"}, \"yaxis\": {\"backgroundcolor\": \"#E5ECF6\", \"gridcolor\": \"white\", \"gridwidth\": 2, \"linecolor\": \"white\", \"showbackground\": true, \"ticks\": \"\", \"zerolinecolor\": \"white\"}, \"zaxis\": {\"backgroundcolor\": \"#E5ECF6\", \"gridcolor\": \"white\", \"gridwidth\": 2, \"linecolor\": \"white\", \"showbackground\": true, \"ticks\": \"\", \"zerolinecolor\": \"white\"}}, \"shapedefaults\": {\"line\": {\"color\": \"#2a3f5f\"}}, \"ternary\": {\"aaxis\": {\"gridcolor\": \"white\", \"linecolor\": \"white\", \"ticks\": \"\"}, \"baxis\": {\"gridcolor\": \"white\", \"linecolor\": \"white\", \"ticks\": \"\"}, \"bgcolor\": \"#E5ECF6\", \"caxis\": {\"gridcolor\": \"white\", \"linecolor\": \"white\", \"ticks\": \"\"}}, \"title\": {\"x\": 0.05}, \"xaxis\": {\"automargin\": true, \"gridcolor\": \"white\", \"linecolor\": \"white\", \"ticks\": \"\", \"title\": {\"standoff\": 15}, \"zerolinecolor\": \"white\", \"zerolinewidth\": 2}, \"yaxis\": {\"automargin\": true, \"gridcolor\": \"white\", \"linecolor\": \"white\", \"ticks\": \"\", \"title\": {\"standoff\": 15}, \"zerolinecolor\": \"white\", \"zerolinewidth\": 2}}}},\n",
       "                        {\"responsive\": true}\n",
       "                    ).then(function(){\n",
       "                            \n",
       "var gd = document.getElementById('71a39e2c-ca12-47b2-931e-70709a4d84af');\n",
       "var x = new MutationObserver(function (mutations, observer) {{\n",
       "        var display = window.getComputedStyle(gd).display;\n",
       "        if (!display || display === 'none') {{\n",
       "            console.log([gd, 'removed!']);\n",
       "            Plotly.purge(gd);\n",
       "            observer.disconnect();\n",
       "        }}\n",
       "}});\n",
       "\n",
       "// Listen for the removal of the full notebook cells\n",
       "var notebookContainer = gd.closest('#notebook-container');\n",
       "if (notebookContainer) {{\n",
       "    x.observe(notebookContainer, {childList: true});\n",
       "}}\n",
       "\n",
       "// Listen for the clearing of the current output cell\n",
       "var outputEl = gd.closest('.output');\n",
       "if (outputEl) {{\n",
       "    x.observe(outputEl, {childList: true});\n",
       "}}\n",
       "\n",
       "                        })\n",
       "                };\n",
       "                });\n",
       "            </script>\n",
       "        </div>"
      ]
     },
     "metadata": {},
     "output_type": "display_data"
    },
    {
     "data": {
      "application/vnd.plotly.v1+json": {
       "config": {
        "plotlyServerURL": "https://plot.ly"
       },
       "data": [
        {
         "marker": {
          "size": [
           73,
           63.800000000000004,
           55.300000000000004,
           52.5,
           44,
           36.2,
           35.6,
           33.800000000000004,
           30.400000000000002,
           29
          ]
         },
         "mode": "markers",
         "type": "scatter",
         "x": [
          0,
          1,
          2,
          3,
          4,
          5,
          6,
          7,
          8,
          9
         ],
         "y": [
          730,
          638,
          553,
          525,
          440,
          362,
          356,
          338,
          304,
          290
         ]
        }
       ],
       "layout": {
        "annotations": [
         {
          "showarrow": false,
          "text": "oil",
          "x": 0,
          "xanchor": "center",
          "y": 730,
          "yanchor": "middle"
         },
         {
          "showarrow": false,
          "text": "sodium",
          "x": 1,
          "xanchor": "center",
          "y": 638,
          "yanchor": "middle"
         },
         {
          "showarrow": false,
          "text": "foam",
          "x": 2,
          "xanchor": "center",
          "y": 553,
          "yanchor": "middle"
         },
         {
          "showarrow": false,
          "text": "soaps",
          "x": 3,
          "xanchor": "center",
          "y": 525,
          "yanchor": "middle"
         },
         {
          "showarrow": false,
          "text": "vegetable",
          "x": 4,
          "xanchor": "center",
          "y": 440,
          "yanchor": "middle"
         },
         {
          "showarrow": false,
          "text": "fragrance",
          "x": 5,
          "xanchor": "center",
          "y": 362,
          "yanchor": "middle"
         },
         {
          "showarrow": false,
          "text": "action",
          "x": 6,
          "xanchor": "center",
          "y": 356,
          "yanchor": "middle"
         },
         {
          "showarrow": false,
          "text": "rinse",
          "x": 7,
          "xanchor": "center",
          "y": 338,
          "yanchor": "middle"
         },
         {
          "showarrow": false,
          "text": "addition",
          "x": 8,
          "xanchor": "center",
          "y": 304,
          "yanchor": "middle"
         },
         {
          "showarrow": false,
          "text": "bath",
          "x": 9,
          "xanchor": "center",
          "y": 290,
          "yanchor": "middle"
         }
        ],
        "template": {
         "data": {
          "bar": [
           {
            "error_x": {
             "color": "#2a3f5f"
            },
            "error_y": {
             "color": "#2a3f5f"
            },
            "marker": {
             "line": {
              "color": "#E5ECF6",
              "width": 0.5
             }
            },
            "type": "bar"
           }
          ],
          "barpolar": [
           {
            "marker": {
             "line": {
              "color": "#E5ECF6",
              "width": 0.5
             }
            },
            "type": "barpolar"
           }
          ],
          "carpet": [
           {
            "aaxis": {
             "endlinecolor": "#2a3f5f",
             "gridcolor": "white",
             "linecolor": "white",
             "minorgridcolor": "white",
             "startlinecolor": "#2a3f5f"
            },
            "baxis": {
             "endlinecolor": "#2a3f5f",
             "gridcolor": "white",
             "linecolor": "white",
             "minorgridcolor": "white",
             "startlinecolor": "#2a3f5f"
            },
            "type": "carpet"
           }
          ],
          "choropleth": [
           {
            "colorbar": {
             "outlinewidth": 0,
             "ticks": ""
            },
            "type": "choropleth"
           }
          ],
          "contour": [
           {
            "colorbar": {
             "outlinewidth": 0,
             "ticks": ""
            },
            "colorscale": [
             [
              0,
              "#0d0887"
             ],
             [
              0.1111111111111111,
              "#46039f"
             ],
             [
              0.2222222222222222,
              "#7201a8"
             ],
             [
              0.3333333333333333,
              "#9c179e"
             ],
             [
              0.4444444444444444,
              "#bd3786"
             ],
             [
              0.5555555555555556,
              "#d8576b"
             ],
             [
              0.6666666666666666,
              "#ed7953"
             ],
             [
              0.7777777777777778,
              "#fb9f3a"
             ],
             [
              0.8888888888888888,
              "#fdca26"
             ],
             [
              1,
              "#f0f921"
             ]
            ],
            "type": "contour"
           }
          ],
          "contourcarpet": [
           {
            "colorbar": {
             "outlinewidth": 0,
             "ticks": ""
            },
            "type": "contourcarpet"
           }
          ],
          "heatmap": [
           {
            "colorbar": {
             "outlinewidth": 0,
             "ticks": ""
            },
            "colorscale": [
             [
              0,
              "#0d0887"
             ],
             [
              0.1111111111111111,
              "#46039f"
             ],
             [
              0.2222222222222222,
              "#7201a8"
             ],
             [
              0.3333333333333333,
              "#9c179e"
             ],
             [
              0.4444444444444444,
              "#bd3786"
             ],
             [
              0.5555555555555556,
              "#d8576b"
             ],
             [
              0.6666666666666666,
              "#ed7953"
             ],
             [
              0.7777777777777778,
              "#fb9f3a"
             ],
             [
              0.8888888888888888,
              "#fdca26"
             ],
             [
              1,
              "#f0f921"
             ]
            ],
            "type": "heatmap"
           }
          ],
          "heatmapgl": [
           {
            "colorbar": {
             "outlinewidth": 0,
             "ticks": ""
            },
            "colorscale": [
             [
              0,
              "#0d0887"
             ],
             [
              0.1111111111111111,
              "#46039f"
             ],
             [
              0.2222222222222222,
              "#7201a8"
             ],
             [
              0.3333333333333333,
              "#9c179e"
             ],
             [
              0.4444444444444444,
              "#bd3786"
             ],
             [
              0.5555555555555556,
              "#d8576b"
             ],
             [
              0.6666666666666666,
              "#ed7953"
             ],
             [
              0.7777777777777778,
              "#fb9f3a"
             ],
             [
              0.8888888888888888,
              "#fdca26"
             ],
             [
              1,
              "#f0f921"
             ]
            ],
            "type": "heatmapgl"
           }
          ],
          "histogram": [
           {
            "marker": {
             "colorbar": {
              "outlinewidth": 0,
              "ticks": ""
             }
            },
            "type": "histogram"
           }
          ],
          "histogram2d": [
           {
            "colorbar": {
             "outlinewidth": 0,
             "ticks": ""
            },
            "colorscale": [
             [
              0,
              "#0d0887"
             ],
             [
              0.1111111111111111,
              "#46039f"
             ],
             [
              0.2222222222222222,
              "#7201a8"
             ],
             [
              0.3333333333333333,
              "#9c179e"
             ],
             [
              0.4444444444444444,
              "#bd3786"
             ],
             [
              0.5555555555555556,
              "#d8576b"
             ],
             [
              0.6666666666666666,
              "#ed7953"
             ],
             [
              0.7777777777777778,
              "#fb9f3a"
             ],
             [
              0.8888888888888888,
              "#fdca26"
             ],
             [
              1,
              "#f0f921"
             ]
            ],
            "type": "histogram2d"
           }
          ],
          "histogram2dcontour": [
           {
            "colorbar": {
             "outlinewidth": 0,
             "ticks": ""
            },
            "colorscale": [
             [
              0,
              "#0d0887"
             ],
             [
              0.1111111111111111,
              "#46039f"
             ],
             [
              0.2222222222222222,
              "#7201a8"
             ],
             [
              0.3333333333333333,
              "#9c179e"
             ],
             [
              0.4444444444444444,
              "#bd3786"
             ],
             [
              0.5555555555555556,
              "#d8576b"
             ],
             [
              0.6666666666666666,
              "#ed7953"
             ],
             [
              0.7777777777777778,
              "#fb9f3a"
             ],
             [
              0.8888888888888888,
              "#fdca26"
             ],
             [
              1,
              "#f0f921"
             ]
            ],
            "type": "histogram2dcontour"
           }
          ],
          "mesh3d": [
           {
            "colorbar": {
             "outlinewidth": 0,
             "ticks": ""
            },
            "type": "mesh3d"
           }
          ],
          "parcoords": [
           {
            "line": {
             "colorbar": {
              "outlinewidth": 0,
              "ticks": ""
             }
            },
            "type": "parcoords"
           }
          ],
          "pie": [
           {
            "automargin": true,
            "type": "pie"
           }
          ],
          "scatter": [
           {
            "marker": {
             "colorbar": {
              "outlinewidth": 0,
              "ticks": ""
             }
            },
            "type": "scatter"
           }
          ],
          "scatter3d": [
           {
            "line": {
             "colorbar": {
              "outlinewidth": 0,
              "ticks": ""
             }
            },
            "marker": {
             "colorbar": {
              "outlinewidth": 0,
              "ticks": ""
             }
            },
            "type": "scatter3d"
           }
          ],
          "scattercarpet": [
           {
            "marker": {
             "colorbar": {
              "outlinewidth": 0,
              "ticks": ""
             }
            },
            "type": "scattercarpet"
           }
          ],
          "scattergeo": [
           {
            "marker": {
             "colorbar": {
              "outlinewidth": 0,
              "ticks": ""
             }
            },
            "type": "scattergeo"
           }
          ],
          "scattergl": [
           {
            "marker": {
             "colorbar": {
              "outlinewidth": 0,
              "ticks": ""
             }
            },
            "type": "scattergl"
           }
          ],
          "scattermapbox": [
           {
            "marker": {
             "colorbar": {
              "outlinewidth": 0,
              "ticks": ""
             }
            },
            "type": "scattermapbox"
           }
          ],
          "scatterpolar": [
           {
            "marker": {
             "colorbar": {
              "outlinewidth": 0,
              "ticks": ""
             }
            },
            "type": "scatterpolar"
           }
          ],
          "scatterpolargl": [
           {
            "marker": {
             "colorbar": {
              "outlinewidth": 0,
              "ticks": ""
             }
            },
            "type": "scatterpolargl"
           }
          ],
          "scatterternary": [
           {
            "marker": {
             "colorbar": {
              "outlinewidth": 0,
              "ticks": ""
             }
            },
            "type": "scatterternary"
           }
          ],
          "surface": [
           {
            "colorbar": {
             "outlinewidth": 0,
             "ticks": ""
            },
            "colorscale": [
             [
              0,
              "#0d0887"
             ],
             [
              0.1111111111111111,
              "#46039f"
             ],
             [
              0.2222222222222222,
              "#7201a8"
             ],
             [
              0.3333333333333333,
              "#9c179e"
             ],
             [
              0.4444444444444444,
              "#bd3786"
             ],
             [
              0.5555555555555556,
              "#d8576b"
             ],
             [
              0.6666666666666666,
              "#ed7953"
             ],
             [
              0.7777777777777778,
              "#fb9f3a"
             ],
             [
              0.8888888888888888,
              "#fdca26"
             ],
             [
              1,
              "#f0f921"
             ]
            ],
            "type": "surface"
           }
          ],
          "table": [
           {
            "cells": {
             "fill": {
              "color": "#EBF0F8"
             },
             "line": {
              "color": "white"
             }
            },
            "header": {
             "fill": {
              "color": "#C8D4E3"
             },
             "line": {
              "color": "white"
             }
            },
            "type": "table"
           }
          ]
         },
         "layout": {
          "annotationdefaults": {
           "arrowcolor": "#2a3f5f",
           "arrowhead": 0,
           "arrowwidth": 1
          },
          "coloraxis": {
           "colorbar": {
            "outlinewidth": 0,
            "ticks": ""
           }
          },
          "colorscale": {
           "diverging": [
            [
             0,
             "#8e0152"
            ],
            [
             0.1,
             "#c51b7d"
            ],
            [
             0.2,
             "#de77ae"
            ],
            [
             0.3,
             "#f1b6da"
            ],
            [
             0.4,
             "#fde0ef"
            ],
            [
             0.5,
             "#f7f7f7"
            ],
            [
             0.6,
             "#e6f5d0"
            ],
            [
             0.7,
             "#b8e186"
            ],
            [
             0.8,
             "#7fbc41"
            ],
            [
             0.9,
             "#4d9221"
            ],
            [
             1,
             "#276419"
            ]
           ],
           "sequential": [
            [
             0,
             "#0d0887"
            ],
            [
             0.1111111111111111,
             "#46039f"
            ],
            [
             0.2222222222222222,
             "#7201a8"
            ],
            [
             0.3333333333333333,
             "#9c179e"
            ],
            [
             0.4444444444444444,
             "#bd3786"
            ],
            [
             0.5555555555555556,
             "#d8576b"
            ],
            [
             0.6666666666666666,
             "#ed7953"
            ],
            [
             0.7777777777777778,
             "#fb9f3a"
            ],
            [
             0.8888888888888888,
             "#fdca26"
            ],
            [
             1,
             "#f0f921"
            ]
           ],
           "sequentialminus": [
            [
             0,
             "#0d0887"
            ],
            [
             0.1111111111111111,
             "#46039f"
            ],
            [
             0.2222222222222222,
             "#7201a8"
            ],
            [
             0.3333333333333333,
             "#9c179e"
            ],
            [
             0.4444444444444444,
             "#bd3786"
            ],
            [
             0.5555555555555556,
             "#d8576b"
            ],
            [
             0.6666666666666666,
             "#ed7953"
            ],
            [
             0.7777777777777778,
             "#fb9f3a"
            ],
            [
             0.8888888888888888,
             "#fdca26"
            ],
            [
             1,
             "#f0f921"
            ]
           ]
          },
          "colorway": [
           "#636efa",
           "#EF553B",
           "#00cc96",
           "#ab63fa",
           "#FFA15A",
           "#19d3f3",
           "#FF6692",
           "#B6E880",
           "#FF97FF",
           "#FECB52"
          ],
          "font": {
           "color": "#2a3f5f"
          },
          "geo": {
           "bgcolor": "white",
           "lakecolor": "white",
           "landcolor": "#E5ECF6",
           "showlakes": true,
           "showland": true,
           "subunitcolor": "white"
          },
          "hoverlabel": {
           "align": "left"
          },
          "hovermode": "closest",
          "mapbox": {
           "style": "light"
          },
          "paper_bgcolor": "white",
          "plot_bgcolor": "#E5ECF6",
          "polar": {
           "angularaxis": {
            "gridcolor": "white",
            "linecolor": "white",
            "ticks": ""
           },
           "bgcolor": "#E5ECF6",
           "radialaxis": {
            "gridcolor": "white",
            "linecolor": "white",
            "ticks": ""
           }
          },
          "scene": {
           "xaxis": {
            "backgroundcolor": "#E5ECF6",
            "gridcolor": "white",
            "gridwidth": 2,
            "linecolor": "white",
            "showbackground": true,
            "ticks": "",
            "zerolinecolor": "white"
           },
           "yaxis": {
            "backgroundcolor": "#E5ECF6",
            "gridcolor": "white",
            "gridwidth": 2,
            "linecolor": "white",
            "showbackground": true,
            "ticks": "",
            "zerolinecolor": "white"
           },
           "zaxis": {
            "backgroundcolor": "#E5ECF6",
            "gridcolor": "white",
            "gridwidth": 2,
            "linecolor": "white",
            "showbackground": true,
            "ticks": "",
            "zerolinecolor": "white"
           }
          },
          "shapedefaults": {
           "line": {
            "color": "#2a3f5f"
           }
          },
          "ternary": {
           "aaxis": {
            "gridcolor": "white",
            "linecolor": "white",
            "ticks": ""
           },
           "baxis": {
            "gridcolor": "white",
            "linecolor": "white",
            "ticks": ""
           },
           "bgcolor": "#E5ECF6",
           "caxis": {
            "gridcolor": "white",
            "linecolor": "white",
            "ticks": ""
           }
          },
          "title": {
           "x": 0.05
          },
          "xaxis": {
           "automargin": true,
           "gridcolor": "white",
           "linecolor": "white",
           "ticks": "",
           "title": {
            "standoff": 15
           },
           "zerolinecolor": "white",
           "zerolinewidth": 2
          },
          "yaxis": {
           "automargin": true,
           "gridcolor": "white",
           "linecolor": "white",
           "ticks": "",
           "title": {
            "standoff": 15
           },
           "zerolinecolor": "white",
           "zerolinewidth": 2
          }
         }
        }
       }
      },
      "text/html": [
       "<div>\n",
       "        \n",
       "        \n",
       "            <div id=\"fbc92c45-db7c-4f5f-9ac2-6af5ba8f46ac\" class=\"plotly-graph-div\" style=\"height:525px; width:100%;\"></div>\n",
       "            <script type=\"text/javascript\">\n",
       "                require([\"plotly\"], function(Plotly) {\n",
       "                    window.PLOTLYENV=window.PLOTLYENV || {};\n",
       "                    \n",
       "                if (document.getElementById(\"fbc92c45-db7c-4f5f-9ac2-6af5ba8f46ac\")) {\n",
       "                    Plotly.newPlot(\n",
       "                        'fbc92c45-db7c-4f5f-9ac2-6af5ba8f46ac',\n",
       "                        [{\"marker\": {\"size\": [73.0, 63.800000000000004, 55.300000000000004, 52.5, 44.0, 36.2, 35.6, 33.800000000000004, 30.400000000000002, 29.0]}, \"mode\": \"markers\", \"type\": \"scatter\", \"x\": [0, 1, 2, 3, 4, 5, 6, 7, 8, 9], \"y\": [730, 638, 553, 525, 440, 362, 356, 338, 304, 290]}],\n",
       "                        {\"annotations\": [{\"showarrow\": false, \"text\": \"oil\", \"x\": 0, \"xanchor\": \"center\", \"y\": 730, \"yanchor\": \"middle\"}, {\"showarrow\": false, \"text\": \"sodium\", \"x\": 1, \"xanchor\": \"center\", \"y\": 638, \"yanchor\": \"middle\"}, {\"showarrow\": false, \"text\": \"foam\", \"x\": 2, \"xanchor\": \"center\", \"y\": 553, \"yanchor\": \"middle\"}, {\"showarrow\": false, \"text\": \"soaps\", \"x\": 3, \"xanchor\": \"center\", \"y\": 525, \"yanchor\": \"middle\"}, {\"showarrow\": false, \"text\": \"vegetable\", \"x\": 4, \"xanchor\": \"center\", \"y\": 440, \"yanchor\": \"middle\"}, {\"showarrow\": false, \"text\": \"fragrance\", \"x\": 5, \"xanchor\": \"center\", \"y\": 362, \"yanchor\": \"middle\"}, {\"showarrow\": false, \"text\": \"action\", \"x\": 6, \"xanchor\": \"center\", \"y\": 356, \"yanchor\": \"middle\"}, {\"showarrow\": false, \"text\": \"rinse\", \"x\": 7, \"xanchor\": \"center\", \"y\": 338, \"yanchor\": \"middle\"}, {\"showarrow\": false, \"text\": \"addition\", \"x\": 8, \"xanchor\": \"center\", \"y\": 304, \"yanchor\": \"middle\"}, {\"showarrow\": false, \"text\": \"bath\", \"x\": 9, \"xanchor\": \"center\", \"y\": 290, \"yanchor\": \"middle\"}], \"template\": {\"data\": {\"bar\": [{\"error_x\": {\"color\": \"#2a3f5f\"}, \"error_y\": {\"color\": \"#2a3f5f\"}, \"marker\": {\"line\": {\"color\": \"#E5ECF6\", \"width\": 0.5}}, \"type\": \"bar\"}], \"barpolar\": [{\"marker\": {\"line\": {\"color\": \"#E5ECF6\", \"width\": 0.5}}, \"type\": \"barpolar\"}], \"carpet\": [{\"aaxis\": {\"endlinecolor\": \"#2a3f5f\", \"gridcolor\": \"white\", \"linecolor\": \"white\", \"minorgridcolor\": \"white\", \"startlinecolor\": \"#2a3f5f\"}, \"baxis\": {\"endlinecolor\": \"#2a3f5f\", \"gridcolor\": \"white\", \"linecolor\": \"white\", \"minorgridcolor\": \"white\", \"startlinecolor\": \"#2a3f5f\"}, \"type\": \"carpet\"}], \"choropleth\": [{\"colorbar\": {\"outlinewidth\": 0, \"ticks\": \"\"}, \"type\": \"choropleth\"}], \"contour\": [{\"colorbar\": {\"outlinewidth\": 0, \"ticks\": \"\"}, \"colorscale\": [[0.0, \"#0d0887\"], [0.1111111111111111, \"#46039f\"], [0.2222222222222222, \"#7201a8\"], [0.3333333333333333, \"#9c179e\"], [0.4444444444444444, \"#bd3786\"], [0.5555555555555556, \"#d8576b\"], [0.6666666666666666, \"#ed7953\"], [0.7777777777777778, \"#fb9f3a\"], [0.8888888888888888, \"#fdca26\"], [1.0, \"#f0f921\"]], \"type\": \"contour\"}], \"contourcarpet\": [{\"colorbar\": {\"outlinewidth\": 0, \"ticks\": \"\"}, \"type\": \"contourcarpet\"}], \"heatmap\": [{\"colorbar\": {\"outlinewidth\": 0, \"ticks\": \"\"}, \"colorscale\": [[0.0, \"#0d0887\"], [0.1111111111111111, \"#46039f\"], [0.2222222222222222, \"#7201a8\"], [0.3333333333333333, \"#9c179e\"], [0.4444444444444444, \"#bd3786\"], [0.5555555555555556, \"#d8576b\"], [0.6666666666666666, \"#ed7953\"], [0.7777777777777778, \"#fb9f3a\"], [0.8888888888888888, \"#fdca26\"], [1.0, \"#f0f921\"]], \"type\": \"heatmap\"}], \"heatmapgl\": [{\"colorbar\": {\"outlinewidth\": 0, \"ticks\": \"\"}, \"colorscale\": [[0.0, \"#0d0887\"], [0.1111111111111111, \"#46039f\"], [0.2222222222222222, \"#7201a8\"], [0.3333333333333333, \"#9c179e\"], [0.4444444444444444, \"#bd3786\"], [0.5555555555555556, \"#d8576b\"], [0.6666666666666666, \"#ed7953\"], [0.7777777777777778, \"#fb9f3a\"], [0.8888888888888888, \"#fdca26\"], [1.0, \"#f0f921\"]], \"type\": \"heatmapgl\"}], \"histogram\": [{\"marker\": {\"colorbar\": {\"outlinewidth\": 0, \"ticks\": \"\"}}, \"type\": \"histogram\"}], \"histogram2d\": [{\"colorbar\": {\"outlinewidth\": 0, \"ticks\": \"\"}, \"colorscale\": [[0.0, \"#0d0887\"], [0.1111111111111111, \"#46039f\"], [0.2222222222222222, \"#7201a8\"], [0.3333333333333333, \"#9c179e\"], [0.4444444444444444, \"#bd3786\"], [0.5555555555555556, \"#d8576b\"], [0.6666666666666666, \"#ed7953\"], [0.7777777777777778, \"#fb9f3a\"], [0.8888888888888888, \"#fdca26\"], [1.0, \"#f0f921\"]], \"type\": \"histogram2d\"}], \"histogram2dcontour\": [{\"colorbar\": {\"outlinewidth\": 0, \"ticks\": \"\"}, \"colorscale\": [[0.0, \"#0d0887\"], [0.1111111111111111, \"#46039f\"], [0.2222222222222222, \"#7201a8\"], [0.3333333333333333, \"#9c179e\"], [0.4444444444444444, \"#bd3786\"], [0.5555555555555556, \"#d8576b\"], [0.6666666666666666, \"#ed7953\"], [0.7777777777777778, \"#fb9f3a\"], [0.8888888888888888, \"#fdca26\"], [1.0, \"#f0f921\"]], \"type\": \"histogram2dcontour\"}], \"mesh3d\": [{\"colorbar\": {\"outlinewidth\": 0, \"ticks\": \"\"}, \"type\": \"mesh3d\"}], \"parcoords\": [{\"line\": {\"colorbar\": {\"outlinewidth\": 0, \"ticks\": \"\"}}, \"type\": \"parcoords\"}], \"pie\": [{\"automargin\": true, \"type\": \"pie\"}], \"scatter\": [{\"marker\": {\"colorbar\": {\"outlinewidth\": 0, \"ticks\": \"\"}}, \"type\": \"scatter\"}], \"scatter3d\": [{\"line\": {\"colorbar\": {\"outlinewidth\": 0, \"ticks\": \"\"}}, \"marker\": {\"colorbar\": {\"outlinewidth\": 0, \"ticks\": \"\"}}, \"type\": \"scatter3d\"}], \"scattercarpet\": [{\"marker\": {\"colorbar\": {\"outlinewidth\": 0, \"ticks\": \"\"}}, \"type\": \"scattercarpet\"}], \"scattergeo\": [{\"marker\": {\"colorbar\": {\"outlinewidth\": 0, \"ticks\": \"\"}}, \"type\": \"scattergeo\"}], \"scattergl\": [{\"marker\": {\"colorbar\": {\"outlinewidth\": 0, \"ticks\": \"\"}}, \"type\": \"scattergl\"}], \"scattermapbox\": [{\"marker\": {\"colorbar\": {\"outlinewidth\": 0, \"ticks\": \"\"}}, \"type\": \"scattermapbox\"}], \"scatterpolar\": [{\"marker\": {\"colorbar\": {\"outlinewidth\": 0, \"ticks\": \"\"}}, \"type\": \"scatterpolar\"}], \"scatterpolargl\": [{\"marker\": {\"colorbar\": {\"outlinewidth\": 0, \"ticks\": \"\"}}, \"type\": \"scatterpolargl\"}], \"scatterternary\": [{\"marker\": {\"colorbar\": {\"outlinewidth\": 0, \"ticks\": \"\"}}, \"type\": \"scatterternary\"}], \"surface\": [{\"colorbar\": {\"outlinewidth\": 0, \"ticks\": \"\"}, \"colorscale\": [[0.0, \"#0d0887\"], [0.1111111111111111, \"#46039f\"], [0.2222222222222222, \"#7201a8\"], [0.3333333333333333, \"#9c179e\"], [0.4444444444444444, \"#bd3786\"], [0.5555555555555556, \"#d8576b\"], [0.6666666666666666, \"#ed7953\"], [0.7777777777777778, \"#fb9f3a\"], [0.8888888888888888, \"#fdca26\"], [1.0, \"#f0f921\"]], \"type\": \"surface\"}], \"table\": [{\"cells\": {\"fill\": {\"color\": \"#EBF0F8\"}, \"line\": {\"color\": \"white\"}}, \"header\": {\"fill\": {\"color\": \"#C8D4E3\"}, \"line\": {\"color\": \"white\"}}, \"type\": \"table\"}]}, \"layout\": {\"annotationdefaults\": {\"arrowcolor\": \"#2a3f5f\", \"arrowhead\": 0, \"arrowwidth\": 1}, \"coloraxis\": {\"colorbar\": {\"outlinewidth\": 0, \"ticks\": \"\"}}, \"colorscale\": {\"diverging\": [[0, \"#8e0152\"], [0.1, \"#c51b7d\"], [0.2, \"#de77ae\"], [0.3, \"#f1b6da\"], [0.4, \"#fde0ef\"], [0.5, \"#f7f7f7\"], [0.6, \"#e6f5d0\"], [0.7, \"#b8e186\"], [0.8, \"#7fbc41\"], [0.9, \"#4d9221\"], [1, \"#276419\"]], \"sequential\": [[0.0, \"#0d0887\"], [0.1111111111111111, \"#46039f\"], [0.2222222222222222, \"#7201a8\"], [0.3333333333333333, \"#9c179e\"], [0.4444444444444444, \"#bd3786\"], [0.5555555555555556, \"#d8576b\"], [0.6666666666666666, \"#ed7953\"], [0.7777777777777778, \"#fb9f3a\"], [0.8888888888888888, \"#fdca26\"], [1.0, \"#f0f921\"]], \"sequentialminus\": [[0.0, \"#0d0887\"], [0.1111111111111111, \"#46039f\"], [0.2222222222222222, \"#7201a8\"], [0.3333333333333333, \"#9c179e\"], [0.4444444444444444, \"#bd3786\"], [0.5555555555555556, \"#d8576b\"], [0.6666666666666666, \"#ed7953\"], [0.7777777777777778, \"#fb9f3a\"], [0.8888888888888888, \"#fdca26\"], [1.0, \"#f0f921\"]]}, \"colorway\": [\"#636efa\", \"#EF553B\", \"#00cc96\", \"#ab63fa\", \"#FFA15A\", \"#19d3f3\", \"#FF6692\", \"#B6E880\", \"#FF97FF\", \"#FECB52\"], \"font\": {\"color\": \"#2a3f5f\"}, \"geo\": {\"bgcolor\": \"white\", \"lakecolor\": \"white\", \"landcolor\": \"#E5ECF6\", \"showlakes\": true, \"showland\": true, \"subunitcolor\": \"white\"}, \"hoverlabel\": {\"align\": \"left\"}, \"hovermode\": \"closest\", \"mapbox\": {\"style\": \"light\"}, \"paper_bgcolor\": \"white\", \"plot_bgcolor\": \"#E5ECF6\", \"polar\": {\"angularaxis\": {\"gridcolor\": \"white\", \"linecolor\": \"white\", \"ticks\": \"\"}, \"bgcolor\": \"#E5ECF6\", \"radialaxis\": {\"gridcolor\": \"white\", \"linecolor\": \"white\", \"ticks\": \"\"}}, \"scene\": {\"xaxis\": {\"backgroundcolor\": \"#E5ECF6\", \"gridcolor\": \"white\", \"gridwidth\": 2, \"linecolor\": \"white\", \"showbackground\": true, \"ticks\": \"\", \"zerolinecolor\": \"white\"}, \"yaxis\": {\"backgroundcolor\": \"#E5ECF6\", \"gridcolor\": \"white\", \"gridwidth\": 2, \"linecolor\": \"white\", \"showbackground\": true, \"ticks\": \"\", \"zerolinecolor\": \"white\"}, \"zaxis\": {\"backgroundcolor\": \"#E5ECF6\", \"gridcolor\": \"white\", \"gridwidth\": 2, \"linecolor\": \"white\", \"showbackground\": true, \"ticks\": \"\", \"zerolinecolor\": \"white\"}}, \"shapedefaults\": {\"line\": {\"color\": \"#2a3f5f\"}}, \"ternary\": {\"aaxis\": {\"gridcolor\": \"white\", \"linecolor\": \"white\", \"ticks\": \"\"}, \"baxis\": {\"gridcolor\": \"white\", \"linecolor\": \"white\", \"ticks\": \"\"}, \"bgcolor\": \"#E5ECF6\", \"caxis\": {\"gridcolor\": \"white\", \"linecolor\": \"white\", \"ticks\": \"\"}}, \"title\": {\"x\": 0.05}, \"xaxis\": {\"automargin\": true, \"gridcolor\": \"white\", \"linecolor\": \"white\", \"ticks\": \"\", \"title\": {\"standoff\": 15}, \"zerolinecolor\": \"white\", \"zerolinewidth\": 2}, \"yaxis\": {\"automargin\": true, \"gridcolor\": \"white\", \"linecolor\": \"white\", \"ticks\": \"\", \"title\": {\"standoff\": 15}, \"zerolinecolor\": \"white\", \"zerolinewidth\": 2}}}},\n",
       "                        {\"responsive\": true}\n",
       "                    ).then(function(){\n",
       "                            \n",
       "var gd = document.getElementById('fbc92c45-db7c-4f5f-9ac2-6af5ba8f46ac');\n",
       "var x = new MutationObserver(function (mutations, observer) {{\n",
       "        var display = window.getComputedStyle(gd).display;\n",
       "        if (!display || display === 'none') {{\n",
       "            console.log([gd, 'removed!']);\n",
       "            Plotly.purge(gd);\n",
       "            observer.disconnect();\n",
       "        }}\n",
       "}});\n",
       "\n",
       "// Listen for the removal of the full notebook cells\n",
       "var notebookContainer = gd.closest('#notebook-container');\n",
       "if (notebookContainer) {{\n",
       "    x.observe(notebookContainer, {childList: true});\n",
       "}}\n",
       "\n",
       "// Listen for the clearing of the current output cell\n",
       "var outputEl = gd.closest('.output');\n",
       "if (outputEl) {{\n",
       "    x.observe(outputEl, {childList: true});\n",
       "}}\n",
       "\n",
       "                        })\n",
       "                };\n",
       "                });\n",
       "            </script>\n",
       "        </div>"
      ]
     },
     "metadata": {},
     "output_type": "display_data"
    }
   ],
   "source": [
    "count = 10\n",
    "for key,value in pos_dict.items():\n",
    "    if key == 'adj_adv':\n",
    "        common_words = frequency_bubble_chart(value,count,0.1)\n",
    "    elif key == 'verb':\n",
    "        common_words = frequency_bubble_chart(value,count,0.1)\n",
    "    else:\n",
    "        common_words = frequency_bubble_chart(value,count,0.1)"
   ]
  },
  {
   "cell_type": "code",
   "execution_count": null,
   "metadata": {},
   "outputs": [],
   "source": []
  },
  {
   "cell_type": "code",
   "execution_count": null,
   "metadata": {},
   "outputs": [],
   "source": []
  },
  {
   "cell_type": "code",
   "execution_count": null,
   "metadata": {},
   "outputs": [],
   "source": []
  },
  {
   "cell_type": "code",
   "execution_count": null,
   "metadata": {},
   "outputs": [],
   "source": []
  },
  {
   "cell_type": "code",
   "execution_count": null,
   "metadata": {},
   "outputs": [],
   "source": []
  },
  {
   "cell_type": "code",
   "execution_count": null,
   "metadata": {},
   "outputs": [],
   "source": []
  },
  {
   "cell_type": "code",
   "execution_count": null,
   "metadata": {},
   "outputs": [],
   "source": []
  },
  {
   "cell_type": "code",
   "execution_count": null,
   "metadata": {},
   "outputs": [],
   "source": []
  },
  {
   "cell_type": "code",
   "execution_count": null,
   "metadata": {},
   "outputs": [],
   "source": []
  },
  {
   "cell_type": "code",
   "execution_count": null,
   "metadata": {},
   "outputs": [],
   "source": []
  },
  {
   "cell_type": "code",
   "execution_count": null,
   "metadata": {},
   "outputs": [],
   "source": []
  }
 ],
 "metadata": {
  "kernelspec": {
   "display_name": "Python 3",
   "language": "python",
   "name": "python3"
  },
  "language_info": {
   "codemirror_mode": {
    "name": "ipython",
    "version": 3
   },
   "file_extension": ".py",
   "mimetype": "text/x-python",
   "name": "python",
   "nbconvert_exporter": "python",
   "pygments_lexer": "ipython3",
   "version": "3.7.6"
  }
 },
 "nbformat": 4,
 "nbformat_minor": 4
}
