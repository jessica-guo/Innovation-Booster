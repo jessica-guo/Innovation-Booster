{
 "cells": [
  {
   "cell_type": "code",
   "execution_count": null,
   "metadata": {},
   "outputs": [],
   "source": [
    "## Scrape several products from amazon"
   ]
  },
  {
   "cell_type": "code",
   "execution_count": 5,
   "metadata": {},
   "outputs": [],
   "source": [
    "# import useful packages\n",
    "import requests\n",
    "from bs4 import BeautifulSoup\n",
    "import pandas as pd\n",
    "from selenium import webdriver\n",
    "# from webdriver_manager.chrome import ChromeDriverManager\n",
    "import time\n",
    "headers = {'User-Agent': 'Mozilla/5.0 (Macintosh; Intel Mac OS X 10_15_3) AppleWebKit/605.1.15 (KHTML, like Gecko) Version/13.0.5 Safari/605.1.15'}"
   ]
  },
  {
   "cell_type": "code",
   "execution_count": 10,
   "metadata": {},
   "outputs": [],
   "source": [
    "# create a list to store soap sheet dispenser products' url\n",
    "dispenser = ['https://www.amazon.com/KISEER-Portable-Disposable-Washing-Scented/dp/B07V5YQ1Z5/ref=sr_1_3?crid=3V2SUXNNKEC9J&dchild=1&keywords=hand+soap+sheet+dispenser&qid=1600096801&sprefix=hand+soap+sheet+dis%2Caps%2C141&sr=8-3',\n",
    "             'https://www.amazon.com/Portable-Disposable-Travel-Washing-Toiletry/dp/B077NDQ58Q/ref=sr_1_4?crid=3V2SUXNNKEC9J&dchild=1&keywords=hand+soap+sheet+dispenser&qid=1600096801&sprefix=hand+soap+sheet+dis%2Caps%2C141&sr=8-4',\n",
    "             'https://www.amazon.com/Portable-Disposable-Outdoor-Camping-Washing/dp/B085VSXT8Y/ref=sr_1_5?crid=3V2SUXNNKEC9J&dchild=1&keywords=hand+soap+sheet+dispenser&qid=1600096801&sprefix=hand+soap+sheet+dis%2Caps%2C141&sr=8-5',\n",
    "             'https://www.amazon.com/ZDU-Outdoor-Washing-Portable-Camping/dp/B085VZ7B8X/ref=sr_1_6?crid=3V2SUXNNKEC9J&dchild=1&keywords=hand+soap+sheet+dispenser&qid=1600096801&sprefix=hand+soap+sheet+dis%2Caps%2C141&sr=8-6',\n",
    "             'https://www.amazon.com/Portable-Disposable-Washing-Toiletry-Bathing/dp/B0865ZSF8M/ref=sr_1_8?crid=3V2SUXNNKEC9J&dchild=1&keywords=hand+soap+sheet+dispenser&qid=1600096801&sprefix=hand+soap+sheet+dis%2Caps%2C141&sr=8-8',\n",
    "             'https://www.amazon.com/Ellocy-Portable-Disposable-Outdoor-activities/dp/B085KSQBQN/ref=sr_1_9?crid=3V2SUXNNKEC9J&dchild=1&keywords=hand+soap+sheet+dispenser&qid=1600096801&sprefix=hand+soap+sheet+dis%2Caps%2C141&sr=8-9',\n",
    "             'https://www.amazon.com/Portable-Disposable-Washing-Scented-Toiletry/dp/B085VJ3GX7/ref=sr_1_10?crid=3V2SUXNNKEC9J&dchild=1&keywords=hand+soap+sheet+dispenser&qid=1600096801&sprefix=hand+soap+sheet+dis%2Caps%2C141&sr=8-10',\n",
    "             'https://www.amazon.com/Bamsod-Portable-Disposal-Scented-Confetti/dp/B07Z19PNY6/ref=sr_1_11?crid=3V2SUXNNKEC9J&dchild=1&keywords=hand+soap+sheet+dispenser&qid=1600096801&sprefix=hand+soap+sheet+dis%2Caps%2C141&sr=8-11',\n",
    "             'https://www.amazon.com/Travelon-Hand-Toiletry-Sheets-50-Count/dp/B001CGOPZM/ref=sr_1_14?crid=3V2SUXNNKEC9J&dchild=1&keywords=hand+soap+sheet+dispenser&qid=1600096801&sprefix=hand+soap+sheet+dis%2Caps%2C141&sr=8-14',\n",
    "             'https://www.amazon.com/Portable-Paper-Hand-Soap-Sheets/dp/B0871M49T8/ref=sr_1_17?crid=3V2SUXNNKEC9J&dchild=1&keywords=hand+soap+sheet+dispenser&qid=1600096801&sprefix=hand+soap+sheet+dis%2Caps%2C141&sr=8-17',\n",
    "             'https://www.amazon.com/Washing-Portable-Replaceable-Outdoor-Camping/dp/B0892SMXSD/ref=sr_1_28?crid=3V2SUXNNKEC9J&dchild=1&keywords=hand+soap+sheet+dispenser&qid=1600096801&sprefix=hand+soap+sheet+dis%2Caps%2C141&sr=8-28',\n",
    "             'https://www.amazon.com/Fomin-3-Pack-Sheets-Foaming-Hand/dp/B08BJL9B9C/ref=psdc_11062271_t2_B07V5YQ1Z5',\n",
    "             'https://www.amazon.com/dp/B086G3R7F6/ref=sspa_dk_detail_5?psc=1&spLa=ZW5jcnlwdGVkUXVhbGlmaWVyPUEyQkZKNVFTU0pYNFgmZW5jcnlwdGVkSWQ9QTA5NDA4MTkzNlo1REZFQUFKMDVZJmVuY3J5cHRlZEFkSWQ9QTAzNjAwNDIzQllVUElRTFlVMFJFJndpZGdldE5hbWU9c3BfZGV0YWlsMiZhY3Rpb249Y2xpY2tSZWRpcmVjdCZkb05vdExvZ0NsaWNrPXRydWU=',\n",
    "             'https://www.amazon.com/dp/B08BNMS45G/ref=sspa_dk_detail_1?psc=1&spLa=ZW5jcnlwdGVkUXVhbGlmaWVyPUEyQkZKNVFTU0pYNFgmZW5jcnlwdGVkSWQ9QTA5NDA4MTkzNlo1REZFQUFKMDVZJmVuY3J5cHRlZEFkSWQ9QTAzMjUxNjcxWFlIN1FETlRRV0RIJndpZGdldE5hbWU9c3BfZGV0YWlsMiZhY3Rpb249Y2xpY2tSZWRpcmVjdCZkb05vdExvZ0NsaWNrPXRydWU='\n",
    "            ]"
   ]
  },
  {
   "cell_type": "code",
   "execution_count": 11,
   "metadata": {},
   "outputs": [],
   "source": [
    "# setting up the chrome driver\n",
    "driver = webdriver.Chrome('C:/Users/Celes/Desktop/brazil/chromedriver.exe')"
   ]
  },
  {
   "cell_type": "code",
   "execution_count": 12,
   "metadata": {},
   "outputs": [],
   "source": [
    "# function for getting reviews for one product\n",
    "def get_reviews(review_url,dict_):\n",
    "    reviews = []\n",
    "    driver.get(review_url)\n",
    "    time.sleep(5)\n",
    "    while True:\n",
    "        review_list = driver.find_elements_by_xpath(\"//div[@class='a-section review aok-relative']\")\n",
    "        for review in review_list:\n",
    "            review_dict = {}\n",
    "            review_dict['name'] = dict_['name']\n",
    "            date = ' '.join(review.find_elements_by_xpath(\".//div[@class='a-section celwidget']/span\")[-1].text.split(' ')[-3:])\n",
    "            from datetime import datetime\n",
    "            review_dict['date'] = datetime.strptime(date, '%B %d, %Y')\n",
    "            try:\n",
    "                review_dict['rating'] = float(review.find_elements_by_xpath(\".//div[@class='a-row']/a[@class='a-link-normal']\")[0].get_attribute('title').split(' ')[0])\n",
    "            except:\n",
    "                pass\n",
    "            text_title = review.find_elements_by_xpath(\".//div[@class='a-row']\")[0].text\n",
    "            text_content = review.find_elements_by_xpath(\".//div[@class='a-row a-spacing-small review-data']/span\")[0].text\n",
    "            try:\n",
    "                review_dict['text'] = text_title + ' ' + text_content\n",
    "            except:\n",
    "                review_dict['text'] = text_content\n",
    "            reviews.append(review_dict)\n",
    "        else:\n",
    "            try:\n",
    "                driver.find_elements_by_xpath(\".//li[@class='a-last']\")[0].click()\n",
    "                time.sleep(5)\n",
    "            except:\n",
    "                break\n",
    "    return reviews"
   ]
  },
  {
   "cell_type": "code",
   "execution_count": 13,
   "metadata": {},
   "outputs": [],
   "source": [
    "def get_info(product_url):\n",
    "    # get the basic info for the product\n",
    "    driver.get(url)\n",
    "    dict_ = dict()\n",
    "    dict_['name'] = driver.find_elements_by_xpath(\"//span[@id='productTitle']\")[0].text.strip()\n",
    "    dict_['url'] = product_url\n",
    "    try:\n",
    "        dict_['price'] = float(driver.find_elements_by_xpath(\"//span[@id='priceblock_ourprice']\")[0].text.split('$')[1])\n",
    "    except:\n",
    "        pass\n",
    "    try:\n",
    "        dict_['info'] = driver.find_elements_by_xpath(\"//ul[@class='a-unordered-list a-vertical a-spacing-mini']\")[0].text.strip()\n",
    "    except:\n",
    "        pass\n",
    "    # get the review for the product\n",
    "    time.sleep(3)\n",
    "    review_url = driver.find_elements_by_xpath(\"//a[@class='a-link-emphasis a-text-bold']\")[0].get_attribute('href') + '&sortBy=recent&pageNumber=1'\n",
    "    product_review = get_reviews(review_url,dict_)\n",
    "    return dict_, product_review"
   ]
  },
  {
   "cell_type": "code",
   "execution_count": 14,
   "metadata": {},
   "outputs": [
    {
     "ename": "KeyboardInterrupt",
     "evalue": "",
     "output_type": "error",
     "traceback": [
      "\u001b[1;31m---------------------------------------------------------------------------\u001b[0m",
      "\u001b[1;31mTypeError\u001b[0m                                 Traceback (most recent call last)",
      "\u001b[1;32m~\\Anaconda3\\lib\\site-packages\\urllib3\\connectionpool.py\u001b[0m in \u001b[0;36m_make_request\u001b[1;34m(self, conn, method, url, timeout, chunked, **httplib_request_kw)\u001b[0m\n\u001b[0;32m    376\u001b[0m             \u001b[1;32mtry\u001b[0m\u001b[1;33m:\u001b[0m  \u001b[1;31m# Python 2.7, use buffering of HTTP responses\u001b[0m\u001b[1;33m\u001b[0m\u001b[1;33m\u001b[0m\u001b[0m\n\u001b[1;32m--> 377\u001b[1;33m                 \u001b[0mhttplib_response\u001b[0m \u001b[1;33m=\u001b[0m \u001b[0mconn\u001b[0m\u001b[1;33m.\u001b[0m\u001b[0mgetresponse\u001b[0m\u001b[1;33m(\u001b[0m\u001b[0mbuffering\u001b[0m\u001b[1;33m=\u001b[0m\u001b[1;32mTrue\u001b[0m\u001b[1;33m)\u001b[0m\u001b[1;33m\u001b[0m\u001b[1;33m\u001b[0m\u001b[0m\n\u001b[0m\u001b[0;32m    378\u001b[0m             \u001b[1;32mexcept\u001b[0m \u001b[0mTypeError\u001b[0m\u001b[1;33m:\u001b[0m  \u001b[1;31m# Python 3\u001b[0m\u001b[1;33m\u001b[0m\u001b[1;33m\u001b[0m\u001b[0m\n",
      "\u001b[1;31mTypeError\u001b[0m: getresponse() got an unexpected keyword argument 'buffering'",
      "\nDuring handling of the above exception, another exception occurred:\n",
      "\u001b[1;31mKeyboardInterrupt\u001b[0m                         Traceback (most recent call last)",
      "\u001b[1;32m<ipython-input-14-c7bbddfed0f8>\u001b[0m in \u001b[0;36m<module>\u001b[1;34m\u001b[0m\n\u001b[0;32m      3\u001b[0m \u001b[0mreviews\u001b[0m \u001b[1;33m=\u001b[0m \u001b[1;33m[\u001b[0m\u001b[1;33m]\u001b[0m\u001b[1;33m\u001b[0m\u001b[1;33m\u001b[0m\u001b[0m\n\u001b[0;32m      4\u001b[0m \u001b[1;32mfor\u001b[0m \u001b[0murl\u001b[0m \u001b[1;32min\u001b[0m \u001b[0mdispenser\u001b[0m\u001b[1;33m:\u001b[0m\u001b[1;33m\u001b[0m\u001b[1;33m\u001b[0m\u001b[0m\n\u001b[1;32m----> 5\u001b[1;33m     \u001b[0mdict_\u001b[0m\u001b[1;33m,\u001b[0m \u001b[0mproduct_review\u001b[0m \u001b[1;33m=\u001b[0m \u001b[0mget_info\u001b[0m\u001b[1;33m(\u001b[0m\u001b[0murl\u001b[0m\u001b[1;33m)\u001b[0m\u001b[1;33m\u001b[0m\u001b[1;33m\u001b[0m\u001b[0m\n\u001b[0m\u001b[0;32m      6\u001b[0m     \u001b[0mproduct_list\u001b[0m\u001b[1;33m.\u001b[0m\u001b[0mappend\u001b[0m\u001b[1;33m(\u001b[0m\u001b[0mdict_\u001b[0m\u001b[1;33m)\u001b[0m\u001b[1;33m\u001b[0m\u001b[1;33m\u001b[0m\u001b[0m\n\u001b[0;32m      7\u001b[0m     \u001b[0mreviews\u001b[0m\u001b[1;33m.\u001b[0m\u001b[0mextend\u001b[0m\u001b[1;33m(\u001b[0m\u001b[0mproduct_review\u001b[0m\u001b[1;33m)\u001b[0m\u001b[1;33m\u001b[0m\u001b[1;33m\u001b[0m\u001b[0m\n",
      "\u001b[1;32m<ipython-input-13-b78c2ebc10b1>\u001b[0m in \u001b[0;36mget_info\u001b[1;34m(product_url)\u001b[0m\n\u001b[0;32m     16\u001b[0m     \u001b[0mtime\u001b[0m\u001b[1;33m.\u001b[0m\u001b[0msleep\u001b[0m\u001b[1;33m(\u001b[0m\u001b[1;36m3\u001b[0m\u001b[1;33m)\u001b[0m\u001b[1;33m\u001b[0m\u001b[1;33m\u001b[0m\u001b[0m\n\u001b[0;32m     17\u001b[0m     \u001b[0mreview_url\u001b[0m \u001b[1;33m=\u001b[0m \u001b[0mdriver\u001b[0m\u001b[1;33m.\u001b[0m\u001b[0mfind_elements_by_xpath\u001b[0m\u001b[1;33m(\u001b[0m\u001b[1;34m\"//a[@class='a-link-emphasis a-text-bold']\"\u001b[0m\u001b[1;33m)\u001b[0m\u001b[1;33m[\u001b[0m\u001b[1;36m0\u001b[0m\u001b[1;33m]\u001b[0m\u001b[1;33m.\u001b[0m\u001b[0mget_attribute\u001b[0m\u001b[1;33m(\u001b[0m\u001b[1;34m'href'\u001b[0m\u001b[1;33m)\u001b[0m \u001b[1;33m+\u001b[0m \u001b[1;34m'&sortBy=recent&pageNumber=1'\u001b[0m\u001b[1;33m\u001b[0m\u001b[1;33m\u001b[0m\u001b[0m\n\u001b[1;32m---> 18\u001b[1;33m     \u001b[0mproduct_review\u001b[0m \u001b[1;33m=\u001b[0m \u001b[0mget_reviews\u001b[0m\u001b[1;33m(\u001b[0m\u001b[0mreview_url\u001b[0m\u001b[1;33m,\u001b[0m\u001b[0mdict_\u001b[0m\u001b[1;33m)\u001b[0m\u001b[1;33m\u001b[0m\u001b[1;33m\u001b[0m\u001b[0m\n\u001b[0m\u001b[0;32m     19\u001b[0m     \u001b[1;32mreturn\u001b[0m \u001b[0mdict_\u001b[0m\u001b[1;33m,\u001b[0m \u001b[0mproduct_review\u001b[0m\u001b[1;33m\u001b[0m\u001b[1;33m\u001b[0m\u001b[0m\n",
      "\u001b[1;32m<ipython-input-12-1fc63b777b73>\u001b[0m in \u001b[0;36mget_reviews\u001b[1;34m(review_url, dict_)\u001b[0m\n\u001b[0;32m      9\u001b[0m             \u001b[0mreview_dict\u001b[0m \u001b[1;33m=\u001b[0m \u001b[1;33m{\u001b[0m\u001b[1;33m}\u001b[0m\u001b[1;33m\u001b[0m\u001b[1;33m\u001b[0m\u001b[0m\n\u001b[0;32m     10\u001b[0m             \u001b[0mreview_dict\u001b[0m\u001b[1;33m[\u001b[0m\u001b[1;34m'name'\u001b[0m\u001b[1;33m]\u001b[0m \u001b[1;33m=\u001b[0m \u001b[0mdict_\u001b[0m\u001b[1;33m[\u001b[0m\u001b[1;34m'name'\u001b[0m\u001b[1;33m]\u001b[0m\u001b[1;33m\u001b[0m\u001b[1;33m\u001b[0m\u001b[0m\n\u001b[1;32m---> 11\u001b[1;33m             \u001b[0mdate\u001b[0m \u001b[1;33m=\u001b[0m \u001b[1;34m' '\u001b[0m\u001b[1;33m.\u001b[0m\u001b[0mjoin\u001b[0m\u001b[1;33m(\u001b[0m\u001b[0mreview\u001b[0m\u001b[1;33m.\u001b[0m\u001b[0mfind_elements_by_xpath\u001b[0m\u001b[1;33m(\u001b[0m\u001b[1;34m\".//div[@class='a-section celwidget']/span\"\u001b[0m\u001b[1;33m)\u001b[0m\u001b[1;33m[\u001b[0m\u001b[1;33m-\u001b[0m\u001b[1;36m1\u001b[0m\u001b[1;33m]\u001b[0m\u001b[1;33m.\u001b[0m\u001b[0mtext\u001b[0m\u001b[1;33m.\u001b[0m\u001b[0msplit\u001b[0m\u001b[1;33m(\u001b[0m\u001b[1;34m' '\u001b[0m\u001b[1;33m)\u001b[0m\u001b[1;33m[\u001b[0m\u001b[1;33m-\u001b[0m\u001b[1;36m3\u001b[0m\u001b[1;33m:\u001b[0m\u001b[1;33m]\u001b[0m\u001b[1;33m)\u001b[0m\u001b[1;33m\u001b[0m\u001b[1;33m\u001b[0m\u001b[0m\n\u001b[0m\u001b[0;32m     12\u001b[0m             \u001b[1;32mfrom\u001b[0m \u001b[0mdatetime\u001b[0m \u001b[1;32mimport\u001b[0m \u001b[0mdatetime\u001b[0m\u001b[1;33m\u001b[0m\u001b[1;33m\u001b[0m\u001b[0m\n\u001b[0;32m     13\u001b[0m             \u001b[0mreview_dict\u001b[0m\u001b[1;33m[\u001b[0m\u001b[1;34m'date'\u001b[0m\u001b[1;33m]\u001b[0m \u001b[1;33m=\u001b[0m \u001b[0mdatetime\u001b[0m\u001b[1;33m.\u001b[0m\u001b[0mstrptime\u001b[0m\u001b[1;33m(\u001b[0m\u001b[0mdate\u001b[0m\u001b[1;33m,\u001b[0m \u001b[1;34m'%B %d, %Y'\u001b[0m\u001b[1;33m)\u001b[0m\u001b[1;33m\u001b[0m\u001b[1;33m\u001b[0m\u001b[0m\n",
      "\u001b[1;32m~\\Anaconda3\\lib\\site-packages\\selenium\\webdriver\\remote\\webelement.py\u001b[0m in \u001b[0;36mtext\u001b[1;34m(self)\u001b[0m\n\u001b[0;32m     74\u001b[0m     \u001b[1;32mdef\u001b[0m \u001b[0mtext\u001b[0m\u001b[1;33m(\u001b[0m\u001b[0mself\u001b[0m\u001b[1;33m)\u001b[0m\u001b[1;33m:\u001b[0m\u001b[1;33m\u001b[0m\u001b[1;33m\u001b[0m\u001b[0m\n\u001b[0;32m     75\u001b[0m         \u001b[1;34m\"\"\"The text of the element.\"\"\"\u001b[0m\u001b[1;33m\u001b[0m\u001b[1;33m\u001b[0m\u001b[0m\n\u001b[1;32m---> 76\u001b[1;33m         \u001b[1;32mreturn\u001b[0m \u001b[0mself\u001b[0m\u001b[1;33m.\u001b[0m\u001b[0m_execute\u001b[0m\u001b[1;33m(\u001b[0m\u001b[0mCommand\u001b[0m\u001b[1;33m.\u001b[0m\u001b[0mGET_ELEMENT_TEXT\u001b[0m\u001b[1;33m)\u001b[0m\u001b[1;33m[\u001b[0m\u001b[1;34m'value'\u001b[0m\u001b[1;33m]\u001b[0m\u001b[1;33m\u001b[0m\u001b[1;33m\u001b[0m\u001b[0m\n\u001b[0m\u001b[0;32m     77\u001b[0m \u001b[1;33m\u001b[0m\u001b[0m\n\u001b[0;32m     78\u001b[0m     \u001b[1;32mdef\u001b[0m \u001b[0mclick\u001b[0m\u001b[1;33m(\u001b[0m\u001b[0mself\u001b[0m\u001b[1;33m)\u001b[0m\u001b[1;33m:\u001b[0m\u001b[1;33m\u001b[0m\u001b[1;33m\u001b[0m\u001b[0m\n",
      "\u001b[1;32m~\\Anaconda3\\lib\\site-packages\\selenium\\webdriver\\remote\\webelement.py\u001b[0m in \u001b[0;36m_execute\u001b[1;34m(self, command, params)\u001b[0m\n\u001b[0;32m    631\u001b[0m             \u001b[0mparams\u001b[0m \u001b[1;33m=\u001b[0m \u001b[1;33m{\u001b[0m\u001b[1;33m}\u001b[0m\u001b[1;33m\u001b[0m\u001b[1;33m\u001b[0m\u001b[0m\n\u001b[0;32m    632\u001b[0m         \u001b[0mparams\u001b[0m\u001b[1;33m[\u001b[0m\u001b[1;34m'id'\u001b[0m\u001b[1;33m]\u001b[0m \u001b[1;33m=\u001b[0m \u001b[0mself\u001b[0m\u001b[1;33m.\u001b[0m\u001b[0m_id\u001b[0m\u001b[1;33m\u001b[0m\u001b[1;33m\u001b[0m\u001b[0m\n\u001b[1;32m--> 633\u001b[1;33m         \u001b[1;32mreturn\u001b[0m \u001b[0mself\u001b[0m\u001b[1;33m.\u001b[0m\u001b[0m_parent\u001b[0m\u001b[1;33m.\u001b[0m\u001b[0mexecute\u001b[0m\u001b[1;33m(\u001b[0m\u001b[0mcommand\u001b[0m\u001b[1;33m,\u001b[0m \u001b[0mparams\u001b[0m\u001b[1;33m)\u001b[0m\u001b[1;33m\u001b[0m\u001b[1;33m\u001b[0m\u001b[0m\n\u001b[0m\u001b[0;32m    634\u001b[0m \u001b[1;33m\u001b[0m\u001b[0m\n\u001b[0;32m    635\u001b[0m     \u001b[1;32mdef\u001b[0m \u001b[0mfind_element\u001b[0m\u001b[1;33m(\u001b[0m\u001b[0mself\u001b[0m\u001b[1;33m,\u001b[0m \u001b[0mby\u001b[0m\u001b[1;33m=\u001b[0m\u001b[0mBy\u001b[0m\u001b[1;33m.\u001b[0m\u001b[0mID\u001b[0m\u001b[1;33m,\u001b[0m \u001b[0mvalue\u001b[0m\u001b[1;33m=\u001b[0m\u001b[1;32mNone\u001b[0m\u001b[1;33m)\u001b[0m\u001b[1;33m:\u001b[0m\u001b[1;33m\u001b[0m\u001b[1;33m\u001b[0m\u001b[0m\n",
      "\u001b[1;32m~\\Anaconda3\\lib\\site-packages\\selenium\\webdriver\\remote\\webdriver.py\u001b[0m in \u001b[0;36mexecute\u001b[1;34m(self, driver_command, params)\u001b[0m\n\u001b[0;32m    317\u001b[0m \u001b[1;33m\u001b[0m\u001b[0m\n\u001b[0;32m    318\u001b[0m         \u001b[0mparams\u001b[0m \u001b[1;33m=\u001b[0m \u001b[0mself\u001b[0m\u001b[1;33m.\u001b[0m\u001b[0m_wrap_value\u001b[0m\u001b[1;33m(\u001b[0m\u001b[0mparams\u001b[0m\u001b[1;33m)\u001b[0m\u001b[1;33m\u001b[0m\u001b[1;33m\u001b[0m\u001b[0m\n\u001b[1;32m--> 319\u001b[1;33m         \u001b[0mresponse\u001b[0m \u001b[1;33m=\u001b[0m \u001b[0mself\u001b[0m\u001b[1;33m.\u001b[0m\u001b[0mcommand_executor\u001b[0m\u001b[1;33m.\u001b[0m\u001b[0mexecute\u001b[0m\u001b[1;33m(\u001b[0m\u001b[0mdriver_command\u001b[0m\u001b[1;33m,\u001b[0m \u001b[0mparams\u001b[0m\u001b[1;33m)\u001b[0m\u001b[1;33m\u001b[0m\u001b[1;33m\u001b[0m\u001b[0m\n\u001b[0m\u001b[0;32m    320\u001b[0m         \u001b[1;32mif\u001b[0m \u001b[0mresponse\u001b[0m\u001b[1;33m:\u001b[0m\u001b[1;33m\u001b[0m\u001b[1;33m\u001b[0m\u001b[0m\n\u001b[0;32m    321\u001b[0m             \u001b[0mself\u001b[0m\u001b[1;33m.\u001b[0m\u001b[0merror_handler\u001b[0m\u001b[1;33m.\u001b[0m\u001b[0mcheck_response\u001b[0m\u001b[1;33m(\u001b[0m\u001b[0mresponse\u001b[0m\u001b[1;33m)\u001b[0m\u001b[1;33m\u001b[0m\u001b[1;33m\u001b[0m\u001b[0m\n",
      "\u001b[1;32m~\\Anaconda3\\lib\\site-packages\\selenium\\webdriver\\remote\\remote_connection.py\u001b[0m in \u001b[0;36mexecute\u001b[1;34m(self, command, params)\u001b[0m\n\u001b[0;32m    372\u001b[0m         \u001b[0mdata\u001b[0m \u001b[1;33m=\u001b[0m \u001b[0mutils\u001b[0m\u001b[1;33m.\u001b[0m\u001b[0mdump_json\u001b[0m\u001b[1;33m(\u001b[0m\u001b[0mparams\u001b[0m\u001b[1;33m)\u001b[0m\u001b[1;33m\u001b[0m\u001b[1;33m\u001b[0m\u001b[0m\n\u001b[0;32m    373\u001b[0m         \u001b[0murl\u001b[0m \u001b[1;33m=\u001b[0m \u001b[1;34m'%s%s'\u001b[0m \u001b[1;33m%\u001b[0m \u001b[1;33m(\u001b[0m\u001b[0mself\u001b[0m\u001b[1;33m.\u001b[0m\u001b[0m_url\u001b[0m\u001b[1;33m,\u001b[0m \u001b[0mpath\u001b[0m\u001b[1;33m)\u001b[0m\u001b[1;33m\u001b[0m\u001b[1;33m\u001b[0m\u001b[0m\n\u001b[1;32m--> 374\u001b[1;33m         \u001b[1;32mreturn\u001b[0m \u001b[0mself\u001b[0m\u001b[1;33m.\u001b[0m\u001b[0m_request\u001b[0m\u001b[1;33m(\u001b[0m\u001b[0mcommand_info\u001b[0m\u001b[1;33m[\u001b[0m\u001b[1;36m0\u001b[0m\u001b[1;33m]\u001b[0m\u001b[1;33m,\u001b[0m \u001b[0murl\u001b[0m\u001b[1;33m,\u001b[0m \u001b[0mbody\u001b[0m\u001b[1;33m=\u001b[0m\u001b[0mdata\u001b[0m\u001b[1;33m)\u001b[0m\u001b[1;33m\u001b[0m\u001b[1;33m\u001b[0m\u001b[0m\n\u001b[0m\u001b[0;32m    375\u001b[0m \u001b[1;33m\u001b[0m\u001b[0m\n\u001b[0;32m    376\u001b[0m     \u001b[1;32mdef\u001b[0m \u001b[0m_request\u001b[0m\u001b[1;33m(\u001b[0m\u001b[0mself\u001b[0m\u001b[1;33m,\u001b[0m \u001b[0mmethod\u001b[0m\u001b[1;33m,\u001b[0m \u001b[0murl\u001b[0m\u001b[1;33m,\u001b[0m \u001b[0mbody\u001b[0m\u001b[1;33m=\u001b[0m\u001b[1;32mNone\u001b[0m\u001b[1;33m)\u001b[0m\u001b[1;33m:\u001b[0m\u001b[1;33m\u001b[0m\u001b[1;33m\u001b[0m\u001b[0m\n",
      "\u001b[1;32m~\\Anaconda3\\lib\\site-packages\\selenium\\webdriver\\remote\\remote_connection.py\u001b[0m in \u001b[0;36m_request\u001b[1;34m(self, method, url, body)\u001b[0m\n\u001b[0;32m    395\u001b[0m \u001b[1;33m\u001b[0m\u001b[0m\n\u001b[0;32m    396\u001b[0m         \u001b[1;32mif\u001b[0m \u001b[0mself\u001b[0m\u001b[1;33m.\u001b[0m\u001b[0mkeep_alive\u001b[0m\u001b[1;33m:\u001b[0m\u001b[1;33m\u001b[0m\u001b[1;33m\u001b[0m\u001b[0m\n\u001b[1;32m--> 397\u001b[1;33m             \u001b[0mresp\u001b[0m \u001b[1;33m=\u001b[0m \u001b[0mself\u001b[0m\u001b[1;33m.\u001b[0m\u001b[0m_conn\u001b[0m\u001b[1;33m.\u001b[0m\u001b[0mrequest\u001b[0m\u001b[1;33m(\u001b[0m\u001b[0mmethod\u001b[0m\u001b[1;33m,\u001b[0m \u001b[0murl\u001b[0m\u001b[1;33m,\u001b[0m \u001b[0mbody\u001b[0m\u001b[1;33m=\u001b[0m\u001b[0mbody\u001b[0m\u001b[1;33m,\u001b[0m \u001b[0mheaders\u001b[0m\u001b[1;33m=\u001b[0m\u001b[0mheaders\u001b[0m\u001b[1;33m)\u001b[0m\u001b[1;33m\u001b[0m\u001b[1;33m\u001b[0m\u001b[0m\n\u001b[0m\u001b[0;32m    398\u001b[0m \u001b[1;33m\u001b[0m\u001b[0m\n\u001b[0;32m    399\u001b[0m             \u001b[0mstatuscode\u001b[0m \u001b[1;33m=\u001b[0m \u001b[0mresp\u001b[0m\u001b[1;33m.\u001b[0m\u001b[0mstatus\u001b[0m\u001b[1;33m\u001b[0m\u001b[1;33m\u001b[0m\u001b[0m\n",
      "\u001b[1;32m~\\Anaconda3\\lib\\site-packages\\urllib3\\request.py\u001b[0m in \u001b[0;36mrequest\u001b[1;34m(self, method, url, fields, headers, **urlopen_kw)\u001b[0m\n\u001b[0;32m     66\u001b[0m             return self.request_encode_url(method, url, fields=fields,\n\u001b[0;32m     67\u001b[0m                                            \u001b[0mheaders\u001b[0m\u001b[1;33m=\u001b[0m\u001b[0mheaders\u001b[0m\u001b[1;33m,\u001b[0m\u001b[1;33m\u001b[0m\u001b[1;33m\u001b[0m\u001b[0m\n\u001b[1;32m---> 68\u001b[1;33m                                            **urlopen_kw)\n\u001b[0m\u001b[0;32m     69\u001b[0m         \u001b[1;32melse\u001b[0m\u001b[1;33m:\u001b[0m\u001b[1;33m\u001b[0m\u001b[1;33m\u001b[0m\u001b[0m\n\u001b[0;32m     70\u001b[0m             return self.request_encode_body(method, url, fields=fields,\n",
      "\u001b[1;32m~\\Anaconda3\\lib\\site-packages\\urllib3\\request.py\u001b[0m in \u001b[0;36mrequest_encode_url\u001b[1;34m(self, method, url, fields, headers, **urlopen_kw)\u001b[0m\n\u001b[0;32m     87\u001b[0m             \u001b[0murl\u001b[0m \u001b[1;33m+=\u001b[0m \u001b[1;34m'?'\u001b[0m \u001b[1;33m+\u001b[0m \u001b[0murlencode\u001b[0m\u001b[1;33m(\u001b[0m\u001b[0mfields\u001b[0m\u001b[1;33m)\u001b[0m\u001b[1;33m\u001b[0m\u001b[1;33m\u001b[0m\u001b[0m\n\u001b[0;32m     88\u001b[0m \u001b[1;33m\u001b[0m\u001b[0m\n\u001b[1;32m---> 89\u001b[1;33m         \u001b[1;32mreturn\u001b[0m \u001b[0mself\u001b[0m\u001b[1;33m.\u001b[0m\u001b[0murlopen\u001b[0m\u001b[1;33m(\u001b[0m\u001b[0mmethod\u001b[0m\u001b[1;33m,\u001b[0m \u001b[0murl\u001b[0m\u001b[1;33m,\u001b[0m \u001b[1;33m**\u001b[0m\u001b[0mextra_kw\u001b[0m\u001b[1;33m)\u001b[0m\u001b[1;33m\u001b[0m\u001b[1;33m\u001b[0m\u001b[0m\n\u001b[0m\u001b[0;32m     90\u001b[0m \u001b[1;33m\u001b[0m\u001b[0m\n\u001b[0;32m     91\u001b[0m     def request_encode_body(self, method, url, fields=None, headers=None,\n",
      "\u001b[1;32m~\\Anaconda3\\lib\\site-packages\\urllib3\\poolmanager.py\u001b[0m in \u001b[0;36murlopen\u001b[1;34m(self, method, url, redirect, **kw)\u001b[0m\n\u001b[0;32m    322\u001b[0m             \u001b[0mresponse\u001b[0m \u001b[1;33m=\u001b[0m \u001b[0mconn\u001b[0m\u001b[1;33m.\u001b[0m\u001b[0murlopen\u001b[0m\u001b[1;33m(\u001b[0m\u001b[0mmethod\u001b[0m\u001b[1;33m,\u001b[0m \u001b[0murl\u001b[0m\u001b[1;33m,\u001b[0m \u001b[1;33m**\u001b[0m\u001b[0mkw\u001b[0m\u001b[1;33m)\u001b[0m\u001b[1;33m\u001b[0m\u001b[1;33m\u001b[0m\u001b[0m\n\u001b[0;32m    323\u001b[0m         \u001b[1;32melse\u001b[0m\u001b[1;33m:\u001b[0m\u001b[1;33m\u001b[0m\u001b[1;33m\u001b[0m\u001b[0m\n\u001b[1;32m--> 324\u001b[1;33m             \u001b[0mresponse\u001b[0m \u001b[1;33m=\u001b[0m \u001b[0mconn\u001b[0m\u001b[1;33m.\u001b[0m\u001b[0murlopen\u001b[0m\u001b[1;33m(\u001b[0m\u001b[0mmethod\u001b[0m\u001b[1;33m,\u001b[0m \u001b[0mu\u001b[0m\u001b[1;33m.\u001b[0m\u001b[0mrequest_uri\u001b[0m\u001b[1;33m,\u001b[0m \u001b[1;33m**\u001b[0m\u001b[0mkw\u001b[0m\u001b[1;33m)\u001b[0m\u001b[1;33m\u001b[0m\u001b[1;33m\u001b[0m\u001b[0m\n\u001b[0m\u001b[0;32m    325\u001b[0m \u001b[1;33m\u001b[0m\u001b[0m\n\u001b[0;32m    326\u001b[0m         \u001b[0mredirect_location\u001b[0m \u001b[1;33m=\u001b[0m \u001b[0mredirect\u001b[0m \u001b[1;32mand\u001b[0m \u001b[0mresponse\u001b[0m\u001b[1;33m.\u001b[0m\u001b[0mget_redirect_location\u001b[0m\u001b[1;33m(\u001b[0m\u001b[1;33m)\u001b[0m\u001b[1;33m\u001b[0m\u001b[1;33m\u001b[0m\u001b[0m\n",
      "\u001b[1;32m~\\Anaconda3\\lib\\site-packages\\urllib3\\connectionpool.py\u001b[0m in \u001b[0;36murlopen\u001b[1;34m(self, method, url, body, headers, retries, redirect, assert_same_host, timeout, pool_timeout, release_conn, chunked, body_pos, **response_kw)\u001b[0m\n\u001b[0;32m    598\u001b[0m                                                   \u001b[0mtimeout\u001b[0m\u001b[1;33m=\u001b[0m\u001b[0mtimeout_obj\u001b[0m\u001b[1;33m,\u001b[0m\u001b[1;33m\u001b[0m\u001b[1;33m\u001b[0m\u001b[0m\n\u001b[0;32m    599\u001b[0m                                                   \u001b[0mbody\u001b[0m\u001b[1;33m=\u001b[0m\u001b[0mbody\u001b[0m\u001b[1;33m,\u001b[0m \u001b[0mheaders\u001b[0m\u001b[1;33m=\u001b[0m\u001b[0mheaders\u001b[0m\u001b[1;33m,\u001b[0m\u001b[1;33m\u001b[0m\u001b[1;33m\u001b[0m\u001b[0m\n\u001b[1;32m--> 600\u001b[1;33m                                                   chunked=chunked)\n\u001b[0m\u001b[0;32m    601\u001b[0m \u001b[1;33m\u001b[0m\u001b[0m\n\u001b[0;32m    602\u001b[0m             \u001b[1;31m# If we're going to release the connection in ``finally:``, then\u001b[0m\u001b[1;33m\u001b[0m\u001b[1;33m\u001b[0m\u001b[1;33m\u001b[0m\u001b[0m\n",
      "\u001b[1;32m~\\Anaconda3\\lib\\site-packages\\urllib3\\connectionpool.py\u001b[0m in \u001b[0;36m_make_request\u001b[1;34m(self, conn, method, url, timeout, chunked, **httplib_request_kw)\u001b[0m\n\u001b[0;32m    378\u001b[0m             \u001b[1;32mexcept\u001b[0m \u001b[0mTypeError\u001b[0m\u001b[1;33m:\u001b[0m  \u001b[1;31m# Python 3\u001b[0m\u001b[1;33m\u001b[0m\u001b[1;33m\u001b[0m\u001b[0m\n\u001b[0;32m    379\u001b[0m                 \u001b[1;32mtry\u001b[0m\u001b[1;33m:\u001b[0m\u001b[1;33m\u001b[0m\u001b[1;33m\u001b[0m\u001b[0m\n\u001b[1;32m--> 380\u001b[1;33m                     \u001b[0mhttplib_response\u001b[0m \u001b[1;33m=\u001b[0m \u001b[0mconn\u001b[0m\u001b[1;33m.\u001b[0m\u001b[0mgetresponse\u001b[0m\u001b[1;33m(\u001b[0m\u001b[1;33m)\u001b[0m\u001b[1;33m\u001b[0m\u001b[1;33m\u001b[0m\u001b[0m\n\u001b[0m\u001b[0;32m    381\u001b[0m                 \u001b[1;32mexcept\u001b[0m \u001b[0mException\u001b[0m \u001b[1;32mas\u001b[0m \u001b[0me\u001b[0m\u001b[1;33m:\u001b[0m\u001b[1;33m\u001b[0m\u001b[1;33m\u001b[0m\u001b[0m\n\u001b[0;32m    382\u001b[0m                     \u001b[1;31m# Remove the TypeError from the exception chain in Python 3;\u001b[0m\u001b[1;33m\u001b[0m\u001b[1;33m\u001b[0m\u001b[1;33m\u001b[0m\u001b[0m\n",
      "\u001b[1;32m~\\Anaconda3\\lib\\http\\client.py\u001b[0m in \u001b[0;36mgetresponse\u001b[1;34m(self)\u001b[0m\n\u001b[0;32m   1319\u001b[0m         \u001b[1;32mtry\u001b[0m\u001b[1;33m:\u001b[0m\u001b[1;33m\u001b[0m\u001b[1;33m\u001b[0m\u001b[0m\n\u001b[0;32m   1320\u001b[0m             \u001b[1;32mtry\u001b[0m\u001b[1;33m:\u001b[0m\u001b[1;33m\u001b[0m\u001b[1;33m\u001b[0m\u001b[0m\n\u001b[1;32m-> 1321\u001b[1;33m                 \u001b[0mresponse\u001b[0m\u001b[1;33m.\u001b[0m\u001b[0mbegin\u001b[0m\u001b[1;33m(\u001b[0m\u001b[1;33m)\u001b[0m\u001b[1;33m\u001b[0m\u001b[1;33m\u001b[0m\u001b[0m\n\u001b[0m\u001b[0;32m   1322\u001b[0m             \u001b[1;32mexcept\u001b[0m \u001b[0mConnectionError\u001b[0m\u001b[1;33m:\u001b[0m\u001b[1;33m\u001b[0m\u001b[1;33m\u001b[0m\u001b[0m\n\u001b[0;32m   1323\u001b[0m                 \u001b[0mself\u001b[0m\u001b[1;33m.\u001b[0m\u001b[0mclose\u001b[0m\u001b[1;33m(\u001b[0m\u001b[1;33m)\u001b[0m\u001b[1;33m\u001b[0m\u001b[1;33m\u001b[0m\u001b[0m\n",
      "\u001b[1;32m~\\Anaconda3\\lib\\http\\client.py\u001b[0m in \u001b[0;36mbegin\u001b[1;34m(self)\u001b[0m\n\u001b[0;32m    294\u001b[0m         \u001b[1;31m# read until we get a non-100 response\u001b[0m\u001b[1;33m\u001b[0m\u001b[1;33m\u001b[0m\u001b[1;33m\u001b[0m\u001b[0m\n\u001b[0;32m    295\u001b[0m         \u001b[1;32mwhile\u001b[0m \u001b[1;32mTrue\u001b[0m\u001b[1;33m:\u001b[0m\u001b[1;33m\u001b[0m\u001b[1;33m\u001b[0m\u001b[0m\n\u001b[1;32m--> 296\u001b[1;33m             \u001b[0mversion\u001b[0m\u001b[1;33m,\u001b[0m \u001b[0mstatus\u001b[0m\u001b[1;33m,\u001b[0m \u001b[0mreason\u001b[0m \u001b[1;33m=\u001b[0m \u001b[0mself\u001b[0m\u001b[1;33m.\u001b[0m\u001b[0m_read_status\u001b[0m\u001b[1;33m(\u001b[0m\u001b[1;33m)\u001b[0m\u001b[1;33m\u001b[0m\u001b[1;33m\u001b[0m\u001b[0m\n\u001b[0m\u001b[0;32m    297\u001b[0m             \u001b[1;32mif\u001b[0m \u001b[0mstatus\u001b[0m \u001b[1;33m!=\u001b[0m \u001b[0mCONTINUE\u001b[0m\u001b[1;33m:\u001b[0m\u001b[1;33m\u001b[0m\u001b[1;33m\u001b[0m\u001b[0m\n\u001b[0;32m    298\u001b[0m                 \u001b[1;32mbreak\u001b[0m\u001b[1;33m\u001b[0m\u001b[1;33m\u001b[0m\u001b[0m\n",
      "\u001b[1;32m~\\Anaconda3\\lib\\http\\client.py\u001b[0m in \u001b[0;36m_read_status\u001b[1;34m(self)\u001b[0m\n\u001b[0;32m    255\u001b[0m \u001b[1;33m\u001b[0m\u001b[0m\n\u001b[0;32m    256\u001b[0m     \u001b[1;32mdef\u001b[0m \u001b[0m_read_status\u001b[0m\u001b[1;33m(\u001b[0m\u001b[0mself\u001b[0m\u001b[1;33m)\u001b[0m\u001b[1;33m:\u001b[0m\u001b[1;33m\u001b[0m\u001b[1;33m\u001b[0m\u001b[0m\n\u001b[1;32m--> 257\u001b[1;33m         \u001b[0mline\u001b[0m \u001b[1;33m=\u001b[0m \u001b[0mstr\u001b[0m\u001b[1;33m(\u001b[0m\u001b[0mself\u001b[0m\u001b[1;33m.\u001b[0m\u001b[0mfp\u001b[0m\u001b[1;33m.\u001b[0m\u001b[0mreadline\u001b[0m\u001b[1;33m(\u001b[0m\u001b[0m_MAXLINE\u001b[0m \u001b[1;33m+\u001b[0m \u001b[1;36m1\u001b[0m\u001b[1;33m)\u001b[0m\u001b[1;33m,\u001b[0m \u001b[1;34m\"iso-8859-1\"\u001b[0m\u001b[1;33m)\u001b[0m\u001b[1;33m\u001b[0m\u001b[1;33m\u001b[0m\u001b[0m\n\u001b[0m\u001b[0;32m    258\u001b[0m         \u001b[1;32mif\u001b[0m \u001b[0mlen\u001b[0m\u001b[1;33m(\u001b[0m\u001b[0mline\u001b[0m\u001b[1;33m)\u001b[0m \u001b[1;33m>\u001b[0m \u001b[0m_MAXLINE\u001b[0m\u001b[1;33m:\u001b[0m\u001b[1;33m\u001b[0m\u001b[1;33m\u001b[0m\u001b[0m\n\u001b[0;32m    259\u001b[0m             \u001b[1;32mraise\u001b[0m \u001b[0mLineTooLong\u001b[0m\u001b[1;33m(\u001b[0m\u001b[1;34m\"status line\"\u001b[0m\u001b[1;33m)\u001b[0m\u001b[1;33m\u001b[0m\u001b[1;33m\u001b[0m\u001b[0m\n",
      "\u001b[1;32m~\\Anaconda3\\lib\\socket.py\u001b[0m in \u001b[0;36mreadinto\u001b[1;34m(self, b)\u001b[0m\n\u001b[0;32m    587\u001b[0m         \u001b[1;32mwhile\u001b[0m \u001b[1;32mTrue\u001b[0m\u001b[1;33m:\u001b[0m\u001b[1;33m\u001b[0m\u001b[1;33m\u001b[0m\u001b[0m\n\u001b[0;32m    588\u001b[0m             \u001b[1;32mtry\u001b[0m\u001b[1;33m:\u001b[0m\u001b[1;33m\u001b[0m\u001b[1;33m\u001b[0m\u001b[0m\n\u001b[1;32m--> 589\u001b[1;33m                 \u001b[1;32mreturn\u001b[0m \u001b[0mself\u001b[0m\u001b[1;33m.\u001b[0m\u001b[0m_sock\u001b[0m\u001b[1;33m.\u001b[0m\u001b[0mrecv_into\u001b[0m\u001b[1;33m(\u001b[0m\u001b[0mb\u001b[0m\u001b[1;33m)\u001b[0m\u001b[1;33m\u001b[0m\u001b[1;33m\u001b[0m\u001b[0m\n\u001b[0m\u001b[0;32m    590\u001b[0m             \u001b[1;32mexcept\u001b[0m \u001b[0mtimeout\u001b[0m\u001b[1;33m:\u001b[0m\u001b[1;33m\u001b[0m\u001b[1;33m\u001b[0m\u001b[0m\n\u001b[0;32m    591\u001b[0m                 \u001b[0mself\u001b[0m\u001b[1;33m.\u001b[0m\u001b[0m_timeout_occurred\u001b[0m \u001b[1;33m=\u001b[0m \u001b[1;32mTrue\u001b[0m\u001b[1;33m\u001b[0m\u001b[1;33m\u001b[0m\u001b[0m\n",
      "\u001b[1;31mKeyboardInterrupt\u001b[0m: "
     ]
    }
   ],
   "source": [
    "# loop through the url for the dispenser products to get the dataframe\n",
    "product_list = []\n",
    "reviews = []\n",
    "for url in dispenser:\n",
    "    dict_, product_review = get_info(url)\n",
    "    product_list.append(dict_)\n",
    "    reviews.extend(product_review)"
   ]
  },
  {
   "cell_type": "code",
   "execution_count": 37,
   "metadata": {},
   "outputs": [],
   "source": [
    "product_df = pd.DataFrame(product_list)"
   ]
  },
  {
   "cell_type": "code",
   "execution_count": 38,
   "metadata": {},
   "outputs": [
    {
     "data": {
      "text/html": [
       "<div>\n",
       "<style scoped>\n",
       "    .dataframe tbody tr th:only-of-type {\n",
       "        vertical-align: middle;\n",
       "    }\n",
       "\n",
       "    .dataframe tbody tr th {\n",
       "        vertical-align: top;\n",
       "    }\n",
       "\n",
       "    .dataframe thead th {\n",
       "        text-align: right;\n",
       "    }\n",
       "</style>\n",
       "<table border=\"1\" class=\"dataframe\">\n",
       "  <thead>\n",
       "    <tr style=\"text-align: right;\">\n",
       "      <th></th>\n",
       "      <th>name</th>\n",
       "      <th>url</th>\n",
       "      <th>price</th>\n",
       "      <th>info</th>\n",
       "    </tr>\n",
       "  </thead>\n",
       "  <tbody>\n",
       "    <tr>\n",
       "      <th>0</th>\n",
       "      <td>KISEER 4 Boxs (200 Sheets) Mini Portable Trave...</td>\n",
       "      <td>https://www.amazon.com/KISEER-Portable-Disposa...</td>\n",
       "      <td>9.99</td>\n",
       "      <td>Made of natural premium quality biodegradable ...</td>\n",
       "    </tr>\n",
       "    <tr>\n",
       "      <th>1</th>\n",
       "      <td>6 Packs Portable Disposable Travel Hiking Wash...</td>\n",
       "      <td>https://www.amazon.com/Portable-Disposable-Tra...</td>\n",
       "      <td>7.99</td>\n",
       "      <td>Package Included: 6 Box of Soap Sheets,20pcs p...</td>\n",
       "    </tr>\n",
       "    <tr>\n",
       "      <th>2</th>\n",
       "      <td>4 Boxs(200 Sheets) Paper Soap,Mini Portable Tr...</td>\n",
       "      <td>https://www.amazon.com/Portable-Disposable-Out...</td>\n",
       "      <td>6.99</td>\n",
       "      <td>♥1: MATERIAL: Made of natural premium quality ...</td>\n",
       "    </tr>\n",
       "    <tr>\n",
       "      <th>3</th>\n",
       "      <td>ZDU 80 Pcs Outdoor Travel Hand Washing Soap Pa...</td>\n",
       "      <td>https://www.amazon.com/ZDU-Outdoor-Washing-Por...</td>\n",
       "      <td>5.99</td>\n",
       "      <td>Pocket Size - Soap piece size: 6 x 3.5cm, box ...</td>\n",
       "    </tr>\n",
       "    <tr>\n",
       "      <th>4</th>\n",
       "      <td>6 Boxes (300 Sheets) Portable Disposable Soap ...</td>\n",
       "      <td>https://www.amazon.com/Portable-Disposable-Was...</td>\n",
       "      <td>11.72</td>\n",
       "      <td>Package Included: 6 Boxes (300 Sheets) x Porta...</td>\n",
       "    </tr>\n",
       "    <tr>\n",
       "      <th>5</th>\n",
       "      <td>Ellocy 4 Boxes(200 Sheets) Mini Cute Portable ...</td>\n",
       "      <td>https://www.amazon.com/Ellocy-Portable-Disposa...</td>\n",
       "      <td>8.99</td>\n",
       "      <td>✅ High-quality : Made of natural premium quali...</td>\n",
       "    </tr>\n",
       "    <tr>\n",
       "      <th>6</th>\n",
       "      <td>2 Box (40 Sheets) Portable Disposable Soap Pap...</td>\n",
       "      <td>https://www.amazon.com/Portable-Disposable-Was...</td>\n",
       "      <td>5.99</td>\n",
       "      <td>Specifications: 2 boxes (40 sheets) portable d...</td>\n",
       "    </tr>\n",
       "    <tr>\n",
       "      <th>7</th>\n",
       "      <td>Bamsod 12 Boxes (240 sheets) Soap Sheets Porta...</td>\n",
       "      <td>https://www.amazon.com/Bamsod-Portable-Disposa...</td>\n",
       "      <td>8.99</td>\n",
       "      <td>✡Material: Natural Vegetable Oils, Aromatherap...</td>\n",
       "    </tr>\n",
       "    <tr>\n",
       "      <th>8</th>\n",
       "      <td>Travelon Hand Soap Toiletry Sheets, 50-Count</td>\n",
       "      <td>https://www.amazon.com/Travelon-Hand-Toiletry-...</td>\n",
       "      <td>4.60</td>\n",
       "      <td>Dissolves in water\\n50 Biodegradable Sheets\\n3...</td>\n",
       "    </tr>\n",
       "    <tr>\n",
       "      <th>9</th>\n",
       "      <td>Portable Paper Hand Soap Sheets - Travel Size ...</td>\n",
       "      <td>https://www.amazon.com/Portable-Paper-Hand-Soa...</td>\n",
       "      <td>7.99</td>\n",
       "      <td>TAKE IT ANYWHERE: Say goodbye to the disappoin...</td>\n",
       "    </tr>\n",
       "    <tr>\n",
       "      <th>10</th>\n",
       "      <td>5 Pack Travel Paper Soaps, Hand Washing Soap P...</td>\n",
       "      <td>https://www.amazon.com/Washing-Portable-Replac...</td>\n",
       "      <td>10.99</td>\n",
       "      <td>Portable size: The Paper soap size about 3.54 ...</td>\n",
       "    </tr>\n",
       "    <tr>\n",
       "      <th>11</th>\n",
       "      <td>Fomin 3-Pack (300 Sheets) Foaming Hand Soap Sh...</td>\n",
       "      <td>https://www.amazon.com/Fomin-3-Pack-Sheets-Foa...</td>\n",
       "      <td>11.99</td>\n",
       "      <td>3-PACK TRAVEL SOAP SHEETS: Natural Lemon Scent...</td>\n",
       "    </tr>\n",
       "    <tr>\n",
       "      <th>12</th>\n",
       "      <td>GREENSLEEVES Paper Soap, 8 Boxes Total 200 She...</td>\n",
       "      <td>https://www.amazon.com/dp/B086G3R7F6/ref=sspa_...</td>\n",
       "      <td>13.99</td>\n",
       "      <td>PACKAGE INCLUDES: 8 Boxes Paper Soap(2 boxes p...</td>\n",
       "    </tr>\n",
       "    <tr>\n",
       "      <th>13</th>\n",
       "      <td>200pcs Portable Travel Hand Washing Paper Soap...</td>\n",
       "      <td>https://www.amazon.com/dp/B08BNMS45G/ref=sspa_...</td>\n",
       "      <td>9.98</td>\n",
       "      <td>【Portable and Handy】Soap paper sheets are pack...</td>\n",
       "    </tr>\n",
       "  </tbody>\n",
       "</table>\n",
       "</div>"
      ],
      "text/plain": [
       "                                                 name  \\\n",
       "0   KISEER 4 Boxs (200 Sheets) Mini Portable Trave...   \n",
       "1   6 Packs Portable Disposable Travel Hiking Wash...   \n",
       "2   4 Boxs(200 Sheets) Paper Soap,Mini Portable Tr...   \n",
       "3   ZDU 80 Pcs Outdoor Travel Hand Washing Soap Pa...   \n",
       "4   6 Boxes (300 Sheets) Portable Disposable Soap ...   \n",
       "5   Ellocy 4 Boxes(200 Sheets) Mini Cute Portable ...   \n",
       "6   2 Box (40 Sheets) Portable Disposable Soap Pap...   \n",
       "7   Bamsod 12 Boxes (240 sheets) Soap Sheets Porta...   \n",
       "8        Travelon Hand Soap Toiletry Sheets, 50-Count   \n",
       "9   Portable Paper Hand Soap Sheets - Travel Size ...   \n",
       "10  5 Pack Travel Paper Soaps, Hand Washing Soap P...   \n",
       "11  Fomin 3-Pack (300 Sheets) Foaming Hand Soap Sh...   \n",
       "12  GREENSLEEVES Paper Soap, 8 Boxes Total 200 She...   \n",
       "13  200pcs Portable Travel Hand Washing Paper Soap...   \n",
       "\n",
       "                                                  url  price  \\\n",
       "0   https://www.amazon.com/KISEER-Portable-Disposa...   9.99   \n",
       "1   https://www.amazon.com/Portable-Disposable-Tra...   7.99   \n",
       "2   https://www.amazon.com/Portable-Disposable-Out...   6.99   \n",
       "3   https://www.amazon.com/ZDU-Outdoor-Washing-Por...   5.99   \n",
       "4   https://www.amazon.com/Portable-Disposable-Was...  11.72   \n",
       "5   https://www.amazon.com/Ellocy-Portable-Disposa...   8.99   \n",
       "6   https://www.amazon.com/Portable-Disposable-Was...   5.99   \n",
       "7   https://www.amazon.com/Bamsod-Portable-Disposa...   8.99   \n",
       "8   https://www.amazon.com/Travelon-Hand-Toiletry-...   4.60   \n",
       "9   https://www.amazon.com/Portable-Paper-Hand-Soa...   7.99   \n",
       "10  https://www.amazon.com/Washing-Portable-Replac...  10.99   \n",
       "11  https://www.amazon.com/Fomin-3-Pack-Sheets-Foa...  11.99   \n",
       "12  https://www.amazon.com/dp/B086G3R7F6/ref=sspa_...  13.99   \n",
       "13  https://www.amazon.com/dp/B08BNMS45G/ref=sspa_...   9.98   \n",
       "\n",
       "                                                 info  \n",
       "0   Made of natural premium quality biodegradable ...  \n",
       "1   Package Included: 6 Box of Soap Sheets,20pcs p...  \n",
       "2   ♥1: MATERIAL: Made of natural premium quality ...  \n",
       "3   Pocket Size - Soap piece size: 6 x 3.5cm, box ...  \n",
       "4   Package Included: 6 Boxes (300 Sheets) x Porta...  \n",
       "5   ✅ High-quality : Made of natural premium quali...  \n",
       "6   Specifications: 2 boxes (40 sheets) portable d...  \n",
       "7   ✡Material: Natural Vegetable Oils, Aromatherap...  \n",
       "8   Dissolves in water\\n50 Biodegradable Sheets\\n3...  \n",
       "9   TAKE IT ANYWHERE: Say goodbye to the disappoin...  \n",
       "10  Portable size: The Paper soap size about 3.54 ...  \n",
       "11  3-PACK TRAVEL SOAP SHEETS: Natural Lemon Scent...  \n",
       "12  PACKAGE INCLUDES: 8 Boxes Paper Soap(2 boxes p...  \n",
       "13  【Portable and Handy】Soap paper sheets are pack...  "
      ]
     },
     "execution_count": 38,
     "metadata": {},
     "output_type": "execute_result"
    }
   ],
   "source": [
    "product_df"
   ]
  },
  {
   "cell_type": "code",
   "execution_count": 42,
   "metadata": {},
   "outputs": [],
   "source": [
    "product_df.to_csv('hand_wash_sheet_dispenser.csv')"
   ]
  },
  {
   "cell_type": "code",
   "execution_count": 39,
   "metadata": {},
   "outputs": [],
   "source": [
    "reviews_df = pd.DataFrame(reviews)"
   ]
  },
  {
   "cell_type": "code",
   "execution_count": 40,
   "metadata": {},
   "outputs": [
    {
     "data": {
      "text/html": [
       "<div>\n",
       "<style scoped>\n",
       "    .dataframe tbody tr th:only-of-type {\n",
       "        vertical-align: middle;\n",
       "    }\n",
       "\n",
       "    .dataframe tbody tr th {\n",
       "        vertical-align: top;\n",
       "    }\n",
       "\n",
       "    .dataframe thead th {\n",
       "        text-align: right;\n",
       "    }\n",
       "</style>\n",
       "<table border=\"1\" class=\"dataframe\">\n",
       "  <thead>\n",
       "    <tr style=\"text-align: right;\">\n",
       "      <th></th>\n",
       "      <th>name</th>\n",
       "      <th>date</th>\n",
       "      <th>rating</th>\n",
       "      <th>text</th>\n",
       "    </tr>\n",
       "  </thead>\n",
       "  <tbody>\n",
       "    <tr>\n",
       "      <th>0</th>\n",
       "      <td>KISEER 4 Boxs (200 Sheets) Mini Portable Trave...</td>\n",
       "      <td>2020-09-12</td>\n",
       "      <td>5.0</td>\n",
       "      <td>Useful, especially if you are hiking or travel...</td>\n",
       "    </tr>\n",
       "    <tr>\n",
       "      <th>1</th>\n",
       "      <td>KISEER 4 Boxs (200 Sheets) Mini Portable Trave...</td>\n",
       "      <td>2020-09-11</td>\n",
       "      <td>2.0</td>\n",
       "      <td>Not what I expected These were not at all what...</td>\n",
       "    </tr>\n",
       "    <tr>\n",
       "      <th>2</th>\n",
       "      <td>KISEER 4 Boxs (200 Sheets) Mini Portable Trave...</td>\n",
       "      <td>2020-09-10</td>\n",
       "      <td>1.0</td>\n",
       "      <td>Didn’t get what I paid for. Great idea however...</td>\n",
       "    </tr>\n",
       "    <tr>\n",
       "      <th>3</th>\n",
       "      <td>KISEER 4 Boxs (200 Sheets) Mini Portable Trave...</td>\n",
       "      <td>2020-09-10</td>\n",
       "      <td>5.0</td>\n",
       "      <td>Bought twice! Liked 1st order so much ordered ...</td>\n",
       "    </tr>\n",
       "    <tr>\n",
       "      <th>4</th>\n",
       "      <td>KISEER 4 Boxs (200 Sheets) Mini Portable Trave...</td>\n",
       "      <td>2020-09-09</td>\n",
       "      <td>5.0</td>\n",
       "      <td>Grab with dry hand Easy to carry, grab the pie...</td>\n",
       "    </tr>\n",
       "    <tr>\n",
       "      <th>...</th>\n",
       "      <td>...</td>\n",
       "      <td>...</td>\n",
       "      <td>...</td>\n",
       "      <td>...</td>\n",
       "    </tr>\n",
       "    <tr>\n",
       "      <th>2872</th>\n",
       "      <td>200pcs Portable Travel Hand Washing Paper Soap...</td>\n",
       "      <td>2020-07-23</td>\n",
       "      <td>5.0</td>\n",
       "      <td>Perfect for camping! My Family recently went c...</td>\n",
       "    </tr>\n",
       "    <tr>\n",
       "      <th>2873</th>\n",
       "      <td>200pcs Portable Travel Hand Washing Paper Soap...</td>\n",
       "      <td>2020-07-20</td>\n",
       "      <td>5.0</td>\n",
       "      <td>Recommend. Great for travel Great for travel a...</td>\n",
       "    </tr>\n",
       "    <tr>\n",
       "      <th>2874</th>\n",
       "      <td>200pcs Portable Travel Hand Washing Paper Soap...</td>\n",
       "      <td>2020-07-19</td>\n",
       "      <td>5.0</td>\n",
       "      <td>Love it I love the scent of all of them. Bough...</td>\n",
       "    </tr>\n",
       "    <tr>\n",
       "      <th>2875</th>\n",
       "      <td>200pcs Portable Travel Hand Washing Paper Soap...</td>\n",
       "      <td>2020-07-18</td>\n",
       "      <td>5.0</td>\n",
       "      <td>No sink no problem I love this. It’s perfect f...</td>\n",
       "    </tr>\n",
       "    <tr>\n",
       "      <th>2876</th>\n",
       "      <td>200pcs Portable Travel Hand Washing Paper Soap...</td>\n",
       "      <td>2020-07-16</td>\n",
       "      <td>5.0</td>\n",
       "      <td>Like the container. It makes it handy to carry...</td>\n",
       "    </tr>\n",
       "  </tbody>\n",
       "</table>\n",
       "<p>2877 rows × 4 columns</p>\n",
       "</div>"
      ],
      "text/plain": [
       "                                                   name       date  rating  \\\n",
       "0     KISEER 4 Boxs (200 Sheets) Mini Portable Trave... 2020-09-12     5.0   \n",
       "1     KISEER 4 Boxs (200 Sheets) Mini Portable Trave... 2020-09-11     2.0   \n",
       "2     KISEER 4 Boxs (200 Sheets) Mini Portable Trave... 2020-09-10     1.0   \n",
       "3     KISEER 4 Boxs (200 Sheets) Mini Portable Trave... 2020-09-10     5.0   \n",
       "4     KISEER 4 Boxs (200 Sheets) Mini Portable Trave... 2020-09-09     5.0   \n",
       "...                                                 ...        ...     ...   \n",
       "2872  200pcs Portable Travel Hand Washing Paper Soap... 2020-07-23     5.0   \n",
       "2873  200pcs Portable Travel Hand Washing Paper Soap... 2020-07-20     5.0   \n",
       "2874  200pcs Portable Travel Hand Washing Paper Soap... 2020-07-19     5.0   \n",
       "2875  200pcs Portable Travel Hand Washing Paper Soap... 2020-07-18     5.0   \n",
       "2876  200pcs Portable Travel Hand Washing Paper Soap... 2020-07-16     5.0   \n",
       "\n",
       "                                                   text  \n",
       "0     Useful, especially if you are hiking or travel...  \n",
       "1     Not what I expected These were not at all what...  \n",
       "2     Didn’t get what I paid for. Great idea however...  \n",
       "3     Bought twice! Liked 1st order so much ordered ...  \n",
       "4     Grab with dry hand Easy to carry, grab the pie...  \n",
       "...                                                 ...  \n",
       "2872  Perfect for camping! My Family recently went c...  \n",
       "2873  Recommend. Great for travel Great for travel a...  \n",
       "2874  Love it I love the scent of all of them. Bough...  \n",
       "2875  No sink no problem I love this. It’s perfect f...  \n",
       "2876  Like the container. It makes it handy to carry...  \n",
       "\n",
       "[2877 rows x 4 columns]"
      ]
     },
     "execution_count": 40,
     "metadata": {},
     "output_type": "execute_result"
    }
   ],
   "source": [
    "reviews_df"
   ]
  },
  {
   "cell_type": "code",
   "execution_count": 43,
   "metadata": {},
   "outputs": [],
   "source": [
    "reviews_df.to_csv('hand_wash_sheet_dispenser_review.csv')"
   ]
  },
  {
   "cell_type": "code",
   "execution_count": 12,
   "metadata": {},
   "outputs": [],
   "source": [
    "keywords = ['case', 'container', 'packages', 'package', 'packaging', 'box','pack']"
   ]
  },
  {
   "cell_type": "code",
   "execution_count": 13,
   "metadata": {},
   "outputs": [],
   "source": [
    "## my work starts here"
   ]
  },
  {
   "cell_type": "code",
   "execution_count": 14,
   "metadata": {},
   "outputs": [],
   "source": [
    "soap = pd.read_csv('hand_wash_sheet_dispenser_review.csv')"
   ]
  },
  {
   "cell_type": "code",
   "execution_count": 15,
   "metadata": {},
   "outputs": [],
   "source": [
    "soap = soap.drop_duplicates(subset=['text'])"
   ]
  },
  {
   "cell_type": "code",
   "execution_count": 16,
   "metadata": {
    "scrolled": true
   },
   "outputs": [],
   "source": [
    "soap_pack =soap[soap['text'].apply(lambda x: any(keyword in x for keyword in keywords))] #filter reviews containing such keywords"
   ]
  },
  {
   "cell_type": "code",
   "execution_count": 17,
   "metadata": {},
   "outputs": [],
   "source": [
    "pack_raw = soap_pack['text'].str.cat(sep = ' ').lower()"
   ]
  },
  {
   "cell_type": "code",
   "execution_count": 18,
   "metadata": {},
   "outputs": [],
   "source": [
    "from nlpshortcut import *\n"
   ]
  },
  {
   "cell_type": "code",
   "execution_count": 19,
   "metadata": {},
   "outputs": [],
   "source": [
    "packpos = [] #positive reviews\n",
    "packneg = [] #negative reviews\n",
    "for thing in soap_pack['text']: #splitting positive and negative reviews\n",
    "    if vader().polarity_scores(thing)['compound'] >=0:\n",
    "        packpos.append(thing)\n",
    "    else:\n",
    "        packneg.append(thing)"
   ]
  },
  {
   "cell_type": "code",
   "execution_count": 20,
   "metadata": {},
   "outputs": [],
   "source": [
    "def listToString(s):  \n",
    "    \n",
    "    # initialize an empty string \n",
    "    str1 = \"\"  \n",
    "    \n",
    "    # traverse in the string   \n",
    "    for ele in s:  \n",
    "        str1 += ele   \n",
    "    \n",
    "    # return string   \n",
    "    return str1"
   ]
  },
  {
   "cell_type": "code",
   "execution_count": 21,
   "metadata": {},
   "outputs": [],
   "source": [
    "posraw = listToString(packpos).lower()\n",
    "negraw = listToString(packneg).lower()"
   ]
  },
  {
   "cell_type": "code",
   "execution_count": 22,
   "metadata": {},
   "outputs": [],
   "source": [
    "packpossent = [sent for sent in sent_tokenize(posraw) if any(keyword in sent for keyword in keywords)]\n",
    "packnegsent = [sent for sent in sent_tokenize(negraw) if any(keyword in sent for keyword in keywords)]\n",
    "#select sentences that contains those stuff from the positive and negative comments"
   ]
  },
  {
   "cell_type": "code",
   "execution_count": 23,
   "metadata": {},
   "outputs": [
    {
     "data": {
      "text/plain": [
       "[(0,\n",
       "  '0.002*\"sheets\" + 0.002*\"little\" + 0.002*\"pack\" + 0.002*\"case\" + 0.002*\"one\" + 0.002*\"use\" + 0.002*\"box\" + 0.002*\"small\" + 0.002*\"purse\" + 0.002*\"good\"'),\n",
       " (1,\n",
       "  '0.002*\"pack\" + 0.002*\"sheets\" + 0.002*\"little\" + 0.002*\"small\" + 0.002*\"one\" + 0.002*\"case\" + 0.002*\"product\" + 0.002*\"package\" + 0.002*\"easy\" + 0.002*\"cute\"'),\n",
       " (2,\n",
       "  '0.002*\"case\" + 0.002*\"little\" + 0.002*\"one\" + 0.002*\"sheets\" + 0.002*\"pack\" + 0.002*\"small\" + 0.002*\"container\" + 0.002*\"cute\" + 0.002*\"use\" + 0.002*\"good\"'),\n",
       " (3,\n",
       "  '0.002*\"case\" + 0.002*\"little\" + 0.002*\"sheets\" + 0.002*\"pack\" + 0.002*\"one\" + 0.002*\"container\" + 0.002*\"plastic\" + 0.002*\"small\" + 0.002*\"cute\" + 0.002*\"product\"'),\n",
       " (4,\n",
       "  '0.002*\"sheets\" + 0.002*\"pack\" + 0.002*\"little\" + 0.002*\"one\" + 0.002*\"case\" + 0.002*\"keep\" + 0.002*\"easy\" + 0.002*\"small\" + 0.002*\"plastic\" + 0.002*\"container\"'),\n",
       " (5,\n",
       "  '0.018*\"sheets\" + 0.016*\"pack\" + 0.016*\"case\" + 0.015*\"little\" + 0.015*\"one\" + 0.011*\"small\" + 0.010*\"package\" + 0.010*\"container\" + 0.010*\"cute\" + 0.009*\"product\"'),\n",
       " (6,\n",
       "  '0.002*\"sheets\" + 0.002*\"little\" + 0.002*\"case\" + 0.002*\"one\" + 0.002*\"pack\" + 0.002*\"cute\" + 0.002*\"purse\" + 0.002*\"need\" + 0.002*\"small\" + 0.002*\"container\"'),\n",
       " (7,\n",
       "  '0.002*\"sheets\" + 0.002*\"little\" + 0.002*\"pack\" + 0.002*\"case\" + 0.002*\"small\" + 0.002*\"container\" + 0.001*\"use\" + 0.001*\"package\" + 0.001*\"product\" + 0.001*\"cute\"'),\n",
       " (8,\n",
       "  '0.002*\"sheets\" + 0.002*\"little\" + 0.002*\"case\" + 0.002*\"one\" + 0.002*\"pack\" + 0.002*\"small\" + 0.002*\"package\" + 0.002*\"use\" + 0.002*\"travel\" + 0.002*\"container\"'),\n",
       " (9,\n",
       "  '0.002*\"sheets\" + 0.002*\"one\" + 0.002*\"little\" + 0.002*\"case\" + 0.002*\"pack\" + 0.002*\"use\" + 0.002*\"small\" + 0.002*\"product\" + 0.002*\"good\" + 0.002*\"cute\"')]"
      ]
     },
     "execution_count": 23,
     "metadata": {},
     "output_type": "execute_result"
    }
   ],
   "source": [
    "ldacreator(listToString(packpossent),topics=10,stopwords = ['soap','hands','paper','will','hand','two','three','purchase','packaging','purchased','purchasing'])"
   ]
  },
  {
   "cell_type": "code",
   "execution_count": 24,
   "metadata": {},
   "outputs": [
    {
     "data": {
      "text/plain": [
       "[(0,\n",
       "  '0.011*\"sheets\" + 0.011*\"item\" + 0.011*\"scent\" + 0.011*\"pack\" + 0.011*\"thing\" + 0.011*\"warning\" + 0.011*\"well\" + 0.011*\"makes\" + 0.011*\"lather\" + 0.011*\"cancer\"'),\n",
       " (1,\n",
       "  '0.012*\"scent\" + 0.011*\"getting\" + 0.011*\"sheets\" + 0.011*\"item\" + 0.011*\"good\" + 0.011*\"pack\" + 0.011*\"feel\" + 0.011*\"box\" + 0.011*\"cancer\" + 0.011*\"complaint\"'),\n",
       " (2,\n",
       "  '0.011*\"good\" + 0.011*\"got\" + 0.011*\"lather\" + 0.011*\"sheets\" + 0.011*\"scent\" + 0.011*\"feel\" + 0.011*\"getting\" + 0.011*\"thing\" + 0.011*\"item\" + 0.011*\"little\"'),\n",
       " (3,\n",
       "  '0.011*\"scent\" + 0.011*\"sheets\" + 0.011*\"getting\" + 0.011*\"per\" + 0.011*\"easy\" + 0.011*\"warning\" + 0.011*\"thing\" + 0.011*\"pack\" + 0.011*\"cancer\" + 0.011*\"complaint\"'),\n",
       " (4,\n",
       "  '0.011*\"sheets\" + 0.011*\"scent\" + 0.011*\"pack\" + 0.011*\"cancer\" + 0.011*\"well\" + 0.011*\"2\" + 0.011*\"good\" + 0.011*\"little\" + 0.011*\"lather\" + 0.011*\"around\"'),\n",
       " (5,\n",
       "  '0.012*\"scent\" + 0.012*\"sheets\" + 0.012*\"pack\" + 0.011*\"well\" + 0.011*\"complaint\" + 0.011*\"got\" + 0.011*\"feel\" + 0.011*\"product\" + 0.011*\"gunk\" + 0.011*\"good\"'),\n",
       " (6,\n",
       "  '0.011*\"sheets\" + 0.011*\"pack\" + 0.011*\"scent\" + 0.011*\"easy\" + 0.011*\"thing\" + 0.011*\"product\" + 0.011*\"good\" + 0.011*\"per\" + 0.011*\"getting\" + 0.011*\"feel\"'),\n",
       " (7,\n",
       "  '0.025*\"pack\" + 0.025*\"sheets\" + 0.025*\"scent\" + 0.017*\"package\" + 0.017*\"makes\" + 0.017*\"little\" + 0.017*\"easy\" + 0.017*\"around\" + 0.017*\"2\" + 0.017*\"box\"'),\n",
       " (8,\n",
       "  '0.011*\"pack\" + 0.011*\"scent\" + 0.011*\"sheets\" + 0.011*\"got\" + 0.011*\"getting\" + 0.011*\"product\" + 0.011*\"around\" + 0.011*\"per\" + 0.011*\"good\" + 0.011*\"bad\"'),\n",
       " (9,\n",
       "  '0.011*\"gunk\" + 0.011*\"product\" + 0.011*\"scent\" + 0.011*\"feel\" + 0.011*\"getting\" + 0.011*\"good\" + 0.011*\"got\" + 0.011*\"thing\" + 0.011*\"2\" + 0.011*\"little\"')]"
      ]
     },
     "execution_count": 24,
     "metadata": {},
     "output_type": "execute_result"
    }
   ],
   "source": [
    "ldacreator(listToString(packnegsent),topics=10,stopwords = ['soap','missing','4','one','received','hands','paper','ordered','will','hand','two','dirty','three','purchase','packaging','purchased','purchasing'])"
   ]
  },
  {
   "cell_type": "code",
   "execution_count": 25,
   "metadata": {},
   "outputs": [
    {
     "data": {
      "text/plain": [
       "['i have discarded it and the package is not good when it is delivered.',\n",
       " 'it makes me feel that it is a bad product, which makes me feel very bad.soap packs do not lather up good, just really good for an emergency if you do not have access to any soap,disgusting!!!!!',\n",
       " 'there was a bunch of gunk around the cases of this product i ordered as well as they were just thrown into the shipping box.',\n",
       " 'with a time like this due to coronavirus i threw the entire thing away i didn’t want to risk it after seeing all the gunk around the case nasty.',\n",
       " 'the packaging is like a pack of candy.',\n",
       " 'plastic container.',\n",
       " 'only complaint was the container is a little hard to open.',\n",
       " 'not an easy in out push.lie.. only 2 sheets per container, not 20!',\n",
       " 'i ordered these and only got 2 sheets per each one, not 20... so instead of getting 80 sheets.. i got 8 😠misleading product info i just open the box and inside only one color everything is pink?missing item i ordered 4 packs, but i only received 3. please refund my money for the missing one.comes with a cancer warning cool concept and compact, easy for travel.',\n",
       " \"only thing i don't like is there's a cancer warning on the package.\",\n",
       " \"so i guess using on or two sheets every once in a long while wouldn't be bad but to use this frequently?missing pieces i only received one green package, missing three packages for set.missing items it’s supposed to be a package of 4 but i only recieved 1. unliked describing on the site.they state that there are 4 tablets in the pack and show that in the picture when i received this item there was only 1 small little tablet.\",\n",
       " 'very misleadingthumbs up the scent is good, my only complaint is it doesnt fit in any of the carrying cases.',\n",
       " 'the box wont hold up in my purse long.',\n",
       " 'plus, if your hands are dirty and you’re opening this pack to get a sheet, then you’re getting your dirty hands all over them...as described.',\n",
       " 'throwing a packet in my trabel bag, one in my car, and one in my purse.ok lather well but no scent when used only scent in package.']"
      ]
     },
     "execution_count": 25,
     "metadata": {},
     "output_type": "execute_result"
    }
   ],
   "source": [
    "packnegsent"
   ]
  },
  {
   "cell_type": "code",
   "execution_count": 26,
   "metadata": {},
   "outputs": [],
   "source": [
    "##separation\n",
    "def posorneg(text):\n",
    "    score = vader().polarity_scores(text)['compound']\n",
    "    if score<0:\n",
    "        return(False)\n",
    "    else:\n",
    "        return(True)"
   ]
  },
  {
   "cell_type": "code",
   "execution_count": 27,
   "metadata": {},
   "outputs": [],
   "source": [
    "positive_reviews = soap[soap['text'].apply(lambda x:posorneg(x))]\n"
   ]
  },
  {
   "cell_type": "code",
   "execution_count": 28,
   "metadata": {},
   "outputs": [],
   "source": [
    "negative_reviews = soap[soap['text'].apply(lambda x:not posorneg(x))]"
   ]
  },
  {
   "cell_type": "code",
   "execution_count": 29,
   "metadata": {},
   "outputs": [],
   "source": [
    "positive_reviews.to_csv('positive_reviews.csv')\n",
    "negative_reviews.to_csv('negative_reviews.csv')"
   ]
  },
  {
   "cell_type": "code",
   "execution_count": 30,
   "metadata": {},
   "outputs": [
    {
     "data": {
      "text/plain": [
       "dict"
      ]
     },
     "execution_count": 30,
     "metadata": {},
     "output_type": "execute_result"
    }
   ],
   "source": [
    "type(vader().lexicon)"
   ]
  },
  {
   "cell_type": "code",
   "execution_count": 31,
   "metadata": {},
   "outputs": [],
   "source": [
    "def emotionwords(text):\n",
    "    text=text.lower()\n",
    "    text = word_tokenize(text)\n",
    "    emotion = []\n",
    "    for word in text:\n",
    "        if vader().lexicon.get(word):\n",
    "            emotion.append([word,vader().lexicon[word]])\n",
    "    return(emotion)"
   ]
  },
  {
   "cell_type": "code",
   "execution_count": 32,
   "metadata": {},
   "outputs": [
    {
     "name": "stderr",
     "output_type": "stream",
     "text": [
      "C:\\Users\\Celes\\Anaconda3\\lib\\site-packages\\ipykernel_launcher.py:1: SettingWithCopyWarning: \n",
      "A value is trying to be set on a copy of a slice from a DataFrame.\n",
      "Try using .loc[row_indexer,col_indexer] = value instead\n",
      "\n",
      "See the caveats in the documentation: http://pandas.pydata.org/pandas-docs/stable/indexing.html#indexing-view-versus-copy\n",
      "  \"\"\"Entry point for launching an IPython kernel.\n",
      "C:\\Users\\Celes\\Anaconda3\\lib\\site-packages\\ipykernel_launcher.py:2: SettingWithCopyWarning: \n",
      "A value is trying to be set on a copy of a slice from a DataFrame.\n",
      "Try using .loc[row_indexer,col_indexer] = value instead\n",
      "\n",
      "See the caveats in the documentation: http://pandas.pydata.org/pandas-docs/stable/indexing.html#indexing-view-versus-copy\n",
      "  \n"
     ]
    }
   ],
   "source": [
    "negative_reviews['sentiment'] = negative_reviews['text'].apply(lambda x: emotionwords(x))\n",
    "positive_reviews['sentiment'] = positive_reviews['text'].apply(lambda x: emotionwords(x))"
   ]
  },
  {
   "cell_type": "code",
   "execution_count": 33,
   "metadata": {},
   "outputs": [],
   "source": [
    "positive_reviews.to_csv('positive_reviews.csv')\n",
    "negative_reviews.to_csv('negative_reviews.csv')"
   ]
  },
  {
   "cell_type": "code",
   "execution_count": null,
   "metadata": {},
   "outputs": [],
   "source": []
  },
  {
   "cell_type": "code",
   "execution_count": null,
   "metadata": {},
   "outputs": [],
   "source": []
  },
  {
   "cell_type": "code",
   "execution_count": null,
   "metadata": {},
   "outputs": [],
   "source": []
  }
 ],
 "metadata": {
  "kernelspec": {
   "display_name": "Python 3",
   "language": "python",
   "name": "python3"
  },
  "language_info": {
   "codemirror_mode": {
    "name": "ipython",
    "version": 3
   },
   "file_extension": ".py",
   "mimetype": "text/x-python",
   "name": "python",
   "nbconvert_exporter": "python",
   "pygments_lexer": "ipython3",
   "version": "3.7.1"
  }
 },
 "nbformat": 4,
 "nbformat_minor": 4
}
